{
  "nbformat": 4,
  "nbformat_minor": 0,
  "metadata": {
    "kernelspec": {
      "display_name": "Python 3",
      "language": "python",
      "name": "python3"
    },
    "language_info": {
      "codemirror_mode": {
        "name": "ipython",
        "version": 3
      },
      "file_extension": ".py",
      "mimetype": "text/x-python",
      "name": "python",
      "nbconvert_exporter": "python",
      "pygments_lexer": "ipython3",
      "version": "3.8.5"
    },
    "colab": {
      "name": "ds_sprint_challenge_23-1.ipynb",
      "provenance": []
    }
  },
  "cells": [
    {
      "cell_type": "markdown",
      "metadata": {
        "deletable": false,
        "editable": false,
        "nbgrader": {
          "cell_type": "markdown",
          "checksum": "26331cfec4792162c2f8fe9b562702d2",
          "grade": false,
          "grade_id": "cell-f2b2468124042cfe",
          "locked": true,
          "schema_version": 3,
          "solution": false,
          "task": false
        },
        "id": "vwi2PmdZhxgD"
      },
      "source": [
        "_Lambda School Data Science, Unit 2_\n",
        "\n",
        "---\n",
        "\n",
        "👇 **Do not change the code in this cell.** If you're working in Google Colab, you can run this cell to install `category_encoders` and `pdpbox`."
      ]
    },
    {
      "cell_type": "code",
      "metadata": {
        "deletable": false,
        "editable": false,
        "nbgrader": {
          "cell_type": "code",
          "checksum": "6e84593629f1e735cc6423e463199480",
          "grade": false,
          "grade_id": "cell-656c869f2d287493",
          "locked": true,
          "schema_version": 3,
          "solution": false,
          "task": false
        },
        "id": "BZBRW2vmhxgD"
      },
      "source": [
        "%%capture\n",
        "import sys\n",
        "\n",
        "if 'google.colab' in sys.modules:\n",
        "    !pip install category_encoders\n",
        "    !pip install pdpbox"
      ],
      "execution_count": 1,
      "outputs": []
    },
    {
      "cell_type": "markdown",
      "metadata": {
        "deletable": false,
        "editable": false,
        "nbgrader": {
          "cell_type": "markdown",
          "checksum": "be6f7489d8b09d515eed676f06ac2d3b",
          "grade": false,
          "grade_id": "cell-dbdc2fe26ba31738",
          "locked": true,
          "schema_version": 3,
          "solution": false,
          "task": false
        },
        "id": "gDhMiKh8hxgE"
      },
      "source": [
        "# Sprint Challenge: Predict Chicago Food Inspections 🍕\n",
        "\n",
        "In this challenge, you'll use data from the [Chicago Department of Public Health](https://www.chicago.gov/city/en/depts/cdph/provdrs/healthy_restaurants/svcs/food-protection-services.html) to build a model to predict whether a food establishment passed inspection or not.\n",
        "\n",
        "The purpose of this model is to help inspectors use their time more efficiently by identifying establishments that will likely fail inspection. In other words, this model should be able to predict whether an establishment will fail inspection *before* the inspector arrives at the establishment. \n",
        "\n",
        "# Directions\n",
        "\n",
        "This notebook contains 12 tasks, which cover the material we've learned in this sprint. Here's a summary:\n",
        "\n",
        "- **Task 1:** Importing data.\n",
        "- **Task 2:** Identifying data leakage.\n",
        "- **Task 3:** Writing a wrangle function.\n",
        "- **Task 4:** Splitting data into a feature matrix and target vector.\n",
        "- **Task 5:** Splitting data into training and validation sets.\n",
        "- **Task 6:** Establishing baseline accuracy.\n",
        "- **Task 7:** Building model with bagging predictor.\n",
        "- **Task 8:** Building model with boosting predictor.\n",
        "- **Task 9 (`stretch goal`):** Plotting ROC curves.\n",
        "- **Task 10:** Generating classification report.\n",
        "- **Task 11:** Calculating permutation importances.\n",
        "- **Task 12 (`stretch goal`):** Creating PDP interaction plot.\n",
        "\n",
        "For each task you should do the following:\n",
        "\n",
        "- Read the task instructions.\n",
        "- Write your code in the cell below the task. Delete the `raise NotImplementedError` before your start.\n",
        "- Run the testing cell below the task. If you get an error, read the error message and re-evaluate your code.\n",
        "\n",
        "**You should limit your code to the following libraries:**\n",
        "\n",
        "- `category_encoders`\n",
        "- `numpy`\n",
        "- `matplotlib`\n",
        "- `pandas`\n",
        "- `pdpbox`\n",
        "- `sklearn`\n",
        "- `xgboost`\n",
        "\n",
        "**A word of warning:** The virtual machine that will check your answers is small. So, where applicable, don't use huge values for `n_estimators` (`>100`) or `n_jobs` (keep at `-1`). \n",
        "\n",
        "If you'd like to import all your libraries at the start of your notebook, you can do so in the code block below 👇"
      ]
    },
    {
      "cell_type": "code",
      "metadata": {
        "deletable": false,
        "nbgrader": {
          "cell_type": "code",
          "checksum": "313c53b0dc59a11bb7bfaefbf995fe2c",
          "grade": false,
          "grade_id": "cell-44be413734e30691",
          "locked": false,
          "schema_version": 3,
          "solution": true,
          "task": false
        },
        "colab": {
          "base_uri": "https://localhost:8080/"
        },
        "id": "4dL905LEhxgF",
        "outputId": "ba45a307-5760-4192-a5d5-3bf2a22fa07b"
      },
      "source": [
        "from category_encoders import OneHotEncoder, OrdinalEncoder\n",
        "from sklearn.impute import SimpleImputer\n",
        "from pdpbox.pdp import pdp_isolate, pdp_plot, pdp_interact, pdp_interact_plot\n",
        "from sklearn.preprocessing import StandardScaler\n",
        "from sklearn.pipeline import make_pipeline\n",
        "from sklearn.metrics import classification_report, plot_roc_curve\n",
        "from xgboost import XGBClassifier\n",
        "from sklearn.ensemble import GradientBoostingClassifier, RandomForestClassifier\n",
        "from sklearn.inspection import permutation_importance\n",
        "import pandas as pd\n",
        "import numpy as np\n",
        "import matplotlib.pyplot as plt"
      ],
      "execution_count": 2,
      "outputs": [
        {
          "output_type": "stream",
          "text": [
            "/usr/local/lib/python3.7/dist-packages/statsmodels/tools/_testing.py:19: FutureWarning: pandas.util.testing is deprecated. Use the functions in the public API at pandas.testing instead.\n",
            "  import pandas.util.testing as tm\n"
          ],
          "name": "stderr"
        }
      ]
    },
    {
      "cell_type": "markdown",
      "metadata": {
        "deletable": false,
        "editable": false,
        "nbgrader": {
          "cell_type": "markdown",
          "checksum": "48dd82293df0d9af1aa7efac7f7468fa",
          "grade": false,
          "grade_id": "cell-602d346d44303e87",
          "locked": true,
          "schema_version": 3,
          "solution": false,
          "task": false
        },
        "id": "8rOdZjNOhxgF"
      },
      "source": [
        "# I. Wrangle Data\n",
        "\n",
        "**Task 1:** Change the code below to import your dataset. Be sure to examine the columns carefully and determine if one of them should be set as the index."
      ]
    },
    {
      "cell_type": "code",
      "metadata": {
        "deletable": false,
        "nbgrader": {
          "cell_type": "code",
          "checksum": "dafd956974169191567e3544c18186a5",
          "grade": false,
          "grade_id": "cell-8b9246d8d97a80ff",
          "locked": false,
          "schema_version": 3,
          "solution": true,
          "task": false
        },
        "colab": {
          "base_uri": "https://localhost:8080/",
          "height": 541
        },
        "id": "inti1gbBhxgF",
        "outputId": "bb9cd125-ecae-405a-a806-06468e30b526"
      },
      "source": [
        "'''T1. Import data file.'''\n",
        "#Attach HTML to url variable\n",
        "url = 'https://drive.google.com/uc?export=download&id=1aUnQ4AJK4UtW8JL9zPyYUMtkjIgQpqKT'\n",
        "\n",
        "#Read in df, parse/index Inspection Date col.\n",
        "df = pd.read_csv(url, parse_dates= ['Inspection Date'], index_col= 'Inspection Date')\n",
        "\n",
        "#View change\n",
        "df.head()"
      ],
      "execution_count": 3,
      "outputs": [
        {
          "output_type": "execute_result",
          "data": {
            "text/html": [
              "<div>\n",
              "<style scoped>\n",
              "    .dataframe tbody tr th:only-of-type {\n",
              "        vertical-align: middle;\n",
              "    }\n",
              "\n",
              "    .dataframe tbody tr th {\n",
              "        vertical-align: top;\n",
              "    }\n",
              "\n",
              "    .dataframe thead th {\n",
              "        text-align: right;\n",
              "    }\n",
              "</style>\n",
              "<table border=\"1\" class=\"dataframe\">\n",
              "  <thead>\n",
              "    <tr style=\"text-align: right;\">\n",
              "      <th></th>\n",
              "      <th>Inspection ID</th>\n",
              "      <th>DBA Name</th>\n",
              "      <th>AKA Name</th>\n",
              "      <th>License #</th>\n",
              "      <th>Facility Type</th>\n",
              "      <th>Risk</th>\n",
              "      <th>Address</th>\n",
              "      <th>City</th>\n",
              "      <th>State</th>\n",
              "      <th>Zip</th>\n",
              "      <th>Inspection Type</th>\n",
              "      <th>Violations</th>\n",
              "      <th>Latitude</th>\n",
              "      <th>Longitude</th>\n",
              "      <th>Location</th>\n",
              "      <th>Fail</th>\n",
              "      <th>Serious Violations Found</th>\n",
              "    </tr>\n",
              "    <tr>\n",
              "      <th>Inspection Date</th>\n",
              "      <th></th>\n",
              "      <th></th>\n",
              "      <th></th>\n",
              "      <th></th>\n",
              "      <th></th>\n",
              "      <th></th>\n",
              "      <th></th>\n",
              "      <th></th>\n",
              "      <th></th>\n",
              "      <th></th>\n",
              "      <th></th>\n",
              "      <th></th>\n",
              "      <th></th>\n",
              "      <th></th>\n",
              "      <th></th>\n",
              "      <th></th>\n",
              "      <th></th>\n",
              "    </tr>\n",
              "  </thead>\n",
              "  <tbody>\n",
              "    <tr>\n",
              "      <th>2017-09-15</th>\n",
              "      <td>2088270</td>\n",
              "      <td>TOM YUM RICE &amp; NOODLE, INC.</td>\n",
              "      <td>TOM YUM CAFE</td>\n",
              "      <td>2354911.0</td>\n",
              "      <td>Restaurant</td>\n",
              "      <td>Risk 1 (High)</td>\n",
              "      <td>608 W BARRY</td>\n",
              "      <td>CHICAGO</td>\n",
              "      <td>IL</td>\n",
              "      <td>60657.0</td>\n",
              "      <td>Canvass</td>\n",
              "      <td>3. POTENTIALLY HAZARDOUS FOOD MEETS TEMPERATUR...</td>\n",
              "      <td>41.938007</td>\n",
              "      <td>-87.644755</td>\n",
              "      <td>{'longitude': '-87.6447545707008', 'latitude':...</td>\n",
              "      <td>1</td>\n",
              "      <td>2.0</td>\n",
              "    </tr>\n",
              "    <tr>\n",
              "      <th>2011-10-20</th>\n",
              "      <td>555268</td>\n",
              "      <td>FILLING STATION  &amp; CONVENIENCE  STORE</td>\n",
              "      <td>FILLING STATION  &amp; CONVENIENCE  STORE</td>\n",
              "      <td>1044901.0</td>\n",
              "      <td>Grocery Store</td>\n",
              "      <td>Risk 3 (Low)</td>\n",
              "      <td>6646-6658 S WESTERN AVE</td>\n",
              "      <td>CHICAGO</td>\n",
              "      <td>IL</td>\n",
              "      <td>60636.0</td>\n",
              "      <td>Complaint Re-Inspection</td>\n",
              "      <td>32. FOOD AND NON-FOOD CONTACT SURFACES PROPERL...</td>\n",
              "      <td>41.772402</td>\n",
              "      <td>-87.683603</td>\n",
              "      <td>{'longitude': '-87.68360273081268', 'latitude'...</td>\n",
              "      <td>0</td>\n",
              "      <td>0.0</td>\n",
              "    </tr>\n",
              "    <tr>\n",
              "      <th>2016-04-05</th>\n",
              "      <td>1751394</td>\n",
              "      <td>A P DELI</td>\n",
              "      <td>A P DELI</td>\n",
              "      <td>47405.0</td>\n",
              "      <td>Restaurant</td>\n",
              "      <td>Risk 1 (High)</td>\n",
              "      <td>2025 E 75TH ST</td>\n",
              "      <td>CHICAGO</td>\n",
              "      <td>IL</td>\n",
              "      <td>60649.0</td>\n",
              "      <td>Canvass Re-Inspection</td>\n",
              "      <td>35. WALLS, CEILINGS, ATTACHED EQUIPMENT CONSTR...</td>\n",
              "      <td>41.758779</td>\n",
              "      <td>-87.575054</td>\n",
              "      <td>{'longitude': '-87.57505446746121', 'latitude'...</td>\n",
              "      <td>0</td>\n",
              "      <td>0.0</td>\n",
              "    </tr>\n",
              "    <tr>\n",
              "      <th>2016-04-29</th>\n",
              "      <td>1763905</td>\n",
              "      <td>FRANK'S CHICAGO SHRIMP HOUSE</td>\n",
              "      <td>FRANK'S CHICAGO SHRIMP HOUSE</td>\n",
              "      <td>6414.0</td>\n",
              "      <td>Restaurant</td>\n",
              "      <td>Risk 2 (Medium)</td>\n",
              "      <td>4459 S ARCHER AVE</td>\n",
              "      <td>CHICAGO</td>\n",
              "      <td>IL</td>\n",
              "      <td>60632.0</td>\n",
              "      <td>Canvass</td>\n",
              "      <td>38. VENTILATION: ROOMS AND EQUIPMENT VENTED AS...</td>\n",
              "      <td>41.812181</td>\n",
              "      <td>-87.707125</td>\n",
              "      <td>{'longitude': '-87.70712481334274', 'latitude'...</td>\n",
              "      <td>0</td>\n",
              "      <td>0.0</td>\n",
              "    </tr>\n",
              "    <tr>\n",
              "      <th>2011-01-10</th>\n",
              "      <td>453326</td>\n",
              "      <td>MORRILL</td>\n",
              "      <td>MORRILL</td>\n",
              "      <td>24571.0</td>\n",
              "      <td>School</td>\n",
              "      <td>Risk 1 (High)</td>\n",
              "      <td>6011 S Rockwell (2600W) AVE</td>\n",
              "      <td>CHICAGO</td>\n",
              "      <td>IL</td>\n",
              "      <td>60629.0</td>\n",
              "      <td>Canvass</td>\n",
              "      <td>34. FLOORS: CONSTRUCTED PER CODE, CLEANED, GOO...</td>\n",
              "      <td>NaN</td>\n",
              "      <td>NaN</td>\n",
              "      <td>NaN</td>\n",
              "      <td>0</td>\n",
              "      <td>0.0</td>\n",
              "    </tr>\n",
              "  </tbody>\n",
              "</table>\n",
              "</div>"
            ],
            "text/plain": [
              "                 Inspection ID  ... Serious Violations Found\n",
              "Inspection Date                 ...                         \n",
              "2017-09-15             2088270  ...                      2.0\n",
              "2011-10-20              555268  ...                      0.0\n",
              "2016-04-05             1751394  ...                      0.0\n",
              "2016-04-29             1763905  ...                      0.0\n",
              "2011-01-10              453326  ...                      0.0\n",
              "\n",
              "[5 rows x 17 columns]"
            ]
          },
          "metadata": {
            "tags": []
          },
          "execution_count": 3
        }
      ]
    },
    {
      "cell_type": "markdown",
      "metadata": {
        "deletable": false,
        "editable": false,
        "nbgrader": {
          "cell_type": "markdown",
          "checksum": "493ede874f1e2c163a74021a41d8775d",
          "grade": false,
          "grade_id": "cell-1b2eb047117d89ab",
          "locked": true,
          "schema_version": 3,
          "solution": false,
          "task": false
        },
        "id": "WOMg_9ZBhxgG"
      },
      "source": [
        "**Task 1 Test**"
      ]
    },
    {
      "cell_type": "code",
      "metadata": {
        "deletable": false,
        "editable": false,
        "nbgrader": {
          "cell_type": "code",
          "checksum": "0d68298cfa23877cd61b8ba487c19dc6",
          "grade": true,
          "grade_id": "cell-e9593d4f4ed7a9bb",
          "locked": true,
          "points": 1,
          "schema_version": 3,
          "solution": false,
          "task": false
        },
        "id": "1bBOrTnIhxgG"
      },
      "source": [
        "'''T1 Test'''\n",
        "assert isinstance(df, pd.DataFrame), 'Have you created a DataFrame named `df`?'\n",
        "assert len(df) == 51916"
      ],
      "execution_count": 4,
      "outputs": []
    },
    {
      "cell_type": "markdown",
      "metadata": {
        "deletable": false,
        "editable": false,
        "nbgrader": {
          "cell_type": "markdown",
          "checksum": "1ee62609b3bf18520406b3837f7843a6",
          "grade": false,
          "grade_id": "cell-9e90dce33ddd0506",
          "locked": true,
          "schema_version": 3,
          "solution": false,
          "task": false
        },
        "id": "thb9zaFkhxgH"
      },
      "source": [
        "**Task 2:** Given that this model is supposed to generate predictions *before* an inspection is conducted, identify the numerical feature that is an example of **data leakage.** Assign the column name to the variable `'leaky_col'`.\n",
        "\n",
        "**Remember:** Leakage is when your feature matrix includes columns that will not be available to your model at the time it make predictions.\n",
        "\n"
      ]
    },
    {
      "cell_type": "code",
      "metadata": {
        "deletable": false,
        "nbgrader": {
          "cell_type": "code",
          "checksum": "27b878765c52a092c3c56791dde91d5d",
          "grade": false,
          "grade_id": "cell-ef24afc9168ad64f",
          "locked": false,
          "schema_version": 3,
          "solution": true,
          "task": false
        },
        "id": "Wo1XCfxRhxgH"
      },
      "source": [
        "'''T2. Identify data leakage column.'''\n",
        "# Identiy Leak Target\n",
        "leaky_col = 'Serious Violations Found'"
      ],
      "execution_count": 5,
      "outputs": []
    },
    {
      "cell_type": "markdown",
      "metadata": {
        "deletable": false,
        "editable": false,
        "nbgrader": {
          "cell_type": "markdown",
          "checksum": "9874ad6b513dd2c2e409aa1d6610a65e",
          "grade": false,
          "grade_id": "cell-378fd448d54e6fc0",
          "locked": true,
          "schema_version": 3,
          "solution": false,
          "task": false
        },
        "id": "owleqjM6hxgH"
      },
      "source": [
        "**Task 2 Test**"
      ]
    },
    {
      "cell_type": "code",
      "metadata": {
        "deletable": false,
        "editable": false,
        "nbgrader": {
          "cell_type": "code",
          "checksum": "5a57c6a47e502a421524daf29beb7941",
          "grade": true,
          "grade_id": "cell-8429f30efb2a7bf7",
          "locked": true,
          "points": 1,
          "schema_version": 3,
          "solution": false,
          "task": false
        },
        "id": "M0dKIOK1hxgI"
      },
      "source": [
        "'''T2 Test'''\n",
        "# This is a hidden test. \n",
        "# You'll see the result when you submit to Canvas.\n",
        "assert isinstance(leaky_col, str), '`leaky_col` should be type `str`.'"
      ],
      "execution_count": 6,
      "outputs": []
    },
    {
      "cell_type": "markdown",
      "metadata": {
        "deletable": false,
        "editable": false,
        "nbgrader": {
          "cell_type": "markdown",
          "checksum": "b17eb5d6c465729f58b1739a11ea5b96",
          "grade": false,
          "grade_id": "cell-2f7298cea62c493e",
          "locked": true,
          "schema_version": 3,
          "solution": false,
          "task": false
        },
        "id": "A_eMFo-xhxgI"
      },
      "source": [
        "**Task 3:** Add to the `wrangle` function below so that it does the following:\n",
        "\n",
        "- Removes the \"leaky\" column.\n",
        "- Removes high-cardinality categorical columns (more than `500` categories).\n",
        "- Removes categorical columns that have only one category.\n",
        "- Removes numerical columns that are unique identifiers for each observation, not features that would affect the target."
      ]
    },
    {
      "cell_type": "code",
      "metadata": {
        "deletable": false,
        "nbgrader": {
          "cell_type": "code",
          "checksum": "40e1745bb407a170e1dec8221d37fc3c",
          "grade": false,
          "grade_id": "cell-d6fc5ee398afff4f",
          "locked": false,
          "schema_version": 3,
          "solution": true,
          "task": false
        },
        "id": "cH7Sa5CqhxgI"
      },
      "source": [
        "'''T3. Write wrangle function.'''\n",
        "def wrangle(df):\n",
        "  #Create cutoff for HCCC\n",
        "  #Create list of col to drop using for loop and if statement\n",
        "  #Drop HCCC cols\n",
        "  cutoff = 500\n",
        "  drop_cols = [col for col in df.select_dtypes('object').columns\n",
        "              if df[col].nunique() > cutoff]\n",
        "  df.drop(columns=drop_cols, inplace=True)\n",
        "\n",
        "  #Drop all columns that have no importance to our Target\n",
        "  df.drop(columns = ['State', leaky_col, 'City', 'Zip'], inplace = True)\n",
        "\n",
        "  #Data cleaning for col\n",
        "  #df.columns = (df.columns\n",
        "                #.str.replace(' ', '_')\n",
        "                #.str.lower())\n",
        "\n",
        "  return df\n",
        "# Wrangle df\n",
        "df = wrangle(df)"
      ],
      "execution_count": 7,
      "outputs": []
    },
    {
      "cell_type": "code",
      "metadata": {
        "colab": {
          "base_uri": "https://localhost:8080/",
          "height": 235
        },
        "id": "v5NbJeluvnWe",
        "outputId": "cb628700-4f4d-4b5d-dd21-9c2f39b1b762"
      },
      "source": [
        "df.head()"
      ],
      "execution_count": 8,
      "outputs": [
        {
          "output_type": "execute_result",
          "data": {
            "text/html": [
              "<div>\n",
              "<style scoped>\n",
              "    .dataframe tbody tr th:only-of-type {\n",
              "        vertical-align: middle;\n",
              "    }\n",
              "\n",
              "    .dataframe tbody tr th {\n",
              "        vertical-align: top;\n",
              "    }\n",
              "\n",
              "    .dataframe thead th {\n",
              "        text-align: right;\n",
              "    }\n",
              "</style>\n",
              "<table border=\"1\" class=\"dataframe\">\n",
              "  <thead>\n",
              "    <tr style=\"text-align: right;\">\n",
              "      <th></th>\n",
              "      <th>Inspection ID</th>\n",
              "      <th>License #</th>\n",
              "      <th>Facility Type</th>\n",
              "      <th>Risk</th>\n",
              "      <th>Inspection Type</th>\n",
              "      <th>Latitude</th>\n",
              "      <th>Longitude</th>\n",
              "      <th>Fail</th>\n",
              "    </tr>\n",
              "    <tr>\n",
              "      <th>Inspection Date</th>\n",
              "      <th></th>\n",
              "      <th></th>\n",
              "      <th></th>\n",
              "      <th></th>\n",
              "      <th></th>\n",
              "      <th></th>\n",
              "      <th></th>\n",
              "      <th></th>\n",
              "    </tr>\n",
              "  </thead>\n",
              "  <tbody>\n",
              "    <tr>\n",
              "      <th>2017-09-15</th>\n",
              "      <td>2088270</td>\n",
              "      <td>2354911.0</td>\n",
              "      <td>Restaurant</td>\n",
              "      <td>Risk 1 (High)</td>\n",
              "      <td>Canvass</td>\n",
              "      <td>41.938007</td>\n",
              "      <td>-87.644755</td>\n",
              "      <td>1</td>\n",
              "    </tr>\n",
              "    <tr>\n",
              "      <th>2011-10-20</th>\n",
              "      <td>555268</td>\n",
              "      <td>1044901.0</td>\n",
              "      <td>Grocery Store</td>\n",
              "      <td>Risk 3 (Low)</td>\n",
              "      <td>Complaint Re-Inspection</td>\n",
              "      <td>41.772402</td>\n",
              "      <td>-87.683603</td>\n",
              "      <td>0</td>\n",
              "    </tr>\n",
              "    <tr>\n",
              "      <th>2016-04-05</th>\n",
              "      <td>1751394</td>\n",
              "      <td>47405.0</td>\n",
              "      <td>Restaurant</td>\n",
              "      <td>Risk 1 (High)</td>\n",
              "      <td>Canvass Re-Inspection</td>\n",
              "      <td>41.758779</td>\n",
              "      <td>-87.575054</td>\n",
              "      <td>0</td>\n",
              "    </tr>\n",
              "    <tr>\n",
              "      <th>2016-04-29</th>\n",
              "      <td>1763905</td>\n",
              "      <td>6414.0</td>\n",
              "      <td>Restaurant</td>\n",
              "      <td>Risk 2 (Medium)</td>\n",
              "      <td>Canvass</td>\n",
              "      <td>41.812181</td>\n",
              "      <td>-87.707125</td>\n",
              "      <td>0</td>\n",
              "    </tr>\n",
              "    <tr>\n",
              "      <th>2011-01-10</th>\n",
              "      <td>453326</td>\n",
              "      <td>24571.0</td>\n",
              "      <td>School</td>\n",
              "      <td>Risk 1 (High)</td>\n",
              "      <td>Canvass</td>\n",
              "      <td>NaN</td>\n",
              "      <td>NaN</td>\n",
              "      <td>0</td>\n",
              "    </tr>\n",
              "  </tbody>\n",
              "</table>\n",
              "</div>"
            ],
            "text/plain": [
              "                 Inspection ID  License #  ...  Longitude Fail\n",
              "Inspection Date                            ...                \n",
              "2017-09-15             2088270  2354911.0  ... -87.644755    1\n",
              "2011-10-20              555268  1044901.0  ... -87.683603    0\n",
              "2016-04-05             1751394    47405.0  ... -87.575054    0\n",
              "2016-04-29             1763905     6414.0  ... -87.707125    0\n",
              "2011-01-10              453326    24571.0  ...        NaN    0\n",
              "\n",
              "[5 rows x 8 columns]"
            ]
          },
          "metadata": {
            "tags": []
          },
          "execution_count": 8
        }
      ]
    },
    {
      "cell_type": "markdown",
      "metadata": {
        "deletable": false,
        "editable": false,
        "nbgrader": {
          "cell_type": "markdown",
          "checksum": "22afb4a381b73f41b02f83ca4a0102bd",
          "grade": false,
          "grade_id": "cell-7b5d539f39db8415",
          "locked": true,
          "schema_version": 3,
          "solution": false,
          "task": false
        },
        "id": "87WQlSyshxgJ"
      },
      "source": [
        "**Task 3 Test**"
      ]
    },
    {
      "cell_type": "code",
      "metadata": {
        "deletable": false,
        "editable": false,
        "nbgrader": {
          "cell_type": "code",
          "checksum": "05d5f964ad8d8bf468bd907abaa85213",
          "grade": true,
          "grade_id": "cell-49f495efb58bcd9f",
          "locked": true,
          "points": 1,
          "schema_version": 3,
          "solution": false,
          "task": false
        },
        "id": "dW9qHIbkhxgJ"
      },
      "source": [
        "'''T3 Test'''\n",
        "assert df.select_dtypes('object').nunique().max() < 500, 'Have you dropped the high-cardinality columns?'\n",
        "assert df.select_dtypes('object').nunique().min() > 1, 'Have you dropped the column with only one category?'"
      ],
      "execution_count": 9,
      "outputs": []
    },
    {
      "cell_type": "markdown",
      "metadata": {
        "deletable": false,
        "editable": false,
        "nbgrader": {
          "cell_type": "markdown",
          "checksum": "f93a157b989f3327402d7b93a31bb595",
          "grade": false,
          "grade_id": "cell-aea953fa5337fc1f",
          "locked": true,
          "schema_version": 3,
          "solution": false,
          "task": false
        },
        "id": "teq-YGyfhxgJ"
      },
      "source": [
        "# II. Split Data\n",
        "\n",
        "**Task 4:** Split the DataFrame `df` into the feature matrix `X` and the target vector `y`. Your target is `'Fail'`."
      ]
    },
    {
      "cell_type": "code",
      "metadata": {
        "deletable": false,
        "nbgrader": {
          "cell_type": "code",
          "checksum": "7bfd4151db9dd6615a624da2954138e8",
          "grade": false,
          "grade_id": "cell-b21b1c40f5478337",
          "locked": false,
          "schema_version": 3,
          "solution": true,
          "task": false
        },
        "id": "g1DSZyfkhxgK"
      },
      "source": [
        "'''T4. Split feature matrix and target vector.'''\n",
        "target = 'Fail'\n",
        "# Our wrangled DF already has target vector dropped and is cleaned as we want it to be\n",
        "X = df.drop(columns = target)\n",
        "\n",
        "# Use copy of df to attach target to y\n",
        "y = df[target]"
      ],
      "execution_count": 10,
      "outputs": []
    },
    {
      "cell_type": "markdown",
      "metadata": {
        "deletable": false,
        "editable": false,
        "nbgrader": {
          "cell_type": "markdown",
          "checksum": "2f00ae85d10438328017da8b01b77354",
          "grade": false,
          "grade_id": "cell-d9a64e5a6bd2a37d",
          "locked": true,
          "schema_version": 3,
          "solution": false,
          "task": false
        },
        "id": "xvy3adr0hxgK"
      },
      "source": [
        "**Task 4 Test**"
      ]
    },
    {
      "cell_type": "code",
      "metadata": {
        "deletable": false,
        "editable": false,
        "nbgrader": {
          "cell_type": "code",
          "checksum": "04db76e9023f0b61187af1e39513d377",
          "grade": true,
          "grade_id": "cell-a1d912e28c9f7522",
          "locked": true,
          "points": 1,
          "schema_version": 3,
          "solution": false,
          "task": false
        },
        "id": "7H1b-2m5hxgK"
      },
      "source": [
        "'''T4 Test'''\n",
        "assert y.shape == (51916,), '`y` either has the wrong number of rows, or is two-dimentional.'\n",
        "assert len(X) == 51916, '`X` has the wrong number of rows.'"
      ],
      "execution_count": 11,
      "outputs": []
    },
    {
      "cell_type": "markdown",
      "metadata": {
        "deletable": false,
        "editable": false,
        "nbgrader": {
          "cell_type": "markdown",
          "checksum": "e719471298c6c418489a657a500b7d0e",
          "grade": false,
          "grade_id": "cell-b575fbda93b87f6a",
          "locked": true,
          "schema_version": 3,
          "solution": false,
          "task": false
        },
        "id": "QSINbrSQhxgK"
      },
      "source": [
        "**Task 5:** Split your dataset into training and validation sets.\n",
        "\n",
        "- Your training set (`X_train`, `y_train`) should contain inspections conducted before 2017.\n",
        "- Your validation set (`X_val`, `y_val`) should contain inspections conducted during or after 2017."
      ]
    },
    {
      "cell_type": "code",
      "metadata": {
        "deletable": false,
        "nbgrader": {
          "cell_type": "code",
          "checksum": "f92b2b9f9460a17c987c23188e3c31b1",
          "grade": false,
          "grade_id": "cell-0bb47689fd4667ed",
          "locked": false,
          "schema_version": 3,
          "solution": true,
          "task": false
        },
        "id": "uZPTXAgRhxgK"
      },
      "source": [
        "'''T5. Split dataset into training and validation sets.'''\n",
        "# Create cutoff for DTO\n",
        "cutoff = '2017'\n",
        "\n",
        "#Create mask using cutoff\n",
        "mask = X.index < cutoff\n",
        "\n",
        "#Create Training/Validation split\n",
        "X_train, y_train = X.loc[mask], y.loc[mask]\n",
        "X_val, y_val = X.loc[~mask], y.loc[~mask]"
      ],
      "execution_count": 12,
      "outputs": []
    },
    {
      "cell_type": "markdown",
      "metadata": {
        "deletable": false,
        "editable": false,
        "nbgrader": {
          "cell_type": "markdown",
          "checksum": "60e77b85e7db0d0cb2522b8caa399e77",
          "grade": false,
          "grade_id": "cell-8517b2d477256843",
          "locked": true,
          "schema_version": 3,
          "solution": false,
          "task": false
        },
        "id": "ARJrVowdhxgL"
      },
      "source": [
        "**Task 5 Testing**"
      ]
    },
    {
      "cell_type": "code",
      "metadata": {
        "deletable": false,
        "editable": false,
        "nbgrader": {
          "cell_type": "code",
          "checksum": "56e9e6ef918d3a662decf3f6d67dfd01",
          "grade": true,
          "grade_id": "cell-52cf3ef1934a4278",
          "locked": true,
          "points": 1,
          "schema_version": 3,
          "solution": false,
          "task": false
        },
        "id": "BpYrFQTOhxgL"
      },
      "source": [
        "'''T5 Test'''\n",
        "assert len(X_train) == len(y_train) == 41827, 'Your training set has the wrong number of observations.'\n",
        "assert len(X_val) == len(y_val) == 10089, 'Your validation set has the wrong number of observations.'"
      ],
      "execution_count": 13,
      "outputs": []
    },
    {
      "cell_type": "markdown",
      "metadata": {
        "deletable": false,
        "editable": false,
        "nbgrader": {
          "cell_type": "markdown",
          "checksum": "0641d242faca29af591ebea98bc88ed6",
          "grade": false,
          "grade_id": "cell-2e9a4c74f50ed0fc",
          "locked": true,
          "schema_version": 3,
          "solution": false,
          "task": false
        },
        "id": "41vVF5xXhxgL"
      },
      "source": [
        "# III. Establish Baseline\n",
        "\n",
        "**Task 6:** Establish the baseline accuracy score for this classification problem using your training set. Save the score to the variable `baseline_acc`."
      ]
    },
    {
      "cell_type": "code",
      "metadata": {
        "deletable": false,
        "nbgrader": {
          "cell_type": "code",
          "checksum": "b658c6901efe4fe564387be697265352",
          "grade": false,
          "grade_id": "cell-3d21cc97649be107",
          "locked": false,
          "schema_version": 3,
          "solution": true,
          "task": false
        },
        "colab": {
          "base_uri": "https://localhost:8080/"
        },
        "id": "losm-83dhxgL",
        "outputId": "376f6b78-acb2-47a8-e4d5-4eccce19f9b9"
      },
      "source": [
        "'''T6. Establish baseline accuracy.'''\n",
        "# Create baseline accuracy\n",
        "baseline_acc = y_train.value_counts(normalize=True).max()\n",
        "\n",
        "#Multiply by 100 to show as percentage\n",
        "print('Baseline accuracy:', baseline_acc * 100)"
      ],
      "execution_count": 14,
      "outputs": [
        {
          "output_type": "stream",
          "text": [
            "Baseline accuracy: 75.06634470557294\n"
          ],
          "name": "stdout"
        }
      ]
    },
    {
      "cell_type": "markdown",
      "metadata": {
        "deletable": false,
        "editable": false,
        "nbgrader": {
          "cell_type": "markdown",
          "checksum": "6098c9452685d029c07b96f5295b5c1d",
          "grade": false,
          "grade_id": "cell-56d5801c8831c15b",
          "locked": true,
          "schema_version": 3,
          "solution": false,
          "task": false
        },
        "id": "KHQyNay_hxgM"
      },
      "source": [
        "**Task 6 Testing**"
      ]
    },
    {
      "cell_type": "code",
      "metadata": {
        "deletable": false,
        "editable": false,
        "nbgrader": {
          "cell_type": "code",
          "checksum": "8527a8f2e79c09d69519059e56c54272",
          "grade": true,
          "grade_id": "cell-abdc4cbe95e9d1da",
          "locked": true,
          "points": 1,
          "schema_version": 3,
          "solution": false,
          "task": false
        },
        "id": "msSOEQmShxgM"
      },
      "source": [
        "'''T6 Test'''\n",
        "assert isinstance(baseline_acc, float), '`baseline_acc` should be type float. Have you defined the variable?'\n",
        "assert 0.0 <= baseline_acc <= 1.0"
      ],
      "execution_count": 15,
      "outputs": []
    },
    {
      "cell_type": "markdown",
      "metadata": {
        "deletable": false,
        "editable": false,
        "nbgrader": {
          "cell_type": "markdown",
          "checksum": "8a0f7eab56c05e92a441333652ccf6cf",
          "grade": false,
          "grade_id": "cell-7d68939c4eced62c",
          "locked": true,
          "schema_version": 3,
          "solution": false,
          "task": false
        },
        "id": "VGNzo_bEhxgM"
      },
      "source": [
        "# IV. Build Model\n",
        "\n",
        "In this section, you want to answer the question: Which ensemble method performs better with this data — bagging or boosting?\n",
        "\n",
        "**Task 7:** Build a model that includes a bagging predictor (`RandomForest`). Your predictor should be part of a pipeline named `model_bag` that includes any transformers that you think are necessary."
      ]
    },
    {
      "cell_type": "code",
      "metadata": {
        "deletable": false,
        "nbgrader": {
          "cell_type": "code",
          "checksum": "49a48b340c0ee7f9630c3ce57e4ca439",
          "grade": false,
          "grade_id": "cell-889285d53fdbe282",
          "locked": false,
          "schema_version": 3,
          "solution": true,
          "task": false
        },
        "id": "tpr4T_OdhxgM"
      },
      "source": [
        "'''T7. Build model with bagging predictor.'''\n",
        "# Instantiate Model with Pipeline\n",
        "model_bag = make_pipeline(\n",
        "    OneHotEncoder(use_cat_names=True),\n",
        "    SimpleImputer(),\n",
        "    RandomForestClassifier(n_jobs=-1, random_state=42, n_estimators=50, max_depth = 15)\n",
        ")\n",
        "#Fit the model\n",
        "model_bag.fit(X_train, y_train);"
      ],
      "execution_count": 16,
      "outputs": []
    },
    {
      "cell_type": "markdown",
      "metadata": {
        "deletable": false,
        "editable": false,
        "nbgrader": {
          "cell_type": "markdown",
          "checksum": "81055fe5d87448fd8e4aff2ca4f10ea0",
          "grade": false,
          "grade_id": "cell-72dac6ede9a13038",
          "locked": true,
          "schema_version": 3,
          "solution": false,
          "task": false
        },
        "id": "FCJqeI7ThxgM"
      },
      "source": [
        "**Tast 7 Testing**"
      ]
    },
    {
      "cell_type": "code",
      "metadata": {
        "deletable": false,
        "editable": false,
        "nbgrader": {
          "cell_type": "code",
          "checksum": "57725e1ca8a837d8fa761271f994ad44",
          "grade": true,
          "grade_id": "cell-cddc5d7d2170877b",
          "locked": true,
          "points": 1,
          "schema_version": 3,
          "solution": false,
          "task": false
        },
        "id": "m4oZH1RPhxgN"
      },
      "source": [
        "'''T7 Testing'''\n",
        "from sklearn.pipeline import Pipeline\n",
        "from sklearn.ensemble import RandomForestClassifier\n",
        "assert isinstance(model_bag, Pipeline), '`model_bag` is the wrong data type. Have you assigned your pipeline to the correct variable name?'\n",
        "assert isinstance(model_bag[-1], RandomForestClassifier), 'Your predictor should be a `RandomForestClassifier`.'\n",
        "assert hasattr(model_bag[-1], 'feature_importances_'), 'Have you trained your model?'"
      ],
      "execution_count": 17,
      "outputs": []
    },
    {
      "cell_type": "markdown",
      "metadata": {
        "deletable": false,
        "editable": false,
        "nbgrader": {
          "cell_type": "markdown",
          "checksum": "5e3c031075213c671f8f9b321585e9eb",
          "grade": false,
          "grade_id": "cell-d9750931390fe58f",
          "locked": true,
          "schema_version": 3,
          "solution": false,
          "task": false
        },
        "id": "pKMOI6ixhxgN"
      },
      "source": [
        "**Task 8:** Build a model that includes a boosting predictor (`GradientBoostingClassifier` from `sklearn` or `XGBClassifier` from `xgboost`). Your predictor should be part of a pipeline named `model_boost` that includes any transformers that you think are necessary. "
      ]
    },
    {
      "cell_type": "code",
      "metadata": {
        "deletable": false,
        "nbgrader": {
          "cell_type": "code",
          "checksum": "a30d11fa6b0d4e143f4572b0baf65afb",
          "grade": false,
          "grade_id": "cell-37f16b5811ae5223",
          "locked": false,
          "schema_version": 3,
          "solution": true,
          "task": false
        },
        "id": "gTW5kaFnhxgN"
      },
      "source": [
        "'''T8. Build model with boosting predictor.'''\n",
        "#Instantiate Model with Pipeline\n",
        "model_boost = make_pipeline(\n",
        "    OneHotEncoder(use_cat_names=True),\n",
        "    SimpleImputer(),\n",
        "    XGBClassifier(random_state= 42)\n",
        ")\n",
        "#Fit the model\n",
        "model_boost.fit(X_train, y_train);"
      ],
      "execution_count": 18,
      "outputs": []
    },
    {
      "cell_type": "markdown",
      "metadata": {
        "deletable": false,
        "editable": false,
        "nbgrader": {
          "cell_type": "markdown",
          "checksum": "64d1c2ff5004fe02082dc204299e0e70",
          "grade": false,
          "grade_id": "cell-3699731f62fa5db3",
          "locked": true,
          "schema_version": 3,
          "solution": false,
          "task": false
        },
        "id": "AyYqazHuhxgO"
      },
      "source": [
        "**Task 8 Testing**"
      ]
    },
    {
      "cell_type": "code",
      "metadata": {
        "deletable": false,
        "editable": false,
        "nbgrader": {
          "cell_type": "code",
          "checksum": "35744289b60d1556e064bc09da544566",
          "grade": true,
          "grade_id": "cell-90deb42a1c052402",
          "locked": true,
          "points": 1,
          "schema_version": 3,
          "solution": false,
          "task": false
        },
        "id": "Xt1fvwwThxgO"
      },
      "source": [
        "'''T8 Testing'''\n",
        "from xgboost import XGBClassifier\n",
        "from sklearn.ensemble import GradientBoostingClassifier\n",
        "assert isinstance(model_boost, Pipeline), '`model_boost` is the wrong data type. Have you assigned your pipeline to the correct variable name?'\n",
        "assert any([isinstance(model_boost[-1], XGBClassifier),\n",
        "            isinstance(model_boost[-1], GradientBoostingClassifier)]), 'Your predictor should be `XGBClassifier` or `GradientBoostingClassifier`.'"
      ],
      "execution_count": 19,
      "outputs": []
    },
    {
      "cell_type": "markdown",
      "metadata": {
        "deletable": false,
        "editable": false,
        "nbgrader": {
          "cell_type": "markdown",
          "checksum": "ebed19854d947c07608d2cb6c356f7ec",
          "grade": false,
          "grade_id": "cell-dc041ac00c805cff",
          "locked": true,
          "schema_version": 3,
          "solution": false,
          "task": false
        },
        "id": "qmV918SshxgO"
      },
      "source": [
        "# V. Check Metrics\n",
        "\n",
        "Here are the accuracy scores for your two models. Did you beat the baseline? Which of your two models appears to perform better on your validation set?"
      ]
    },
    {
      "cell_type": "markdown",
      "metadata": {
        "id": "rClQDEe55ZJA"
      },
      "source": [
        "Based off our Validation Accuracy, the Boosting Model performed slightly better than our Bagging Model before any HyperParameter Tuning"
      ]
    },
    {
      "cell_type": "code",
      "metadata": {
        "deletable": false,
        "editable": false,
        "nbgrader": {
          "cell_type": "code",
          "checksum": "fc12491c98afa1dd0767422ce0a07b22",
          "grade": false,
          "grade_id": "cell-c0206a761fccab6c",
          "locked": true,
          "schema_version": 3,
          "solution": false,
          "task": false
        },
        "colab": {
          "base_uri": "https://localhost:8080/"
        },
        "id": "By_c4z4dhxgO",
        "outputId": "ac14add7-2d27-4986-a9f4-f37b5c456065"
      },
      "source": [
        "print('Bagging Model')\n",
        "print('Training accuracy:', model_bag.score(X_train, y_train))\n",
        "print('Validation accuracy:', model_bag.score(X_val, y_val))\n",
        "print()\n",
        "print('Boosting Model')\n",
        "print('Training accuracy:', model_boost.score(X_train, y_train))\n",
        "print('Validation accuracy:', model_boost.score(X_val, y_val))"
      ],
      "execution_count": 20,
      "outputs": [
        {
          "output_type": "stream",
          "text": [
            "Bagging Model\n",
            "Training accuracy: 0.7726827169053482\n",
            "Validation accuracy: 0.7025473287739121\n",
            "\n",
            "Boosting Model\n",
            "Training accuracy: 0.7638367561622875\n",
            "Validation accuracy: 0.7031420358806622\n"
          ],
          "name": "stdout"
        }
      ]
    },
    {
      "cell_type": "markdown",
      "metadata": {
        "deletable": false,
        "editable": false,
        "nbgrader": {
          "cell_type": "markdown",
          "checksum": "044f92b1e1321a290f39d2a3d4f756ed",
          "grade": false,
          "grade_id": "cell-17e8e5433e896bc5",
          "locked": true,
          "schema_version": 3,
          "solution": false,
          "task": false
        },
        "id": "a74-44WPhxgP"
      },
      "source": [
        "**Task 9 (`stretch_goal`):** Plot the ROC-curve for both of your models (you can plot them one-at-a-time, side-by-side, or in the same plot)."
      ]
    },
    {
      "cell_type": "code",
      "metadata": {
        "deletable": false,
        "nbgrader": {
          "cell_type": "code",
          "checksum": "e4a418ccf53481f58016cf1828e973da",
          "grade": false,
          "grade_id": "cell-769e4a780bb22283",
          "locked": false,
          "schema_version": 3,
          "solution": true,
          "task": false
        },
        "colab": {
          "base_uri": "https://localhost:8080/",
          "height": 279
        },
        "id": "6LDuzpTjhxgP",
        "outputId": "a245b2e9-8a37-44cb-e0f3-57ce5d9b7410"
      },
      "source": [
        "'''T9. Plot ROC-curve.'''\n",
        "# Plot ROC Curves side-by-side\n",
        "rf = plot_roc_curve(model_bag, X_val, y_val)\n",
        "xgb = plot_roc_curve(model_boost, X_val, y_val, ax = rf.ax_)"
      ],
      "execution_count": 21,
      "outputs": [
        {
          "output_type": "display_data",
          "data": {
            "image/png": "[encoded data removed]",
            "text/plain": [
              "<Figure size 432x288 with 1 Axes>"
            ]
          },
          "metadata": {
            "tags": [],
            "needs_background": "light"
          }
        }
      ]
    },
    {
      "cell_type": "code",
      "metadata": {
        "colab": {
          "base_uri": "https://localhost:8080/"
        },
        "id": "Qhc7ahPV1qsh",
        "outputId": "fc4c9b5c-d398-4e6c-8ff6-2e1052b9c835"
      },
      "source": [
        "y_val.shape"
      ],
      "execution_count": 22,
      "outputs": [
        {
          "output_type": "execute_result",
          "data": {
            "text/plain": [
              "(10089,)"
            ]
          },
          "metadata": {
            "tags": []
          },
          "execution_count": 22
        }
      ]
    },
    {
      "cell_type": "markdown",
      "metadata": {
        "deletable": false,
        "editable": false,
        "nbgrader": {
          "cell_type": "markdown",
          "checksum": "c2a7559346e95bf6ecd31e90dcefd3be",
          "grade": false,
          "grade_id": "cell-1b8571c3a6a034f5",
          "locked": true,
          "schema_version": 3,
          "solution": false,
          "task": false
        },
        "id": "WlSfBUzThxgP"
      },
      "source": [
        "**Task 10:** Choose one of your models based on your validation accuracy score or your ROC curves. Then create a classification report for that model using your validation data. Save the text of the report to the variable name `model_cr`. "
      ]
    },
    {
      "cell_type": "code",
      "metadata": {
        "deletable": false,
        "nbgrader": {
          "cell_type": "code",
          "checksum": "2ef340cbc8ec53da648b929c0bab96ef",
          "grade": false,
          "grade_id": "cell-49891c4ce9bf5f37",
          "locked": false,
          "schema_version": 3,
          "solution": true,
          "task": false
        },
        "colab": {
          "base_uri": "https://localhost:8080/"
        },
        "id": "mTRBlZrThxgP",
        "outputId": "0f1c6792-8246-464e-b991-5cf08efb74cf"
      },
      "source": [
        "'''T10. Generate classification report for one model.'''\n",
        "# Create Classification Report\n",
        "from sklearn.metrics import classification_report\n",
        "model_cr = classification_report(y_val, model_boost.predict(X_val))\n",
        "print(model_cr)"
      ],
      "execution_count": 23,
      "outputs": [
        {
          "output_type": "stream",
          "text": [
            "              precision    recall  f1-score   support\n",
            "\n",
            "           0       0.70      1.00      0.83      7092\n",
            "           1       0.67      0.00      0.00      2997\n",
            "\n",
            "    accuracy                           0.70     10089\n",
            "   macro avg       0.68      0.50      0.41     10089\n",
            "weighted avg       0.69      0.70      0.58     10089\n",
            "\n"
          ],
          "name": "stdout"
        }
      ]
    },
    {
      "cell_type": "markdown",
      "metadata": {
        "deletable": false,
        "editable": false,
        "nbgrader": {
          "cell_type": "markdown",
          "checksum": "103296abc9f51aa4b883c35c418275cc",
          "grade": false,
          "grade_id": "cell-7b5374efd0e40c69",
          "locked": true,
          "schema_version": 3,
          "solution": false,
          "task": false
        },
        "id": "KlvrmSw2hxgP"
      },
      "source": [
        "**Task 10 Testing**"
      ]
    },
    {
      "cell_type": "code",
      "metadata": {
        "deletable": false,
        "editable": false,
        "nbgrader": {
          "cell_type": "code",
          "checksum": "110853de9aaaba37cb2fe601091b1e7d",
          "grade": true,
          "grade_id": "cell-94e04c938f3f5f84",
          "locked": true,
          "points": 1,
          "schema_version": 3,
          "solution": false,
          "task": false
        },
        "id": "CYuEFdXmhxgQ"
      },
      "source": [
        "assert isinstance(model_cr, str), '`model_cr` should be type `str`.'\n",
        "assert all(term in model_cr for term in ['precision', 'recall', 'f1-score', 'support']), 'Is this a classification report?'"
      ],
      "execution_count": 24,
      "outputs": []
    },
    {
      "cell_type": "markdown",
      "metadata": {
        "deletable": false,
        "editable": false,
        "nbgrader": {
          "cell_type": "markdown",
          "checksum": "00449a4317e9b4d383f2ca7d58a2b0af",
          "grade": false,
          "grade_id": "cell-d2b4843352d3085a",
          "locked": true,
          "schema_version": 3,
          "solution": false,
          "task": false
        },
        "id": "zPMHp8rfhxgQ"
      },
      "source": [
        "**Task 11:** Using your best model, create a DataFrame `permutation_importances` with the model's permutation importances based on your validation data.\n",
        "\n",
        "- The index of the DataFrame should be your feature names.\n",
        "- The first column should be the mean importance.\n",
        "- The second column should be the importance standard deviation."
      ]
    },
    {
      "cell_type": "code",
      "metadata": {
        "deletable": false,
        "nbgrader": {
          "cell_type": "code",
          "checksum": "f8e984b2a5083b74b7eb0abec46f8d63",
          "grade": false,
          "grade_id": "cell-72936eec6980072b",
          "locked": false,
          "schema_version": 3,
          "solution": true,
          "task": false
        },
        "id": "iTJwCQ0jhxgQ"
      },
      "source": [
        "'''T11. Create DataFrame of permutation importances.'''\n",
        "# Create the permutations based off model_boost\n",
        "permutation = permutation_importance(model_boost, X_val, y_val, random_state=42)\n",
        "\n",
        "# Creaete two columns, one with mean, one with standard dev\n",
        "data = {'importance_mean' : permutation['importances_mean'],\n",
        "        'importance_std' : permutation['importances_std']}\n",
        "\n",
        "\n",
        "permutation_importances = pd.DataFrame(data, index = X_val.columns).sort_values(by='importance_mean')"
      ],
      "execution_count": 25,
      "outputs": []
    },
    {
      "cell_type": "markdown",
      "metadata": {
        "deletable": false,
        "editable": false,
        "nbgrader": {
          "cell_type": "markdown",
          "checksum": "dccb1015d0f5c2f8b23f780eb8e4abf7",
          "grade": false,
          "grade_id": "cell-9eb949d189e401bc",
          "locked": true,
          "schema_version": 3,
          "solution": false,
          "task": false
        },
        "id": "X9SG3MtnhxgQ"
      },
      "source": [
        "**Task 11 Testing**"
      ]
    },
    {
      "cell_type": "code",
      "metadata": {
        "deletable": false,
        "editable": false,
        "nbgrader": {
          "cell_type": "code",
          "checksum": "d84e55cd6e77a52c576972ab68477c90",
          "grade": true,
          "grade_id": "cell-a4d8990e7070c2dd",
          "locked": true,
          "points": 1,
          "schema_version": 3,
          "solution": false,
          "task": false
        },
        "id": "mb5VMWajhxgQ"
      },
      "source": [
        "'''Task 11 Test'''\n",
        "assert isinstance(permutation_importances, pd.DataFrame), '`permutation_importances` should be type `DataFrame`.'\n",
        "assert permutation_importances.shape == (7,2)"
      ],
      "execution_count": 26,
      "outputs": []
    },
    {
      "cell_type": "markdown",
      "metadata": {
        "deletable": false,
        "editable": false,
        "nbgrader": {
          "cell_type": "markdown",
          "checksum": "f005618a5eb29cde9fbc73ab717b0e1c",
          "grade": false,
          "grade_id": "cell-3d8938c1715a596d",
          "locked": true,
          "schema_version": 3,
          "solution": false,
          "task": false
        },
        "id": "4LwuwBBghxgR"
      },
      "source": [
        "**Task 12 (`stretch goal`):** Using your best model, create a PDP interaction plot to examine how `'Latitude'` and `'Longitude'` inform predictions. Remember to user your validation data.\n",
        "\n",
        "**Note:** Because of the way that `pdp_interact` works, it will throw an error if there are `NaN` values in your validation set. To avoid this problem, be sure to set `dataset` to `X_val.dropna()`."
      ]
    },
    {
      "cell_type": "code",
      "metadata": {
        "deletable": false,
        "nbgrader": {
          "cell_type": "code",
          "checksum": "ea5a8422d2efafe17ee63a77c5db1e41",
          "grade": false,
          "grade_id": "cell-224d3b408f9bdd88",
          "locked": false,
          "schema_version": 3,
          "solution": true,
          "task": false
        },
        "colab": {
          "base_uri": "https://localhost:8080/",
          "height": 683
        },
        "id": "6u2hpbuphxgR",
        "outputId": "d166ac7f-760e-409c-d7c2-71eaa9c30325"
      },
      "source": [
        "'''T12. Create PDP interaction plot for \"Latitude\" and \"Longitude\".'''\n",
        "from pdpbox.pdp import pdp_isolate, pdp_plot, pdp_interact, pdp_interact_plot\n",
        "features = ['Longitude', 'Latitude']\n",
        "interact = pdp_interact(model_boost,\n",
        "                        dataset = X_val.dropna(),\n",
        "                        model_features = X_val.columns,\n",
        "                        features = features)\n",
        "\n",
        "pdp_interact_plot(interact,plot_type = 'grid', feature_names = features)"
      ],
      "execution_count": 27,
      "outputs": [
        {
          "output_type": "execute_result",
          "data": {
            "text/plain": [
              "(<Figure size 540x684 with 3 Axes>,\n",
              " {'pdp_inter_ax': <matplotlib.axes._subplots.AxesSubplot at 0x7f769cb80650>,\n",
              "  'title_ax': <matplotlib.axes._subplots.AxesSubplot at 0x7f769cbed450>})"
            ]
          },
          "metadata": {
            "tags": []
          },
          "execution_count": 27
        },
        {
          "output_type": "stream",
          "text": [
            "findfont: Font family ['Arial'] not found. Falling back to DejaVu Sans.\n",
            "findfont: Font family ['Arial'] not found. Falling back to DejaVu Sans.\n",
            "findfont: Font family ['Arial'] not found. Falling back to DejaVu Sans.\n",
            "findfont: Font family ['Arial'] not found. Falling back to DejaVu Sans.\n"
          ],
          "name": "stderr"
        },
        {
          "output_type": "display_data",
          "data": {
            "image/png": "[encoded data removed]",
            "text/plain": [
              "<Figure size 540x684 with 3 Axes>"
            ]
          },
          "metadata": {
            "tags": [],
            "needs_background": "light"
          }
        }
      ]
    },
    {
      "cell_type": "markdown",
      "metadata": {
        "deletable": false,
        "editable": false,
        "nbgrader": {
          "cell_type": "markdown",
          "checksum": "ea11277dc1543cb3a51dc7cf050af8a9",
          "grade": false,
          "grade_id": "cell-60908df556f5057e",
          "locked": true,
          "schema_version": 3,
          "solution": false,
          "task": false
        },
        "id": "Z0MOt5w2hxgR"
      },
      "source": [
        "What do you think? Is there a relationship between location and failing a food saftey inspection?"
      ]
    },
    {
      "cell_type": "markdown",
      "metadata": {
        "id": "nmdTHQza8E8f"
      },
      "source": [
        "With no domain knowledge, I would say that, based on the data, there is very little corrolation between location and failing a safety inspection."
      ]
    }
  ]
}