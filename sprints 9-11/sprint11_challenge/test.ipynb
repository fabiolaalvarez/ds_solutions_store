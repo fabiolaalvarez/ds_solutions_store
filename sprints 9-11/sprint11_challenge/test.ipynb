{
 "cells": [
  {
   "cell_type": "code",
   "execution_count": 2,
   "metadata": {},
   "outputs": [],
   "source": [
    "from aq_dashboard import get_results"
   ]
  },
  {
   "cell_type": "code",
   "execution_count": 5,
   "metadata": {},
   "outputs": [],
   "source": [
    "def test_get_results():\n",
    "        \"\"\"\n",
    "        Testing get_results() - Testing recent results that come directly\n",
    "        from the API. Will contain 100 observations.\n",
    "        \"\"\"\n",
    "        results = get_results()\n",
    "        assert \"[{'location': 'Los Ángeles Oriente', 'parameter': 'pm25', 'value': 4, 'date': {'utc': '2021-08-20T20:00:00Z', 'local'...'coordinates': {'latitude': -37.463035064801, 'longitude': -72.324575155457}, 'country': 'CL', 'city': 'Los Angeles'}]\" == [('2021-08-20T20:00:00Z', 4), ('2021-08-20T20:00:00Z', 11), ('2021-08-20T19:00:00Z', 5), ('2021-08-20T19:00:00Z', 7), ('2021-08-20T18:00:00Z', 10), ('2021-08-20T18:00:00Z', 4), ...]"
   ]
  },
  {
   "cell_type": "code",
   "execution_count": 6,
   "metadata": {},
   "outputs": [
    {
     "ename": "AssertionError",
     "evalue": "",
     "output_type": "error",
     "traceback": [
      "\u001b[1;31m---------------------------------------------------------------------------\u001b[0m",
      "\u001b[1;31mAssertionError\u001b[0m                            Traceback (most recent call last)",
      "\u001b[1;32mc:\\Users\\Alex Lucchesi\\OneDrive\\Desktop\\Unit_3\\Unit_3_Resources\\Unit_3\\Week_3\\sprint_challenge\\test.ipynb Cell 3\u001b[0m in \u001b[0;36m<cell line: 1>\u001b[1;34m()\u001b[0m\n\u001b[1;32m----> <a href='vscode-notebook-cell:/c%3A/Users/Alex%20Lucchesi/OneDrive/Desktop/Unit_3/Unit_3_Resources/Unit_3/Week_3/sprint_challenge/test.ipynb#ch0000001?line=0'>1</a>\u001b[0m test_get_results()\n",
      "\u001b[1;32mc:\\Users\\Alex Lucchesi\\OneDrive\\Desktop\\Unit_3\\Unit_3_Resources\\Unit_3\\Week_3\\sprint_challenge\\test.ipynb Cell 3\u001b[0m in \u001b[0;36mtest_get_results\u001b[1;34m()\u001b[0m\n\u001b[0;32m      <a href='vscode-notebook-cell:/c%3A/Users/Alex%20Lucchesi/OneDrive/Desktop/Unit_3/Unit_3_Resources/Unit_3/Week_3/sprint_challenge/test.ipynb#ch0000001?line=1'>2</a>\u001b[0m \u001b[39m\"\"\"\u001b[39;00m\n\u001b[0;32m      <a href='vscode-notebook-cell:/c%3A/Users/Alex%20Lucchesi/OneDrive/Desktop/Unit_3/Unit_3_Resources/Unit_3/Week_3/sprint_challenge/test.ipynb#ch0000001?line=2'>3</a>\u001b[0m \u001b[39mTesting get_results() - Testing recent results that come directly\u001b[39;00m\n\u001b[0;32m      <a href='vscode-notebook-cell:/c%3A/Users/Alex%20Lucchesi/OneDrive/Desktop/Unit_3/Unit_3_Resources/Unit_3/Week_3/sprint_challenge/test.ipynb#ch0000001?line=3'>4</a>\u001b[0m \u001b[39mfrom the API. Will contain 100 observations.\u001b[39;00m\n\u001b[0;32m      <a href='vscode-notebook-cell:/c%3A/Users/Alex%20Lucchesi/OneDrive/Desktop/Unit_3/Unit_3_Resources/Unit_3/Week_3/sprint_challenge/test.ipynb#ch0000001?line=4'>5</a>\u001b[0m \u001b[39m\"\"\"\u001b[39;00m\n\u001b[0;32m      <a href='vscode-notebook-cell:/c%3A/Users/Alex%20Lucchesi/OneDrive/Desktop/Unit_3/Unit_3_Resources/Unit_3/Week_3/sprint_challenge/test.ipynb#ch0000001?line=5'>6</a>\u001b[0m results \u001b[39m=\u001b[39m get_results()\n\u001b[1;32m----> <a href='vscode-notebook-cell:/c%3A/Users/Alex%20Lucchesi/OneDrive/Desktop/Unit_3/Unit_3_Resources/Unit_3/Week_3/sprint_challenge/test.ipynb#ch0000001?line=6'>7</a>\u001b[0m \u001b[39massert\u001b[39;00m \u001b[39m\"\u001b[39m\u001b[39m[\u001b[39m\u001b[39m{\u001b[39m\u001b[39m'\u001b[39m\u001b[39mlocation\u001b[39m\u001b[39m'\u001b[39m\u001b[39m: \u001b[39m\u001b[39m'\u001b[39m\u001b[39mLos Ángeles Oriente\u001b[39m\u001b[39m'\u001b[39m\u001b[39m, \u001b[39m\u001b[39m'\u001b[39m\u001b[39mparameter\u001b[39m\u001b[39m'\u001b[39m\u001b[39m: \u001b[39m\u001b[39m'\u001b[39m\u001b[39mpm25\u001b[39m\u001b[39m'\u001b[39m\u001b[39m, \u001b[39m\u001b[39m'\u001b[39m\u001b[39mvalue\u001b[39m\u001b[39m'\u001b[39m\u001b[39m: 4, \u001b[39m\u001b[39m'\u001b[39m\u001b[39mdate\u001b[39m\u001b[39m'\u001b[39m\u001b[39m: \u001b[39m\u001b[39m{\u001b[39m\u001b[39m'\u001b[39m\u001b[39mutc\u001b[39m\u001b[39m'\u001b[39m\u001b[39m: \u001b[39m\u001b[39m'\u001b[39m\u001b[39m2021-08-20T20:00:00Z\u001b[39m\u001b[39m'\u001b[39m\u001b[39m, \u001b[39m\u001b[39m'\u001b[39m\u001b[39mlocal\u001b[39m\u001b[39m'\u001b[39m\u001b[39m...\u001b[39m\u001b[39m'\u001b[39m\u001b[39mcoordinates\u001b[39m\u001b[39m'\u001b[39m\u001b[39m: \u001b[39m\u001b[39m{\u001b[39m\u001b[39m'\u001b[39m\u001b[39mlatitude\u001b[39m\u001b[39m'\u001b[39m\u001b[39m: -37.463035064801, \u001b[39m\u001b[39m'\u001b[39m\u001b[39mlongitude\u001b[39m\u001b[39m'\u001b[39m\u001b[39m: -72.324575155457}, \u001b[39m\u001b[39m'\u001b[39m\u001b[39mcountry\u001b[39m\u001b[39m'\u001b[39m\u001b[39m: \u001b[39m\u001b[39m'\u001b[39m\u001b[39mCL\u001b[39m\u001b[39m'\u001b[39m\u001b[39m, \u001b[39m\u001b[39m'\u001b[39m\u001b[39mcity\u001b[39m\u001b[39m'\u001b[39m\u001b[39m: \u001b[39m\u001b[39m'\u001b[39m\u001b[39mLos Angeles\u001b[39m\u001b[39m'\u001b[39m\u001b[39m}]\u001b[39m\u001b[39m\"\u001b[39m \u001b[39m==\u001b[39m [(\u001b[39m'\u001b[39m\u001b[39m2021-08-20T20:00:00Z\u001b[39m\u001b[39m'\u001b[39m, \u001b[39m4\u001b[39m), (\u001b[39m'\u001b[39m\u001b[39m2021-08-20T20:00:00Z\u001b[39m\u001b[39m'\u001b[39m, \u001b[39m11\u001b[39m), (\u001b[39m'\u001b[39m\u001b[39m2021-08-20T19:00:00Z\u001b[39m\u001b[39m'\u001b[39m, \u001b[39m5\u001b[39m), (\u001b[39m'\u001b[39m\u001b[39m2021-08-20T19:00:00Z\u001b[39m\u001b[39m'\u001b[39m, \u001b[39m7\u001b[39m), (\u001b[39m'\u001b[39m\u001b[39m2021-08-20T18:00:00Z\u001b[39m\u001b[39m'\u001b[39m, \u001b[39m10\u001b[39m), (\u001b[39m'\u001b[39m\u001b[39m2021-08-20T18:00:00Z\u001b[39m\u001b[39m'\u001b[39m, \u001b[39m4\u001b[39m), \u001b[39m.\u001b[39m\u001b[39m.\u001b[39m\u001b[39m.\u001b[39m]\n",
      "\u001b[1;31mAssertionError\u001b[0m: "
     ]
    }
   ],
   "source": [
    "test_get_results()"
   ]
  },
  {
   "cell_type": "code",
   "execution_count": null,
   "metadata": {},
   "outputs": [],
   "source": []
  }
 ],
 "metadata": {
  "kernelspec": {
   "display_name": "Python 3.10.4 ('Week_3-S8wAuDgB')",
   "language": "python",
   "name": "python3"
  },
  "language_info": {
   "codemirror_mode": {
    "name": "ipython",
    "version": 3
   },
   "file_extension": ".py",
   "mimetype": "text/x-python",
   "name": "python",
   "nbconvert_exporter": "python",
   "pygments_lexer": "ipython3",
   "version": "3.10.4"
  },
  "orig_nbformat": 4,
  "vscode": {
   "interpreter": {
    "hash": "ac4f30b2a43deb6a54f72374859963c9b8967737db27b274bb1f7c119900c90d"
   }
  }
 },
 "nbformat": 4,
 "nbformat_minor": 2
}
