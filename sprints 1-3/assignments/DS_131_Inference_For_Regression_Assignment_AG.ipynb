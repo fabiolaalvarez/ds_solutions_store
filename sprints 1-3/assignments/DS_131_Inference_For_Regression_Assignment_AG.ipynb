{
 "cells": [
  {
   "cell_type": "markdown",
   "metadata": {
    "id": "RQw2GTc8oDRw",
    "nbgrader": {
     "grade": false,
     "grade_id": "cell-69ceaf1f63c51822",
     "locked": true,
     "schema_version": 3,
     "solution": false,
     "task": false
    }
   },
   "source": [
    "# Data Science - Unit 1 Sprint 3 Module 1\n",
    "\n",
    "## Module Project: Inference for Linear Regression\n",
    "\n",
    "### Learning Objectives\n",
    "\n",
    "* identify the appropriate hypotheses to test for a statistically significant relationship between two quantitative variables\n",
    "* conduct and interpret a t-test for the slope parameter\n",
    "* identify the appropriate parts of the output of a linear regression model and use them to build a confidence interval for the slope term.\n",
    "* make the connection between the t-test for a population mean and a t-test for a slope coefficient.\n",
    "* identify violations of the assumptions for linear regression\n",
    "\n",
    "### Total notebook points: 16"
   ]
  },
  {
   "cell_type": "markdown",
   "metadata": {
    "id": "MHWnltybtm8_"
   },
   "source": [
    "## Introduction\n",
    "\n",
    "### Statistical significance between head size and brain weight in healthy adult humans\n",
    "\n",
    "The `Brainhead.csv` dataset provides information on 237 individuals who were subject to post-mortem examination at the Middlesex Hospital in London around the turn of the 20th century. Study authors used cadavers to see if a relationship between brain weight and other more easily measured physiological characterizes such as age, sex, and head size could be determined. \n",
    "\n",
    "The end goal was to develop a way to estimate a person’s brain size while they were still alive (as the living aren’t keen on having their brains taken out and weighed).\n",
    "\n",
    "**We wish to determine if there is a linear relationship between head size and brain weight in healthy human adults.**\n",
    "\n",
    "Source: R.J. Gladstone (1905). \"A Study of the Relations of the Brain to the Size of the Head\", Biometrika, Vol. 4, pp105-123.\n",
    "\n",
    "\n",
    "**Use the above information to complete Tasks 1 - 10.**"
   ]
  },
  {
   "cell_type": "markdown",
   "metadata": {
    "id": "VoVBnlaaQHqw"
   },
   "source": [
    "\n",
    "\n",
    "Recall from the Module 1 Project that we were working with the brain weight variable (`Brain`) and the head size (`Head`) variables. We identified the dependent and independent variables, plotted our variables on the appropriate axes, and then described the strength of the relationship.\n",
    "\n",
    "* `Brain` (brain weight in g) - **dependent** variable (y)\n",
    "* `Head` (the head size in cubic cm - **independent** variable (x)\n",
    "\n",
    "Now, we're going to bring back some statistics from Sprint 2 and look at the statistical association between head size and brain weight.\n",
    "\n"
   ]
  },
  {
   "cell_type": "markdown",
   "metadata": {
    "id": "vO7saCVHjuEh"
   },
   "source": [
    "**Task 1** - Statistical tests\n",
    "\n",
    "What type of statistical test will we use to determine if there is a statistically significant association between head size and brain weight in the population?  Specify your answer in the next code block using `Answer = `.  For example, if the correct answer is choice B, you'll type `Answer = 'B'`.\n",
    "\n",
    "A: A beta test\n",
    "\n",
    "B: A chi-square test\n",
    "\n",
    "C: A Bayesian test\n",
    "\n",
    "D: A t-test\n"
   ]
  },
  {
   "cell_type": "code",
   "execution_count": 1,
   "metadata": {
    "id": "zUazJShUjuEu",
    "nbgrader": {
     "grade": false,
     "grade_id": "cell-07bbb2a930fdc4a8",
     "locked": false,
     "schema_version": 3,
     "solution": true,
     "task": false
    }
   },
   "outputs": [],
   "source": [
    "# Task 1\n",
    "\n",
    "### BEGIN SOLUTION\n",
    "Answer = 'D'\n",
    "### END SOLUTION\n"
   ]
  },
  {
   "cell_type": "markdown",
   "metadata": {
    "id": "Zw9E0WTqjuEu"
   },
   "source": [
    "**Task 1 Test**"
   ]
  },
  {
   "cell_type": "code",
   "execution_count": 2,
   "metadata": {
    "nbgrader": {
     "grade": true,
     "grade_id": "cell-926f6d1e0cfe693d",
     "locked": true,
     "points": 1,
     "schema_version": 3,
     "solution": false,
     "task": false
    }
   },
   "outputs": [],
   "source": [
    "# Task 1 - Test\n",
    "# Hidden tests - you will see the results when you submit to Canvas\n",
    "### BEGIN HIDDEN TESTS\n",
    "assert Answer == 'D', 'Review the types of statistical tests covered in the guided projects.'\n",
    "### END HIDDEN TESTS"
   ]
  },
  {
   "cell_type": "markdown",
   "metadata": {
    "id": "N2INn9IjpcQv"
   },
   "source": [
    "**Task 2** - Hypotheses for linear regression\n",
    "\n",
    "Select the null and alternative hypotheses you would use to test for a statistically significant association between head size and brain weight.  Specify your answer in the next code block using `Answer = `.  For example, if the correct answer is choice B, you'll type `Answer = 'B'`.\n",
    "\n",
    "A: $H_0: \\beta_1 = 0$ vs. $H_a: \\beta_1 \\neq 0$\n",
    "\n",
    "B: A$H_0: \\beta_0 = 0$ vs. $H_a: \\beta_0 \\neq 0$\n",
    "\n",
    "C: $H_0: \\beta_1 \\neq 0$ vs. $H_a: \\beta_1 = 0$\n",
    "\n",
    "D: $H_0: \\beta_0 = \\beta_1 $ vs. $H_a: \\beta_0 \\neq \\beta_1$\n"
   ]
  },
  {
   "cell_type": "code",
   "execution_count": 3,
   "metadata": {
    "id": "UENkK4C9pcQv",
    "nbgrader": {
     "grade": false,
     "grade_id": "cell-57418db46031ec24",
     "locked": false,
     "schema_version": 3,
     "solution": true,
     "task": false
    }
   },
   "outputs": [],
   "source": [
    "# Task 2\n",
    "\n",
    "### BEGIN SOLUTION\n",
    "Answer = 'A'\n",
    "### END SOLUTION\n"
   ]
  },
  {
   "cell_type": "markdown",
   "metadata": {
    "id": "tSqVznCtpcQw"
   },
   "source": [
    "**Task 2 Test**"
   ]
  },
  {
   "cell_type": "code",
   "execution_count": 4,
   "metadata": {
    "nbgrader": {
     "grade": true,
     "grade_id": "cell-4d7da361b388c8fa",
     "locked": true,
     "points": 1,
     "schema_version": 3,
     "solution": false,
     "task": false
    }
   },
   "outputs": [],
   "source": [
    "# Task 2 - Test\n",
    "# Hidden tests - you will see the results when you submit to Canvas\n",
    "### BEGIN HIDDEN TESTS\n",
    "assert Answer == 'A', 'Review the hypotheses for linear regression.'\n",
    "### END HIDDEN TESTS"
   ]
  },
  {
   "cell_type": "markdown",
   "metadata": {
    "id": "Y6_O8rXOoZYJ"
   },
   "source": [
    "**Task 3** - Load the data\n",
    "\n",
    "As we usually begin, let's load the data! The URL has been provided.\n",
    "\n",
    "* load your CSV file into a DataFrame named `df`"
   ]
  },
  {
   "cell_type": "code",
   "execution_count": 5,
   "metadata": {
    "colab": {
     "base_uri": "https://localhost:8080/",
     "height": 204
    },
    "id": "0NKz1DvXQHqq",
    "nbgrader": {
     "grade": false,
     "grade_id": "cell-dce60d72fa032dbb",
     "locked": false,
     "schema_version": 3,
     "solution": true,
     "task": false
    },
    "outputId": "e67f69da-f73d-4db3-e8b5-10fc5d7e6765"
   },
   "outputs": [
    {
     "data": {
      "text/html": [
       "<div>\n",
       "<style scoped>\n",
       "    .dataframe tbody tr th:only-of-type {\n",
       "        vertical-align: middle;\n",
       "    }\n",
       "\n",
       "    .dataframe tbody tr th {\n",
       "        vertical-align: top;\n",
       "    }\n",
       "\n",
       "    .dataframe thead th {\n",
       "        text-align: right;\n",
       "    }\n",
       "</style>\n",
       "<table border=\"1\" class=\"dataframe\">\n",
       "  <thead>\n",
       "    <tr style=\"text-align: right;\">\n",
       "      <th></th>\n",
       "      <th>Gender</th>\n",
       "      <th>Age</th>\n",
       "      <th>Head</th>\n",
       "      <th>Brain</th>\n",
       "    </tr>\n",
       "  </thead>\n",
       "  <tbody>\n",
       "    <tr>\n",
       "      <th>0</th>\n",
       "      <td>1</td>\n",
       "      <td>1</td>\n",
       "      <td>4512</td>\n",
       "      <td>1530</td>\n",
       "    </tr>\n",
       "    <tr>\n",
       "      <th>1</th>\n",
       "      <td>1</td>\n",
       "      <td>1</td>\n",
       "      <td>3738</td>\n",
       "      <td>1297</td>\n",
       "    </tr>\n",
       "    <tr>\n",
       "      <th>2</th>\n",
       "      <td>1</td>\n",
       "      <td>1</td>\n",
       "      <td>4261</td>\n",
       "      <td>1335</td>\n",
       "    </tr>\n",
       "    <tr>\n",
       "      <th>3</th>\n",
       "      <td>1</td>\n",
       "      <td>1</td>\n",
       "      <td>3777</td>\n",
       "      <td>1282</td>\n",
       "    </tr>\n",
       "    <tr>\n",
       "      <th>4</th>\n",
       "      <td>1</td>\n",
       "      <td>1</td>\n",
       "      <td>4177</td>\n",
       "      <td>1590</td>\n",
       "    </tr>\n",
       "  </tbody>\n",
       "</table>\n",
       "</div>"
      ],
      "text/plain": [
       "   Gender  Age  Head  Brain\n",
       "0       1    1  4512   1530\n",
       "1       1    1  3738   1297\n",
       "2       1    1  4261   1335\n",
       "3       1    1  3777   1282\n",
       "4       1    1  4177   1590"
      ]
     },
     "execution_count": 5,
     "metadata": {},
     "output_type": "execute_result"
    }
   ],
   "source": [
    "# Task 3\n",
    "\n",
    "# Imports\n",
    "import pandas as pd\n",
    "import numpy as np\n",
    "\n",
    "data_url = 'https://raw.githubusercontent.com/LambdaSchool/data-science-practice-datasets/main/unit_1/Brainhead/Brainhead.csv'\n",
    "\n",
    "### BEGIN SOLUTION\n",
    "df = pd.read_csv(data_url)\n",
    "### END SOLUTION\n",
    "\n",
    "# Print out your DataFrame\n",
    "df.head()"
   ]
  },
  {
   "cell_type": "markdown",
   "metadata": {
    "id": "FyHPiQH4qV_G"
   },
   "source": [
    "**Task 3 Test** "
   ]
  },
  {
   "cell_type": "code",
   "execution_count": 6,
   "metadata": {
    "id": "HFFrErUXoZYK",
    "nbgrader": {
     "grade": true,
     "grade_id": "cell-d4edaaeebedaf8ff",
     "locked": true,
     "points": 1,
     "schema_version": 3,
     "solution": false,
     "task": false
    }
   },
   "outputs": [],
   "source": [
    "# Task 3 - Test\n",
    "\n",
    "assert isinstance(df, pd.DataFrame), 'Have you created a DataFrame named `df`?'\n",
    "assert len(df) == 237\n",
    "\n",
    "### BEGIN HIDDEN TESTS\n",
    "assert df.shape == (237, 4), 'Make sure you correctly read in the DataFrame.'\n",
    "### END HIDDEN TESTS"
   ]
  },
  {
   "cell_type": "markdown",
   "metadata": {
    "id": "UIqgn0THlinM"
   },
   "source": [
    "**Task 4** - Fit OLS model\n",
    "\n",
    "Now, we're going to fit a regression model to our two variables. We're going to use `statsmodels.formula.api` and import the `ols` model. This import has been provided for you.\n",
    "\n",
    "* Fit a model and name your variable `model`\n",
    "* Using the `model.params[1]` method, assign the slope to the variable `slope`. Your variable should be a float (`numpy.float64`).\n",
    "* Using the same `model.params[0]` method, assign the intercept to the variable `intercept`. Your variable should be a float (`numpy.float64`).\n",
    "* Print out your model summary.\n",
    "\n",
    "*Hint: Make sure to use the format Y ~ X for the model input.*"
   ]
  },
  {
   "cell_type": "code",
   "execution_count": 7,
   "metadata": {
    "colab": {
     "base_uri": "https://localhost:8080/"
    },
    "id": "wX7UBNNBRMtr",
    "nbgrader": {
     "grade": false,
     "grade_id": "cell-e9560546a99c90ac",
     "locked": false,
     "schema_version": 3,
     "solution": true,
     "task": false
    },
    "outputId": "e97a1ab9-625f-4bd8-fb08-3ae77ae0efe6"
   },
   "outputs": [
    {
     "name": "stdout",
     "output_type": "stream",
     "text": [
      "                            OLS Regression Results                            \n",
      "==============================================================================\n",
      "Dep. Variable:                  Brain   R-squared:                       0.639\n",
      "Model:                            OLS   Adj. R-squared:                  0.638\n",
      "Method:                 Least Squares   F-statistic:                     416.5\n",
      "Date:                Tue, 12 Oct 2021   Prob (F-statistic):           5.96e-54\n",
      "Time:                        17:40:24   Log-Likelihood:                -1350.3\n",
      "No. Observations:                 237   AIC:                             2705.\n",
      "Df Residuals:                     235   BIC:                             2711.\n",
      "Df Model:                           1                                         \n",
      "Covariance Type:            nonrobust                                         \n",
      "==============================================================================\n",
      "                 coef    std err          t      P>|t|      [0.025      0.975]\n",
      "------------------------------------------------------------------------------\n",
      "Intercept    325.5734     47.141      6.906      0.000     232.701     418.446\n",
      "Head           0.2634      0.013     20.409      0.000       0.238       0.289\n",
      "==============================================================================\n",
      "Omnibus:                        8.329   Durbin-Watson:                   1.843\n",
      "Prob(Omnibus):                  0.016   Jarque-Bera (JB):                8.665\n",
      "Skew:                           0.366   Prob(JB):                       0.0131\n",
      "Kurtosis:                       3.584   Cond. No.                     3.66e+04\n",
      "==============================================================================\n",
      "\n",
      "Notes:\n",
      "[1] Standard Errors assume that the covariance matrix of the errors is correctly specified.\n",
      "[2] The condition number is large, 3.66e+04. This might indicate that there are\n",
      "strong multicollinearity or other numerical problems.\n"
     ]
    }
   ],
   "source": [
    "# Task 4\n",
    "\n",
    "# Import statsmodels - DON'T Delete\n",
    "from statsmodels.formula.api import ols\n",
    "\n",
    "# Set-up and fit the model in one step\n",
    "# (format Y ~ X)\n",
    "\n",
    "### BEGIN SOLUTION\n",
    "model = ols('Brain ~ Head', data=df).fit()\n",
    "slope = model.params[1]\n",
    "intercept = model.params[0]\n",
    "### END SOLUTION\n",
    "\n",
    "# Print the model summary\n",
    "print(model.summary())"
   ]
  },
  {
   "cell_type": "markdown",
   "metadata": {
    "id": "Lv15liBjoZYM"
   },
   "source": [
    "**Task 4 - Test**"
   ]
  },
  {
   "cell_type": "code",
   "execution_count": 8,
   "metadata": {
    "id": "ihR0b9UGoZYM",
    "nbgrader": {
     "grade": true,
     "grade_id": "cell-100a97e8d1184783",
     "locked": true,
     "points": 2,
     "schema_version": 3,
     "solution": false,
     "task": false
    }
   },
   "outputs": [],
   "source": [
    "# Task 4 - Test\n",
    "\n",
    "# Hidden tests - you will see the results when you submit to Canvas\n",
    "### BEGIN HIDDEN TESTS\n",
    "import statsmodels.regression.linear_model as sm_reg_lm\n",
    "assert isinstance(model, sm_reg_lm.RegressionResultsWrapper), 'Did you create the correct type of model?'\n",
    "assert round(slope, 1) == 0.3, 'Was your input data in the correct order?'\n",
    "assert round(intercept) == 326, 'Was your input data in the correct order?'\n",
    "### END HIDDEN TESTS"
   ]
  },
  {
   "cell_type": "markdown",
   "metadata": {
    "id": "4eJsXuRLxKrz"
   },
   "source": [
    "**Task 5** - Formulate the statistical model\n",
    "\n",
    "Using the model parameters returned above, you will now write out the statistical model as a linear equation. Remember, we are predicting brain weight from head size.\n",
    "\n",
    "* write your equation in Python\n",
    "    * assign the dependent variable to `y_hat`\n",
    "    * assign the independent variable to `x` with a value of `4000`\n",
    "    * use the variables you created earlier for the slope and intercept"
   ]
  },
  {
   "cell_type": "code",
   "execution_count": 9,
   "metadata": {
    "colab": {
     "base_uri": "https://localhost:8080/"
    },
    "id": "Qa123dkvoZYM",
    "nbgrader": {
     "grade": false,
     "grade_id": "cell-1ddf887e0e3e603e",
     "locked": false,
     "schema_version": 3,
     "solution": true,
     "task": false
    },
    "outputId": "157061be-8e6a-4143-ea5e-2bb28ac771ad"
   },
   "outputs": [
    {
     "name": "stdout",
     "output_type": "stream",
     "text": [
      "1379.2907790070394\n"
     ]
    }
   ],
   "source": [
    "# Task 5\n",
    "\n",
    "### BEGIN SOLUTION\n",
    "x = 4000\n",
    "y_hat = intercept + slope*x\n",
    "### END SOLUTION\n",
    "print(y_hat)"
   ]
  },
  {
   "cell_type": "markdown",
   "metadata": {
    "id": "ueoAux45oZYN"
   },
   "source": [
    "**Task 5 - Test**"
   ]
  },
  {
   "cell_type": "code",
   "execution_count": 10,
   "metadata": {
    "id": "nsaiIXpIoZYN",
    "nbgrader": {
     "grade": true,
     "grade_id": "cell-f73a4aaf70997ef3",
     "locked": true,
     "points": 1,
     "schema_version": 3,
     "solution": false,
     "task": false
    }
   },
   "outputs": [],
   "source": [
    "# Task 5 - Test\n",
    "\n",
    "# Hidden tests - you will see the results when you submit to Canvas\n",
    "### BEGIN HIDDEN TESTS\n",
    "assert x == 4000, 'Did you correctly assign the value of x?'\n",
    "assert round(y_hat) == 1379, 'Check to make sure you set your slope and intercept correctly.'\n",
    "### END HIDDEN TESTS"
   ]
  },
  {
   "cell_type": "markdown",
   "metadata": {
    "id": "GI170a6-o6hx"
   },
   "source": [
    "**Task 6** - Statistical parameters\n",
    "\n",
    "Now that we have fit a model, we're going to pull out the statistical parameters.\n",
    "\n",
    "* assign the standard error to the variable `std_err`\n",
    "* assign the value of the t-statistics to the variable `t_stat`\n",
    "* assign the p-value for the slope to the variable `p_slope`\n",
    "\n",
    "**Assign values out to the 1/1000 place (for example, `777.555`)**"
   ]
  },
  {
   "cell_type": "code",
   "execution_count": 11,
   "metadata": {
    "id": "5BOoS5k7oZYO",
    "nbgrader": {
     "grade": false,
     "grade_id": "cell-0088cec3b26fca73",
     "locked": false,
     "schema_version": 3,
     "solution": true,
     "task": false
    }
   },
   "outputs": [],
   "source": [
    "# Task 6\n",
    "\n",
    "### BEGIN SOLUTION\n",
    "std_err = 0.013\n",
    "t_stat = 20.409\n",
    "p_slope = 0.000\n",
    "### END SOLUTION"
   ]
  },
  {
   "cell_type": "markdown",
   "metadata": {
    "id": "cuxDxoHfoZYO"
   },
   "source": [
    "**Task 6 - Test**"
   ]
  },
  {
   "cell_type": "code",
   "execution_count": 12,
   "metadata": {
    "id": "COgHQz15oZYP",
    "nbgrader": {
     "grade": true,
     "grade_id": "cell-3b6f76045e89854a",
     "locked": true,
     "points": 1,
     "schema_version": 3,
     "solution": false,
     "task": false
    }
   },
   "outputs": [],
   "source": [
    "# Task 6 - Test\n",
    "\n",
    "# Hidden tests - you will see the results when you submit to Canvas\n",
    "### BEGIN HIDDEN TESTS\n",
    "assert round(std_err, 3) == 0.013, 'Check your standard error value.'\n",
    "assert round(t_stat, 3) == 20.409, 'Check your t-statistic value.'\n",
    "assert round(p_slope, 3) == 0.000, 'Check your p-value.'\n",
    "### END HIDDEN TESTS"
   ]
  },
  {
   "cell_type": "markdown",
   "metadata": {
    "id": "u-SZmGhfsIjM"
   },
   "source": [
    "**Task 7** - Hypothesis Test\n",
    "\n",
    "Conduct your hypothesis test and select the answer below that best describes the conclusion at the 0.05 significance level.  Specify your answer in the next code block using `Answer = `.  For example, if the correct answer is choice B, you'll type `Answer = 'B'`.\n",
    "\n",
    "A: We reject the null hypothesis and conclude there is no association between head size and brain weight.\n",
    "\n",
    "B: We reject the null hypothesis and conclude there is an association between head size and brain weight.\n",
    "\n",
    "C: We fail to reject the null hypothesis and conclude there is no association between head size and brain weight.\n",
    "\n",
    "D: We fail to reject the null hypothesis and conclude there is an association between head size and brain weight.\n"
   ]
  },
  {
   "cell_type": "code",
   "execution_count": 13,
   "metadata": {
    "id": "UKlmYuRvsIjX",
    "nbgrader": {
     "grade": false,
     "grade_id": "cell-8a9fb0cf3d1b46d7",
     "locked": false,
     "schema_version": 3,
     "solution": true,
     "task": false
    }
   },
   "outputs": [],
   "source": [
    "# Task 7\n",
    "\n",
    "### BEGIN SOLUTION\n",
    "Answer = 'B'\n",
    "### END SOLUTION\n"
   ]
  },
  {
   "cell_type": "markdown",
   "metadata": {
    "id": "dG87trUqsIjX"
   },
   "source": [
    "**Task 7 Test**"
   ]
  },
  {
   "cell_type": "code",
   "execution_count": 14,
   "metadata": {
    "id": "3Q_iMLwksIjY",
    "nbgrader": {
     "grade": true,
     "grade_id": "cell-3970fbb1a3eaefb5",
     "locked": true,
     "points": 1,
     "schema_version": 3,
     "solution": false,
     "task": false
    }
   },
   "outputs": [],
   "source": [
    "# Task 7 - Test\n",
    "# Hidden tests - you will see the results when you submit to Canvas\n",
    "### BEGIN HIDDEN TESTS\n",
    "assert Answer == 'B', 'Think carefully about your conclusion.'\n",
    "### END HIDDEN TESTS"
   ]
  },
  {
   "cell_type": "markdown",
   "metadata": {
    "id": "urjBkvcjszDQ"
   },
   "source": [
    "**Task 8** - Hypothesis Test for the intercept\n",
    "\n",
    "Conduct a hypothesis test for the intercept and select the answer below that best describes the conclusion at the 0.05 significance level.  Specify your answer in the next code block using `Answer = `.  For example, if the correct answer is choice B, you'll type `Answer = 'B'`.\n",
    "\n",
    "A: We reject the null hypothesis and conclude there is no association between head size and brain weight.\n",
    "\n",
    "B: We fail to reject the null hypothesis and conclude there is no association between head size and brain weight.\n",
    "\n",
    "C: It does not make sense to interpret or conduct a hypothesis test for the intercept because 0 is not a value of x in our dataset.\n",
    "\n",
    "D: It does not make sense to interpret or conduct a hypothesis test for the intercept because the slope is statistically significant.\n"
   ]
  },
  {
   "cell_type": "code",
   "execution_count": 15,
   "metadata": {
    "id": "TjbnWFqCszDR",
    "nbgrader": {
     "grade": false,
     "grade_id": "cell-a8ea8470352ac330",
     "locked": false,
     "schema_version": 3,
     "solution": true,
     "task": false
    }
   },
   "outputs": [],
   "source": [
    "# Task 8\n",
    "\n",
    "### BEGIN SOLUTION\n",
    "Answer = 'C'\n",
    "### END SOLUTION\n"
   ]
  },
  {
   "cell_type": "markdown",
   "metadata": {
    "id": "Gg3hCRDKszDR"
   },
   "source": [
    "**Task 8 Test**"
   ]
  },
  {
   "cell_type": "code",
   "execution_count": 16,
   "metadata": {
    "nbgrader": {
     "grade": true,
     "grade_id": "cell-a3a3433557e73bac",
     "locked": true,
     "points": 1,
     "schema_version": 3,
     "solution": false,
     "task": false
    }
   },
   "outputs": [],
   "source": [
    "# Task 8 - Test\n",
    "# Hidden tests - you will see the results when you submit to Canvas\n",
    "### BEGIN HIDDEN TESTS\n",
    "assert Answer == 'C', 'Think carefully about your conclusion.'\n",
    "### END HIDDEN TESTS"
   ]
  },
  {
   "cell_type": "markdown",
   "metadata": {
    "id": "3gr8OoX8qpqY"
   },
   "source": [
    "**Task 9** - Confidence Interval\n",
    "\n",
    "Calculate the 95% confidence interval for your slope term. Use your model summary to find these values. Assign them values out to the 1/1000 place (for example, `ci_low = 0.345`)\n",
    "\n",
    "* assign the lower value of brain size to `brain_low`\n",
    "* assign the upper value of brain size to `brain_upper`\n"
   ]
  },
  {
   "cell_type": "code",
   "execution_count": 17,
   "metadata": {
    "id": "3Cgv5jBVoZYQ",
    "nbgrader": {
     "grade": false,
     "grade_id": "cell-cebcd0240ee16185",
     "locked": false,
     "schema_version": 3,
     "solution": true,
     "task": false
    }
   },
   "outputs": [],
   "source": [
    "# Task 9\n",
    "\n",
    "### BEGIN SOLUTION\n",
    "brain_low = 0.238\n",
    "brain_upper = 0.289\n",
    "### END SOLUTION"
   ]
  },
  {
   "cell_type": "markdown",
   "metadata": {
    "id": "dXAKwtzzoZYQ"
   },
   "source": [
    "**Task 9 - Test**"
   ]
  },
  {
   "cell_type": "code",
   "execution_count": 18,
   "metadata": {
    "id": "uegq5FlPoZYR",
    "nbgrader": {
     "grade": true,
     "grade_id": "cell-9a0563abb4c16599",
     "locked": true,
     "points": 1,
     "schema_version": 3,
     "solution": false,
     "task": false
    }
   },
   "outputs": [],
   "source": [
    "# Task 9 - Test\n",
    "\n",
    "# Hidden tests - you will see the results when you submit to Canvas\n",
    "### BEGIN HIDDEN TESTS\n",
    "assert round(brain_low, 3) == 0.238, 'Check your lower confidence value.'\n",
    "assert round(brain_upper, 3) == 0.289, 'Check your upper confidence value.'\n",
    "\n",
    "### END HIDDEN TESTS"
   ]
  },
  {
   "cell_type": "markdown",
   "metadata": {
    "id": "12WjHAT91iBl"
   },
   "source": [
    "**Task 10** - Plot confidence intervals\n",
    "\n",
    "Plot the confidence limits on both the slope and intercept terms with a shaded area around our regression line. The easiest way to do this is using `seaborn` with the `ci` parameter set to the confidence level you want (the default is `ci=95`). This plot will not be autograded."
   ]
  },
  {
   "cell_type": "code",
   "execution_count": 19,
   "metadata": {
    "colab": {
     "base_uri": "https://localhost:8080/",
     "height": 279
    },
    "id": "onUkdEAiTK19",
    "nbgrader": {
     "grade": false,
     "grade_id": "cell-be916b022e3948d5",
     "locked": false,
     "schema_version": 3,
     "solution": true,
     "task": false
    },
    "outputId": "8337f5ed-bc15-4a35-dbfd-74ab4df99d4d"
   },
   "outputs": [
    {
     "data": {
      "image/png": "[encoded data removed]",
      "text/plain": [
       "<Figure size 432x288 with 1 Axes>"
      ]
     },
     "metadata": {
      "needs_background": "light"
     },
     "output_type": "display_data"
    }
   ],
   "source": [
    "# Task 10\n",
    "\n",
    "### BEGIN SOLUTION\n",
    "import seaborn as sns\n",
    "ax = sns.regplot(x=\"Head\", y=\"Brain\", data=df)\n",
    "### END SOLUTION"
   ]
  },
  {
   "cell_type": "markdown",
   "metadata": {
    "id": "P6g6wHkNS2qB"
   },
   "source": [
    "**Task 10** - Correlation (short answer)\n",
    "\n",
    "Does it seem plausible that larger head size causes greater brain weight?  Or is it possible that something else causes differences in both of those factors?\n",
    "\n",
    "ANSWER:\n",
    "\n"
   ]
  },
  {
   "cell_type": "markdown",
   "metadata": {
    "id": "DHNJ5vpJCGSf"
   },
   "source": [
    "## Part B\n",
    "\n",
    "### Sleep Data\n",
    "\n",
    "Use the following information to answer Tasks 11 - 18 in the rest of this project:\n",
    "\n",
    "Researchers recorded data on sleep duration as well as a set of ecological and constitutional variables for a selection of mammal species. This data is available in the Sleep.csv dataset; the URL is provided below. \n",
    "\n",
    "(*Source: Allison, T. and Cicchetti, D. (1976), \"Sleep in Mammals: Ecological and Constitutional Correlates\",  Science, November 12, vol. 194, pp. 732-734.*)\n",
    "\n",
    "**Data Dictionary:**\n",
    "\n",
    "| Variable Name |            Description           |                                                                 Details                                                                 |              |   |\n",
    "|:-------------:|:--------------------------------:|:---------------------------------------------------------------------------------------------------------------------------------------:|--------------|---|\n",
    "| Animal        |            Animal name           |                                                            Character [string]                                                           |    |   |\n",
    "| Body          |            Body weight           |                                                               Numeric [kg]                                                              |       |   |\n",
    "| Brain         |           Brain weight           |                                                               Numeric [g]                                                               |  |   |\n",
    "| SWsleep       | Slow wave (“non-dreaming”) sleep | Numeric [hours]                                                                                                                         |              |   |\n",
    "| Parasleep     | Paradoxical (“dreaming”) sleep   | Numeric [hours]                                                                                                                         |              |   |\n",
    "| Totsleep      | Total sleep                      | Numeric [hours]                                                                                                                         |              |   |\n",
    "| Life          | Maximum life expectancy          | Numeric [years]                                                                                                                         |              |   |\n",
    "| Gest          | Gestation time                   | Numeric [days]                                                                                                                          |              |   |\n",
    "| Pred          | Predation index                  | Numeric [1 – 5] 1 = least likely to be preyed upon, 5 = most likely to be preyed upon                                                   |              |   |\n",
    "| Exposure      | Sleep exposure index             | Numeric [1 – 5] 1 = least amount of exposure during sleep (mammal sleeps indoors or in a den), 5 = most amount of exposure during sleep |              |   |\n",
    "| Danger        | Overall danger index             | Numeric [ 1 – 5] 1 = least amount of danger from other animals, 5 = most amount of danger from other animals                            |              |   |\n",
    "\n"
   ]
  },
  {
   "cell_type": "markdown",
   "metadata": {
    "id": "_jWUvkC6oZYU"
   },
   "source": [
    "**Task 11**\n",
    "\n",
    "Before we can look at the data, we need to load in the data. The URL has been provided.\n",
    "\n",
    "* load in the CSV file as a DataFrame and assign it to the variable `df_sleep`\n",
    "* make sure to view the DataFrame!"
   ]
  },
  {
   "cell_type": "code",
   "execution_count": 20,
   "metadata": {
    "colab": {
     "base_uri": "https://localhost:8080/",
     "height": 204
    },
    "id": "KD1W8-eyoZYW",
    "nbgrader": {
     "grade": false,
     "grade_id": "cell-8b27985340fda74e",
     "locked": false,
     "schema_version": 3,
     "solution": true,
     "task": false
    },
    "outputId": "664ab043-c634-4ccb-fb24-3d5fc0ed3ba8"
   },
   "outputs": [
    {
     "data": {
      "text/html": [
       "<div>\n",
       "<style scoped>\n",
       "    .dataframe tbody tr th:only-of-type {\n",
       "        vertical-align: middle;\n",
       "    }\n",
       "\n",
       "    .dataframe tbody tr th {\n",
       "        vertical-align: top;\n",
       "    }\n",
       "\n",
       "    .dataframe thead th {\n",
       "        text-align: right;\n",
       "    }\n",
       "</style>\n",
       "<table border=\"1\" class=\"dataframe\">\n",
       "  <thead>\n",
       "    <tr style=\"text-align: right;\">\n",
       "      <th></th>\n",
       "      <th>Animal</th>\n",
       "      <th>Body</th>\n",
       "      <th>Brain</th>\n",
       "      <th>SWsleep</th>\n",
       "      <th>Parasleep</th>\n",
       "      <th>Totsleep</th>\n",
       "      <th>Life</th>\n",
       "      <th>Gest</th>\n",
       "      <th>Pred</th>\n",
       "      <th>Exposure</th>\n",
       "      <th>Danger</th>\n",
       "    </tr>\n",
       "  </thead>\n",
       "  <tbody>\n",
       "    <tr>\n",
       "      <th>0</th>\n",
       "      <td>African_giant_pouched_rat</td>\n",
       "      <td>1.000</td>\n",
       "      <td>6.6</td>\n",
       "      <td>6.3</td>\n",
       "      <td>2.0</td>\n",
       "      <td>8.3</td>\n",
       "      <td>4.5</td>\n",
       "      <td>42.0</td>\n",
       "      <td>3</td>\n",
       "      <td>1</td>\n",
       "      <td>3</td>\n",
       "    </tr>\n",
       "    <tr>\n",
       "      <th>1</th>\n",
       "      <td>Asian_elephant</td>\n",
       "      <td>2547.000</td>\n",
       "      <td>4603.0</td>\n",
       "      <td>2.1</td>\n",
       "      <td>1.8</td>\n",
       "      <td>3.9</td>\n",
       "      <td>69.0</td>\n",
       "      <td>624.0</td>\n",
       "      <td>3</td>\n",
       "      <td>5</td>\n",
       "      <td>4</td>\n",
       "    </tr>\n",
       "    <tr>\n",
       "      <th>2</th>\n",
       "      <td>Baboon</td>\n",
       "      <td>10.550</td>\n",
       "      <td>179.5</td>\n",
       "      <td>9.1</td>\n",
       "      <td>0.7</td>\n",
       "      <td>9.8</td>\n",
       "      <td>27.0</td>\n",
       "      <td>180.0</td>\n",
       "      <td>4</td>\n",
       "      <td>4</td>\n",
       "      <td>4</td>\n",
       "    </tr>\n",
       "    <tr>\n",
       "      <th>3</th>\n",
       "      <td>Big_brown_bat</td>\n",
       "      <td>0.023</td>\n",
       "      <td>0.3</td>\n",
       "      <td>15.8</td>\n",
       "      <td>3.9</td>\n",
       "      <td>19.7</td>\n",
       "      <td>19.0</td>\n",
       "      <td>35.0</td>\n",
       "      <td>1</td>\n",
       "      <td>1</td>\n",
       "      <td>1</td>\n",
       "    </tr>\n",
       "    <tr>\n",
       "      <th>4</th>\n",
       "      <td>Brazilian_tapir</td>\n",
       "      <td>160.000</td>\n",
       "      <td>169.0</td>\n",
       "      <td>5.2</td>\n",
       "      <td>1.0</td>\n",
       "      <td>6.2</td>\n",
       "      <td>30.4</td>\n",
       "      <td>392.0</td>\n",
       "      <td>4</td>\n",
       "      <td>5</td>\n",
       "      <td>4</td>\n",
       "    </tr>\n",
       "  </tbody>\n",
       "</table>\n",
       "</div>"
      ],
      "text/plain": [
       "                      Animal      Body   Brain  SWsleep  Parasleep  Totsleep  \\\n",
       "0  African_giant_pouched_rat     1.000     6.6      6.3        2.0       8.3   \n",
       "1             Asian_elephant  2547.000  4603.0      2.1        1.8       3.9   \n",
       "2                     Baboon    10.550   179.5      9.1        0.7       9.8   \n",
       "3              Big_brown_bat     0.023     0.3     15.8        3.9      19.7   \n",
       "4            Brazilian_tapir   160.000   169.0      5.2        1.0       6.2   \n",
       "\n",
       "   Life   Gest  Pred  Exposure  Danger  \n",
       "0   4.5   42.0     3         1       3  \n",
       "1  69.0  624.0     3         5       4  \n",
       "2  27.0  180.0     4         4       4  \n",
       "3  19.0   35.0     1         1       1  \n",
       "4  30.4  392.0     4         5       4  "
      ]
     },
     "execution_count": 20,
     "metadata": {},
     "output_type": "execute_result"
    }
   ],
   "source": [
    "# Task 11\n",
    "\n",
    "data_url_2 = 'https://raw.githubusercontent.com/LambdaSchool/data-science-practice-datasets/main/unit_1/Sleep/Sleep.csv'\n",
    "\n",
    "### BEGIN SOLUTION\n",
    "df_sleep = pd.read_csv(data_url_2)\n",
    "### END SOLUTION\n",
    "\n",
    "# Print out your DataFrame\n",
    "df_sleep.head()"
   ]
  },
  {
   "cell_type": "markdown",
   "metadata": {
    "id": "jc8OPiUFoZYX"
   },
   "source": [
    "**Task 11 - Test**"
   ]
  },
  {
   "cell_type": "code",
   "execution_count": 21,
   "metadata": {
    "id": "4XY6D1fmoZYX",
    "nbgrader": {
     "grade": true,
     "grade_id": "cell-728b04417127d100",
     "locked": true,
     "points": 1,
     "schema_version": 3,
     "solution": false,
     "task": false
    }
   },
   "outputs": [],
   "source": [
    "# Task 11 - Test\n",
    "\n",
    "assert isinstance(df_sleep, pd.DataFrame), 'Have you created a DataFrame named `df_sleep`?'\n",
    "assert len(df_sleep) == 42\n",
    "\n",
    "### BEGIN HIDDEN TESTS\n",
    "assert df_sleep.shape == (42, 11), 'Make sure you correctly read in the DataFrame'\n",
    "### END HIDDEN TESTS"
   ]
  },
  {
   "cell_type": "markdown",
   "metadata": {
    "id": "XXgWAA5HJQiL"
   },
   "source": [
    "**Task 12** - Plot to check for linearity\n",
    "\n",
    "Plot the relationship between *gestation time* and time spent in *dreaming sleep*. This plot will not be autograded.\n",
    "\n",
    "* you can use `seaborn` for your plot, with the `regplot()` or `lmplot()`\n",
    "* include the regression line but turn off the confidence interval (`ci=None`)\n",
    "\n",
    "Select the answer that best describes the relationship between gestation time and time spent in dreaming sleep. Specify your answer in the next code block using `Answer = `.  For example, if the correct answer is choice B, you'll type `Answer = 'B'`.\n",
    "\n",
    "A: Gestation time and time spent in dreaming sleep appear to have a linear relationship.  The linear regression line shown in the figure seems to fit the data well.\n",
    "\n",
    "B: Gestation time and time spent in dreaming sleep appear to have a non-linear relationship.  The linear regression line shown in the figure does not seem to fit the data well.\n",
    "\n",
    "C: Gestation time and time spent in dreaming sleep appear to have no relationship.  The linear regression line shown in the figure seems to fit the data well.\n",
    "\n",
    "D: Gestation time and time spent in dreaming sleep appear to have a linear relationship.  The linear regression line shown in the figure does not seem to fit the data well."
   ]
  },
  {
   "cell_type": "code",
   "execution_count": 22,
   "metadata": {
    "colab": {
     "base_uri": "https://localhost:8080/",
     "height": 279
    },
    "id": "wJzQvGZSC7Qd",
    "nbgrader": {
     "grade": false,
     "grade_id": "cell-6b9a56b997acc63d",
     "locked": false,
     "schema_version": 3,
     "solution": true,
     "task": false
    },
    "outputId": "28d860de-a5ec-48a8-fd2e-bbcf677c356c"
   },
   "outputs": [
    {
     "data": {
      "image/png": "[encoded data removed]",
      "text/plain": [
       "<Figure size 432x288 with 1 Axes>"
      ]
     },
     "metadata": {
      "needs_background": "light"
     },
     "output_type": "display_data"
    }
   ],
   "source": [
    "# Task 12\n",
    "\n",
    "### BEGIN SOLUTION\n",
    "import seaborn as sns\n",
    "ax = sns.regplot(x=\"Gest\", y=\"Parasleep\", data=df_sleep, ci=None)\n",
    "Answer = 'B'\n",
    "### END SOLUTION"
   ]
  },
  {
   "cell_type": "markdown",
   "metadata": {
    "id": "dPLdJ9N5vHS0"
   },
   "source": [
    "**Task 12 Test**"
   ]
  },
  {
   "cell_type": "code",
   "execution_count": 23,
   "metadata": {
    "nbgrader": {
     "grade": true,
     "grade_id": "cell-9ac8291f88c21441",
     "locked": true,
     "points": 1,
     "schema_version": 3,
     "solution": false,
     "task": false
    }
   },
   "outputs": [],
   "source": [
    "# Task 12 - Test\n",
    "# Hidden tests - you will see the results when you submit to Canvas\n",
    "### BEGIN HIDDEN TESTS\n",
    "assert Answer == 'B', 'Do the data points appear evenly scattered around the regression line?.'\n",
    "### END HIDDEN TESTS"
   ]
  },
  {
   "cell_type": "markdown",
   "metadata": {
    "id": "rCvDBL8ryeeH"
   },
   "source": [
    "**Task 13** - Transform a variable\n",
    "\n",
    "Let's try something new: taking the log of a variable to transform it. Then we'll look at the relationship between the log of that variable and the other variable (which will remain the same)\n",
    "\n",
    "* Create a new variable with the log of gestational time and add it as a column to `df_sleep` with the name `log_gest` \n",
    "\n",
    "*Hint: use the natural log `np.log()`*"
   ]
  },
  {
   "cell_type": "code",
   "execution_count": 24,
   "metadata": {
    "colab": {
     "base_uri": "https://localhost:8080/",
     "height": 204
    },
    "id": "rjlHxOvrQCex",
    "nbgrader": {
     "grade": false,
     "grade_id": "cell-d811349ababa8892",
     "locked": false,
     "schema_version": 3,
     "solution": true,
     "task": false
    },
    "outputId": "5178dc1b-5465-4225-b118-0721fca682e5"
   },
   "outputs": [
    {
     "data": {
      "text/html": [
       "<div>\n",
       "<style scoped>\n",
       "    .dataframe tbody tr th:only-of-type {\n",
       "        vertical-align: middle;\n",
       "    }\n",
       "\n",
       "    .dataframe tbody tr th {\n",
       "        vertical-align: top;\n",
       "    }\n",
       "\n",
       "    .dataframe thead th {\n",
       "        text-align: right;\n",
       "    }\n",
       "</style>\n",
       "<table border=\"1\" class=\"dataframe\">\n",
       "  <thead>\n",
       "    <tr style=\"text-align: right;\">\n",
       "      <th></th>\n",
       "      <th>Animal</th>\n",
       "      <th>Body</th>\n",
       "      <th>Brain</th>\n",
       "      <th>SWsleep</th>\n",
       "      <th>Parasleep</th>\n",
       "      <th>Totsleep</th>\n",
       "      <th>Life</th>\n",
       "      <th>Gest</th>\n",
       "      <th>Pred</th>\n",
       "      <th>Exposure</th>\n",
       "      <th>Danger</th>\n",
       "      <th>log_gest</th>\n",
       "    </tr>\n",
       "  </thead>\n",
       "  <tbody>\n",
       "    <tr>\n",
       "      <th>0</th>\n",
       "      <td>African_giant_pouched_rat</td>\n",
       "      <td>1.000</td>\n",
       "      <td>6.6</td>\n",
       "      <td>6.3</td>\n",
       "      <td>2.0</td>\n",
       "      <td>8.3</td>\n",
       "      <td>4.5</td>\n",
       "      <td>42.0</td>\n",
       "      <td>3</td>\n",
       "      <td>1</td>\n",
       "      <td>3</td>\n",
       "      <td>3.737670</td>\n",
       "    </tr>\n",
       "    <tr>\n",
       "      <th>1</th>\n",
       "      <td>Asian_elephant</td>\n",
       "      <td>2547.000</td>\n",
       "      <td>4603.0</td>\n",
       "      <td>2.1</td>\n",
       "      <td>1.8</td>\n",
       "      <td>3.9</td>\n",
       "      <td>69.0</td>\n",
       "      <td>624.0</td>\n",
       "      <td>3</td>\n",
       "      <td>5</td>\n",
       "      <td>4</td>\n",
       "      <td>6.436150</td>\n",
       "    </tr>\n",
       "    <tr>\n",
       "      <th>2</th>\n",
       "      <td>Baboon</td>\n",
       "      <td>10.550</td>\n",
       "      <td>179.5</td>\n",
       "      <td>9.1</td>\n",
       "      <td>0.7</td>\n",
       "      <td>9.8</td>\n",
       "      <td>27.0</td>\n",
       "      <td>180.0</td>\n",
       "      <td>4</td>\n",
       "      <td>4</td>\n",
       "      <td>4</td>\n",
       "      <td>5.192957</td>\n",
       "    </tr>\n",
       "    <tr>\n",
       "      <th>3</th>\n",
       "      <td>Big_brown_bat</td>\n",
       "      <td>0.023</td>\n",
       "      <td>0.3</td>\n",
       "      <td>15.8</td>\n",
       "      <td>3.9</td>\n",
       "      <td>19.7</td>\n",
       "      <td>19.0</td>\n",
       "      <td>35.0</td>\n",
       "      <td>1</td>\n",
       "      <td>1</td>\n",
       "      <td>1</td>\n",
       "      <td>3.555348</td>\n",
       "    </tr>\n",
       "    <tr>\n",
       "      <th>4</th>\n",
       "      <td>Brazilian_tapir</td>\n",
       "      <td>160.000</td>\n",
       "      <td>169.0</td>\n",
       "      <td>5.2</td>\n",
       "      <td>1.0</td>\n",
       "      <td>6.2</td>\n",
       "      <td>30.4</td>\n",
       "      <td>392.0</td>\n",
       "      <td>4</td>\n",
       "      <td>5</td>\n",
       "      <td>4</td>\n",
       "      <td>5.971262</td>\n",
       "    </tr>\n",
       "  </tbody>\n",
       "</table>\n",
       "</div>"
      ],
      "text/plain": [
       "                      Animal      Body   Brain  SWsleep  Parasleep  Totsleep  \\\n",
       "0  African_giant_pouched_rat     1.000     6.6      6.3        2.0       8.3   \n",
       "1             Asian_elephant  2547.000  4603.0      2.1        1.8       3.9   \n",
       "2                     Baboon    10.550   179.5      9.1        0.7       9.8   \n",
       "3              Big_brown_bat     0.023     0.3     15.8        3.9      19.7   \n",
       "4            Brazilian_tapir   160.000   169.0      5.2        1.0       6.2   \n",
       "\n",
       "   Life   Gest  Pred  Exposure  Danger  log_gest  \n",
       "0   4.5   42.0     3         1       3  3.737670  \n",
       "1  69.0  624.0     3         5       4  6.436150  \n",
       "2  27.0  180.0     4         4       4  5.192957  \n",
       "3  19.0   35.0     1         1       1  3.555348  \n",
       "4  30.4  392.0     4         5       4  5.971262  "
      ]
     },
     "execution_count": 24,
     "metadata": {},
     "output_type": "execute_result"
    }
   ],
   "source": [
    "# Task 13\n",
    "\n",
    "### BEGIN SOLUTION\n",
    "df_sleep['log_gest'] = np.log(df_sleep['Gest'])\n",
    "### END SOLUTION\n",
    "\n",
    "# Look at your new column\n",
    "df_sleep.head()"
   ]
  },
  {
   "cell_type": "markdown",
   "metadata": {
    "id": "GcoQ8sI1oZYY"
   },
   "source": [
    "**Task 13 - Test**"
   ]
  },
  {
   "cell_type": "code",
   "execution_count": 25,
   "metadata": {
    "id": "xfAziDVQoZYY",
    "nbgrader": {
     "grade": true,
     "grade_id": "cell-94ac629ec8bbe280",
     "locked": true,
     "points": 1,
     "schema_version": 3,
     "solution": false,
     "task": false
    }
   },
   "outputs": [],
   "source": [
    "# Task 13 - Test\n",
    "\n",
    "# Hidden tests - you will see the results when you submit to Canvas\n",
    "### BEGIN HIDDEN TESTS\n",
    "assert df_sleep.shape == (42, 12), 'Make sure you added a column (just one).'\n",
    "assert 'log_gest' in df_sleep.columns, 'Did you add a correctly-named column with the log of Gest?'\n",
    "assert round(df_sleep.loc[0, 'log_gest'], 1) == 3.7, 'Did you correctly calculate the log of Gest?'\n",
    "### END HIDDEN TESTS"
   ]
  },
  {
   "cell_type": "markdown",
   "metadata": {
    "id": "TEMavWb0xBqz"
   },
   "source": [
    "**Task 14** - Plot a new relationship\n",
    "\n",
    "Plot the relationship between *log of gestation time* and time spent in *dreaming sleep*. This plot will not be autograded.\n",
    "\n",
    "* you can use `seaborn` for your plot, with the `regplot()` or `lmplot()`\n",
    "* include the regression line but turn off the confidence interval (`ci=None`)\n",
    "\n",
    "Select the answer that best describes the relationship between the log of gestation time and time spent in dreaming sleep. Specify your answer in the next code block using `Answer = `.  For example, if the correct answer is choice B, you'll type `Answer = 'B'`.\n",
    "\n",
    "A: The log of gestation time and time spent in dreaming sleep appear to have a linear relationship.  The linear regression line shown in the figure seems to fit the data well.\n",
    "\n",
    "B: The log of gestation time and time spent in dreaming sleep appear to have a non-linear relationship.  The linear regression line shown in the figure does not seem to fit the data well.\n",
    "\n",
    "C: The log of gestation time and time spent in dreaming sleep appear to have no relationship.  The linear regression line shown in the figure seems to fit the data well.\n",
    "\n",
    "D: The log of gestation time and time spent in dreaming sleep appear to have a linear relationship.  The linear regression line shown in the figure does not seem to fit the data well."
   ]
  },
  {
   "cell_type": "code",
   "execution_count": 26,
   "metadata": {
    "nbgrader": {
     "grade": false,
     "grade_id": "cell-6607d864b2e34089",
     "locked": false,
     "schema_version": 3,
     "solution": true,
     "task": false
    }
   },
   "outputs": [
    {
     "data": {
      "image/png": "[encoded data removed]",
      "text/plain": [
       "<Figure size 432x288 with 1 Axes>"
      ]
     },
     "metadata": {
      "needs_background": "light"
     },
     "output_type": "display_data"
    }
   ],
   "source": [
    "# Task 14\n",
    "\n",
    "### BEGIN SOLUTION\n",
    "import seaborn as sns\n",
    "ax = sns.regplot(x=\"log_gest\", y=\"Parasleep\", data=df_sleep, ci=None)\n",
    "Answer = 'A'\n",
    "### END SOLUTION"
   ]
  },
  {
   "cell_type": "markdown",
   "metadata": {
    "id": "WQQxN3WfxBrB"
   },
   "source": [
    "**Task 14 Test**"
   ]
  },
  {
   "cell_type": "code",
   "execution_count": 27,
   "metadata": {
    "nbgrader": {
     "grade": true,
     "grade_id": "cell-4d42d4ebe8c5c6d1",
     "locked": true,
     "points": 1,
     "schema_version": 3,
     "solution": false,
     "task": false
    }
   },
   "outputs": [],
   "source": [
    "# Task 14 - Test\n",
    "# Hidden tests - you will see the results when you submit to Canvas\n",
    "### BEGIN HIDDEN TESTS\n",
    "assert Answer == 'A', 'Do the data points appear evenly scattered around the regression line?.'\n",
    "### END HIDDEN TESTS"
   ]
  },
  {
   "cell_type": "markdown",
   "metadata": {
    "id": "XNGUTN6KyzMJ"
   },
   "source": [
    "**Task 15** - Model the sleep data\n",
    "\n",
    "Next, create a model of the relationship between the log of gestation time and dreaming sleep using the `statsmodels.formula.api`. Remember that the `statsmodels` import was made earlier.\n",
    "\n",
    "* Fit a OLS model and assign it to the variable `model_sleep` (remember to enter the model in the format Y ~ X).\n",
    "* Print out your model summary.\n",
    "* Answer the questions below to interpret your results."
   ]
  },
  {
   "cell_type": "code",
   "execution_count": 28,
   "metadata": {
    "colab": {
     "base_uri": "https://localhost:8080/"
    },
    "id": "NcLmKYKIzBHA",
    "nbgrader": {
     "grade": false,
     "grade_id": "cell-a08ff1b8439746f9",
     "locked": false,
     "schema_version": 3,
     "solution": true,
     "task": false
    },
    "outputId": "be875ca0-eeca-40b2-beb0-31417a3594e2"
   },
   "outputs": [
    {
     "name": "stdout",
     "output_type": "stream",
     "text": [
      "                            OLS Regression Results                            \n",
      "==============================================================================\n",
      "Dep. Variable:              Parasleep   R-squared:                       0.328\n",
      "Model:                            OLS   Adj. R-squared:                  0.311\n",
      "Method:                 Least Squares   F-statistic:                     19.49\n",
      "Date:                Tue, 12 Oct 2021   Prob (F-statistic):           7.48e-05\n",
      "Time:                        17:40:26   Log-Likelihood:                -64.550\n",
      "No. Observations:                  42   AIC:                             133.1\n",
      "Df Residuals:                      40   BIC:                             136.6\n",
      "Df Model:                           1                                         \n",
      "Covariance Type:            nonrobust                                         \n",
      "==============================================================================\n",
      "                 coef    std err          t      P>|t|      [0.025      0.975]\n",
      "------------------------------------------------------------------------------\n",
      "Intercept      5.1762      0.763      6.782      0.000       3.634       6.719\n",
      "log_gest      -0.7489      0.170     -4.414      0.000      -1.092      -0.406\n",
      "==============================================================================\n",
      "Omnibus:                        4.905   Durbin-Watson:                   1.977\n",
      "Prob(Omnibus):                  0.086   Jarque-Bera (JB):                3.709\n",
      "Skew:                           0.531   Prob(JB):                        0.156\n",
      "Kurtosis:                       3.995   Cond. No.                         20.2\n",
      "==============================================================================\n",
      "\n",
      "Notes:\n",
      "[1] Standard Errors assume that the covariance matrix of the errors is correctly specified.\n"
     ]
    }
   ],
   "source": [
    "# Task 15\n",
    "\n",
    "### BEGIN SOLUTION\n",
    "model_sleep = ols('Parasleep ~ log_gest', data=df_sleep).fit()\n",
    "### END SOLUTION\n",
    "\n",
    "# Print the model summary\n",
    "print(model_sleep.summary())"
   ]
  },
  {
   "cell_type": "markdown",
   "metadata": {
    "id": "14CFGJvcoZYZ"
   },
   "source": [
    "**Task 15 Test**"
   ]
  },
  {
   "cell_type": "code",
   "execution_count": 29,
   "metadata": {
    "id": "C2ZAy4AqoZYd",
    "nbgrader": {
     "grade": true,
     "grade_id": "cell-dbf3e67eb3732036",
     "locked": true,
     "points": 1,
     "schema_version": 3,
     "solution": false,
     "task": false
    }
   },
   "outputs": [],
   "source": [
    "# Task 15 - Test\n",
    "\n",
    "# Hidden tests - you will see the results when you submit to Canvas\n",
    "### BEGIN HIDDEN TESTS\n",
    "import statsmodels.regression.linear_model as sm_reg_lm\n",
    "assert isinstance(model_sleep, sm_reg_lm.RegressionResultsWrapper), 'Did you create the correct type of model?'\n",
    "assert round(model_sleep.params[1], 2) == -0.75, 'Was your input data in the correct order?'\n",
    "assert round(model_sleep.params[0]) == 5, 'Was your input data in the correct order?'\n",
    "### END HIDDEN TESTS"
   ]
  },
  {
   "cell_type": "markdown",
   "metadata": {
    "id": "ILG89x64zLq2"
   },
   "source": [
    "**Task 16** - Statistical significance of sleep data (short answer)\n",
    "\n",
    "Is the *log of gestational time* statistically significantly associated with time spent in *dreaming sleep* at the alpha = 0.05 level?\n",
    "\n",
    "ANSWER:"
   ]
  },
  {
   "cell_type": "markdown",
   "metadata": {
    "id": "zxYnHyZSzil_"
   },
   "source": [
    "**Task 17** - Predicting dreaming sleep from gestation time\n",
    "\n",
    "The final task! Using the model we just created, predict the amount of dreaming sleep for a mammal that gestates her young for 262 days (this is the gestation time).\n",
    "\n",
    "* Assign the gestation time to the variable `x_predict`. This variable will be an integer.\n",
    "* Take the log of `x_predict` and assign it to the variable `ln_x_predict`. THis variable will be a float.\n",
    "* Use the `slope` and `intercept` variables from your `model_sleep` to complete the calculation. \n",
    "* Your result should be a float and assigned to the variable `sleep_predict`."
   ]
  },
  {
   "cell_type": "code",
   "execution_count": 34,
   "metadata": {
    "colab": {
     "base_uri": "https://localhost:8080/"
    },
    "id": "xM63vMkEXxcc",
    "nbgrader": {
     "grade": false,
     "grade_id": "cell-b516863ad6936f72",
     "locked": false,
     "schema_version": 3,
     "solution": true,
     "task": false
    },
    "outputId": "2171cb58-139a-4aba-8f1b-91cfe1a22103"
   },
   "outputs": [
    {
     "name": "stdout",
     "output_type": "stream",
     "text": [
      "ln 262 =  5.568344503761097\n",
      "Predicted dreaming sleep =  1.005883623917585\n"
     ]
    }
   ],
   "source": [
    "# Task 17\n",
    "\n",
    "### BEGIN SOLUTION\n",
    "# Assign the value we'd like to predict\n",
    "x_predict = 262\n",
    "\n",
    "# Take the natural log of x\n",
    "ln_x_predict = np.log(x_predict)\n",
    "\n",
    "# Extract the slope and intercept values from the model paramters\n",
    "intercept_sleep = model_sleep.params[0]\n",
    "slope_sleep = model_sleep.params[1]\n",
    "\n",
    "# Use the model coefficients & plug the new value of x into the equation\n",
    "sleep_predict = intercept_sleep + slope_sleep*ln_x_predict\n",
    "### END SOLUTION\n",
    "\n",
    "# Print out the log of x and the predicted sleep value\n",
    "print('ln 262 = ', ln_x_predict)\n",
    "print('Predicted dreaming sleep = ', sleep_predict)"
   ]
  },
  {
   "cell_type": "markdown",
   "metadata": {
    "id": "od_1MxySoZYe"
   },
   "source": [
    "**Task 17 Test**"
   ]
  },
  {
   "cell_type": "code",
   "execution_count": 31,
   "metadata": {
    "id": "P8J3ndgIoZYe",
    "nbgrader": {
     "grade": true,
     "grade_id": "cell-772974b44d216ef9",
     "locked": true,
     "points": 1,
     "schema_version": 3,
     "solution": false,
     "task": false
    }
   },
   "outputs": [],
   "source": [
    "# Task 16\n",
    "\n",
    "assert ln_x_predict == np.log(x_predict), 'Did you use the correct log calculation?'\n",
    "\n",
    "### BEGIN HIDDEN TESTS\n",
    "assert round(sleep_predict) == 1, 'Did you use the model parameters correctly in your calculation?'\n",
    "### END HIDDEN TESTS\n"
   ]
  }
 ],
 "metadata": {
  "celltoolbar": "Create Assignment",
  "colab": {
   "collapsed_sections": [],
   "name": "LS_DS_132_Inference_For_Regression_Assignment_AG.ipynb",
   "provenance": []
  },
  "kernelspec": {
   "display_name": "Python 3",
   "language": "python",
   "name": "python3"
  },
  "language_info": {
   "codemirror_mode": {
    "name": "ipython",
    "version": 3
   },
   "file_extension": ".py",
   "mimetype": "text/x-python",
   "name": "python",
   "nbconvert_exporter": "python",
   "pygments_lexer": "ipython3",
   "version": "3.9.13 (tags/v3.9.13:6de2ca5, May 17 2022, 16:36:42) [MSC v.1929 64 bit (AMD64)]"
  },
  "vscode": {
   "interpreter": {
    "hash": "fc3c3259032c2cf0355906b7329b5dd59e31db43a2009ba0d36842e2f30b7c88"
   }
  }
 },
 "nbformat": 4,
 "nbformat_minor": 1
}
