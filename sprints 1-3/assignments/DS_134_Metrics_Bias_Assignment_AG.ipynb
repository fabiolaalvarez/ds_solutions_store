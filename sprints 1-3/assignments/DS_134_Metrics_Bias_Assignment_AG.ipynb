{
 "cells": [
  {
   "cell_type": "markdown",
   "id": "e276bb37",
   "metadata": {
    "nbgrader": {
     "grade": false,
     "grade_id": "cell-1a771173b3b47706",
     "locked": true,
     "schema_version": 3,
     "solution": false,
     "task": false
    }
   },
   "source": [
    "# Data Science  - Unit 1 Sprint 3 Module 4\n",
    "\n",
    "## Module Project: Metrics, Bias and Variance\n",
    "\n",
    "### Learning Objectives\n",
    "\n",
    "* Interpret your model results using OLS and Sklearn metrics\n",
    "* Define and analyze bias in your model\n",
    "* Define and analyze variance in your model"
   ]
  },
  {
   "cell_type": "markdown",
   "id": "ea501c70",
   "metadata": {
    "nbgrader": {
     "grade": false,
     "grade_id": "cell-66d859feacd21304",
     "locked": true,
     "schema_version": 3,
     "solution": false,
     "task": false
    }
   },
   "source": [
    "## Analyzing results from diamonds\n",
    "\n",
    "Use the seaborn dataset `diamonds` to run a linear regression model and produce the common metrics you would use to evaluate your model's accuracy. "
   ]
  },
  {
   "cell_type": "markdown",
   "id": "661bd6be",
   "metadata": {
    "nbgrader": {
     "grade": false,
     "grade_id": "cell-ef0ac03663d1ddde",
     "locked": true,
     "schema_version": 3,
     "solution": false,
     "task": false
    }
   },
   "source": [
    "**Task 1** - Load the data\n",
    "Load the `diamonds` dataset from the `seaborn` package. \n",
    "\n",
    "- Assign the value to an object called `dia`\n",
    "- Make sure to import the packages you expect to use for an `ols` linear regression model. "
   ]
  },
  {
   "cell_type": "code",
   "execution_count": 2,
   "id": "912fdf28",
   "metadata": {
    "nbgrader": {
     "grade": false,
     "grade_id": "cell-9cb6a33a84a55252",
     "locked": false,
     "schema_version": 3,
     "solution": true,
     "task": false
    }
   },
   "outputs": [],
   "source": [
    "#Task 1\n",
    "\n",
    "#imports\n",
    "import pandas as pd\n",
    "import numpy as np\n",
    "import matplotlib.pyplot as plt\n",
    "import seaborn as sns\n",
    "from sklearn import metrics\n",
    "from statsmodels.formula.api import ols\n",
    "\n",
    "\n",
    "### BEGIN SOLUTION\n",
    "dia = sns.load_dataset('diamonds')\n",
    "### END SOLUTION"
   ]
  },
  {
   "cell_type": "code",
   "execution_count": 3,
   "id": "56ee6971",
   "metadata": {
    "nbgrader": {
     "grade": true,
     "grade_id": "cell-44689b2d030034e2",
     "locked": true,
     "points": 1,
     "schema_version": 3,
     "solution": false,
     "task": false
    }
   },
   "outputs": [],
   "source": [
    "# Task 1 - Tests\n",
    "\n",
    "assert isinstance(dia, pd.DataFrame)\n",
    "\n",
    "### BEGIN HIDDEN TESTS\n",
    "assert dia.columns[0] == 'carat', \"Did you load the correct dataframe?\"\n",
    "### END HIDDEN TESTS"
   ]
  },
  {
   "cell_type": "markdown",
   "id": "2d8ed5a4",
   "metadata": {
    "nbgrader": {
     "grade": false,
     "grade_id": "cell-5353ad6fc8d263f1",
     "locked": true,
     "schema_version": 3,
     "solution": false,
     "task": false
    }
   },
   "source": [
    "**Task 2** - Conduct EDA on your dataset\n",
    "- Check for null values. Assign the total number of null values in your dataset to `num_null`"
   ]
  },
  {
   "cell_type": "code",
   "execution_count": 4,
   "id": "23e55927",
   "metadata": {
    "nbgrader": {
     "grade": false,
     "grade_id": "cell-6f304c0a6507dec5",
     "locked": false,
     "schema_version": 3,
     "solution": true,
     "task": false
    }
   },
   "outputs": [],
   "source": [
    "#Task 2\n",
    "###BEGIN SOLUTION\n",
    "num_null = dia.isnull().sum().sum()\n",
    "###END SOLUTION\n"
   ]
  },
  {
   "cell_type": "code",
   "execution_count": 5,
   "id": "44fdfb0b",
   "metadata": {
    "nbgrader": {
     "grade": true,
     "grade_id": "cell-fdc8bbdfe5827fa7",
     "locked": true,
     "points": 1,
     "schema_version": 3,
     "solution": false,
     "task": false
    }
   },
   "outputs": [],
   "source": [
    "# Task 2 - Tests\n",
    "\n",
    "### BEGIN HIDDEN TESTS\n",
    "assert num_null == 0\n",
    "### END HIDDEN TESTS"
   ]
  },
  {
   "cell_type": "markdown",
   "id": "1fa02297",
   "metadata": {
    "nbgrader": {
     "grade": false,
     "grade_id": "cell-4d6bb850ff25f9f2",
     "locked": true,
     "schema_version": 3,
     "solution": false,
     "task": false
    }
   },
   "source": [
    "**Task 3** - Visualize your feature distributions\n",
    "\n",
    "- Use seaborn's `pairplot`to visualize the distributions for all your dataset's features.\n",
    "- You can access the documentation [here](https://seaborn.pydata.org/generated/seaborn.pairplot.html)\n",
    "- This next task will not be autograded. "
   ]
  },
  {
   "cell_type": "markdown",
   "id": "6cf3578e",
   "metadata": {
    "nbgrader": {
     "grade": false,
     "grade_id": "cell-f0d05d577cf6c3b2",
     "locked": true,
     "schema_version": 3,
     "solution": false,
     "task": false
    }
   },
   "source": [
    "**Task 4**\n",
    "\n",
    "How would you describe the distribution for the `price` feature?\n",
    "\n",
    "A: Uniform\n",
    "\n",
    "B: Right skewed\n",
    "\n",
    "C: Left skewed\n",
    "\n",
    "D: Normally distributed\n",
    "\n",
    "Specify your answer in the next code block using Answer =. For example, if the correct answer is choice B, you'll type Answer = 'B'."
   ]
  },
  {
   "cell_type": "code",
   "execution_count": 6,
   "id": "3fc2e507",
   "metadata": {
    "nbgrader": {
     "grade": false,
     "grade_id": "cell-c7981aeaad693e10",
     "locked": false,
     "schema_version": 3,
     "solution": true,
     "task": false
    }
   },
   "outputs": [],
   "source": [
    "#Task 4\n",
    "\n",
    "### BEGIN SOLUTION\n",
    "Answer =  \"B\"\n",
    "### END SOLUTION"
   ]
  },
  {
   "cell_type": "code",
   "execution_count": 7,
   "id": "db97c3ce",
   "metadata": {
    "nbgrader": {
     "grade": true,
     "grade_id": "cell-4950fa558630a5ff",
     "locked": true,
     "points": 1,
     "schema_version": 3,
     "solution": false,
     "task": false
    }
   },
   "outputs": [],
   "source": [
    "#Task 4 - Test\n",
    "\n",
    "### BEGIN HIDDEN TESTS\n",
    "assert Answer == \"B\", \"Check your histogram.\"\n",
    "### END HIDDEN TESTS"
   ]
  },
  {
   "cell_type": "markdown",
   "id": "20798ce2",
   "metadata": {
    "nbgrader": {
     "grade": false,
     "grade_id": "cell-5948eb0a7d4d5c4c",
     "locked": true,
     "schema_version": 3,
     "solution": false,
     "task": false
    }
   },
   "source": [
    "**Task 5** Check for multicollinearity\n",
    "\n",
    "- Determine the `pearson` correlations for the `x`, `y`, and `z` columns to `carat`. \n",
    "- Assign the value of the correlations to `x_corr`, `y_corr` and `z_corr` respectively. "
   ]
  },
  {
   "cell_type": "code",
   "execution_count": 8,
   "id": "0c882771",
   "metadata": {
    "nbgrader": {
     "grade": false,
     "grade_id": "cell-3bb28a36542eabdb",
     "locked": false,
     "schema_version": 3,
     "solution": true,
     "task": false
    }
   },
   "outputs": [
    {
     "name": "stdout",
     "output_type": "stream",
     "text": [
      "0.9750942267264254 0.9517221990129883 0.9533873805614275\n"
     ]
    }
   ],
   "source": [
    "#Task 5\n",
    "\n",
    "### BEGIN SOLUTION\n",
    "x_corr, y_corr, z_corr = dia.corr().loc['carat', ['x', 'y', 'z']]\n",
    "### END SOLUTION\n",
    "\n",
    "\n",
    "print(x_corr, y_corr, z_corr)"
   ]
  },
  {
   "cell_type": "code",
   "execution_count": 9,
   "id": "fca2d006",
   "metadata": {
    "nbgrader": {
     "grade": true,
     "grade_id": "cell-a61182842c3afbc9",
     "locked": true,
     "points": 1,
     "schema_version": 3,
     "solution": false,
     "task": false
    }
   },
   "outputs": [],
   "source": [
    "#Task 5 - Test\n",
    "\n",
    "\n",
    "### BEGIN HIDDEN TESTS\n",
    "assert round(x_corr, 1) == 1\n",
    "assert round(y_corr, 3) == 0.952\n",
    "assert round(z_corr, 3) == 0.953\n",
    "### END HIDDEN TESTS"
   ]
  },
  {
   "cell_type": "markdown",
   "id": "ce99c0e1",
   "metadata": {
    "nbgrader": {
     "grade": false,
     "grade_id": "cell-1cc2dfc0b89eaa6e",
     "locked": true,
     "schema_version": 3,
     "solution": false,
     "task": false
    }
   },
   "source": [
    "**Task 6** \n",
    "\n",
    "\n",
    "Because these three columns share a great deal of correlation with the `carat` feature, it does not make sense to use them as part of our model. Drop the three columns and reassign to the `dia` dataframe. "
   ]
  },
  {
   "cell_type": "code",
   "execution_count": 10,
   "id": "1ba085ba",
   "metadata": {
    "nbgrader": {
     "grade": false,
     "grade_id": "cell-9bb880654a9bbb51",
     "locked": false,
     "schema_version": 3,
     "solution": true,
     "task": false
    }
   },
   "outputs": [],
   "source": [
    "#Task 6\n",
    "\n",
    "### BEGIN SOLUTION\n",
    "dia = dia.drop(columns= ['x', 'y','z'])\n",
    "### END SOLUTION"
   ]
  },
  {
   "cell_type": "code",
   "execution_count": 11,
   "id": "8e5d1c0c",
   "metadata": {
    "nbgrader": {
     "grade": true,
     "grade_id": "cell-b82cf6a65063e5db",
     "locked": true,
     "points": 1,
     "schema_version": 3,
     "solution": false,
     "task": false
    }
   },
   "outputs": [],
   "source": [
    "#Task 6 - Test\n",
    "\n",
    "\n",
    "### BEGIN HIDDEN TESTS\n",
    "assert dia.shape[1] == 7\n",
    "### END HIDDEN TESTS"
   ]
  },
  {
   "cell_type": "markdown",
   "id": "58479fa7",
   "metadata": {
    "nbgrader": {
     "grade": false,
     "grade_id": "cell-b4fede92d948542e",
     "locked": true,
     "schema_version": 3,
     "solution": false,
     "task": false
    }
   },
   "source": [
    "**Task 7** - OLS Modeling\n",
    "\n",
    "- Use `carat` as your independent feature. \n",
    "- Use the `price` values as your dependent features. \n",
    "- Build an OLS model and review the summary report. Make sure to assign a variable called `model`"
   ]
  },
  {
   "cell_type": "code",
   "execution_count": 12,
   "id": "7c29524b",
   "metadata": {
    "nbgrader": {
     "grade": false,
     "grade_id": "cell-7cdc6fb8a68ea0a6",
     "locked": false,
     "schema_version": 3,
     "solution": true,
     "task": false
    },
    "scrolled": true
   },
   "outputs": [
    {
     "name": "stdout",
     "output_type": "stream",
     "text": [
      "                            OLS Regression Results                            \n",
      "==============================================================================\n",
      "Dep. Variable:                  price   R-squared:                       0.849\n",
      "Model:                            OLS   Adj. R-squared:                  0.849\n",
      "Method:                 Least Squares   F-statistic:                 3.041e+05\n",
      "Date:                Fri, 28 Jan 2022   Prob (F-statistic):               0.00\n",
      "Time:                        13:02:06   Log-Likelihood:            -4.7273e+05\n",
      "No. Observations:               53940   AIC:                         9.455e+05\n",
      "Df Residuals:                   53938   BIC:                         9.455e+05\n",
      "Df Model:                           1                                         \n",
      "Covariance Type:            nonrobust                                         \n",
      "==============================================================================\n",
      "                 coef    std err          t      P>|t|      [0.025      0.975]\n",
      "------------------------------------------------------------------------------\n",
      "Intercept  -2256.3606     13.055   -172.830      0.000   -2281.949   -2230.772\n",
      "carat       7756.4256     14.067    551.408      0.000    7728.855    7783.996\n",
      "==============================================================================\n",
      "Omnibus:                    14025.341   Durbin-Watson:                   0.986\n",
      "Prob(Omnibus):                  0.000   Jarque-Bera (JB):           153030.525\n",
      "Skew:                           0.939   Prob(JB):                         0.00\n",
      "Kurtosis:                      11.035   Cond. No.                         3.65\n",
      "==============================================================================\n",
      "\n",
      "Notes:\n",
      "[1] Standard Errors assume that the covariance matrix of the errors is correctly specified.\n"
     ]
    }
   ],
   "source": [
    "#Task 7\n",
    "\n",
    "### BEGIN SOLUTION\n",
    "model = ols('price ~ carat', data=dia).fit()\n",
    "### END SOLUTION\n",
    "\n",
    "print(model.summary())"
   ]
  },
  {
   "cell_type": "code",
   "execution_count": 13,
   "id": "02f88dfd",
   "metadata": {
    "nbgrader": {
     "grade": true,
     "grade_id": "cell-a286cb026ed74717",
     "locked": true,
     "points": 1,
     "schema_version": 3,
     "solution": false,
     "task": false
    }
   },
   "outputs": [],
   "source": [
    "#Task 7 - Test\n",
    "\n",
    "\n",
    "### BEGIN HIDDEN TESTS\n",
    "assert 'Intercept', 'carat' in model.params.index \n",
    "### END HIDDEN TESTS\n"
   ]
  },
  {
   "cell_type": "markdown",
   "id": "6a5e6a1b",
   "metadata": {
    "nbgrader": {
     "grade": false,
     "grade_id": "cell-acebe66c0d4434b9",
     "locked": true,
     "schema_version": 3,
     "solution": false,
     "task": false
    }
   },
   "source": [
    "**Task 8** - Predictions and Residuals \n",
    "\n",
    "- Create a new column that includes your model predictions for your features. Name the column `y_pred`\n",
    "- Calculate the prediction residuals. Assign the values to a column named `residuals`."
   ]
  },
  {
   "cell_type": "code",
   "execution_count": 14,
   "id": "5265ec28",
   "metadata": {
    "nbgrader": {
     "grade": false,
     "grade_id": "cell-194a68304bff654f",
     "locked": false,
     "schema_version": 3,
     "solution": true,
     "task": false
    }
   },
   "outputs": [],
   "source": [
    "#Task 8\n",
    "\n",
    "### BEGIN SOLUTION\n",
    "dia['y_pred'] = model.predict()\n",
    "dia['residuals'] = dia['price'] - dia['y_pred']\n",
    "### END SOLUTION"
   ]
  },
  {
   "cell_type": "code",
   "execution_count": 15,
   "id": "de702d4d",
   "metadata": {
    "nbgrader": {
     "grade": true,
     "grade_id": "cell-32971dccea2783bd",
     "locked": true,
     "points": 1,
     "schema_version": 3,
     "solution": false,
     "task": false
    }
   },
   "outputs": [],
   "source": [
    "#Task 8 - Test\n",
    "\n",
    "assert dia.shape == (53940, 9), \"Have you created the two columns?\"\n",
    "\n",
    "### BEGIN HIDDEN TESTS\n",
    "assert round(dia['residuals'][0], 2) == 798.38, \"Ensure you've properly calculated your residual values.\"\n",
    "### END HIDDEN TESTS"
   ]
  },
  {
   "cell_type": "markdown",
   "id": "98190e03",
   "metadata": {
    "nbgrader": {
     "grade": false,
     "grade_id": "cell-de9d67d9745568e6",
     "locked": true,
     "schema_version": 3,
     "solution": false,
     "task": false
    }
   },
   "source": [
    "**Task 9** - Metrics\n",
    "\n",
    "- Determine the values for the **mean absolute error, the mean squared error** and the **root mean squared error** for your previous model. \n",
    "- Assign the values as `mae`, `mse`, and `rmse` respectively. \n",
    "- *Hint*: We discussed a few methods for this in class. You can refer to this [documentation](https://scikit-learn.org/stable/modules/model_evaluation.html) for other metric values."
   ]
  },
  {
   "cell_type": "code",
   "execution_count": 16,
   "id": "93742607",
   "metadata": {
    "nbgrader": {
     "grade": false,
     "grade_id": "cell-8521cfc520c32f52",
     "locked": false,
     "schema_version": 3,
     "solution": true,
     "task": false
    }
   },
   "outputs": [
    {
     "name": "stdout",
     "output_type": "stream",
     "text": [
      "1007.4632473569903 2397955.05001268 1548.5331930613177\n"
     ]
    }
   ],
   "source": [
    "#Task 9\n",
    "\n",
    "### BEGIN SOLUTION\n",
    "mae = metrics.mean_absolute_error(dia['price'], dia['y_pred'])\n",
    "mse = metrics.mean_squared_error(dia['price'], dia['y_pred'])\n",
    "rmse = np.sqrt(metrics.mean_squared_error(dia['price'], dia['y_pred']))\n",
    "### END SOLUTION\n",
    "\n",
    "print(mae, mse, rmse)"
   ]
  },
  {
   "cell_type": "code",
   "execution_count": 16,
   "id": "73527065",
   "metadata": {
    "nbgrader": {
     "grade": true,
     "grade_id": "cell-320164f97411992e",
     "locked": true,
     "points": 1,
     "schema_version": 3,
     "solution": false,
     "task": false
    }
   },
   "outputs": [],
   "source": [
    "#Task 9 - Test\n",
    "\n",
    "###BEGIN HIDDEN TESTS\n",
    "assert round(rmse, 2) == 1548.53\n",
    "###END HIDDEN TESTS "
   ]
  },
  {
   "cell_type": "markdown",
   "id": "7bd3cff8",
   "metadata": {
    "nbgrader": {
     "grade": false,
     "grade_id": "cell-81f843066ad33ee1",
     "locked": true,
     "schema_version": 3,
     "solution": false,
     "task": false
    }
   },
   "source": [
    "**Task 10** - OLS Modeling, Addtional Features\n",
    "\n",
    "- Use the `depth`, `table`, and `carat` as your independent features. \n",
    "- Use the `price` values as your dependent features. \n",
    "- Build an OLS model and review the summary report. Make sure to assign a variable called `model`.  "
   ]
  },
  {
   "cell_type": "code",
   "execution_count": 17,
   "id": "01d15611",
   "metadata": {
    "nbgrader": {
     "grade": false,
     "grade_id": "cell-ae75326bc99156f2",
     "locked": false,
     "schema_version": 3,
     "solution": true,
     "task": false
    }
   },
   "outputs": [
    {
     "name": "stdout",
     "output_type": "stream",
     "text": [
      "                            OLS Regression Results                            \n",
      "==============================================================================\n",
      "Dep. Variable:                  price   R-squared:                       0.854\n",
      "Model:                            OLS   Adj. R-squared:                  0.854\n",
      "Method:                 Least Squares   F-statistic:                 1.049e+05\n",
      "Date:                Thu, 27 Jan 2022   Prob (F-statistic):               0.00\n",
      "Time:                        15:51:51   Log-Likelihood:            -4.7194e+05\n",
      "No. Observations:               53940   AIC:                         9.439e+05\n",
      "Df Residuals:                   53936   BIC:                         9.439e+05\n",
      "Df Model:                           3                                         \n",
      "Covariance Type:            nonrobust                                         \n",
      "==============================================================================\n",
      "                 coef    std err          t      P>|t|      [0.025      0.975]\n",
      "------------------------------------------------------------------------------\n",
      "Intercept     1.3e+04    390.918     33.264      0.000    1.22e+04    1.38e+04\n",
      "carat       7858.7705     14.151    555.356      0.000    7831.035    7886.506\n",
      "table       -104.4728      3.141    -33.259      0.000    -110.630     -98.316\n",
      "depth       -151.2363      4.820    -31.378      0.000    -160.683    -141.789\n",
      "==============================================================================\n",
      "Omnibus:                    14107.737   Durbin-Watson:                   1.015\n",
      "Prob(Omnibus):                  0.000   Jarque-Bera (JB):           154392.067\n",
      "Skew:                           0.945   Prob(JB):                         0.00\n",
      "Kurtosis:                      11.070   Cond. No.                     5.02e+03\n",
      "==============================================================================\n",
      "\n",
      "Notes:\n",
      "[1] Standard Errors assume that the covariance matrix of the errors is correctly specified.\n",
      "[2] The condition number is large, 5.02e+03. This might indicate that there are\n",
      "strong multicollinearity or other numerical problems.\n"
     ]
    }
   ],
   "source": [
    "#Task 10\n",
    "\n",
    "### BEGIN SOLUTION\n",
    "model = ols('price ~ carat + table + depth', data=dia).fit()\n",
    "### END SOLUTION\n",
    "\n",
    "print(model.summary())"
   ]
  },
  {
   "cell_type": "code",
   "execution_count": 18,
   "id": "bc60f257",
   "metadata": {
    "nbgrader": {
     "grade": true,
     "grade_id": "cell-30637ae943cc927c",
     "locked": true,
     "points": 1,
     "schema_version": 3,
     "solution": false,
     "task": false
    }
   },
   "outputs": [],
   "source": [
    "#Task 10 - Test\n",
    "\n",
    "\n",
    "assert len(model.params.index) == 4, \"Make sure you've assigned both values.\"\n",
    "### BEGIN HIDDEN TESTS\n",
    "assert 'Intercept', 'carat' in model.params.index \n",
    "### END HIDDEN TESTS\n"
   ]
  },
  {
   "cell_type": "markdown",
   "id": "d719f680",
   "metadata": {
    "nbgrader": {
     "grade": false,
     "grade_id": "cell-0e10e4c3bd167d21",
     "locked": true,
     "schema_version": 3,
     "solution": false,
     "task": false
    }
   },
   "source": [
    "**Task 11** - Predictions and Residuals \n",
    "\n",
    "- Create a new column that includes your model predictions for your features. Name the column `y_pred`\n",
    "- Calculate the prediction residuals. Assign the values to a column named `residuals`.\n"
   ]
  },
  {
   "cell_type": "code",
   "execution_count": 19,
   "id": "e88d1372",
   "metadata": {
    "nbgrader": {
     "grade": false,
     "grade_id": "cell-eda3b235dda0c890",
     "locked": false,
     "schema_version": 3,
     "solution": true,
     "task": false
    }
   },
   "outputs": [],
   "source": [
    "#Task 11\n",
    "\n",
    "### BEGIN SOLUTION\n",
    "dia['y_pred'] = model.predict()\n",
    "dia['residuals'] = dia['price'] - dia['y_pred']\n",
    "### END SOLUTION"
   ]
  },
  {
   "cell_type": "code",
   "execution_count": 20,
   "id": "7291cf0a",
   "metadata": {
    "nbgrader": {
     "grade": true,
     "grade_id": "cell-f8dac98f7966de41",
     "locked": true,
     "points": 1,
     "schema_version": 3,
     "solution": false,
     "task": false
    }
   },
   "outputs": [],
   "source": [
    "#Task 11- Test\n",
    "\n",
    "assert dia.shape == (53940, 9), \"Have you created the two columns?\"\n",
    "\n",
    "### BEGIN HIDDEN TESTS\n",
    "assert round(dia['residuals'][0], 2) == 562.08, \"Ensure you've properly calculated your residual values.\"\n",
    "### END HIDDEN TESTS"
   ]
  },
  {
   "cell_type": "markdown",
   "id": "0e8c0d40",
   "metadata": {
    "nbgrader": {
     "grade": false,
     "grade_id": "cell-ae85b0e3a4e9386b",
     "locked": true,
     "schema_version": 3,
     "solution": false,
     "task": false
    }
   },
   "source": [
    "**Task 12** - Predictions and Residuals \n",
    "\n",
    "- Create a new column that includes your model predictions for your features. Name the column `y_pred`\n",
    "- Calculate the prediction residuals. Assign the values to a column named `residuals`.\n"
   ]
  },
  {
   "cell_type": "code",
   "execution_count": 21,
   "id": "8c7795db",
   "metadata": {
    "nbgrader": {
     "grade": false,
     "grade_id": "cell-67ad55b27ded5304",
     "locked": false,
     "schema_version": 3,
     "solution": true,
     "task": false
    }
   },
   "outputs": [],
   "source": [
    "#Task 12\n",
    "\n",
    "### BEGIN SOLUTION\n",
    "dia['y_pred'] = model.predict()\n",
    "dia['residuals'] = dia['price'] - dia['y_pred']\n",
    "### END SOLUTION"
   ]
  },
  {
   "cell_type": "code",
   "execution_count": 22,
   "id": "c96efd30",
   "metadata": {
    "nbgrader": {
     "grade": false,
     "grade_id": "cell-533c953a3da8f018",
     "locked": false,
     "schema_version": 3,
     "solution": true,
     "task": false
    }
   },
   "outputs": [],
   "source": [
    "#Task 12 - Test\n",
    "\n",
    "assert dia.shape == (53940, 9), \"Have you created the two columns?\"\n",
    "\n",
    "### BEGIN HIDDEN TESTS\n",
    "assert round(dia['residuals'][0], 2) == 562.08, \"Ensure you've properly calculated your residual values.\"\n",
    "### END HDIDDEN TESTS"
   ]
  },
  {
   "cell_type": "markdown",
   "id": "1f988b2e",
   "metadata": {
    "nbgrader": {
     "grade": false,
     "grade_id": "cell-52216d5087cc7eec",
     "locked": true,
     "schema_version": 3,
     "solution": false,
     "task": false
    }
   },
   "source": [
    "**Task 13** - Metrics\n",
    "\n",
    "- Determine the values for the **mean absolute error, the mean squared error** and the **root mean squared error** for your previous model. \n",
    "- Assign the values as `mae`, `mse`, and `rmse` respectively. \n",
    "- *Hint*: We discussed a few methods for this in class. You can refer to this [documentation](https://scikit-learn.org/stable/modules/model_evaluation.html) for other metric values."
   ]
  },
  {
   "cell_type": "code",
   "execution_count": 23,
   "id": "c9f5857a",
   "metadata": {
    "nbgrader": {
     "grade": false,
     "grade_id": "cell-29fb7569c52b05de",
     "locked": false,
     "schema_version": 3,
     "solution": true,
     "task": false
    }
   },
   "outputs": [],
   "source": [
    "#Task 13\n",
    "\n",
    "### BEGIN SOLUTION\n",
    "mae = metrics.mean_absolute_error(dia['price'], dia['y_pred'])\n",
    "mse = metrics.mean_squared_error(dia['price'], dia['y_pred'])\n",
    "rmse = np.sqrt(metrics.mean_squared_error(dia['price'], dia['y_pred']))\n",
    "### END SOLUTION\n"
   ]
  },
  {
   "cell_type": "code",
   "execution_count": 24,
   "id": "8006ba10",
   "metadata": {
    "nbgrader": {
     "grade": true,
     "grade_id": "cell-9319992c1a2f4f94",
     "locked": true,
     "points": 1,
     "schema_version": 3,
     "solution": false,
     "task": false
    }
   },
   "outputs": [],
   "source": [
    "#Task 13 - Test\n",
    "\n",
    "### BEGIN HIDDEN TESTS\n",
    "assert round(rmse, 2) == 1526.04\n",
    "### END HIDDEN TESTS "
   ]
  }
 ],
 "metadata": {
  "celltoolbar": "Create Assignment",
  "kernelspec": {
   "display_name": "Python 3",
   "language": "python",
   "name": "python3"
  },
  "language_info": {
   "codemirror_mode": {
    "name": "ipython",
    "version": 3
   },
   "file_extension": ".py",
   "mimetype": "text/x-python",
   "name": "python",
   "nbconvert_exporter": "python",
   "pygments_lexer": "ipython3",
   "version": "3.8.8"
  }
 },
 "nbformat": 4,
 "nbformat_minor": 5
}
