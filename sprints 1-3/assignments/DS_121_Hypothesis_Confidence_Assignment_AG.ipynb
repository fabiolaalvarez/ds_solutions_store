{
 "cells": [
  {
   "cell_type": "markdown",
   "id": "d36817b6",
   "metadata": {
    "nbgrader": {
     "grade": false,
     "grade_id": "cell-b0b49f9f926867f8",
     "locked": true,
     "schema_version": 3,
     "solution": false,
     "task": false
    }
   },
   "source": [
    "## Autograded Notebook (Canvas & CodeGrade)\n",
    "\n",
    "This notebook will be automatically graded. It is designed to test your answers and award points for the correct answers. Following the instructions for each Task carefully.\n",
    "\n",
    "### Instructions\n",
    "\n",
    "* **Download this notebook** as you would any other ipynb file\n",
    "* **Upload** to Google Colab or work locally (if you have that set-up)\n",
    "* **Delete `raise NotImplementedError()`**\n",
    "* Write your code in the `# YOUR CODE HERE` space\n",
    "* **Execute** the Test cells that contain `assert` statements - these help you check your work (others contain hidden tests that will be checked when you submit through Canvas)\n",
    "* **Save** your notebook when you are finished\n",
    "* **Download** as a `ipynb` file (if working in Colab)\n",
    "* **Upload** your complete notebook to Canvas (there will be additional instructions in Slack and/or Canvas)"
   ]
  },
  {
   "cell_type": "markdown",
   "id": "0be47fcc",
   "metadata": {
    "id": "838Dmw1kM2LK",
    "nbgrader": {
     "grade": false,
     "grade_id": "cell-850fe73663fc4035",
     "locked": true,
     "schema_version": 3,
     "solution": false,
     "task": false
    }
   },
   "source": [
    "# Unit 1 Sprint 2 Module 1\n",
    "\n",
    "## Hypothesis Testing and Confidence Intervals\n",
    "\n",
    "### Objectives\n",
    "\n",
    "* Explain the purpose of a t-test and identify applications\n",
    "* Use a t-test for independence to test for a statistically significant association between two categorical variables\n",
    "* Use a t-test p-value to draw the correct conclusions about the null and alternative hypothesis\n",
    "* Demonstrate how to build a confidence interval around a sample estimate\n",
    "\n",
    "#### Total notebook points: 15"
   ]
  },
  {
   "cell_type": "markdown",
   "id": "99baa709",
   "metadata": {
    "id": "XvoOHjnMR42h",
    "nbgrader": {
     "grade": false,
     "grade_id": "cell-d7f9eaf9af7312af",
     "locked": true,
     "schema_version": 3,
     "solution": false,
     "task": false
    }
   },
   "source": [
    "### Introduction\n",
    "\n",
    "Mosquito nets have traditionally been an important tool to prevent mosquito bites in parts of the world where malaria is endemic. However, it may not be practical for an army that is on the move to set up and carry mosquito nets each night and day. Impregnating soldiers’ uniforms with insect repellent solves the mobility problem but also has drawbacks. First, the insect repellent quickly becomes ineffective with repeated washing and ironing and must be frequently reapplied. Second, in hot and humid climates the insect repellent can be absorbed through the skin, and the long-term effects of this exposure are unknown. One compromise is to have soldiers apply patches treated with insect repellent to their clothing. These patches would last longer because they would not be washed or ironed and would not expose the entire body to the insect repellent.\n",
    "\n",
    "### Dataset Description\n",
    "\n",
    "The `Mosquito.xlsx` dataset contains data recorded in an experiment conducted on male soldiers in the Indian Army who were stationed in the Tezpur/Solmara garrison in Northeast India. Thirty soldiers were randomly selected to receive one of three types of mosquito single repellent patch. After giving informed consent, the study participants affixed the patches at predetermined points on their uniforms and research assistants (who were blinded to the type of repellent used) counted the number of times a mosquito landed on each individual in an hour. \n",
    "\n",
    "Medical officers with the Indian Army have recorded data on mosquito bites and related illness for many years and can say with authority that the mean number of mosquito touches for soldiers not wearing any mosquito repellent is 8.2 per hour. **We wish to determine if wearing a single repellent patch changes the mean number of mosquito touches for soldiers compared to not wearing any mosquito repellent.**\n",
    "\n",
    "*Adapted from: A. Bhatnagar and V.K. Mehta (2007). \"Efficacy of Deltamethrin and Cyfluthrin Impregnated Cloth Over Uniform Against Mosquito Bites,\" Medical Journal Armed Forces India, Vol. 63, pp. 120-122.*"
   ]
  },
  {
   "cell_type": "markdown",
   "id": "00a91ed3",
   "metadata": {
    "id": "GDZhZik3FQmx"
   },
   "source": [
    "**Task 1** - Load the data\n",
    "\n",
    "Let's load the data! The URL has been provided as well as the imports for pandas and numpy.\n",
    "\n",
    "* load your CSV file into a DataFrame named `df_mosquito`"
   ]
  },
  {
   "cell_type": "code",
   "execution_count": 1,
   "id": "c9e33b2f",
   "metadata": {
    "colab": {
     "base_uri": "https://localhost:8080/",
     "height": 204
    },
    "id": "-5ubUxGnTn6k",
    "nbgrader": {
     "grade": false,
     "grade_id": "cell-dae3789e00dd9b29",
     "locked": false,
     "schema_version": 3,
     "solution": true,
     "task": false
    },
    "outputId": "1a595008-3bb7-430d-c0ed-1889ba49e124"
   },
   "outputs": [
    {
     "data": {
      "text/html": [
       "<div>\n",
       "<style scoped>\n",
       "    .dataframe tbody tr th:only-of-type {\n",
       "        vertical-align: middle;\n",
       "    }\n",
       "\n",
       "    .dataframe tbody tr th {\n",
       "        vertical-align: top;\n",
       "    }\n",
       "\n",
       "    .dataframe thead th {\n",
       "        text-align: right;\n",
       "    }\n",
       "</style>\n",
       "<table border=\"1\" class=\"dataframe\">\n",
       "  <thead>\n",
       "    <tr style=\"text-align: right;\">\n",
       "      <th></th>\n",
       "      <th>ID</th>\n",
       "      <th>Mosq_count</th>\n",
       "    </tr>\n",
       "  </thead>\n",
       "  <tbody>\n",
       "    <tr>\n",
       "      <th>0</th>\n",
       "      <td>1</td>\n",
       "      <td>4</td>\n",
       "    </tr>\n",
       "    <tr>\n",
       "      <th>1</th>\n",
       "      <td>2</td>\n",
       "      <td>10</td>\n",
       "    </tr>\n",
       "    <tr>\n",
       "      <th>2</th>\n",
       "      <td>3</td>\n",
       "      <td>13</td>\n",
       "    </tr>\n",
       "    <tr>\n",
       "      <th>3</th>\n",
       "      <td>4</td>\n",
       "      <td>0</td>\n",
       "    </tr>\n",
       "    <tr>\n",
       "      <th>4</th>\n",
       "      <td>5</td>\n",
       "      <td>11</td>\n",
       "    </tr>\n",
       "  </tbody>\n",
       "</table>\n",
       "</div>"
      ],
      "text/plain": [
       "   ID  Mosq_count\n",
       "0   1           4\n",
       "1   2          10\n",
       "2   3          13\n",
       "3   4           0\n",
       "4   5          11"
      ]
     },
     "execution_count": 1,
     "metadata": {},
     "output_type": "execute_result"
    }
   ],
   "source": [
    "# Task 1\n",
    "import pandas as pd\n",
    "import numpy as np\n",
    "\n",
    "# URL for the dataset\n",
    "data_url = 'https://raw.githubusercontent.com/LambdaSchool/data-science-practice-datasets/main/unit_1/Mosquito/Mosquito.csv'\n",
    "\n",
    "### BEGIN SOLUTION\n",
    "df_mosquito = pd.read_csv(data_url)\n",
    "### END SOLUTION\n",
    "\n",
    "# Print out your DataFrame\n",
    "df_mosquito.head()"
   ]
  },
  {
   "cell_type": "markdown",
   "id": "c717f3b7",
   "metadata": {
    "id": "1RY9e-T_FQmz"
   },
   "source": [
    "**Task 1 Test**"
   ]
  },
  {
   "cell_type": "code",
   "execution_count": 2,
   "id": "88358833",
   "metadata": {
    "id": "AOQZ8K_6FQmz",
    "nbgrader": {
     "grade": true,
     "grade_id": "cell-a347d8dd7572e6d4",
     "locked": true,
     "points": 1,
     "schema_version": 3,
     "solution": false,
     "task": false
    }
   },
   "outputs": [],
   "source": [
    "# Task 1 - Test\n",
    "\n",
    "assert isinstance(df_mosquito, pd.DataFrame), 'Have you created a DataFrame named `df_mosquito`?'\n",
    "assert len(df_mosquito) == 90\n",
    "\n",
    "### BEGIN HIDDEN TESTS\n",
    "assert df_mosquito.shape == (90, 2), 'Make sure you correctly read in the DataFrame'\n",
    "### END HIDDEN TESTS"
   ]
  },
  {
   "cell_type": "markdown",
   "id": "8d173936",
   "metadata": {
    "id": "9cEe4HiqFQm0"
   },
   "source": [
    "**Task 2** - Calculate the mean\n",
    "\n",
    "* Calculate the mean number of mosquito touches in the sample. Assign your answer to the variable `mosquito_touch_mean`."
   ]
  },
  {
   "cell_type": "code",
   "execution_count": 3,
   "id": "013eb9b3",
   "metadata": {
    "id": "27r_eZsrFQm0",
    "nbgrader": {
     "grade": false,
     "grade_id": "cell-22ced5cd2cae6230",
     "locked": false,
     "schema_version": 3,
     "solution": true,
     "task": false
    }
   },
   "outputs": [],
   "source": [
    "# Task 2\n",
    "\n",
    "### BEGIN SOLUTION\n",
    "mosquito_touch_mean = df_mosquito['Mosq_count'].mean()\n",
    "### END SOLUTION"
   ]
  },
  {
   "cell_type": "markdown",
   "id": "31a8a97f",
   "metadata": {
    "id": "ZSnEfbUbFQm0"
   },
   "source": [
    "**Task 2 Test**"
   ]
  },
  {
   "cell_type": "code",
   "execution_count": 4,
   "id": "2041964a",
   "metadata": {
    "id": "JcRrAtPEFQm0",
    "nbgrader": {
     "grade": true,
     "grade_id": "cell-3970fbb1a3eaefb5",
     "locked": true,
     "points": 1,
     "schema_version": 3,
     "solution": false,
     "task": false
    }
   },
   "outputs": [],
   "source": [
    "# Task 2 - Test\n",
    "# Hidden tests - you will see the results when you submit to Canvas\n",
    "### BEGIN HIDDEN TESTS\n",
    "assert round(mosquito_touch_mean) == 8, 'Did you use the `.mean()` method?'\n",
    "### END HIDDEN TESTS"
   ]
  },
  {
   "cell_type": "markdown",
   "id": "442de71c",
   "metadata": {
    "id": "VwfMz7VAFQm1"
   },
   "source": [
    "**Task 3** - Calculate the standard deviation\n",
    "\n",
    "* Calculate the standard deviation of the number of mosquito touches in the sample. Assign your answer to `mosquito_touch_std`."
   ]
  },
  {
   "cell_type": "code",
   "execution_count": 5,
   "id": "6e97da90",
   "metadata": {
    "id": "zTCFeDauFQm1",
    "nbgrader": {
     "grade": false,
     "grade_id": "cell-9c4fe58a9fe2d7aa",
     "locked": false,
     "schema_version": 3,
     "solution": true,
     "task": false
    }
   },
   "outputs": [],
   "source": [
    "# Task 3\n",
    "\n",
    "### BEGIN SOLUTION\n",
    "mosquito_touch_std = df_mosquito['Mosq_count'].std()\n",
    "### END SOLUTION"
   ]
  },
  {
   "cell_type": "markdown",
   "id": "43777220",
   "metadata": {
    "id": "7YboOb58FQm1"
   },
   "source": [
    "**Task 3 Test**"
   ]
  },
  {
   "cell_type": "code",
   "execution_count": 6,
   "id": "353947fe",
   "metadata": {
    "id": "qjWEPFj7FQm1",
    "nbgrader": {
     "grade": true,
     "grade_id": "cell-4939c4289c39b4e3",
     "locked": true,
     "points": 1,
     "schema_version": 3,
     "solution": false,
     "task": false
    }
   },
   "outputs": [],
   "source": [
    "# Task 3 - Test\n",
    "# Hidden tests - you will see the results when you submit to Canvas\n",
    "### BEGIN HIDDEN TESTS\n",
    "assert round(mosquito_touch_std) == 3, 'Did you use the .std() method?'\n",
    "### END HIDDEN TESTS"
   ]
  },
  {
   "cell_type": "markdown",
   "id": "634e6618",
   "metadata": {
    "id": "jPmpfULFFQmz"
   },
   "source": [
    "**Task 4 -** Statistical hypotheses\n",
    "\n",
    "From the list of choices below, select the null and alternative hypotheses using the experiment information described above.  Specify your answer in the next code block using `Answer = `.  For example, if the correct answer is choice B, you'll type `Answer = 'B'`.\n",
    "\n",
    "A: $H_0: \\mu = 8$ vs. $H_a: \\mu = 8$\n",
    "\n",
    "B: $H_0: \\mu \\neq 8.2$ vs. $H_a: \\mu = 8$\n",
    "\n",
    "C: $H_0: \\mu \\neq 8.2$ vs. $H_a: \\mu = 8.2$ \n",
    "\n",
    "D: $H_0: \\mu =8.2$ vs. $H_a: \\mu \\neq 8.2$ "
   ]
  },
  {
   "cell_type": "code",
   "execution_count": 7,
   "id": "d4581a1b",
   "metadata": {
    "id": "AhGVMf2tK2LF",
    "nbgrader": {
     "grade": false,
     "grade_id": "cell-5ab063cfe94f3929",
     "locked": false,
     "schema_version": 3,
     "solution": true,
     "task": false
    }
   },
   "outputs": [],
   "source": [
    "# Task 4\n",
    "\n",
    "### BEGIN SOLUTION\n",
    "Answer = 'D'\n",
    "### END SOLUTION\n"
   ]
  },
  {
   "cell_type": "markdown",
   "id": "def25ea2",
   "metadata": {
    "id": "kbd9KuumLBxO"
   },
   "source": [
    "**Task 4 Test**"
   ]
  },
  {
   "cell_type": "code",
   "execution_count": 8,
   "id": "358d99ea",
   "metadata": {
    "nbgrader": {
     "grade": true,
     "grade_id": "cell-085e920bd147cbab",
     "locked": true,
     "points": 1,
     "schema_version": 3,
     "solution": false,
     "task": false
    }
   },
   "outputs": [],
   "source": [
    "# Task 4 - Test\n",
    "# Hidden tests - you will see the results when you submit to Canvas\n",
    "### BEGIN HIDDEN TESTS\n",
    "assert Answer == 'D', 'Think carefully about your hypotheses.'\n",
    "### END HIDDEN TESTS"
   ]
  },
  {
   "cell_type": "markdown",
   "id": "f98b9a8d",
   "metadata": {
    "id": "grU76-AUFQm1"
   },
   "source": [
    "**Task 5** - One-sample t-test\n",
    "\n",
    "* Conduct a 1-sample t-test to test your hypotheses. Assign your t-test result to the variable `mosquito_pval`. **This should be a single value**.\n",
    "\n",
    "*Hint: The `stats.ttest_1samp()` function returns two values; assign the results of the t-test to `_, mosquito_pval`.*"
   ]
  },
  {
   "cell_type": "code",
   "execution_count": 9,
   "id": "51a9e13d",
   "metadata": {
    "id": "-wTk5Y1hFQm1",
    "nbgrader": {
     "grade": false,
     "grade_id": "cell-44b3f2a39081c5df",
     "locked": false,
     "schema_version": 3,
     "solution": true,
     "task": false
    }
   },
   "outputs": [],
   "source": [
    "# Task 5\n",
    "\n",
    "# Use the 'ttest_1samp' from the stats package\n",
    "from scipy import stats\n",
    "\n",
    "### BEGIN SOLUTION\n",
    "_, mosquito_pval = stats.ttest_1samp(df_mosquito['Mosq_count'], 8.2)\n",
    "### END SOLUTION"
   ]
  },
  {
   "cell_type": "markdown",
   "id": "45cacd2a",
   "metadata": {
    "id": "MaBqJCZcFQm2"
   },
   "source": [
    "**Task 5 Test**"
   ]
  },
  {
   "cell_type": "code",
   "execution_count": 10,
   "id": "59da1760",
   "metadata": {
    "id": "Mz-vEAVbFQm2",
    "nbgrader": {
     "grade": true,
     "grade_id": "cell-3be2eb1f16e366e6",
     "locked": true,
     "points": 1,
     "schema_version": 3,
     "solution": false,
     "task": false
    }
   },
   "outputs": [],
   "source": [
    "# Task 5 - Tests\n",
    "# Hidden tests - you will see the results when you submit to Canvas\n",
    "### BEGIN HIDDEN TESTS\n",
    "assert round(mosquito_pval, 3) == 0.586, 'Did you use the correct population mean?'\n",
    "### END HIDDEN TESTS"
   ]
  },
  {
   "cell_type": "markdown",
   "id": "ff2bb6b6",
   "metadata": {
    "id": "EcHLBuBVFQm2"
   },
   "source": [
    "**Task 6**\n",
    "\n",
    "Select the correct conclusion at the 0.05 significance level from the list of choices below. Specify your answer in the next code block using `Answer = `.  For example, if the correct answer is choice B, you'll type `Answer = 'B'`.\n",
    "\n",
    "A: We reject the null hypothesis at the 0.05 significance level and can conclude that a single repellant patch reduces the mean number of mosquito touches.\n",
    "\n",
    "B: We fail to reject the null hypothesis at the 0.05 significance level and can conclude that a single repellant patch reduces the mean number of mosquito touches.\n",
    "\n",
    "C: We fail to reject the null hypothesis at the 0.05 significance level and can conclude that a single repellant patch does not change the mean number of mosquito touches.\n",
    "\n",
    "D: We reject the null hypothesis at the 0.05 significance level and conclude that a single repellant patch does not increase the mean number of mosquito touches.\n"
   ]
  },
  {
   "cell_type": "code",
   "execution_count": 11,
   "id": "499664f7",
   "metadata": {
    "id": "2VqMVLj0MjZu",
    "nbgrader": {
     "grade": false,
     "grade_id": "cell-4d35984ef163c5e1",
     "locked": false,
     "schema_version": 3,
     "solution": true,
     "task": false
    }
   },
   "outputs": [],
   "source": [
    "# Task 6\n",
    "\n",
    "### BEGIN SOLUTION\n",
    "Answer = 'C'\n",
    "### END SOLUTION\n"
   ]
  },
  {
   "cell_type": "markdown",
   "id": "d429ad61",
   "metadata": {
    "id": "kn461ny8MjZ7"
   },
   "source": [
    "**Task 6 Test**"
   ]
  },
  {
   "cell_type": "code",
   "execution_count": 12,
   "id": "0002c409",
   "metadata": {
    "nbgrader": {
     "grade": true,
     "grade_id": "cell-2f182809a44a91f5",
     "locked": true,
     "points": 1,
     "schema_version": 3,
     "solution": false,
     "task": false
    }
   },
   "outputs": [],
   "source": [
    "# Task 6 - Test\n",
    "# Hidden tests - you will see the results when you submit to Canvas\n",
    "### BEGIN HIDDEN TESTS\n",
    "assert Answer == 'C', 'Think carefully about your conclusion.'\n",
    "### END HIDDEN TESTS"
   ]
  },
  {
   "cell_type": "markdown",
   "id": "dc267ec5",
   "metadata": {
    "id": "RySL5E7GEHGf",
    "nbgrader": {
     "grade": false,
     "grade_id": "cell-6952a8ebafd0181d",
     "locked": true,
     "schema_version": 3,
     "solution": false,
     "task": false
    }
   },
   "source": [
    "**Task 7** - Calculate t*\n",
    "\n",
    "For this task you will calculate t* for a 95% confidence interval.\n",
    "\n",
    "* set the variable `deg_free` equal to the degrees of freedom for the `df_moquito` variable\n",
    "* set the variable `t_star` equal to t* using `t.ppf(q, df)` with `q=0.975` and `df = deg_free`\n",
    "\n",
    "Note: Don't worry about where the 0.975 value comes from - it relates to finding the *middle* of the 95% t-distribution. We're going to learn how to calculate the 95% confidence interval an easier way in the next exercise."
   ]
  },
  {
   "cell_type": "code",
   "execution_count": 13,
   "id": "abd5d487",
   "metadata": {
    "colab": {
     "base_uri": "https://localhost:8080/",
     "height": 34
    },
    "id": "ti9x37XSQ_yL",
    "nbgrader": {
     "grade": false,
     "grade_id": "cell-ab557b231ecefc1d",
     "locked": false,
     "schema_version": 3,
     "solution": true,
     "task": false
    },
    "outputId": "e13e76d4-c05c-449e-cd23-94a6098ea24f"
   },
   "outputs": [
    {
     "name": "stdout",
     "output_type": "stream",
     "text": [
      "t_star = 1.9869786993737677\n"
     ]
    }
   ],
   "source": [
    "# Task 7\n",
    "\n",
    "from scipy.stats import t\n",
    "\n",
    "### BEGIN SOLUTION\n",
    "deg_free = len(df_mosquito)-1\n",
    "t_star = t.ppf(q=0.975, df=deg_free)\n",
    "### END SOLUTION\n",
    "\n",
    "# View your answer\n",
    "print('t_star =', t_star)"
   ]
  },
  {
   "cell_type": "markdown",
   "id": "fe7e9953",
   "metadata": {
    "id": "R3JcXISZWWK0"
   },
   "source": [
    "**Task 7 - Test**"
   ]
  },
  {
   "cell_type": "code",
   "execution_count": 14,
   "id": "001c927a",
   "metadata": {
    "id": "xAxHIgQdWWK0",
    "nbgrader": {
     "grade": true,
     "grade_id": "cell-ea70eb8f030c2f57",
     "locked": true,
     "points": 1,
     "schema_version": 3,
     "solution": false,
     "task": false
    }
   },
   "outputs": [],
   "source": [
    "# Task 7 Test\n",
    "# Hidden tests - you will see the results when you submit to Canvas\n",
    "### BEGIN HIDDEN TESTS\n",
    "assert deg_free == 89, 'Remember the degrees of freedom is equal to n-1'\n",
    "assert t_star == t.ppf(q=0.975, df=deg_free), 'Did you use the correct values for q and the degrees of freedom?';\n",
    "### END HIDDEN TESTS"
   ]
  },
  {
   "cell_type": "markdown",
   "id": "9f473fdc",
   "metadata": {
    "id": "AddooPk1JBvQ"
   },
   "source": [
    "**Task 8** - Margin of error\n",
    "\n",
    "In this task you'll calculate the margin of error for a 95% confidence interval (CI) for the mean number of mosquito touches.\n",
    "\n",
    "* Assign the margin of error for a 95% CI to the variable `margin_err`\n",
    "\n",
    "Hint: You already have the value for t* for a 95% CI and the standard error"
   ]
  },
  {
   "cell_type": "code",
   "execution_count": 15,
   "id": "34b902ad",
   "metadata": {
    "colab": {
     "base_uri": "https://localhost:8080/",
     "height": 34
    },
    "id": "IjjYtXodJW-b",
    "nbgrader": {
     "grade": false,
     "grade_id": "cell-fe91f19c7d908552",
     "locked": false,
     "schema_version": 3,
     "solution": true,
     "task": false
    },
    "outputId": "d926c0a2-32e5-4da3-d909-fa276115fc73"
   },
   "outputs": [
    {
     "name": "stdout",
     "output_type": "stream",
     "text": [
      "Margin of error =  0.6875174745924729\n"
     ]
    }
   ],
   "source": [
    "# Task 8\n",
    "\n",
    "### BEGIN SOLUTION\n",
    "margin_err = t_star * df_mosquito['Mosq_count'].sem()\n",
    "### END SOLUTION\n",
    "\n",
    "# View your answer\n",
    "print('Margin of error = ', margin_err)"
   ]
  },
  {
   "cell_type": "markdown",
   "id": "575fa967",
   "metadata": {
    "id": "Q5j-gZGFWWK0"
   },
   "source": [
    "**Task 8 - Test**"
   ]
  },
  {
   "cell_type": "code",
   "execution_count": 16,
   "id": "d92e4204",
   "metadata": {
    "id": "8FBGOirjWWK0",
    "nbgrader": {
     "grade": true,
     "grade_id": "cell-2258dd78f578b1be",
     "locked": true,
     "points": 1,
     "schema_version": 3,
     "solution": false,
     "task": false
    }
   },
   "outputs": [],
   "source": [
    "# Task 8 Test\n",
    "# Hidden tests - you will see the results when you submit to Canvas\n",
    "### BEGIN HIDDEN TESTS\n",
    "assert deg_free == 89, 'Remember the degrees of freedom is equal to n-1'\n",
    "assert t_star == t.ppf(q=0.975, df=89)\n",
    "assert round(margin_err, 2) == .69\n",
    "### END HIDDEN TESTS"
   ]
  },
  {
   "cell_type": "markdown",
   "id": "e837404b",
   "metadata": {
    "id": "AtGASqgxYp5t"
   },
   "source": [
    "**Task 9** - Calculate a confidence interval\n",
    "\n",
    "For this task, you are going to calculate a 95% CI for the number of mosquito touches with the CI formula using the summary statistics and t* that you calculated above.\n",
    "\n",
    "* Calculate the lower confidence level and assign it to `lower_cl`\n",
    "* Calculate the upper confidence level and assign it to `upper_cl`"
   ]
  },
  {
   "cell_type": "code",
   "execution_count": 17,
   "id": "edcbaeaa",
   "metadata": {
    "colab": {
     "base_uri": "https://localhost:8080/",
     "height": 51
    },
    "id": "JPUE0osGEw0M",
    "nbgrader": {
     "grade": false,
     "grade_id": "cell-2ee7b7b25af4e5fc",
     "locked": false,
     "schema_version": 3,
     "solution": true,
     "task": false
    },
    "outputId": "49ede524-1a89-400d-c404-1141a7b9faea"
   },
   "outputs": [
    {
     "name": "stdout",
     "output_type": "stream",
     "text": [
      "Lower confidence limit = 7.3235936365186385\n",
      "Upper confidence limit = 8.698628585703585\n"
     ]
    }
   ],
   "source": [
    "# Task 9\n",
    "\n",
    "### BEGIN SOLUTION\n",
    "lower_cl = mosquito_touch_mean - margin_err\n",
    "upper_cl = mosquito_touch_mean + margin_err\n",
    "### END SOLUTION\n",
    "\n",
    "# View your answers\n",
    "print ('Lower confidence limit =', lower_cl)\n",
    "print ('Upper confidence limit =', upper_cl)"
   ]
  },
  {
   "cell_type": "markdown",
   "id": "d519602c",
   "metadata": {
    "id": "K6sx4862WWK2"
   },
   "source": [
    "**Task 9 - Test**"
   ]
  },
  {
   "cell_type": "code",
   "execution_count": 18,
   "id": "a46f2656",
   "metadata": {
    "id": "yhvJ-oCnWWK2",
    "nbgrader": {
     "grade": true,
     "grade_id": "cell-8ea440c5365e886d",
     "locked": true,
     "points": 1,
     "schema_version": 3,
     "solution": false,
     "task": false
    }
   },
   "outputs": [],
   "source": [
    "# Task 9 Test\n",
    "# Hidden tests - you will see the results when you submit to Canvas\n",
    "### BEGIN HIDDEN TESTS\n",
    "assert lower_cl == mosquito_touch_mean - margin_err, 'The lower CL is the mean minus the margin of error'\n",
    "assert upper_cl == mosquito_touch_mean + margin_err, 'The upper CL is the mean plus the margin of error'\n",
    "### END HIDDEN TESTS"
   ]
  },
  {
   "cell_type": "markdown",
   "id": "ece17753",
   "metadata": {
    "id": "ENcdv9_4WWK2"
   },
   "source": [
    "**Task 9** - ANSWER\n",
    "\n",
    "Write out the confidence interval you just calculated. Use the following format:\n",
    "\n",
    "*Example: We are 95% confident that the true mean of the mosquito touches is between [lower CL, upper CL]*\n",
    "\n",
    "This task will not be autograded - but it is part of completing the project.\n",
    "\n",
    "YOUR ANSWER"
   ]
  },
  {
   "cell_type": "markdown",
   "id": "9963566c",
   "metadata": {
    "id": "gAKJlaMyEzVz"
   },
   "source": [
    "**Task 10** - 95% confidence interval using t-interval\n",
    "\n",
    "As promised in Task 4, we're going to calculate the confidence interval the easy way. We'll use the `t.interval()` function to calculate the 95% confidence interval.\n",
    "\n",
    "* Assign the confidence interval to `t_int_95`\n",
    "* `alpha` should be set equal to the confidence level\n",
    "* `df` is the degrees of freedom\n",
    "* `loc` is the sample mean\n",
    "* `scale` is the standard error of the distribution"
   ]
  },
  {
   "cell_type": "code",
   "execution_count": 19,
   "id": "ea813621",
   "metadata": {
    "colab": {
     "base_uri": "https://localhost:8080/",
     "height": 34
    },
    "id": "GSo4uKWVFKwQ",
    "nbgrader": {
     "grade": false,
     "grade_id": "cell-305db71f92847f07",
     "locked": false,
     "schema_version": 3,
     "solution": true,
     "task": false
    },
    "outputId": "325da6d4-cdf2-4223-b0a6-bbc2b97a9684"
   },
   "outputs": [
    {
     "name": "stdout",
     "output_type": "stream",
     "text": [
      "(7.3235936365186385, 8.698628585703585)\n"
     ]
    }
   ],
   "source": [
    "# Task 10\n",
    "\n",
    "### BEGIN SOLUTION\n",
    "t_int_95 = t.interval(alpha=0.95, df=89, loc=mosquito_touch_mean, scale=df_mosquito['Mosq_count'].sem())\n",
    "### END SOLUTION\n",
    "\n",
    "# View your answer\n",
    "print(t_int_95)"
   ]
  },
  {
   "cell_type": "markdown",
   "id": "c98d3024",
   "metadata": {
    "id": "GAA1UyYAWWK2"
   },
   "source": [
    "**Task 10 - Test**"
   ]
  },
  {
   "cell_type": "code",
   "execution_count": 20,
   "id": "5fddf03b",
   "metadata": {
    "id": "D1L2kNVBWWK3",
    "nbgrader": {
     "grade": true,
     "grade_id": "cell-752d977ae5d519c5",
     "locked": true,
     "points": 1,
     "schema_version": 3,
     "solution": false,
     "task": false
    }
   },
   "outputs": [],
   "source": [
    "# Task 10 Test\n",
    "\n",
    "# Hidden tests - you will see the results when you submit to Canvas\n",
    "### BEGIN HIDDEN TESTS\n",
    "assert t_int_95 == t.interval(alpha= 0.95, df=89, \n",
    "                                loc=mosquito_touch_mean, \n",
    "                                scale=df_mosquito['Mosq_count'].sem()), 'Double check your parameters'\n",
    "### END HIDDEN TESTS"
   ]
  },
  {
   "cell_type": "code",
   "execution_count": null,
   "id": "4ccd39b4",
   "metadata": {},
   "outputs": [],
   "source": []
  },
  {
   "cell_type": "markdown",
   "id": "411899ee",
   "metadata": {
    "id": "FGnFRSjRqG9s",
    "nbgrader": {
     "grade": false,
     "grade_id": "cell-63ba9f9efdc2301d",
     "locked": true,
     "schema_version": 3,
     "solution": false,
     "task": false
    }
   },
   "source": [
    "## Use the following information to complete Tasks 11-15\n",
    "\n",
    "### Introduction\n",
    "\n",
    "More than 14,000 people finished the 2020 Disney Marathon held on January 12. The results by age and gender group are included in the `Disney.csv dataset`. \n",
    "\n",
    "**We wish to determine if the mean finishing time for male and female marathon runners is the same or if there is a difference in the mean finishing time between male and female marathon runners.**\n",
    "\n",
    "\n",
    "[Source: Track Shack. 2020 Disney Marathon Race Results](https://www.trackshackresults.com/disneysports/results/wdw/wdw20/mar_results.php)"
   ]
  },
  {
   "cell_type": "markdown",
   "id": "00aef906",
   "metadata": {
    "id": "FKI1CcBFFQm2"
   },
   "source": [
    "**Task 11** - Load the next dataset\n",
    "\n",
    "Let's load the data! The URL has been provided.\n",
    "\n",
    "* load your CSV file into a DataFrame named `df_disney`"
   ]
  },
  {
   "cell_type": "code",
   "execution_count": 21,
   "id": "3b42f5e2",
   "metadata": {
    "id": "KIpOQrHytz2P",
    "nbgrader": {
     "grade": false,
     "grade_id": "cell-2b389fa658a51cd2",
     "locked": false,
     "schema_version": 3,
     "solution": true,
     "task": false
    }
   },
   "outputs": [],
   "source": [
    "# Task 11\n",
    "import pandas as pd\n",
    "# URL for Disney marathon dataset\n",
    "data_url2 = 'https://raw.githubusercontent.com/LambdaSchool/data-science-practice-datasets/main/unit_1/Disney_Marathon/Disney.csv'\n",
    "\n",
    "### BEGIN SOLUTION\n",
    "df_disney = pd.read_csv(data_url2)\n",
    "### END SOLUTION"
   ]
  },
  {
   "cell_type": "markdown",
   "id": "e69b6d6f",
   "metadata": {
    "id": "Qiwzz_nfFQm3"
   },
   "source": [
    "**Task 11 Test**"
   ]
  },
  {
   "cell_type": "code",
   "execution_count": 22,
   "id": "bfed9ab9",
   "metadata": {
    "id": "uV3GQJqKFQm3",
    "nbgrader": {
     "grade": true,
     "grade_id": "cell-c1f16b75c543e0d1",
     "locked": true,
     "points": 1,
     "schema_version": 3,
     "solution": false,
     "task": false
    }
   },
   "outputs": [],
   "source": [
    "# Task 11 - Test\n",
    "\n",
    "assert isinstance(df_disney, pd.DataFrame), 'Have you created a DataFrame named `df_disney`?'\n",
    "assert len(df_disney) == 14106\n",
    "\n",
    "### BEGIN HIDDEN TESTS\n",
    "assert df_disney.shape == (14106, 5), 'Make sure you correctly read in the DataFrame'\n",
    "### END HIDDEN TESTS"
   ]
  },
  {
   "cell_type": "markdown",
   "id": "451d8c3e",
   "metadata": {
    "id": "RvxaZUrbNXvY"
   },
   "source": [
    "**Task 12 -** Statistical hypotheses\n",
    "\n",
    "From the list of choices below, select the null and alternative hypotheses using the experiment information described above.  Let $\\mu_1$ be the mean finishing time for all male runners and $\\mu_2$ be the mean finishing time for all female runners.\n",
    "\n",
    "Specify your answer in the next code block using `Answer = `.  For example, if the correct answer is choice B, you'll type `Answer = 'B'`.\n",
    "\n",
    "A: $H_0: \\mu_1 \\neq \\mu_2$ vs. $H_a: \\mu_1 = \\mu_2$\n",
    "\n",
    "B: $H_0: \\mu_1 = \\mu_2$ vs. $H_a: \\mu_1 \\neq \\mu_2$\n",
    "\n",
    "C: $H_0: \\mu_1 > \\mu_2$ vs. $H_a: \\mu_1 < \\mu_2$ \n",
    "\n",
    "D: $H_0: \\mu_1 <  \\mu_2$ vs. $H_a: \\mu_1 > \\mu_2$ "
   ]
  },
  {
   "cell_type": "code",
   "execution_count": 23,
   "id": "7938e569",
   "metadata": {
    "id": "9SnqedsaNXvb",
    "nbgrader": {
     "grade": false,
     "grade_id": "cell-de36ef90faad17d8",
     "locked": false,
     "schema_version": 3,
     "solution": true,
     "task": false
    }
   },
   "outputs": [],
   "source": [
    "# Task 12\n",
    "\n",
    "### BEGIN SOLUTION\n",
    "Answer = 'B'\n",
    "### END SOLUTION\n"
   ]
  },
  {
   "cell_type": "markdown",
   "id": "2142b352",
   "metadata": {
    "id": "jGLHnEkjNXvb"
   },
   "source": [
    "**Task 12 Test**"
   ]
  },
  {
   "cell_type": "code",
   "execution_count": 24,
   "id": "9f09d885",
   "metadata": {
    "nbgrader": {
     "grade": true,
     "grade_id": "cell-492e80f1f416b2c9",
     "locked": true,
     "points": 1,
     "schema_version": 3,
     "solution": false,
     "task": false
    }
   },
   "outputs": [],
   "source": [
    "# Task 12 - Test\n",
    "# Hidden tests - you will see the results when you submit to Canvas\n",
    "### BEGIN HIDDEN TESTS\n",
    "assert Answer == 'B', 'Think carefully about your hypotheses.'\n",
    "### END HIDDEN TESTS"
   ]
  },
  {
   "cell_type": "markdown",
   "id": "9398b546",
   "metadata": {
    "id": "z8iVyfsxFQm3"
   },
   "source": [
    "**Task 13** - Create new series from a DataFrame\n",
    "\n",
    "Create **Series** (a pandas DataFrame column is a Series):\n",
    "\n",
    "* one containing finishing times for male participants (`male_finish`)\n",
    "* one containing finishing times for female participants (`female_finish`)\n",
    "\n",
    "*Hint: Check the size of your resulting Series - it should have only one column!*"
   ]
  },
  {
   "cell_type": "code",
   "execution_count": 25,
   "id": "4de6bdaa",
   "metadata": {
    "id": "jKzFL1O4FQm3",
    "nbgrader": {
     "grade": false,
     "grade_id": "cell-4290d3dd2f668a25",
     "locked": false,
     "schema_version": 3,
     "solution": true,
     "task": false
    }
   },
   "outputs": [],
   "source": [
    "# Task 13\n",
    "\n",
    "### BEGIN SOLUTION\n",
    "male_finish = df_disney['time'].loc[df_disney['gender'] == 'M']\n",
    "female_finish = df_disney['time'].loc[df_disney['gender'] == 'F']\n",
    "### END SOLUTION"
   ]
  },
  {
   "cell_type": "markdown",
   "id": "955f0f6e",
   "metadata": {
    "id": "jR0BQZDOFQm4"
   },
   "source": [
    "**Task 13 Test**"
   ]
  },
  {
   "cell_type": "code",
   "execution_count": 26,
   "id": "d80a008c",
   "metadata": {
    "id": "HX6vIdPVFQm4",
    "nbgrader": {
     "grade": true,
     "grade_id": "cell-5384320ccd7f5048",
     "locked": true,
     "points": 1,
     "schema_version": 3,
     "solution": false,
     "task": false
    }
   },
   "outputs": [],
   "source": [
    "# Task 13 - Test\n",
    "# Visible testing - use this to check your results!\n",
    "assert male_finish.shape == (6577,), 'Make sure you selected M and only have a single column.'\n",
    "assert female_finish.shape == (7529,), 'Make sure you selected F and only have a single column'\n",
    "\n",
    "# NO hidden tests"
   ]
  },
  {
   "cell_type": "markdown",
   "id": "04d3ea98",
   "metadata": {
    "id": "H4WjCOrLFQm6"
   },
   "source": [
    "**Task 14** - Conduct a 2-sample t-test\n",
    "\n",
    "Conduct a 2-sample t-test to test your hypotheses:\n",
    "\n",
    "* Assign the t-statistic to a variable called `disney_tval`\n",
    "* Assign the p-value to a variable called `disney_pval`\n",
    "\n",
    "**Note:** The function returns two values and you can assign them with one line (example):\n",
    "\n",
    "`variable1, variable2` = `some.function(arguments)`"
   ]
  },
  {
   "cell_type": "code",
   "execution_count": 35,
   "id": "59c82aec",
   "metadata": {
    "id": "8jfpPCjWFQm6",
    "nbgrader": {
     "grade": false,
     "grade_id": "cell-d391e7e149994d87",
     "locked": false,
     "schema_version": 3,
     "solution": true,
     "task": false
    }
   },
   "outputs": [
    {
     "data": {
      "text/plain": [
       "Ttest_indResult(statistic=29.27857393997243, pvalue=5.485138013952879e-183)"
      ]
     },
     "execution_count": 35,
     "metadata": {},
     "output_type": "execute_result"
    }
   ],
   "source": [
    "# Task 14\n",
    "\n",
    "### BEGIN SOLUTION\n",
    "from scipy import stats\n",
    "\n",
    "disney_tval = stats.ttest_ind(male_finish, female_finish)[0]\n",
    "disney_pval = stats.ttest_ind(male_finish, female_finish)[1]\n",
    "\n",
    "disney_tval, disney_pval = stats.ttest_ind(female_finish, male_finish)\n",
    "stats.ttest_ind(female_finish, male_finish)\n",
    "# Alternate solution:\n",
    "\n",
    "#stats.ttest_ind_from_stats(male_finish_mean, male_finish_std, len(male_finish), \n",
    "#                                 female_finish_mean, female_finish_std, len(female_finish), equal_var=True)\n",
    "### END SOLUTION"
   ]
  },
  {
   "cell_type": "markdown",
   "id": "688f52d0",
   "metadata": {
    "id": "JDESTg77FQm6"
   },
   "source": [
    "**Task 14 Test**"
   ]
  },
  {
   "cell_type": "code",
   "execution_count": 41,
   "id": "5ad892f1",
   "metadata": {
    "id": "bgKW-YmNFQm6",
    "nbgrader": {
     "grade": true,
     "grade_id": "cell-35a1e3947ac6388a",
     "locked": true,
     "points": 1,
     "schema_version": 3,
     "solution": false,
     "task": false
    }
   },
   "outputs": [],
   "source": [
    "# Task 14 - Test\n",
    "# Hidden tests - you will see the results when you submit to Canvas\n",
    "### BEGIN HIDDEN TESTS\n",
    "assert np.abs(round(disney_tval)) == 29, 'Did you assign the correct values?'\n",
    "assert round(disney_pval) == 0, 'Did you assign the correct values?'\n",
    "### END HIDDEN TESTS"
   ]
  },
  {
   "cell_type": "markdown",
   "id": "bdd58f68",
   "metadata": {
    "id": "nusDTdXxOyUB"
   },
   "source": [
    "**Task 15**\n",
    "\n",
    "Select the correct conclusion at the 0.05 significance level from the list of choices below. Specify your answer in the next code block using `Answer = `.  For example, if the correct answer is choice B, you'll type `Answer = 'B'`.\n",
    "\n",
    "A: We reject the null hypothesis at the 0.05 significance level and conclude the mean finishing time for male and female marathon runners is different.\n",
    "\n",
    "B: We fail to reject the null hypothesis at the 0.05 significance level and conclude the mean finishing time for male and female marathon runners is different.\n",
    "\n",
    "C: We reject the null hypothesis at the 0.05 significance level and conclude the mean finishing time for male and female marathon runners is the same.\n",
    "\n",
    "D: We fail to reject the null hypothesis at the 0.05 significance level and conclude the mean finishing time for male and female marathon runners is the same.\n"
   ]
  },
  {
   "cell_type": "code",
   "execution_count": 29,
   "id": "c9e205a3",
   "metadata": {
    "id": "d5n9MhFFOyUN",
    "nbgrader": {
     "grade": false,
     "grade_id": "cell-66e19643f07fb7af",
     "locked": false,
     "schema_version": 3,
     "solution": true,
     "task": false
    }
   },
   "outputs": [],
   "source": [
    "# Task 15\n",
    "\n",
    "### BEGIN SOLUTION\n",
    "Answer = 'A'\n",
    "### END SOLUTION\n"
   ]
  },
  {
   "cell_type": "markdown",
   "id": "1fc40e1a",
   "metadata": {
    "id": "DWAMbt2VOyUN"
   },
   "source": [
    "**Task 15 Test**"
   ]
  },
  {
   "cell_type": "code",
   "execution_count": 30,
   "id": "6c5e86fb",
   "metadata": {
    "nbgrader": {
     "grade": true,
     "grade_id": "cell-d166fbea62c826e8",
     "locked": true,
     "points": 1,
     "schema_version": 3,
     "solution": false,
     "task": false
    }
   },
   "outputs": [],
   "source": [
    "# Task 15 - Test\n",
    "# Hidden tests - you will see the results when you submit to Canvas\n",
    "### BEGIN HIDDEN TESTS\n",
    "assert Answer == 'A', 'Think carefully about your conclusion.'\n",
    "### END HIDDEN TESTS"
   ]
  },
  {
   "cell_type": "code",
   "execution_count": null,
   "id": "7d4f81b3",
   "metadata": {},
   "outputs": [],
   "source": []
  }
 ],
 "metadata": {
  "celltoolbar": "Create Assignment",
  "kernelspec": {
   "display_name": "Python 3",
   "language": "python",
   "name": "python3"
  },
  "language_info": {
   "codemirror_mode": {
    "name": "ipython",
    "version": 3
   },
   "file_extension": ".py",
   "mimetype": "text/x-python",
   "name": "python",
   "nbconvert_exporter": "python",
   "pygments_lexer": "ipython3",
   "version": "3.8.8"
  }
 },
 "nbformat": 4,
 "nbformat_minor": 5
}
