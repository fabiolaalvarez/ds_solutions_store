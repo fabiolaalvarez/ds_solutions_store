{
 "cells": [
  {
   "cell_type": "markdown",
   "id": "35a2ff67",
   "metadata": {
    "nbgrader": {
     "grade": false,
     "grade_id": "cell-74368b748e448bbf",
     "locked": true,
     "schema_version": 3,
     "solution": false,
     "task": false
    }
   },
   "source": [
    "## Autograded Notebook (Canvas & CodeGrade)\n",
    "\n",
    "This notebook will be automatically graded. It is designed to test your answers and award points for the correct answers. Following the instructions for each Task carefully.\n",
    "\n",
    "### Instructions\n",
    "\n",
    "* **Download this notebook** as you would any other ipynb file\n",
    "* **Upload** to Google Colab or work locally (if you have that set-up)\n",
    "* **Delete `raise NotImplementedError()`**\n",
    "* Write your code in the `# YOUR CODE HERE` space\n",
    "* **Execute** the Test cells that contain `assert` statements - these help you check your work (others contain hidden tests that will be checked when you submit through Canvas)\n",
    "* **Save** your notebook when you are finished\n",
    "* **Download** as a `ipynb` file (if working in Colab)\n",
    "* **Upload** your complete notebook to Canvas (there will be additional instructions in Slack and/or Canvas)"
   ]
  },
  {
   "cell_type": "markdown",
   "id": "d43adaeb",
   "metadata": {
    "nbgrader": {
     "grade": false,
     "grade_id": "cell-91243a87d52ba4a2",
     "locked": true,
     "schema_version": 3,
     "solution": false,
     "task": false
    }
   },
   "source": [
    "# Unit 1 Sprint 1 Module 2\n",
    "\n",
    "## EDA and Features\n",
    "\n",
    "### Objectives\n",
    "\n",
    "* Load and csv files\n",
    "* Use basic Pandas function for data exploration\n",
    "* Understand the purpose of feature engineering\n",
    "\n",
    "#### Total notebook points: 13"
   ]
  },
  {
   "cell_type": "markdown",
   "id": "4c27355e",
   "metadata": {
    "nbgrader": {
     "grade": false,
     "grade_id": "cell-87878ff49ee098cb",
     "locked": true,
     "schema_version": 3,
     "solution": false,
     "task": false
    }
   },
   "source": [
    "**Task 1** - Load a dataset via its URL\n",
    "\n",
    "* Create a Python list named `column_headers` with the following items: `'age', 'workclass', 'fnlwgt', 'education', 'education-num', 'marital-status', 'occupation', 'relationship', 'race', 'sex', 'capital-gain', 'capital-loss', 'hours-per-week','native-country', 'income'`.  Lists have the form `listname = ['element 1', 'element 2', element 3']`\n",
    "* Load the file from the URL provided below using the `column_headers` list you created to name your columns: set the `pd.read_csv()` to `column_headers` using `names =`.  \n",
    "* Name the DataFrame `adult`"
   ]
  },
  {
   "cell_type": "code",
   "execution_count": 1,
   "id": "ccbaa907",
   "metadata": {
    "nbgrader": {
     "grade": false,
     "grade_id": "cell-8d0429f74b1e8242",
     "locked": false,
     "schema_version": 3,
     "solution": true,
     "task": false
    }
   },
   "outputs": [
    {
     "data": {
      "text/html": [
       "<div>\n",
       "<style scoped>\n",
       "    .dataframe tbody tr th:only-of-type {\n",
       "        vertical-align: middle;\n",
       "    }\n",
       "\n",
       "    .dataframe tbody tr th {\n",
       "        vertical-align: top;\n",
       "    }\n",
       "\n",
       "    .dataframe thead th {\n",
       "        text-align: right;\n",
       "    }\n",
       "</style>\n",
       "<table border=\"1\" class=\"dataframe\">\n",
       "  <thead>\n",
       "    <tr style=\"text-align: right;\">\n",
       "      <th></th>\n",
       "      <th>age</th>\n",
       "      <th>workclass</th>\n",
       "      <th>fnlwgt</th>\n",
       "      <th>education</th>\n",
       "      <th>education-num</th>\n",
       "      <th>marital-status</th>\n",
       "      <th>occupation</th>\n",
       "      <th>relationship</th>\n",
       "      <th>race</th>\n",
       "      <th>sex</th>\n",
       "      <th>capital-gain</th>\n",
       "      <th>capital-loss</th>\n",
       "      <th>hours-per-week</th>\n",
       "      <th>native-country</th>\n",
       "      <th>income</th>\n",
       "    </tr>\n",
       "  </thead>\n",
       "  <tbody>\n",
       "    <tr>\n",
       "      <th>0</th>\n",
       "      <td>39</td>\n",
       "      <td>State-gov</td>\n",
       "      <td>77516</td>\n",
       "      <td>Bachelors</td>\n",
       "      <td>13</td>\n",
       "      <td>Never-married</td>\n",
       "      <td>Adm-clerical</td>\n",
       "      <td>Not-in-family</td>\n",
       "      <td>White</td>\n",
       "      <td>Male</td>\n",
       "      <td>2174</td>\n",
       "      <td>0</td>\n",
       "      <td>40</td>\n",
       "      <td>United-States</td>\n",
       "      <td>&lt;=50K</td>\n",
       "    </tr>\n",
       "    <tr>\n",
       "      <th>1</th>\n",
       "      <td>50</td>\n",
       "      <td>Self-emp-not-inc</td>\n",
       "      <td>83311</td>\n",
       "      <td>Bachelors</td>\n",
       "      <td>13</td>\n",
       "      <td>Married-civ-spouse</td>\n",
       "      <td>Exec-managerial</td>\n",
       "      <td>Husband</td>\n",
       "      <td>White</td>\n",
       "      <td>Male</td>\n",
       "      <td>0</td>\n",
       "      <td>0</td>\n",
       "      <td>13</td>\n",
       "      <td>United-States</td>\n",
       "      <td>&lt;=50K</td>\n",
       "    </tr>\n",
       "    <tr>\n",
       "      <th>2</th>\n",
       "      <td>38</td>\n",
       "      <td>Private</td>\n",
       "      <td>215646</td>\n",
       "      <td>HS-grad</td>\n",
       "      <td>9</td>\n",
       "      <td>Divorced</td>\n",
       "      <td>Handlers-cleaners</td>\n",
       "      <td>Not-in-family</td>\n",
       "      <td>White</td>\n",
       "      <td>Male</td>\n",
       "      <td>0</td>\n",
       "      <td>0</td>\n",
       "      <td>40</td>\n",
       "      <td>United-States</td>\n",
       "      <td>&lt;=50K</td>\n",
       "    </tr>\n",
       "    <tr>\n",
       "      <th>3</th>\n",
       "      <td>53</td>\n",
       "      <td>Private</td>\n",
       "      <td>234721</td>\n",
       "      <td>11th</td>\n",
       "      <td>7</td>\n",
       "      <td>Married-civ-spouse</td>\n",
       "      <td>Handlers-cleaners</td>\n",
       "      <td>Husband</td>\n",
       "      <td>Black</td>\n",
       "      <td>Male</td>\n",
       "      <td>0</td>\n",
       "      <td>0</td>\n",
       "      <td>40</td>\n",
       "      <td>United-States</td>\n",
       "      <td>&lt;=50K</td>\n",
       "    </tr>\n",
       "    <tr>\n",
       "      <th>4</th>\n",
       "      <td>28</td>\n",
       "      <td>Private</td>\n",
       "      <td>338409</td>\n",
       "      <td>Bachelors</td>\n",
       "      <td>13</td>\n",
       "      <td>Married-civ-spouse</td>\n",
       "      <td>Prof-specialty</td>\n",
       "      <td>Wife</td>\n",
       "      <td>Black</td>\n",
       "      <td>Female</td>\n",
       "      <td>0</td>\n",
       "      <td>0</td>\n",
       "      <td>40</td>\n",
       "      <td>Cuba</td>\n",
       "      <td>&lt;=50K</td>\n",
       "    </tr>\n",
       "  </tbody>\n",
       "</table>\n",
       "</div>"
      ],
      "text/plain": [
       "   age          workclass  fnlwgt   education  education-num  \\\n",
       "0   39          State-gov   77516   Bachelors             13   \n",
       "1   50   Self-emp-not-inc   83311   Bachelors             13   \n",
       "2   38            Private  215646     HS-grad              9   \n",
       "3   53            Private  234721        11th              7   \n",
       "4   28            Private  338409   Bachelors             13   \n",
       "\n",
       "        marital-status          occupation    relationship    race      sex  \\\n",
       "0        Never-married        Adm-clerical   Not-in-family   White     Male   \n",
       "1   Married-civ-spouse     Exec-managerial         Husband   White     Male   \n",
       "2             Divorced   Handlers-cleaners   Not-in-family   White     Male   \n",
       "3   Married-civ-spouse   Handlers-cleaners         Husband   Black     Male   \n",
       "4   Married-civ-spouse      Prof-specialty            Wife   Black   Female   \n",
       "\n",
       "   capital-gain  capital-loss  hours-per-week  native-country  income  \n",
       "0          2174             0              40   United-States   <=50K  \n",
       "1             0             0              13   United-States   <=50K  \n",
       "2             0             0              40   United-States   <=50K  \n",
       "3             0             0              40   United-States   <=50K  \n",
       "4             0             0              40            Cuba   <=50K  "
      ]
     },
     "execution_count": 1,
     "metadata": {},
     "output_type": "execute_result"
    }
   ],
   "source": [
    "# Task 1\n",
    "import pandas as pd\n",
    "import numpy as np\n",
    "\n",
    "# URL for the dataset\n",
    "data_url = 'https://archive.ics.uci.edu/ml/machine-learning-databases/adult/adult.data'\n",
    "\n",
    "### BEGIN SOLUTION\n",
    "\n",
    "# Create the column headers list\n",
    "column_headers = ['age',\n",
    "                  'workclass',\n",
    "                  'fnlwgt', \n",
    "                  'education',\n",
    "                  'education-num',\n",
    "                  'marital-status',\n",
    "                  'occupation',\n",
    "                  'relationship',\n",
    "                  'race',\n",
    "                  'sex',\n",
    "                  'capital-gain',\n",
    "                  'capital-loss',\n",
    "                  'hours-per-week',\n",
    "                  'native-country',\n",
    "                  'income']\n",
    "\n",
    "adult = pd.read_csv(data_url, names=column_headers)\n",
    "\n",
    "### END SOLUTION\n",
    "\n",
    "# Print out your DataFrame\n",
    "adult.head()"
   ]
  },
  {
   "cell_type": "markdown",
   "id": "165dd7b8",
   "metadata": {
    "nbgrader": {
     "grade": false,
     "grade_id": "cell-4209d0e0042e98b4",
     "locked": true,
     "schema_version": 3,
     "solution": false,
     "task": false
    }
   },
   "source": [
    "**Task 1 Test**"
   ]
  },
  {
   "cell_type": "code",
   "execution_count": 2,
   "id": "0c3c93ab",
   "metadata": {
    "nbgrader": {
     "grade": true,
     "grade_id": "cell-788c5161452ee70a",
     "locked": true,
     "points": 1,
     "schema_version": 3,
     "solution": false,
     "task": false
    }
   },
   "outputs": [],
   "source": [
    "# Task 1 - Test\n",
    "\n",
    "# These tests are for you to check your work before submitting\n",
    "assert isinstance(column_headers, list), 'Have you created a list of header names?'\n",
    "assert len(column_headers) == 15, 'Did you include the correct number of items in the column_headers list?'\n",
    "assert isinstance(adult, pd.DataFrame), 'Have you created a DataFrame named adult?'\n",
    "\n",
    "# These tests will be completed when you submit your notebook for autograding\n",
    "### BEGIN HIDDEN TESTS\n",
    "assert adult.shape == (32561, 15), 'Double check your DataFrame size.'\n",
    "### END HIDDEN TESTS"
   ]
  },
  {
   "cell_type": "markdown",
   "id": "73a3346e",
   "metadata": {
    "nbgrader": {
     "grade": false,
     "grade_id": "cell-2379f060057ddbda",
     "locked": true,
     "schema_version": 3,
     "solution": false,
     "task": false
    }
   },
   "source": [
    "**Task 2** - Look at the first and last rows of the DataFrame\n",
    "\n",
    "* Assign the first **ten (10)** rows of the `adult` DataFrame to `adult_head`\n",
    "* Assign the last **ten (10)** rows of the `adult` DataFrame to `adult_tail`"
   ]
  },
  {
   "cell_type": "code",
   "execution_count": 3,
   "id": "9aa7fc05",
   "metadata": {
    "nbgrader": {
     "grade": false,
     "grade_id": "cell-7db4cedd667e6780",
     "locked": false,
     "schema_version": 3,
     "solution": true,
     "task": false
    }
   },
   "outputs": [],
   "source": [
    "# Task 2\n",
    "\n",
    "### BEGIN SOLUTION\n",
    "adult_head = adult.head(10)\n",
    "adult_tail = adult.tail(10)\n",
    "### END SOLUTION\n",
    "\n",
    "# Optional: print out adult_head and adult_tail"
   ]
  },
  {
   "cell_type": "markdown",
   "id": "475c9725",
   "metadata": {
    "nbgrader": {
     "grade": false,
     "grade_id": "cell-2febb54b07d9f844",
     "locked": true,
     "schema_version": 3,
     "solution": false,
     "task": false
    }
   },
   "source": [
    "**Task 2 Test**"
   ]
  },
  {
   "cell_type": "code",
   "execution_count": 4,
   "id": "0bb71189",
   "metadata": {
    "nbgrader": {
     "grade": true,
     "grade_id": "cell-37f4eea6d7a1793b",
     "locked": true,
     "points": 1,
     "schema_version": 3,
     "solution": false,
     "task": false
    }
   },
   "outputs": [],
   "source": [
    "# Task 2 - Test\n",
    "\n",
    "# These tests are for you to check your work before submitting\n",
    "assert isinstance(adult_head, pd.DataFrame), 'Have you created a DataFrame named adult_head?'\n",
    "assert isinstance(adult_tail, pd.DataFrame), 'Have you created a DataFrame named adult_tail?'\n",
    "\n",
    "# These tests will be completed when you submit your notebook for autograding\n",
    "### BEGIN HIDDEN TESTS\n",
    "assert adult_head.shape == (10, 15), 'Double check your adult_head DataFrame size.'\n",
    "assert adult_tail.shape == (10, 15), 'Double check your adult_tail DataFrame size.'\n",
    "### END HIDDEN TESTS"
   ]
  },
  {
   "cell_type": "markdown",
   "id": "dc50099f",
   "metadata": {
    "nbgrader": {
     "grade": false,
     "grade_id": "cell-103c0651c08f86b9",
     "locked": true,
     "schema_version": 3,
     "solution": false,
     "task": false
    }
   },
   "source": [
    "**Task 3** - Variable data types\n",
    "\n",
    "For your `adult` DataFrame, determine the data types for the variables.\n",
    "\n",
    "* Count the number of `int64` variable types and assign to `number_int64` (your value should be an integer)\n",
    "* Count the number of `object` variable types and assign to `number_object` (your value should be an integer)\n",
    "\n",
    "There are different ways to find the data types of the columns in a DataFrame. All you need to do for this task is to count the number of each data type and assign to the corresponding variable."
   ]
  },
  {
   "cell_type": "code",
   "execution_count": 5,
   "id": "79ae06d9",
   "metadata": {
    "nbgrader": {
     "grade": false,
     "grade_id": "cell-8f75ae5ed5309145",
     "locked": false,
     "schema_version": 3,
     "solution": true,
     "task": false
    }
   },
   "outputs": [],
   "source": [
    "# Task 3\n",
    "\n",
    "### BEGIN SOLUTION\n",
    "# Display the data types\n",
    "adult.dtypes\n",
    "number_int64 = 6\n",
    "number_object = 9\n",
    "### END SOLUTION"
   ]
  },
  {
   "cell_type": "markdown",
   "id": "b4a3c0e2",
   "metadata": {
    "nbgrader": {
     "grade": false,
     "grade_id": "cell-2e76e5286410b2b8",
     "locked": true,
     "schema_version": 3,
     "solution": false,
     "task": false
    }
   },
   "source": [
    "**Task 3 Test**"
   ]
  },
  {
   "cell_type": "code",
   "execution_count": 6,
   "id": "dd4677b6",
   "metadata": {
    "nbgrader": {
     "grade": true,
     "grade_id": "cell-1425fb0c04a97cd3",
     "locked": true,
     "points": 1,
     "schema_version": 3,
     "solution": false,
     "task": false
    }
   },
   "outputs": [],
   "source": [
    "# Task 3 - Test\n",
    "\n",
    "# Hidden tests - you will see the results when you submit to Canvas\n",
    "### BEGIN HIDDEN TESTS\n",
    "assert number_int64 == 6, 'Double check the number of int64 variables.'\n",
    "assert number_object == 9, 'Double check the number of object variables.'\n",
    "### END HIDDEN TESTS"
   ]
  },
  {
   "cell_type": "markdown",
   "id": "819489dd",
   "metadata": {
    "nbgrader": {
     "grade": false,
     "grade_id": "cell-4e06121a6ec68913",
     "locked": true,
     "schema_version": 3,
     "solution": false,
     "task": false
    }
   },
   "source": [
    "**Task 4** - DataFrame dimensions\n",
    "\n",
    "* Find the dimensions of your DataFrame and assign result to the variable `adult_dimension`. Your variable should be a *tuple* and the row dimension should be listed first.\n",
    "\n",
    "Hint: A tuple looks like this: (1, 2) - a tuple is a collection which is ordered and unchangeable. You can use the function `type(your_variable)` to print the variable type.\n",
    "\n",
    "Hint 2: The `shape` method returns a tuple - convenient!"
   ]
  },
  {
   "cell_type": "code",
   "execution_count": 7,
   "id": "383dbd65",
   "metadata": {
    "nbgrader": {
     "grade": false,
     "grade_id": "cell-0dbc0cadefa896cd",
     "locked": false,
     "schema_version": 3,
     "solution": true,
     "task": false
    }
   },
   "outputs": [
    {
     "name": "stdout",
     "output_type": "stream",
     "text": [
      "(32561, 15)\n"
     ]
    }
   ],
   "source": [
    "# Task 4\n",
    "\n",
    "### BEGIN SOLUTION\n",
    "adult_dimension = adult.shape\n",
    "### END SOLUTION\n",
    "\n",
    "# Print out the shape\n",
    "print(adult_dimension)"
   ]
  },
  {
   "cell_type": "markdown",
   "id": "9cf93cb5",
   "metadata": {
    "nbgrader": {
     "grade": false,
     "grade_id": "cell-2a847b48e6c0aaf7",
     "locked": true,
     "schema_version": 3,
     "solution": false,
     "task": false
    }
   },
   "source": [
    "**Task 4 Test**"
   ]
  },
  {
   "cell_type": "code",
   "execution_count": 8,
   "id": "afa73083",
   "metadata": {
    "nbgrader": {
     "grade": true,
     "grade_id": "cell-137d53dc191babc4",
     "locked": true,
     "points": 1,
     "schema_version": 3,
     "solution": false,
     "task": false
    }
   },
   "outputs": [],
   "source": [
    "# Task 4 - Test\n",
    "\n",
    "assert isinstance(adult_dimension, tuple), 'Have you created a tuple named adult_dimension?'\n",
    "\n",
    "# Hidden tests - you will see the results when you submit to Canvas\n",
    "### BEGIN HIDDEN TESTS\n",
    "assert adult_dimension == (32561, 15), 'Check your dimensions and make sure you have rows listed first.'\n",
    "### END HIDDEN TESTS"
   ]
  },
  {
   "cell_type": "markdown",
   "id": "fcd50164",
   "metadata": {
    "nbgrader": {
     "grade": false,
     "grade_id": "cell-6470aee70203f66e",
     "locked": true,
     "schema_version": 3,
     "solution": false,
     "task": false
    }
   },
   "source": [
    "**Task 5** - Missing values\n",
    "\n",
    "Are there any missing values in the dataset? Let's check!\n",
    "\n",
    "* Check for missing values using `.isnull().sum()`\n",
    "* Count the number of missing values and assign the value to the variable `adult_missing`. Your variable should be an integer."
   ]
  },
  {
   "cell_type": "code",
   "execution_count": 9,
   "id": "db10495a",
   "metadata": {
    "nbgrader": {
     "grade": false,
     "grade_id": "cell-866428f0345c8e00",
     "locked": false,
     "schema_version": 3,
     "solution": true,
     "task": false
    }
   },
   "outputs": [
    {
     "name": "stdout",
     "output_type": "stream",
     "text": [
      "age               0\n",
      "workclass         0\n",
      "fnlwgt            0\n",
      "education         0\n",
      "education-num     0\n",
      "marital-status    0\n",
      "occupation        0\n",
      "relationship      0\n",
      "race              0\n",
      "sex               0\n",
      "capital-gain      0\n",
      "capital-loss      0\n",
      "hours-per-week    0\n",
      "native-country    0\n",
      "income            0\n",
      "dtype: int64\n"
     ]
    }
   ],
   "source": [
    "# Task 5\n",
    "\n",
    "### BEGIN SOLUTION\n",
    "print(adult.isnull().sum())\n",
    "# There are no missing values\n",
    "adult_missing = 0\n",
    "### END SOLUTION"
   ]
  },
  {
   "cell_type": "markdown",
   "id": "6ba96b27",
   "metadata": {
    "nbgrader": {
     "grade": false,
     "grade_id": "cell-9d10b090447bd99d",
     "locked": true,
     "schema_version": 3,
     "solution": false,
     "task": false
    }
   },
   "source": [
    "**Task 5 Test**"
   ]
  },
  {
   "cell_type": "code",
   "execution_count": 10,
   "id": "492e8693",
   "metadata": {
    "nbgrader": {
     "grade": true,
     "grade_id": "cell-005d46af85b7d91b",
     "locked": true,
     "points": 1,
     "schema_version": 3,
     "solution": false,
     "task": false
    }
   },
   "outputs": [],
   "source": [
    "# Task 5 - Test\n",
    "\n",
    "# Hidden tests - you will see the results when you submit to Canvas\n",
    "### BEGIN HIDDEN TESTS\n",
    "assert adult_missing == 0, 'Check you missing values sum - there should be no missing values.'\n",
    "### END HIDDEN TESTS"
   ]
  },
  {
   "cell_type": "markdown",
   "id": "50c322c9",
   "metadata": {
    "nbgrader": {
     "grade": false,
     "grade_id": "cell-8f7d234f2d7cf277",
     "locked": true,
     "schema_version": 3,
     "solution": false,
     "task": false
    }
   },
   "source": [
    "**Task 6** - Viewing DataFrame statistics\n",
    "\n",
    "Let's look at some of the *summary statistics* of our dataset. We can use the .describe() function in order to see the summary statistics of the numeric columns.\n",
    "\n",
    "Look at the statistics for the `adult` DataFrame and then complete the following two tasks:\n",
    "\n",
    "* Find the value for the mean `age` and assign it to the variable `mean_age` (your value should be a float and defined to two decimal places)\n",
    "* Find the standard deviation (std) for the `hours-per-week` variable and assign it to `std_hpw` (your value should be a float and defined to two decimal places)\n",
    "\n",
    "Are there any values shown that might be a code for missing data?  We'll learn how to change the values in a DataFrame in the next module."
   ]
  },
  {
   "cell_type": "code",
   "execution_count": 11,
   "id": "d89e4ea5",
   "metadata": {
    "nbgrader": {
     "grade": false,
     "grade_id": "cell-5dbc7144c66ecdec",
     "locked": false,
     "schema_version": 3,
     "solution": true,
     "task": false
    }
   },
   "outputs": [],
   "source": [
    "# Task 6\n",
    "\n",
    "### BEGIN SOLUTION\n",
    "\n",
    "# View the statistics\n",
    "adult.describe()\n",
    "\n",
    "# Answer:\n",
    "# The values of 99999 for capital-gain\n",
    "# and 99 for hours-per-week are code for missing values\n",
    "\n",
    "mean_age = 38.58\n",
    "std_hpw = 12.35\n",
    "\n",
    "### END SOLUTION"
   ]
  },
  {
   "cell_type": "markdown",
   "id": "7ab1124e",
   "metadata": {
    "nbgrader": {
     "grade": false,
     "grade_id": "cell-abbb3d5086b1634c",
     "locked": true,
     "schema_version": 3,
     "solution": false,
     "task": false
    }
   },
   "source": [
    "**Task 6 Test**"
   ]
  },
  {
   "cell_type": "code",
   "execution_count": 12,
   "id": "7ced746e",
   "metadata": {
    "nbgrader": {
     "grade": true,
     "grade_id": "cell-8cd8fc43cc8628af",
     "locked": true,
     "points": 1,
     "schema_version": 3,
     "solution": false,
     "task": false
    }
   },
   "outputs": [],
   "source": [
    "# Task 6 - Test\n",
    "\n",
    "# Hidden tests - you will see the results when you submit to Canvas\n",
    "### BEGIN HIDDEN TESTS\n",
    "assert round(mean_age) == 39, 'Check the results you read from your describe table'\n",
    "assert round(std_hpw) == 12, 'Check the results you read from your describe table'\n",
    "### END HIDDEN TESTS"
   ]
  },
  {
   "cell_type": "markdown",
   "id": "8686e9ce",
   "metadata": {
    "nbgrader": {
     "grade": false,
     "grade_id": "cell-29e5648ab5ebe708",
     "locked": true,
     "schema_version": 3,
     "solution": false,
     "task": false
    }
   },
   "source": [
    "**Task 7** - Summary statistics for non-numeric columns\n",
    "\n",
    "We have some columns in this dataset that are non-numeric or object columns. This is usually a string object. Let's use the `describe()` function again but include the argument `exclude='number'` to exclude the numeric columns.\n",
    "\n",
    "Using the results of `describe(exclude='number')`, complete the following two tasks:\n",
    "\n",
    "* Find the number of unique `education` values and assign it to `unique_edu` (your value should be an integer)\n",
    "* Find the number of times the most frequent observation for `income` occurs and assign it to `freq_income` (your value should be an integer) *(Note: this is not the income value itself, just how many times it occurs)*"
   ]
  },
  {
   "cell_type": "code",
   "execution_count": 13,
   "id": "7ed0c17f",
   "metadata": {
    "nbgrader": {
     "grade": false,
     "grade_id": "cell-7ed26707fcb247b0",
     "locked": false,
     "schema_version": 3,
     "solution": true,
     "task": false
    }
   },
   "outputs": [],
   "source": [
    "# Task 7\n",
    "\n",
    "### BEGIN SOLUTION\n",
    "\n",
    "# View the non-numeric statistics\n",
    "adult.describe(exclude='number')\n",
    "\n",
    "unique_edu = 16\n",
    "freq_income = 24720\n",
    "\n",
    "### END SOLUTION"
   ]
  },
  {
   "cell_type": "code",
   "execution_count": 14,
   "id": "ea9df9ce",
   "metadata": {},
   "outputs": [
    {
     "data": {
      "text/html": [
       "<div>\n",
       "<style scoped>\n",
       "    .dataframe tbody tr th:only-of-type {\n",
       "        vertical-align: middle;\n",
       "    }\n",
       "\n",
       "    .dataframe tbody tr th {\n",
       "        vertical-align: top;\n",
       "    }\n",
       "\n",
       "    .dataframe thead th {\n",
       "        text-align: right;\n",
       "    }\n",
       "</style>\n",
       "<table border=\"1\" class=\"dataframe\">\n",
       "  <thead>\n",
       "    <tr style=\"text-align: right;\">\n",
       "      <th></th>\n",
       "      <th>workclass</th>\n",
       "      <th>education</th>\n",
       "      <th>marital-status</th>\n",
       "      <th>occupation</th>\n",
       "      <th>relationship</th>\n",
       "      <th>race</th>\n",
       "      <th>sex</th>\n",
       "      <th>native-country</th>\n",
       "      <th>income</th>\n",
       "    </tr>\n",
       "  </thead>\n",
       "  <tbody>\n",
       "    <tr>\n",
       "      <th>count</th>\n",
       "      <td>32561</td>\n",
       "      <td>32561</td>\n",
       "      <td>32561</td>\n",
       "      <td>32561</td>\n",
       "      <td>32561</td>\n",
       "      <td>32561</td>\n",
       "      <td>32561</td>\n",
       "      <td>32561</td>\n",
       "      <td>32561</td>\n",
       "    </tr>\n",
       "    <tr>\n",
       "      <th>unique</th>\n",
       "      <td>9</td>\n",
       "      <td>16</td>\n",
       "      <td>7</td>\n",
       "      <td>15</td>\n",
       "      <td>6</td>\n",
       "      <td>5</td>\n",
       "      <td>2</td>\n",
       "      <td>42</td>\n",
       "      <td>2</td>\n",
       "    </tr>\n",
       "    <tr>\n",
       "      <th>top</th>\n",
       "      <td>Private</td>\n",
       "      <td>HS-grad</td>\n",
       "      <td>Married-civ-spouse</td>\n",
       "      <td>Prof-specialty</td>\n",
       "      <td>Husband</td>\n",
       "      <td>White</td>\n",
       "      <td>Male</td>\n",
       "      <td>United-States</td>\n",
       "      <td>&lt;=50K</td>\n",
       "    </tr>\n",
       "    <tr>\n",
       "      <th>freq</th>\n",
       "      <td>22696</td>\n",
       "      <td>10501</td>\n",
       "      <td>14976</td>\n",
       "      <td>4140</td>\n",
       "      <td>13193</td>\n",
       "      <td>27816</td>\n",
       "      <td>21790</td>\n",
       "      <td>29170</td>\n",
       "      <td>24720</td>\n",
       "    </tr>\n",
       "  </tbody>\n",
       "</table>\n",
       "</div>"
      ],
      "text/plain": [
       "       workclass education       marital-status       occupation relationship  \\\n",
       "count      32561     32561                32561            32561        32561   \n",
       "unique         9        16                    7               15            6   \n",
       "top      Private   HS-grad   Married-civ-spouse   Prof-specialty      Husband   \n",
       "freq       22696     10501                14976             4140        13193   \n",
       "\n",
       "          race    sex  native-country  income  \n",
       "count    32561  32561           32561   32561  \n",
       "unique       5      2              42       2  \n",
       "top      White   Male   United-States   <=50K  \n",
       "freq     27816  21790           29170   24720  "
      ]
     },
     "execution_count": 14,
     "metadata": {},
     "output_type": "execute_result"
    }
   ],
   "source": [
    "adult.describe(exclude='number')"
   ]
  },
  {
   "cell_type": "markdown",
   "id": "5c27179d",
   "metadata": {
    "nbgrader": {
     "grade": false,
     "grade_id": "cell-333c954db06149e3",
     "locked": true,
     "schema_version": 3,
     "solution": false,
     "task": false
    }
   },
   "source": [
    "**Task 7 Test**"
   ]
  },
  {
   "cell_type": "code",
   "execution_count": 15,
   "id": "3c90f60e",
   "metadata": {
    "nbgrader": {
     "grade": true,
     "grade_id": "cell-ce1a0a4faf19dbfc",
     "locked": true,
     "points": 1,
     "schema_version": 3,
     "solution": false,
     "task": false
    }
   },
   "outputs": [],
   "source": [
    "# Task 7 - Test\n",
    "\n",
    "# Hidden tests - you will see the results when you submit to Canvas\n",
    "### BEGIN HIDDEN TESTS\n",
    "assert round(unique_edu) == 16, 'Check the results from your describe table'\n",
    "assert round(freq_income) == 24720, 'Check the results from your describe table'\n",
    "### END HIDDEN TESTS"
   ]
  },
  {
   "cell_type": "markdown",
   "id": "9fdf28cc",
   "metadata": {
    "nbgrader": {
     "grade": false,
     "grade_id": "cell-93a95447c800d426",
     "locked": true,
     "schema_version": 3,
     "solution": false,
     "task": false
    }
   },
   "source": [
    "**Task 8** - Finding value counts\n",
    "\n",
    "Let's look more specifically at the `relationship` column and perform a count of the number of observations for each category. We can see how many categories we have by using the `.unique()` method on the column. Then, we can use `.value_counts()` to count the number of observations in each category.\n",
    "\n",
    "* View the unique values in the `relationship` column with `.unique()`\n",
    "* View the number of observations for each value with `.value_counts()`\n",
    "* Find the counts for `Other-relative` and assign to the variable `adult_other_rel`"
   ]
  },
  {
   "cell_type": "code",
   "execution_count": 16,
   "id": "7af9dbe6",
   "metadata": {
    "nbgrader": {
     "grade": false,
     "grade_id": "cell-c273f89ae164b596",
     "locked": false,
     "schema_version": 3,
     "solution": true,
     "task": false
    }
   },
   "outputs": [],
   "source": [
    "# Task 8\n",
    "\n",
    "### BEGIN SOLUTION\n",
    "\n",
    "# View the non-numeric statistics\n",
    "adult['relationship'].unique()\n",
    "adult['relationship'].value_counts()\n",
    "\n",
    "adult_other_rel = 981\n",
    "\n",
    "### END SOLUTION"
   ]
  },
  {
   "cell_type": "markdown",
   "id": "d6d63516",
   "metadata": {
    "nbgrader": {
     "grade": false,
     "grade_id": "cell-e6f65336b611ce4a",
     "locked": true,
     "schema_version": 3,
     "solution": false,
     "task": false
    }
   },
   "source": [
    "**Task 8 Test**"
   ]
  },
  {
   "cell_type": "code",
   "execution_count": 17,
   "id": "ecc4dc98",
   "metadata": {
    "nbgrader": {
     "grade": true,
     "grade_id": "cell-7e8ae1c1c164dc92",
     "locked": true,
     "points": 1,
     "schema_version": 3,
     "solution": false,
     "task": false
    }
   },
   "outputs": [],
   "source": [
    "# Task 8 - Test\n",
    "\n",
    "# Hidden tests - you will see the results when you submit to Canvas\n",
    "### BEGIN HIDDEN TESTS\n",
    "assert round(adult_other_rel) == 981, 'Did you select the correct observation?'\n",
    "### END HIDDEN TESTS"
   ]
  },
  {
   "cell_type": "markdown",
   "id": "a472bbe4",
   "metadata": {
    "nbgrader": {
     "grade": false,
     "grade_id": "cell-7757ad0c5883eafd",
     "locked": true,
     "schema_version": 3,
     "solution": false,
     "task": false
    }
   },
   "source": [
    "**Task 9** - Create a Series\n",
    "\n",
    "A column of a DataFrame is a pandas Series. Using the `adult` DataFrame, create a Series from the `occupation` column.\n",
    "\n",
    "* Create a Series from the `occupation` column and name it `adult_occup`"
   ]
  },
  {
   "cell_type": "code",
   "execution_count": 18,
   "id": "ad815c06",
   "metadata": {
    "nbgrader": {
     "grade": false,
     "grade_id": "cell-adbc8e3353d9e266",
     "locked": false,
     "schema_version": 3,
     "solution": true,
     "task": false
    }
   },
   "outputs": [],
   "source": [
    "# Task 9\n",
    "\n",
    "### BEGIN SOLUTION\n",
    "adult_occup = adult['occupation']\n",
    "### END SOLUTION"
   ]
  },
  {
   "cell_type": "markdown",
   "id": "9e403f69",
   "metadata": {
    "nbgrader": {
     "grade": false,
     "grade_id": "cell-cf4af4930092c649",
     "locked": true,
     "schema_version": 3,
     "solution": false,
     "task": false
    }
   },
   "source": [
    "**Task 9 Test**"
   ]
  },
  {
   "cell_type": "code",
   "execution_count": 19,
   "id": "92b13510",
   "metadata": {
    "nbgrader": {
     "grade": true,
     "grade_id": "cell-716ff49cd4887f23",
     "locked": true,
     "points": 1,
     "schema_version": 3,
     "solution": false,
     "task": false
    }
   },
   "outputs": [],
   "source": [
    "# Task 9 - Test\n",
    "\n",
    "# These tests are for you to check your work before submitting\n",
    "assert isinstance(adult_occup, pd.Series), 'Have you created the correct Series?'\n",
    "\n",
    "# Hidden tests - you will see the results when you submit to Canvas\n",
    "### BEGIN HIDDEN TESTS\n",
    "assert adult_occup.name == 'occupation', 'Double check that you have the correct column.'\n",
    "### END HIDDEN TESTS"
   ]
  },
  {
   "cell_type": "markdown",
   "id": "a06120bd",
   "metadata": {
    "nbgrader": {
     "grade": false,
     "grade_id": "cell-cc5cabdf6b9aeb4f",
     "locked": true,
     "schema_version": 3,
     "solution": false,
     "task": false
    }
   },
   "source": [
    "## Feature Creation\n",
    "\n",
    "Next you will focus on learning how to create new features from exisiting data. There are many ways to create features in your datasets; we'll only focus on a few here. Let's get started!"
   ]
  },
  {
   "cell_type": "markdown",
   "id": "e875cd66",
   "metadata": {
    "nbgrader": {
     "grade": false,
     "grade_id": "cell-2aeba7d5fa08564b",
     "locked": true,
     "schema_version": 3,
     "solution": false,
     "task": false
    }
   },
   "source": [
    "**Task 10** - Load the data set\n",
    "\n",
    "* Using the provided URL, load the Ames Housing Data into a DataFrame called `house`\n",
    "* View your DataFrame"
   ]
  },
  {
   "cell_type": "code",
   "execution_count": 20,
   "id": "384ba545",
   "metadata": {
    "nbgrader": {
     "grade": false,
     "grade_id": "cell-76a11348650ab4bd",
     "locked": false,
     "schema_version": 3,
     "solution": true,
     "task": false
    }
   },
   "outputs": [],
   "source": [
    "# Task 10\n",
    "\n",
    "# Imports\n",
    "import pandas as pd\n",
    "\n",
    "# Dataset URL\n",
    "\n",
    "data_url = 'https://raw.githubusercontent.com/LambdaSchool/data-science-practice-datasets/main/unit_1/Housing/Ames%20Iowa%20Housing%20Data.csv'\n",
    "\n",
    "### BEGIN SOLUTION\n",
    "house = pd.read_csv(data_url)\n",
    "### END SOLUTION\n",
    "\n",
    "# View your DataFrame\n"
   ]
  },
  {
   "cell_type": "markdown",
   "id": "f20bfef9",
   "metadata": {
    "nbgrader": {
     "grade": false,
     "grade_id": "cell-1295ce65e73ae9a0",
     "locked": true,
     "schema_version": 3,
     "solution": false,
     "task": false
    }
   },
   "source": [
    "**Task 10 Test**"
   ]
  },
  {
   "cell_type": "code",
   "execution_count": 21,
   "id": "7e627c84",
   "metadata": {
    "nbgrader": {
     "grade": true,
     "grade_id": "cell-851854e034a68c08",
     "locked": true,
     "points": 1,
     "schema_version": 3,
     "solution": false,
     "task": false
    }
   },
   "outputs": [],
   "source": [
    "# Task 10 - Test\n",
    "\n",
    "# These tests are for you to check your work before submitting\n",
    "assert isinstance(house, pd.DataFrame), 'Have you created a DataFrame named house?'\n",
    "\n",
    "# Hidden tests - you'll see results when you submit to Canvas\n",
    "### BEGIN HIDDEN TESTS\n",
    "assert house.shape == (1460, 81), 'Double check your DataFrame size.'\n",
    "### END HIDDEN TESTS"
   ]
  },
  {
   "cell_type": "markdown",
   "id": "a09761e0",
   "metadata": {
    "nbgrader": {
     "grade": false,
     "grade_id": "cell-62001ed423d52c26",
     "locked": true,
     "schema_version": 3,
     "solution": false,
     "task": false
    }
   },
   "source": [
    "**Task 11** - Create a new feature\n",
    "\n",
    "Now that we have the data loaded, we're going to create a new feature. We can use the some of the existing features, in this case, the total number of bathrooms in one column.\n",
    "\n",
    "* Create a new variable called `Total_Bathrooms` that contains the total number of full and half bathrooms in the house.  \n",
    "\n",
    "*Hint: Identify all the columns with bath in the title and add their values together. There are four columns to add together.  Add one to the total for each full or half bathroom.*"
   ]
  },
  {
   "cell_type": "code",
   "execution_count": 22,
   "id": "ba9958f6",
   "metadata": {
    "nbgrader": {
     "grade": false,
     "grade_id": "cell-3ea6009bc1f45cc9",
     "locked": false,
     "schema_version": 3,
     "solution": true,
     "task": false
    }
   },
   "outputs": [],
   "source": [
    "# Task 11\n",
    "\n",
    "### BEGIN SOLUTION\n",
    "house['Total_Bathrooms'] = house['BsmtFullBath'] + \\\n",
    "                           house['BsmtHalfBath'] + \\\n",
    "                           house['FullBath'] + \\\n",
    "                           house['HalfBath']\n",
    "### END SOLUTION"
   ]
  },
  {
   "cell_type": "markdown",
   "id": "d8ec48ee",
   "metadata": {
    "nbgrader": {
     "grade": false,
     "grade_id": "cell-799b70e4242d35f9",
     "locked": true,
     "schema_version": 3,
     "solution": false,
     "task": false
    }
   },
   "source": [
    "**Task 11 Test**"
   ]
  },
  {
   "cell_type": "code",
   "execution_count": 23,
   "id": "62defc22",
   "metadata": {
    "nbgrader": {
     "grade": true,
     "grade_id": "cell-7505e6a0d5830f94",
     "locked": true,
     "points": 1,
     "schema_version": 3,
     "solution": false,
     "task": false
    }
   },
   "outputs": [
    {
     "data": {
      "text/html": [
       "<div>\n",
       "<style scoped>\n",
       "    .dataframe tbody tr th:only-of-type {\n",
       "        vertical-align: middle;\n",
       "    }\n",
       "\n",
       "    .dataframe tbody tr th {\n",
       "        vertical-align: top;\n",
       "    }\n",
       "\n",
       "    .dataframe thead th {\n",
       "        text-align: right;\n",
       "    }\n",
       "</style>\n",
       "<table border=\"1\" class=\"dataframe\">\n",
       "  <thead>\n",
       "    <tr style=\"text-align: right;\">\n",
       "      <th></th>\n",
       "      <th>Total_Bathrooms</th>\n",
       "      <th>BsmtFullBath</th>\n",
       "      <th>BsmtHalfBath</th>\n",
       "      <th>FullBath</th>\n",
       "      <th>HalfBath</th>\n",
       "    </tr>\n",
       "  </thead>\n",
       "  <tbody>\n",
       "    <tr>\n",
       "      <th>0</th>\n",
       "      <td>4</td>\n",
       "      <td>1</td>\n",
       "      <td>0</td>\n",
       "      <td>2</td>\n",
       "      <td>1</td>\n",
       "    </tr>\n",
       "    <tr>\n",
       "      <th>1</th>\n",
       "      <td>3</td>\n",
       "      <td>0</td>\n",
       "      <td>1</td>\n",
       "      <td>2</td>\n",
       "      <td>0</td>\n",
       "    </tr>\n",
       "    <tr>\n",
       "      <th>2</th>\n",
       "      <td>4</td>\n",
       "      <td>1</td>\n",
       "      <td>0</td>\n",
       "      <td>2</td>\n",
       "      <td>1</td>\n",
       "    </tr>\n",
       "    <tr>\n",
       "      <th>3</th>\n",
       "      <td>2</td>\n",
       "      <td>1</td>\n",
       "      <td>0</td>\n",
       "      <td>1</td>\n",
       "      <td>0</td>\n",
       "    </tr>\n",
       "    <tr>\n",
       "      <th>4</th>\n",
       "      <td>4</td>\n",
       "      <td>1</td>\n",
       "      <td>0</td>\n",
       "      <td>2</td>\n",
       "      <td>1</td>\n",
       "    </tr>\n",
       "  </tbody>\n",
       "</table>\n",
       "</div>"
      ],
      "text/plain": [
       "   Total_Bathrooms  BsmtFullBath  BsmtHalfBath  FullBath  HalfBath\n",
       "0                4             1             0         2         1\n",
       "1                3             0             1         2         0\n",
       "2                4             1             0         2         1\n",
       "3                2             1             0         1         0\n",
       "4                4             1             0         2         1"
      ]
     },
     "execution_count": 23,
     "metadata": {},
     "output_type": "execute_result"
    }
   ],
   "source": [
    "# Task 11 - Test\n",
    "\n",
    "assert 'Total_Bathrooms' in house.columns, 'Did you add the new column?'\n",
    "\n",
    "# Hidden tests - you'll see results when you submit to Canvas\n",
    "### BEGIN HIDDEN TESTS\n",
    "assert house.shape == (1460, 82), 'Double check your DataFrame size.'\n",
    "### END HIDDEN TESTS\n",
    "\n",
    "# View all the bathroom columns\n",
    "house[['Total_Bathrooms','BsmtFullBath','BsmtHalfBath','FullBath','HalfBath']].head()"
   ]
  },
  {
   "cell_type": "markdown",
   "id": "1f3ee079",
   "metadata": {
    "nbgrader": {
     "grade": false,
     "grade_id": "cell-27b8ba311ede53f5",
     "locked": true,
     "schema_version": 3,
     "solution": false,
     "task": false
    }
   },
   "source": [
    "**Task 12** - Create a new feature column\n",
    "\n",
    "Next we're going to create another new column by \"encoding\" an existing column. Using the `LotArea` column, we'll assign values according the the area of the lot.\n",
    "\n",
    "* Create a new column called `Large_Lot` that takes on the following values:\n",
    "    * 0 when `LotArea` is **less** than 10,000\n",
    "    * 1 when `LotArea` is **greater than or equal** to 10,000\n",
    "    "
   ]
  },
  {
   "cell_type": "code",
   "execution_count": 24,
   "id": "ec9345e3",
   "metadata": {
    "nbgrader": {
     "grade": false,
     "grade_id": "cell-f1cf383f1e791f0a",
     "locked": false,
     "schema_version": 3,
     "solution": true,
     "task": false
    }
   },
   "outputs": [],
   "source": [
    "# Task 12\n",
    "\n",
    "### BEGIN SOLUTION\n",
    "house.loc[house['LotArea'] >= 10000, 'Large_Lot'] = 1  \n",
    "house.loc[house['LotArea'] < 10000, 'Large_Lot'] = 0\n",
    "### END SOLUTION\n",
    "\n",
    "# View the new column\n",
    "#house[['LotArea', 'Large_Lot']].head()\n"
   ]
  },
  {
   "cell_type": "code",
   "execution_count": 30,
   "id": "515b8d47",
   "metadata": {},
   "outputs": [],
   "source": [
    "house['Large_Lot']=[1 if x >= 10000 else 0 for x in house['LotArea']]"
   ]
  },
  {
   "cell_type": "markdown",
   "id": "744f2715",
   "metadata": {
    "nbgrader": {
     "grade": false,
     "grade_id": "cell-6195676e517042ed",
     "locked": true,
     "schema_version": 3,
     "solution": false,
     "task": false
    }
   },
   "source": [
    "**Task 12 Test**"
   ]
  },
  {
   "cell_type": "code",
   "execution_count": null,
   "id": "a70bf92e",
   "metadata": {
    "nbgrader": {
     "grade": true,
     "grade_id": "cell-ef0a2eeb1931e1dd",
     "locked": true,
     "points": 1,
     "schema_version": 3,
     "solution": false,
     "task": false
    }
   },
   "outputs": [],
   "source": [
    "# Task 12 - Test\n",
    "\n",
    "assert 'Large_Lot' in house.columns, 'Did you add the Large_Lot column?'\n",
    "\n",
    "# Hidden tests - you'll see results when you submit to Canvas\n",
    "### BEGIN HIDDEN TESTS\n",
    "assert house.shape == (1460, 83), 'Double check your DataFrame size.'\n",
    "### END HIDDEN TESTS"
   ]
  },
  {
   "cell_type": "markdown",
   "id": "80f97cbd",
   "metadata": {
    "nbgrader": {
     "grade": false,
     "grade_id": "cell-84b3819ff8e8ceb0",
     "locked": true,
     "schema_version": 3,
     "solution": false,
     "task": false
    }
   },
   "source": [
    "**Task 13** - Create another feature\n",
    "\n",
    "Let's continue with creating new features. This time, we'll focus on encoding for the sale month.\n",
    "\n",
    "* Create a new column called `Summer_Sale` that takes on the following values:\n",
    "    * 0 if the sale month was in September - May (`MoSold` = 1-5, 9-12)\n",
    "    * 1 if the sale month was in June, July or August (`MoSold` = 6, 7 or 8)"
   ]
  },
  {
   "cell_type": "code",
   "execution_count": null,
   "id": "b07db7f7",
   "metadata": {
    "nbgrader": {
     "grade": false,
     "grade_id": "cell-8a1a021ee537cab5",
     "locked": false,
     "schema_version": 3,
     "solution": true,
     "task": false
    }
   },
   "outputs": [
    {
     "data": {
      "text/html": [
       "<div>\n",
       "<style scoped>\n",
       "    .dataframe tbody tr th:only-of-type {\n",
       "        vertical-align: middle;\n",
       "    }\n",
       "\n",
       "    .dataframe tbody tr th {\n",
       "        vertical-align: top;\n",
       "    }\n",
       "\n",
       "    .dataframe thead th {\n",
       "        text-align: right;\n",
       "    }\n",
       "</style>\n",
       "<table border=\"1\" class=\"dataframe\">\n",
       "  <thead>\n",
       "    <tr style=\"text-align: right;\">\n",
       "      <th></th>\n",
       "      <th>MoSold</th>\n",
       "      <th>Summer_Sale</th>\n",
       "    </tr>\n",
       "  </thead>\n",
       "  <tbody>\n",
       "    <tr>\n",
       "      <th>0</th>\n",
       "      <td>2</td>\n",
       "      <td>0.0</td>\n",
       "    </tr>\n",
       "    <tr>\n",
       "      <th>1</th>\n",
       "      <td>5</td>\n",
       "      <td>0.0</td>\n",
       "    </tr>\n",
       "    <tr>\n",
       "      <th>2</th>\n",
       "      <td>9</td>\n",
       "      <td>0.0</td>\n",
       "    </tr>\n",
       "    <tr>\n",
       "      <th>3</th>\n",
       "      <td>2</td>\n",
       "      <td>0.0</td>\n",
       "    </tr>\n",
       "    <tr>\n",
       "      <th>4</th>\n",
       "      <td>12</td>\n",
       "      <td>0.0</td>\n",
       "    </tr>\n",
       "    <tr>\n",
       "      <th>...</th>\n",
       "      <td>...</td>\n",
       "      <td>...</td>\n",
       "    </tr>\n",
       "    <tr>\n",
       "      <th>1455</th>\n",
       "      <td>8</td>\n",
       "      <td>1.0</td>\n",
       "    </tr>\n",
       "    <tr>\n",
       "      <th>1456</th>\n",
       "      <td>2</td>\n",
       "      <td>0.0</td>\n",
       "    </tr>\n",
       "    <tr>\n",
       "      <th>1457</th>\n",
       "      <td>5</td>\n",
       "      <td>0.0</td>\n",
       "    </tr>\n",
       "    <tr>\n",
       "      <th>1458</th>\n",
       "      <td>4</td>\n",
       "      <td>0.0</td>\n",
       "    </tr>\n",
       "    <tr>\n",
       "      <th>1459</th>\n",
       "      <td>6</td>\n",
       "      <td>1.0</td>\n",
       "    </tr>\n",
       "  </tbody>\n",
       "</table>\n",
       "<p>1460 rows × 2 columns</p>\n",
       "</div>"
      ],
      "text/plain": [
       "      MoSold  Summer_Sale\n",
       "0          2          0.0\n",
       "1          5          0.0\n",
       "2          9          0.0\n",
       "3          2          0.0\n",
       "4         12          0.0\n",
       "...      ...          ...\n",
       "1455       8          1.0\n",
       "1456       2          0.0\n",
       "1457       5          0.0\n",
       "1458       4          0.0\n",
       "1459       6          1.0\n",
       "\n",
       "[1460 rows x 2 columns]"
      ]
     },
     "execution_count": 122,
     "metadata": {},
     "output_type": "execute_result"
    }
   ],
   "source": [
    "# Task 13\n",
    "\n",
    "### BEGIN SOLUTION\n",
    "house.loc[(house['MoSold'] >= 6 ) & (house['MoSold'] <= 8 ), 'Summer_Sale'] = 1\n",
    "house.loc[(house['MoSold'] < 6) | (house['MoSold'] > 8), 'Summer_Sale'] = 0  \n",
    "### END SOLUTION\n",
    "\n",
    "# View the new column\n",
    "house[['MoSold', 'Summer_Sale']]"
   ]
  },
  {
   "cell_type": "markdown",
   "id": "10415920",
   "metadata": {
    "nbgrader": {
     "grade": false,
     "grade_id": "cell-6554efedfc0cadbb",
     "locked": true,
     "schema_version": 3,
     "solution": false,
     "task": false
    }
   },
   "source": [
    "**Task 13 Test**"
   ]
  },
  {
   "cell_type": "code",
   "execution_count": null,
   "id": "b15bfef7",
   "metadata": {
    "nbgrader": {
     "grade": true,
     "grade_id": "cell-061d02cacd118c79",
     "locked": true,
     "points": 1,
     "schema_version": 3,
     "solution": false,
     "task": false
    }
   },
   "outputs": [],
   "source": [
    "# Task 13 - Test\n",
    "\n",
    "assert 'Summer_Sale' in house.columns, 'Did you add the Summer_Sale column?'\n",
    "\n",
    "# Hidden tests - you'll see results when you submit to Canvas\n",
    "### BEGIN HIDDEN TESTS\n",
    "assert house.shape == (1460, 84), 'Double check your DataFrame size.'\n",
    "### END HIDDEN TESTS"
   ]
  },
  {
   "cell_type": "code",
   "execution_count": null,
   "id": "91126e63",
   "metadata": {},
   "outputs": [],
   "source": []
  }
 ],
 "metadata": {
  "celltoolbar": "Create Assignment",
  "interpreter": {
   "hash": "26de051ba29f2982a8de78e945f0abaf191376122a1563185a90213a26c5da77"
  },
  "kernelspec": {
   "display_name": "Python 3.10.4 64-bit",
   "language": "python",
   "name": "python3"
  },
  "language_info": {
   "codemirror_mode": {
    "name": "ipython",
    "version": 3
   },
   "file_extension": ".py",
   "mimetype": "text/x-python",
   "name": "python",
   "nbconvert_exporter": "python",
   "pygments_lexer": "ipython3",
   "version": "3.10.8 (tags/v3.10.8:aaaf517, Oct 11 2022, 16:50:30) [MSC v.1933 64 bit (AMD64)]"
  }
 },
 "nbformat": 4,
 "nbformat_minor": 5
}
