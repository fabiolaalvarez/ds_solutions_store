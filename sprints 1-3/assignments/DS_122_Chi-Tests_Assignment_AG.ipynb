{
 "cells": [
  {
   "cell_type": "markdown",
   "id": "5d209e10",
   "metadata": {
    "nbgrader": {
     "grade": false,
     "grade_id": "cell-d6e5d9ceb795d63d",
     "locked": true,
     "schema_version": 3,
     "solution": false,
     "task": false
    }
   },
   "source": [
    "# Data Science - Unit 1 Sprint 2 Module 2\n",
    "\n",
    "## Hypothesis Testing - Chi square tests\n",
    "\n",
    "### Objectives\n",
    "\n",
    "* Objective 01 - explain the purpose of a chi-square test and identify applications\n",
    "* Objective 02 - set up a chi-square test for independence on two categorical variables\n",
    "* Objective 03 - use a chi-square test p-value to draw the correct conclusion about the null and alternative hypothesis\n",
    "* Objective 04 - explain how to compare the null hypothesis and sample and how randomness in the sampling process affect the result\n",
    "\n",
    "#### Total notebook points: 9"
   ]
  },
  {
   "cell_type": "markdown",
   "id": "39c98a09",
   "metadata": {
    "nbgrader": {
     "grade": false,
     "grade_id": "cell-0d184c611647facb",
     "locked": true,
     "schema_version": 3,
     "solution": false,
     "task": false
    }
   },
   "source": [
    "### Introduction\n",
    "\n",
    "Slasher movies thrill audiences by portraying a lone antagonist (typically male) who attacks innocent victims with extreme violence and without apparent motive. However, this exciting (if gory) sub-genre of horror film is criticized by those who view the violence as being used to “punish” female characters who engage in sexual activity during the film. \n",
    "\n",
    "### Dataset description:\n",
    "\n",
    "To test this claim, study authors randomly sampled 50 North American slasher films released from 1960 to 2009 and coded the 485 characters appearing in them as being male or female, involved in sexual activity or not, and if they survived the film or not. \n",
    "\n",
    "The data appears in the `Slasher.csv` dataset. In this project, we are going to answer a slightly simpler question: Does a character's gender impact his or her chances of surviving a slasher film, or are the two factors unrelated?\n",
    "\n",
    "You can find the `Slasher.csv` file and more information [here](https://github.com/LambdaSchool/data-science-practice-datasets/tree/main/unit_1/Slasher)\n",
    "\n",
    "*Source: A. Welsh (2010). \"On the Perils of Living Dangerously in the Slasher Horror Film: Gender Differences in the Association Between Sexual Activity and Survival,\" Sex Roles, Vol. 62 pp. 762-773*"
   ]
  },
  {
   "cell_type": "markdown",
   "id": "297bd8ee",
   "metadata": {
    "nbgrader": {
     "grade": false,
     "grade_id": "cell-464cf713326e01fb",
     "locked": true,
     "schema_version": 3,
     "solution": false,
     "task": false
    }
   },
   "source": [
    "**Task 1** - Load the data\n",
    "\n",
    "Let's load the data! The URL has been provided as well as the imports for pandas and numpy.\n",
    "\n",
    "* Load your CSV file into a DataFrame named `df_slasher`"
   ]
  },
  {
   "cell_type": "code",
   "execution_count": null,
   "id": "62413039",
   "metadata": {},
   "outputs": [],
   "source": [
    "products = generate_products()\n",
    "[print(product) for product in products]\n",
    "names = [product.name for product in products]\n",
    "price = [product.price for product in products]"
   ]
  },
  {
   "cell_type": "code",
   "execution_count": 1,
   "id": "fc28197f",
   "metadata": {
    "nbgrader": {
     "grade": false,
     "grade_id": "cell-fd8de6314d149c03",
     "locked": false,
     "schema_version": 3,
     "solution": true,
     "task": false
    }
   },
   "outputs": [
    {
     "data": {
      "text/html": [
       "<div>\n",
       "<style scoped>\n",
       "    .dataframe tbody tr th:only-of-type {\n",
       "        vertical-align: middle;\n",
       "    }\n",
       "\n",
       "    .dataframe tbody tr th {\n",
       "        vertical-align: top;\n",
       "    }\n",
       "\n",
       "    .dataframe thead th {\n",
       "        text-align: right;\n",
       "    }\n",
       "</style>\n",
       "<table border=\"1\" class=\"dataframe\">\n",
       "  <thead>\n",
       "    <tr style=\"text-align: right;\">\n",
       "      <th></th>\n",
       "      <th>ID</th>\n",
       "      <th>Gender</th>\n",
       "      <th>Activity</th>\n",
       "      <th>Survival</th>\n",
       "    </tr>\n",
       "  </thead>\n",
       "  <tbody>\n",
       "    <tr>\n",
       "      <th>0</th>\n",
       "      <td>1</td>\n",
       "      <td>1</td>\n",
       "      <td>1</td>\n",
       "      <td>1</td>\n",
       "    </tr>\n",
       "    <tr>\n",
       "      <th>1</th>\n",
       "      <td>2</td>\n",
       "      <td>1</td>\n",
       "      <td>1</td>\n",
       "      <td>1</td>\n",
       "    </tr>\n",
       "    <tr>\n",
       "      <th>2</th>\n",
       "      <td>3</td>\n",
       "      <td>1</td>\n",
       "      <td>1</td>\n",
       "      <td>1</td>\n",
       "    </tr>\n",
       "    <tr>\n",
       "      <th>3</th>\n",
       "      <td>4</td>\n",
       "      <td>1</td>\n",
       "      <td>1</td>\n",
       "      <td>1</td>\n",
       "    </tr>\n",
       "    <tr>\n",
       "      <th>4</th>\n",
       "      <td>5</td>\n",
       "      <td>1</td>\n",
       "      <td>1</td>\n",
       "      <td>1</td>\n",
       "    </tr>\n",
       "  </tbody>\n",
       "</table>\n",
       "</div>"
      ],
      "text/plain": [
       "   ID  Gender  Activity  Survival\n",
       "0   1       1         1         1\n",
       "1   2       1         1         1\n",
       "2   3       1         1         1\n",
       "3   4       1         1         1\n",
       "4   5       1         1         1"
      ]
     },
     "execution_count": 1,
     "metadata": {},
     "output_type": "execute_result"
    }
   ],
   "source": [
    "# Task 1\n",
    "\n",
    "# Imports \n",
    "import pandas as pd\n",
    "import numpy as np\n",
    "\n",
    "data_url = 'https://raw.githubusercontent.com/LambdaSchool/data-science-practice-datasets/main/unit_1/Slasher/Slasher.csv'\n",
    "\n",
    "### BEGIN SOLUTION\n",
    "df_slasher = pd.read_csv(data_url)\n",
    "### END SOLUTION\n",
    "\n",
    "# Print out your DataFrame\n",
    "df_slasher.head()"
   ]
  },
  {
   "cell_type": "code",
   "execution_count": 2,
   "id": "124b6cbd",
   "metadata": {},
   "outputs": [
    {
     "data": {
      "text/html": [
       "<div>\n",
       "<style scoped>\n",
       "    .dataframe tbody tr th:only-of-type {\n",
       "        vertical-align: middle;\n",
       "    }\n",
       "\n",
       "    .dataframe tbody tr th {\n",
       "        vertical-align: top;\n",
       "    }\n",
       "\n",
       "    .dataframe thead th {\n",
       "        text-align: right;\n",
       "    }\n",
       "</style>\n",
       "<table border=\"1\" class=\"dataframe\">\n",
       "  <thead>\n",
       "    <tr style=\"text-align: right;\">\n",
       "      <th></th>\n",
       "      <th>ID</th>\n",
       "      <th>Gender</th>\n",
       "      <th>Activity</th>\n",
       "      <th>Survival</th>\n",
       "    </tr>\n",
       "  </thead>\n",
       "  <tbody>\n",
       "    <tr>\n",
       "      <th>0</th>\n",
       "      <td>1</td>\n",
       "      <td>1</td>\n",
       "      <td>1</td>\n",
       "      <td>1</td>\n",
       "    </tr>\n",
       "    <tr>\n",
       "      <th>1</th>\n",
       "      <td>2</td>\n",
       "      <td>1</td>\n",
       "      <td>1</td>\n",
       "      <td>1</td>\n",
       "    </tr>\n",
       "    <tr>\n",
       "      <th>2</th>\n",
       "      <td>3</td>\n",
       "      <td>1</td>\n",
       "      <td>1</td>\n",
       "      <td>1</td>\n",
       "    </tr>\n",
       "    <tr>\n",
       "      <th>3</th>\n",
       "      <td>4</td>\n",
       "      <td>1</td>\n",
       "      <td>1</td>\n",
       "      <td>1</td>\n",
       "    </tr>\n",
       "    <tr>\n",
       "      <th>4</th>\n",
       "      <td>5</td>\n",
       "      <td>1</td>\n",
       "      <td>1</td>\n",
       "      <td>1</td>\n",
       "    </tr>\n",
       "    <tr>\n",
       "      <th>...</th>\n",
       "      <td>...</td>\n",
       "      <td>...</td>\n",
       "      <td>...</td>\n",
       "      <td>...</td>\n",
       "    </tr>\n",
       "    <tr>\n",
       "      <th>480</th>\n",
       "      <td>481</td>\n",
       "      <td>0</td>\n",
       "      <td>0</td>\n",
       "      <td>0</td>\n",
       "    </tr>\n",
       "    <tr>\n",
       "      <th>481</th>\n",
       "      <td>482</td>\n",
       "      <td>0</td>\n",
       "      <td>0</td>\n",
       "      <td>0</td>\n",
       "    </tr>\n",
       "    <tr>\n",
       "      <th>482</th>\n",
       "      <td>483</td>\n",
       "      <td>0</td>\n",
       "      <td>0</td>\n",
       "      <td>0</td>\n",
       "    </tr>\n",
       "    <tr>\n",
       "      <th>483</th>\n",
       "      <td>484</td>\n",
       "      <td>0</td>\n",
       "      <td>0</td>\n",
       "      <td>0</td>\n",
       "    </tr>\n",
       "    <tr>\n",
       "      <th>484</th>\n",
       "      <td>485</td>\n",
       "      <td>0</td>\n",
       "      <td>0</td>\n",
       "      <td>0</td>\n",
       "    </tr>\n",
       "  </tbody>\n",
       "</table>\n",
       "<p>485 rows × 4 columns</p>\n",
       "</div>"
      ],
      "text/plain": [
       "      ID  Gender  Activity  Survival\n",
       "0      1       1         1         1\n",
       "1      2       1         1         1\n",
       "2      3       1         1         1\n",
       "3      4       1         1         1\n",
       "4      5       1         1         1\n",
       "..   ...     ...       ...       ...\n",
       "480  481       0         0         0\n",
       "481  482       0         0         0\n",
       "482  483       0         0         0\n",
       "483  484       0         0         0\n",
       "484  485       0         0         0\n",
       "\n",
       "[485 rows x 4 columns]"
      ]
     },
     "execution_count": 2,
     "metadata": {},
     "output_type": "execute_result"
    }
   ],
   "source": [
    "df_slasher"
   ]
  },
  {
   "cell_type": "markdown",
   "id": "aebd9d46",
   "metadata": {
    "nbgrader": {
     "grade": false,
     "grade_id": "cell-8912749d3bc50b19",
     "locked": true,
     "schema_version": 3,
     "solution": false,
     "task": false
    }
   },
   "source": [
    "**Task 1 Test**"
   ]
  },
  {
   "cell_type": "code",
   "execution_count": 2,
   "id": "aa174854",
   "metadata": {
    "nbgrader": {
     "grade": true,
     "grade_id": "cell-6526188acaf48e23",
     "locked": true,
     "points": 1,
     "schema_version": 3,
     "solution": false,
     "task": false
    }
   },
   "outputs": [],
   "source": [
    "# Task 1 - Test\n",
    "\n",
    "assert isinstance(df_slasher, pd.DataFrame), 'Have you created a DataFrame named `df_slasher`?'\n",
    "assert len(df_slasher) == 485\n",
    "\n",
    "### BEGIN HIDDEN TESTS\n",
    "assert df_slasher.shape == (485, 4), 'Make sure you correctly read in the DataFrame'\n",
    "### END HIDDEN TESTS"
   ]
  },
  {
   "cell_type": "markdown",
   "id": "8d0f7395",
   "metadata": {
    "nbgrader": {
     "grade": false,
     "grade_id": "cell-f82847f31ef91dfe",
     "locked": true,
     "schema_version": 3,
     "solution": false,
     "task": false
    }
   },
   "source": [
    "**Task 2**- Character percentages\n",
    "\n",
    "In this dataset, the variable codes are:\n",
    "\n",
    "* ID = Character ID\n",
    "* Gender = Character gender.  0 = male, 1 = female\n",
    "* Activity = Character was portrayed as engaged in sexual activity.  0 = no, 1 = yes\n",
    "* Survival = Character survival in the film. 0 = did not survive, 1 = survived\n",
    "\n",
    "Your task is to calculate the frequency and relative frequency of male and female characters in this set of slasher films.\n",
    "\n",
    "* Compute the frequencies for \"Gender\" for this dataset; call your table `gender_frequencies`\n",
    "* Compute the relative frequency of female characters and call this value `f_percent`\n",
    "* Compute the relative frequency of male characters and call this value `m_percent`"
   ]
  },
  {
   "cell_type": "code",
   "execution_count": 3,
   "id": "a093ad2e",
   "metadata": {
    "nbgrader": {
     "grade": false,
     "grade_id": "cell-0d34d020c7d319e6",
     "locked": false,
     "schema_version": 3,
     "solution": true,
     "task": false
    }
   },
   "outputs": [],
   "source": [
    "# Task 2\n",
    "\n",
    "### BEGIN SOLUTION\n",
    "gender_frequencies = df_slasher['Gender'].value_counts()\n",
    "gender_percent = df_slasher['Gender'].value_counts(normalize=True)*100\n",
    "\n",
    "m_percent = gender_percent.iloc[0]\n",
    "f_percent = gender_percent.iloc[1]\n",
    "\n",
    "### END SOLUTION"
   ]
  },
  {
   "cell_type": "markdown",
   "id": "09ace043",
   "metadata": {
    "nbgrader": {
     "grade": false,
     "grade_id": "cell-d0878432988ba5ff",
     "locked": true,
     "schema_version": 3,
     "solution": false,
     "task": false
    }
   },
   "source": [
    "**Task 2 Test**"
   ]
  },
  {
   "cell_type": "code",
   "execution_count": 4,
   "id": "2b19b408",
   "metadata": {
    "nbgrader": {
     "grade": true,
     "grade_id": "cell-999f643c0b047fe5",
     "locked": true,
     "points": 1,
     "schema_version": 3,
     "solution": false,
     "task": false
    }
   },
   "outputs": [],
   "source": [
    "# Task 2 - Test\n",
    "\n",
    "assert isinstance(gender_frequencies, pd.Series), 'Have you calculated the gender frequencies?'\n",
    "\n",
    "### BEGIN HIDDEN TESTS\n",
    "assert gender_frequencies.iloc[0] == 263, 'Make sure you create the crosstab correctly.'\n",
    "assert round(m_percent) == 54, 'Double check your male percent calculation.'\n",
    "assert round(f_percent) == 46, 'Double check your female percent calculation.'\n",
    "### END HIDDEN TESTS"
   ]
  },
  {
   "cell_type": "markdown",
   "id": "424eda77",
   "metadata": {
    "nbgrader": {
     "grade": false,
     "grade_id": "cell-7902dca249a5fb68",
     "locked": true,
     "schema_version": 3,
     "solution": false,
     "task": false
    }
   },
   "source": [
    "**Task 3** - Character survival\n",
    "\n",
    "Calculate the frequency and relative frequency of character survival in this set of slasher films.\n",
    "\n",
    "* Compute the frequencies for \"Survival\" for this dataset; call your table `survival_frequencies`\n",
    "* Compute the frequency of character survival and call this value `survival`. Make sure to multiply by 100 so your value is a percent."
   ]
  },
  {
   "cell_type": "code",
   "execution_count": 5,
   "id": "9799cc90",
   "metadata": {
    "nbgrader": {
     "grade": false,
     "grade_id": "cell-377c90fe789769b9",
     "locked": false,
     "schema_version": 3,
     "solution": true,
     "task": false
    }
   },
   "outputs": [
    {
     "name": "stdout",
     "output_type": "stream",
     "text": [
      "Percentage of characters that survive: 17.525773195876287\n"
     ]
    }
   ],
   "source": [
    "# Task 3\n",
    "\n",
    "### BEGIN SOLUTION\n",
    "survival_frequencies = df_slasher[\"Survival\"].value_counts()\n",
    "survival_percent = df_slasher[\"Survival\"].value_counts(normalize=True)*100\n",
    "survival = survival_percent.iloc[1]\n",
    "### END SOLUTION\n",
    "\n",
    "# Print the percentage of characters that survive\n",
    "print('Percentage of characters that survive:', survival)"
   ]
  },
  {
   "cell_type": "markdown",
   "id": "6f46be8c",
   "metadata": {
    "nbgrader": {
     "grade": false,
     "grade_id": "cell-359de0ba57e71cb5",
     "locked": true,
     "schema_version": 3,
     "solution": false,
     "task": false
    }
   },
   "source": [
    "**Task 3 Test**"
   ]
  },
  {
   "cell_type": "code",
   "execution_count": 8,
   "id": "ac8ee767",
   "metadata": {
    "nbgrader": {
     "grade": true,
     "grade_id": "cell-6d42ea79de460476",
     "locked": true,
     "points": 1,
     "schema_version": 3,
     "solution": false,
     "task": false
    }
   },
   "outputs": [],
   "source": [
    "# Task 3 - Test\n",
    "\n",
    "assert isinstance(survival_frequencies, pd.Series), 'Have you created the frequency table?'\n",
    "\n",
    "### BEGIN HIDDEN TESTS\n",
    "assert round(survival) == 18, 'Double check your survival calculation.'\n",
    "### END HIDDEN TESTS"
   ]
  },
  {
   "cell_type": "markdown",
   "id": "a58fed1e",
   "metadata": {
    "nbgrader": {
     "grade": false,
     "grade_id": "cell-a1d4c7960a04cd07",
     "locked": true,
     "schema_version": 3,
     "solution": false,
     "task": false
    }
   },
   "source": [
    "**Task 4**- Joint distribution: character survival and character sex\n",
    "\n",
    "Next, we're going to calculate the joint distribution of *character sex (\"Gender\")* and movie *survival*. \n",
    "\n",
    "* Compute the joint distribution for character sex and survival and name your DataFrame `survival_fm_crosstab`. \n",
    "    * **Make sure to use the following order of your variables: \"Gender\", \"Survival\"**\n",
    "\n",
    "*Hint: If you are working from the in-class examples, it will be helpful to include character sex as the index variable. But play around with the arguments of `pd.crosstab()` to get a better idea of your table.*\n",
    "\n",
    "* Added Challenge: Rename your columns and index for clarity's sake.\n",
    "\n",
    ">Gender: 0 = male, 1 = female\n",
    "\n",
    ">Survival: 0 = did not survive, 1 = survived"
   ]
  },
  {
   "cell_type": "code",
   "execution_count": 19,
   "id": "952149d5",
   "metadata": {
    "nbgrader": {
     "grade": false,
     "grade_id": "cell-71d255941aab5bf3",
     "locked": false,
     "schema_version": 3,
     "solution": true,
     "task": false
    }
   },
   "outputs": [
    {
     "data": {
      "text/html": [
       "<div>\n",
       "<style scoped>\n",
       "    .dataframe tbody tr th:only-of-type {\n",
       "        vertical-align: middle;\n",
       "    }\n",
       "\n",
       "    .dataframe tbody tr th {\n",
       "        vertical-align: top;\n",
       "    }\n",
       "\n",
       "    .dataframe thead th {\n",
       "        text-align: right;\n",
       "    }\n",
       "</style>\n",
       "<table border=\"1\" class=\"dataframe\">\n",
       "  <thead>\n",
       "    <tr style=\"text-align: right;\">\n",
       "      <th></th>\n",
       "      <th>Died</th>\n",
       "      <th>Survived</th>\n",
       "    </tr>\n",
       "  </thead>\n",
       "  <tbody>\n",
       "    <tr>\n",
       "      <th>Male</th>\n",
       "      <td>228</td>\n",
       "      <td>35</td>\n",
       "    </tr>\n",
       "    <tr>\n",
       "      <th>Female</th>\n",
       "      <td>172</td>\n",
       "      <td>50</td>\n",
       "    </tr>\n",
       "  </tbody>\n",
       "</table>\n",
       "</div>"
      ],
      "text/plain": [
       "        Died  Survived\n",
       "Male     228        35\n",
       "Female   172        50"
      ]
     },
     "execution_count": 19,
     "metadata": {},
     "output_type": "execute_result"
    }
   ],
   "source": [
    "# Task 4\n",
    "\n",
    "### BEGIN SOLUTION\n",
    "survival_fm_crosstab = pd.crosstab(df_slasher['Gender'], \n",
    "                                   df_slasher[\"Survival\"])\n",
    "survival_fm_crosstab.columns = ['Died', 'Survived']\n",
    "survival_fm_crosstab.index = ['Male', \"Female\"]\n",
    "### END SOLUTION\n",
    "\n",
    "# Print the table\n",
    "survival_fm_crosstab"
   ]
  },
  {
   "cell_type": "markdown",
   "id": "c139180d",
   "metadata": {
    "nbgrader": {
     "grade": false,
     "grade_id": "cell-60847d14702b3c91",
     "locked": true,
     "schema_version": 3,
     "solution": false,
     "task": false
    }
   },
   "source": [
    "**Task 4 Test**"
   ]
  },
  {
   "cell_type": "code",
   "execution_count": 20,
   "id": "4a2e4441",
   "metadata": {
    "nbgrader": {
     "grade": true,
     "grade_id": "cell-aab85db204edeb91",
     "locked": true,
     "points": 1,
     "schema_version": 3,
     "solution": false,
     "task": false
    }
   },
   "outputs": [],
   "source": [
    "# Task 4 - Test\n",
    "\n",
    "assert isinstance(survival_fm_crosstab, pd.DataFrame), 'Have you created the crosstab DataFrame?'\n",
    "\n",
    "### BEGIN HIDDEN TESTS\n",
    "assert survival_fm_crosstab.iloc[0][0] == 228, 'Check your joint distribution calculation.'\n",
    "### END HIDDEN TESTS"
   ]
  },
  {
   "cell_type": "markdown",
   "id": "6eb72fe8",
   "metadata": {
    "nbgrader": {
     "grade": false,
     "grade_id": "cell-f886c42186dbf68a",
     "locked": true,
     "schema_version": 3,
     "solution": false,
     "task": false
    }
   },
   "source": [
    "**Task 5** - Joint distribution with margins\n",
    "\n",
    "Now we're going to find the joint distribution but this time add in the **table margins**.\n",
    "\n",
    "* Compute the joint distribution and assign this to a variable called `survival_fm_margins`."
   ]
  },
  {
   "cell_type": "code",
   "execution_count": 21,
   "id": "f69eb057",
   "metadata": {
    "nbgrader": {
     "grade": false,
     "grade_id": "cell-d71d9eea51fbf62e",
     "locked": false,
     "schema_version": 3,
     "solution": true,
     "task": false
    }
   },
   "outputs": [
    {
     "name": "stdout",
     "output_type": "stream",
     "text": [
      "Survival    0   1  All\n",
      "Gender                \n",
      "0         228  35  263\n",
      "1         172  50  222\n",
      "All       400  85  485\n"
     ]
    }
   ],
   "source": [
    "# Task 5\n",
    "\n",
    "### BEGIN SOLUTION\n",
    "survival_fm_margins = pd.crosstab(df_slasher['Gender'], df_slasher['Survival'], margins=True)\n",
    "\n",
    "# It looks like fewer males survive than females.  It's still a little hard to tell \n",
    "# because there are different numbers of individuals in each group.\n",
    "\n",
    "### END SOLUTION\n",
    "\n",
    "# Print the table\n",
    "print(survival_fm_margins)"
   ]
  },
  {
   "cell_type": "markdown",
   "id": "8e01d043",
   "metadata": {
    "nbgrader": {
     "grade": false,
     "grade_id": "cell-34f1187fddd6490a",
     "locked": true,
     "schema_version": 3,
     "solution": false,
     "task": false
    }
   },
   "source": [
    "**Task 5 Test**"
   ]
  },
  {
   "cell_type": "code",
   "execution_count": 22,
   "id": "b2bd7550",
   "metadata": {
    "nbgrader": {
     "grade": true,
     "grade_id": "cell-a3c7dedeca08a0cb",
     "locked": true,
     "points": 1,
     "schema_version": 3,
     "solution": false,
     "task": false
    }
   },
   "outputs": [],
   "source": [
    "# Task 5 Test\n",
    "\n",
    "assert isinstance(survival_fm_margins, pd.DataFrame), 'Did you create your joint distribution DataFrame?'\n",
    "assert survival_fm_margins.shape == (3,3), \"Did you include the margins in your distribution?\"\n",
    "\n",
    "# NO hidden tests for this task"
   ]
  },
  {
   "cell_type": "markdown",
   "id": "e8bf274a",
   "metadata": {
    "nbgrader": {
     "grade": false,
     "grade_id": "cell-ed4773e7be8acc85",
     "locked": true,
     "schema_version": 3,
     "solution": false,
     "task": false
    }
   },
   "source": [
    "**Task 6** - Joint distribution with normalization\n",
    "\n",
    "Okay, now let's look at the distribution using the `normalize` argument. We want to compare the *relative* rate of survival. Calculate the distribution of survival conditional on character sex.\n",
    "\n",
    "* Compute the joint distribution for character sex and survival and name your DataFrame `survival_fm_crosstab_norm` **and** normalize on the \"index\"\n",
    "* Multiply the resulting DataFrame by 100 to return answers as percents\n",
    "* Assign the *survival* percentage of female characters to the variable `survival_f`"
   ]
  },
  {
   "cell_type": "code",
   "execution_count": 23,
   "id": "6a5fe158",
   "metadata": {
    "nbgrader": {
     "grade": false,
     "grade_id": "cell-94b846e0f979a986",
     "locked": false,
     "schema_version": 3,
     "solution": true,
     "task": false
    }
   },
   "outputs": [
    {
     "name": "stdout",
     "output_type": "stream",
     "text": [
      "Survival          0          1\n",
      "Gender                        \n",
      "0         86.692015  13.307985\n",
      "1         77.477477  22.522523\n",
      "Female character survival: 22.52252252252252\n"
     ]
    }
   ],
   "source": [
    "# Task 6\n",
    "\n",
    "### BEGIN SOLUTION\n",
    "survival_fm_crosstab_norm = pd.crosstab(df_slasher['Gender'], \n",
    "                                        df_slasher['Survival'], \n",
    "                                        normalize=\"index\")*100\n",
    "\n",
    "survival_f = survival_fm_crosstab_norm.iloc[1][1]\n",
    "### END SOLUTION\n",
    "\n",
    "# Print the percentage of female characters that survive\n",
    "print(survival_fm_crosstab_norm)\n",
    "print('Female character survival:', survival_f)"
   ]
  },
  {
   "cell_type": "markdown",
   "id": "4d053423",
   "metadata": {
    "nbgrader": {
     "grade": false,
     "grade_id": "cell-ee3d553ce61655d6",
     "locked": true,
     "schema_version": 3,
     "solution": false,
     "task": false
    }
   },
   "source": [
    "**Task 6 Test**"
   ]
  },
  {
   "cell_type": "code",
   "execution_count": 24,
   "id": "5502aea4",
   "metadata": {
    "nbgrader": {
     "grade": true,
     "grade_id": "cell-1927d60ae3b59771",
     "locked": true,
     "points": 1,
     "schema_version": 3,
     "solution": false,
     "task": false
    }
   },
   "outputs": [],
   "source": [
    "# Task 6 - Test\n",
    "\n",
    "assert isinstance(survival_fm_crosstab_norm, pd.DataFrame), 'Have you created the crosstab DataFrame?'\n",
    "assert survival_fm_crosstab_norm.all().min(axis=0) >= 1.0, \"Did you multiply your values by 100?\"\n",
    "\n",
    "### BEGIN HIDDEN TESTS\n",
    "assert round(survival_f) == 23, \"Double check your female survival percentage.\"\n",
    "### END HIDDEN TESTS"
   ]
  },
  {
   "cell_type": "markdown",
   "id": "c31b6088",
   "metadata": {
    "nbgrader": {
     "grade": false,
     "grade_id": "cell-e9dbd7bc4197c464",
     "locked": true,
     "schema_version": 3,
     "solution": false,
     "task": false
    }
   },
   "source": [
    "**Task 7 -** Statistical hypotheses\n",
    "\n",
    "From the list of choices below, select the null and alternative hypotheses to test for a statistically significant relationship between character sex and survival.  Specify your answer in the next code block using `Answer = `.  For example, if the correct answer is choice B, you'll type `Answer = 'B'`.\n",
    "\n",
    "A: $H_0$: Character sex and survival are related vs. $H_a$: Character sex and survival are unrelated$\n",
    "\n",
    "B: $H_0$: Character sex and survival are unrelated vs. $H_a$: Character sex and survival are related$\n",
    "\n",
    "C: $H_0: \\mu_1 \\neq \\mu_2$ vs. $H_a: \\mu_1 = \\mu_2$\n",
    "\n",
    "D: $H_0: \\mu_1 = \\mu_2$ vs. $H_a: \\mu_1 \\neq \\mu_2$"
   ]
  },
  {
   "cell_type": "code",
   "execution_count": 25,
   "id": "9390b0c4",
   "metadata": {
    "nbgrader": {
     "grade": false,
     "grade_id": "cell-da6613ef2df1b212",
     "locked": false,
     "schema_version": 3,
     "solution": true,
     "task": false
    }
   },
   "outputs": [],
   "source": [
    "# Task 7\n",
    "\n",
    "### BEGIN SOLUTION\n",
    "Answer = 'B'\n",
    "### END SOLUTION\n"
   ]
  },
  {
   "cell_type": "markdown",
   "id": "b9657a0c",
   "metadata": {
    "nbgrader": {
     "grade": false,
     "grade_id": "cell-8417433a58e83769",
     "locked": true,
     "schema_version": 3,
     "solution": false,
     "task": false
    }
   },
   "source": [
    "**Task 7 Test**"
   ]
  },
  {
   "cell_type": "code",
   "execution_count": 26,
   "id": "dd684fd6",
   "metadata": {
    "nbgrader": {
     "grade": true,
     "grade_id": "cell-37e2b8a5594319fc",
     "locked": true,
     "points": 1,
     "schema_version": 3,
     "solution": false,
     "task": false
    }
   },
   "outputs": [],
   "source": [
    "# Task 7 - Test\n",
    "# Hidden tests - you will see the results when you submit to Canvas\n",
    "### BEGIN HIDDEN TESTS\n",
    "assert Answer == 'B', 'Think carefully about your hypotheses.'\n",
    "### END HIDDEN TESTS"
   ]
  },
  {
   "cell_type": "markdown",
   "id": "a6b72e9a",
   "metadata": {
    "nbgrader": {
     "grade": false,
     "grade_id": "cell-a06b8449cce66cb2",
     "locked": true,
     "schema_version": 3,
     "solution": false,
     "task": false
    }
   },
   "source": [
    "**Task 8** - Chi-square test\n",
    "\n",
    "Perform the chi-square test above using `stats.chi2_contingency()`. The docs for this function are found [here](https://docs.scipy.org/doc/scipy/reference/generated/scipy.stats.chi2_contingency.html).\n",
    "\n",
    "* Compute the chi-square test and assign the p-value to the variable `p_val`\n",
    "* Assign the other variables returned by the function to any variable names you prefer\n"
   ]
  },
  {
   "cell_type": "code",
   "execution_count": 27,
   "id": "4a17bd7c",
   "metadata": {
    "nbgrader": {
     "grade": false,
     "grade_id": "cell-08a7fbc7c34ec943",
     "locked": false,
     "schema_version": 3,
     "solution": true,
     "task": false
    }
   },
   "outputs": [
    {
     "name": "stdout",
     "output_type": "stream",
     "text": [
      "The p-value is: 0.011104692591139975\n"
     ]
    }
   ],
   "source": [
    "# Task 8\n",
    "\n",
    "# Import the scipy.stats function\n",
    "from scipy.stats import chi2_contingency\n",
    "\n",
    "### BEGIN SOLUTION\n",
    "chi_stat, p_val, dof, expctd = chi2_contingency(pd.crosstab(df_slasher['Gender'], \n",
    "                                                            df_slasher['Survival']))\n",
    "### END SOLUTION\n",
    "\n",
    "# Print out the p-value\n",
    "print('The p-value is:', p_val)"
   ]
  },
  {
   "cell_type": "markdown",
   "id": "a19ee997",
   "metadata": {
    "nbgrader": {
     "grade": false,
     "grade_id": "cell-e617bb9b4441a5d3",
     "locked": true,
     "schema_version": 3,
     "solution": false,
     "task": false
    }
   },
   "source": [
    "**Task 8 Test**"
   ]
  },
  {
   "cell_type": "code",
   "execution_count": 28,
   "id": "cb3dc170",
   "metadata": {
    "nbgrader": {
     "grade": true,
     "grade_id": "cell-f09cc2e930c43388",
     "locked": true,
     "points": 1,
     "schema_version": 3,
     "solution": false,
     "task": false
    }
   },
   "outputs": [],
   "source": [
    "# Task 8 Test\n",
    "# Hidden tests - you will see the results when you submit to Canvas\n",
    "### BEGIN HIDDEN TESTS\n",
    "assert round(p_val, 2) == 0.01, 'Double-check the variables returned; p_val is the 2nd item returned.'\n",
    "### END HIDDEN TESTS"
   ]
  },
  {
   "cell_type": "markdown",
   "id": "c1c1db74",
   "metadata": {
    "nbgrader": {
     "grade": false,
     "grade_id": "cell-fa8ed1050d28e613",
     "locked": true,
     "schema_version": 3,
     "solution": false,
     "task": false
    }
   },
   "source": [
    "**Task 9**\n",
    "\n",
    "Select the correct conclusion at the 0.05 significance level from the list of choices below. Specify your answer in the next code block using `Answer = `.  For example, if the correct answer is choice B, you'll type `Answer = 'B'`.\n",
    "\n",
    "A: We reject the null hypothesis at the 0.05 significance level and conclude that character survival and sex are related.\n",
    "\n",
    "B: We fail to reject the null hypothesis at the 0.05 significance level and conclude that character survival and sex are related.\n",
    "\n",
    "C: We reject the null hypothesis at the 0.05 significance level and conclude that character survival and sex are unrelated.\n",
    "\n",
    "D: We fail to reject the null hypothesis at the 0.05 significance level and conclude that character survival and sex are unrelated.\n"
   ]
  },
  {
   "cell_type": "code",
   "execution_count": 29,
   "id": "83c5b031",
   "metadata": {
    "nbgrader": {
     "grade": false,
     "grade_id": "cell-52e04ab5206eb674",
     "locked": false,
     "schema_version": 3,
     "solution": true,
     "task": false
    }
   },
   "outputs": [],
   "source": [
    "# Task 9\n",
    "\n",
    "### BEGIN SOLUTION\n",
    "Answer = 'A'\n",
    "### END SOLUTION\n"
   ]
  },
  {
   "cell_type": "markdown",
   "id": "197eec59",
   "metadata": {
    "nbgrader": {
     "grade": false,
     "grade_id": "cell-dd04f351c80d680e",
     "locked": true,
     "schema_version": 3,
     "solution": false,
     "task": false
    }
   },
   "source": [
    "**Task 9 Test**"
   ]
  },
  {
   "cell_type": "code",
   "execution_count": 30,
   "id": "a037c35e",
   "metadata": {
    "nbgrader": {
     "grade": true,
     "grade_id": "cell-9e8a26c1f374c2fa",
     "locked": true,
     "points": 1,
     "schema_version": 3,
     "solution": false,
     "task": false
    }
   },
   "outputs": [],
   "source": [
    "# Task 9 - Test\n",
    "# Hidden tests - you will see the results when you submit to Canvas\n",
    "### BEGIN HIDDEN TESTS\n",
    "assert Answer == 'A', 'Think carefully about your conclusion.'\n",
    "### END HIDDEN TESTS"
   ]
  },
  {
   "cell_type": "markdown",
   "id": "8adb02c7",
   "metadata": {
    "nbgrader": {
     "grade": false,
     "grade_id": "cell-115cf209ef25c830",
     "locked": true,
     "schema_version": 3,
     "solution": false,
     "task": false
    }
   },
   "source": [
    "**Task 10** - Create a bar plot\n",
    "\n",
    "Create a side-by-side bar plot to illustrate the relationship between character sex and survival in slasher movies.  Sum up your overall results in a sentence or two.\n",
    "\n",
    "This task will not be autograded - but it is part of completing the project."
   ]
  },
  {
   "cell_type": "code",
   "execution_count": 31,
   "id": "61bdf2db",
   "metadata": {
    "nbgrader": {
     "grade": true,
     "grade_id": "cell-a29031ed910c3c6c",
     "locked": false,
     "points": 0,
     "schema_version": 3,
     "solution": true,
     "task": false
    }
   },
   "outputs": [
    {
     "data": {
      "image/png": "[encoded data removed]",
      "text/plain": [
       "<Figure size 432x288 with 1 Axes>"
      ]
     },
     "metadata": {
      "needs_background": "light"
     },
     "output_type": "display_data"
    }
   ],
   "source": [
    "# Task 10\n",
    "\n",
    "### BEGIN SOLUTION\n",
    "import matplotlib.pyplot as plt\n",
    "import seaborn as sns\n",
    "\n",
    "#CI = none gets rid of unhelpful error bars.\n",
    "sns.barplot(x='Gender', y='Survival', data=df_slasher, ci=None)\n",
    "\n",
    "plt.show()\n",
    "### END SOLUTION"
   ]
  },
  {
   "cell_type": "markdown",
   "id": "bac89b72",
   "metadata": {
    "nbgrader": {
     "grade": true,
     "grade_id": "cell-fc22cf60de1ac470",
     "locked": false,
     "points": 0,
     "schema_version": 3,
     "solution": true,
     "task": false
    }
   },
   "source": [
    "**Task 10** - ANSWER\n",
    "\n",
    "SHORT ANSWER HERE"
   ]
  }
 ],
 "metadata": {
  "celltoolbar": "Create Assignment",
  "kernelspec": {
   "display_name": "Python 3",
   "language": "python",
   "name": "python3"
  },
  "language_info": {
   "codemirror_mode": {
    "name": "ipython",
    "version": 3
   },
   "file_extension": ".py",
   "mimetype": "text/x-python",
   "name": "python",
   "nbconvert_exporter": "python",
   "pygments_lexer": "ipython3",
   "version": "3.8.8"
  }
 },
 "nbformat": 4,
 "nbformat_minor": 5
}
