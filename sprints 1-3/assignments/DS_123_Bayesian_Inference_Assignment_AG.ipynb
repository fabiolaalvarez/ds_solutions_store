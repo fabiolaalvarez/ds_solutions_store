{
 "cells": [
  {
   "cell_type": "markdown",
   "metadata": {
    "id": "H7OLbevlbd_Z"
   },
   "source": [
    "# Data Science - Unit 1 Sprint 2 Module 4\n",
    "\n",
    "## Module Project: Introduction to Bayesian Inference\n",
    "\n",
    "\n",
    "\n",
    "#### Total notebook points: 12"
   ]
  },
  {
   "cell_type": "markdown",
   "metadata": {
    "id": "qYfsB9myfV0l"
   },
   "source": [
    "## Introduction\n",
    "\n",
    "In this project, we're going to practice calculating conditional probabilities. You will use Python and the pandas cross tabulation method to look at various survival scenarios. After you complete the Titanic calculations, we'll visit the Harry Potter Universe and apply what we learned to the Sorting Hat situation at Hogwarts (a detailed description of the problem is provided - you don't need to have any familiarity with the Harry Potter books or movies). \n",
    "\n",
    "### Data set\n",
    "\n",
    "We'll be working with the Titanic dataset for this Module Project. It is available in various locations but the data at the URL provided is what we'll use today."
   ]
  },
  {
   "cell_type": "markdown",
   "metadata": {
    "id": "iliKwAvIKbyD"
   },
   "source": [
    "### Warmup Question\n",
    "\n",
    "In your own words, summarize the difference between Bayesian and Frequentist statistics.\n",
    "\n",
    "ANSWER:"
   ]
  },
  {
   "cell_type": "markdown",
   "metadata": {
    "id": "db4m0HhBCMhR"
   },
   "source": [
    "## Part A\n",
    "\n",
    "### Conditional Probabilities \n",
    "\n",
    "For Tasks 1 - 8 use the following information:\n",
    "\n",
    "Let **A** be the event of surviving the sinking of the Titanic and **B** be the event of being a 1st class passenger."
   ]
  },
  {
   "cell_type": "markdown",
   "metadata": {
    "id": "bvFf3ycYfV0m"
   },
   "source": [
    "**Task 1** - Load the data\n",
    "\n",
    "As we usually begin, let's load the data! The URL has been provided.\n",
    "\n",
    "* load your CSV file into a DataFrame named `df`"
   ]
  },
  {
   "cell_type": "code",
   "execution_count": 41,
   "metadata": {
    "colab": {
     "base_uri": "https://localhost:8080/",
     "height": 204
    },
    "id": "qXaf5leo7CHr",
    "nbgrader": {
     "grade": false,
     "grade_id": "cell-282a5c44db0c5259",
     "locked": false,
     "schema_version": 3,
     "solution": true,
     "task": false
    },
    "outputId": "8cb61c10-32c5-42da-f51f-d4ef252ca118"
   },
   "outputs": [
    {
     "data": {
      "text/html": [
       "<div>\n",
       "<style scoped>\n",
       "    .dataframe tbody tr th:only-of-type {\n",
       "        vertical-align: middle;\n",
       "    }\n",
       "\n",
       "    .dataframe tbody tr th {\n",
       "        vertical-align: top;\n",
       "    }\n",
       "\n",
       "    .dataframe thead th {\n",
       "        text-align: right;\n",
       "    }\n",
       "</style>\n",
       "<table border=\"1\" class=\"dataframe\">\n",
       "  <thead>\n",
       "    <tr style=\"text-align: right;\">\n",
       "      <th></th>\n",
       "      <th>Survived</th>\n",
       "      <th>Pclass</th>\n",
       "      <th>Name</th>\n",
       "      <th>Sex</th>\n",
       "      <th>Age</th>\n",
       "      <th>Siblings/Spouses_Aboard</th>\n",
       "      <th>Parents/Children_Aboard</th>\n",
       "      <th>Fare</th>\n",
       "    </tr>\n",
       "  </thead>\n",
       "  <tbody>\n",
       "    <tr>\n",
       "      <th>0</th>\n",
       "      <td>0</td>\n",
       "      <td>3</td>\n",
       "      <td>Mr. Owen Harris Braund</td>\n",
       "      <td>male</td>\n",
       "      <td>22.0</td>\n",
       "      <td>1</td>\n",
       "      <td>0</td>\n",
       "      <td>7.2500</td>\n",
       "    </tr>\n",
       "    <tr>\n",
       "      <th>1</th>\n",
       "      <td>1</td>\n",
       "      <td>1</td>\n",
       "      <td>Mrs. John Bradley (Florence Briggs Thayer) Cum...</td>\n",
       "      <td>female</td>\n",
       "      <td>38.0</td>\n",
       "      <td>1</td>\n",
       "      <td>0</td>\n",
       "      <td>71.2833</td>\n",
       "    </tr>\n",
       "    <tr>\n",
       "      <th>2</th>\n",
       "      <td>1</td>\n",
       "      <td>3</td>\n",
       "      <td>Miss. Laina Heikkinen</td>\n",
       "      <td>female</td>\n",
       "      <td>26.0</td>\n",
       "      <td>0</td>\n",
       "      <td>0</td>\n",
       "      <td>7.9250</td>\n",
       "    </tr>\n",
       "    <tr>\n",
       "      <th>3</th>\n",
       "      <td>1</td>\n",
       "      <td>1</td>\n",
       "      <td>Mrs. Jacques Heath (Lily May Peel) Futrelle</td>\n",
       "      <td>female</td>\n",
       "      <td>35.0</td>\n",
       "      <td>1</td>\n",
       "      <td>0</td>\n",
       "      <td>53.1000</td>\n",
       "    </tr>\n",
       "    <tr>\n",
       "      <th>4</th>\n",
       "      <td>0</td>\n",
       "      <td>3</td>\n",
       "      <td>Mr. William Henry Allen</td>\n",
       "      <td>male</td>\n",
       "      <td>35.0</td>\n",
       "      <td>0</td>\n",
       "      <td>0</td>\n",
       "      <td>8.0500</td>\n",
       "    </tr>\n",
       "  </tbody>\n",
       "</table>\n",
       "</div>"
      ],
      "text/plain": [
       "   Survived  Pclass                                               Name  \\\n",
       "0         0       3                             Mr. Owen Harris Braund   \n",
       "1         1       1  Mrs. John Bradley (Florence Briggs Thayer) Cum...   \n",
       "2         1       3                              Miss. Laina Heikkinen   \n",
       "3         1       1        Mrs. Jacques Heath (Lily May Peel) Futrelle   \n",
       "4         0       3                            Mr. William Henry Allen   \n",
       "\n",
       "      Sex   Age  Siblings/Spouses_Aboard  Parents/Children_Aboard     Fare  \n",
       "0    male  22.0                        1                        0   7.2500  \n",
       "1  female  38.0                        1                        0  71.2833  \n",
       "2  female  26.0                        0                        0   7.9250  \n",
       "3  female  35.0                        1                        0  53.1000  \n",
       "4    male  35.0                        0                        0   8.0500  "
      ]
     },
     "execution_count": 41,
     "metadata": {},
     "output_type": "execute_result"
    }
   ],
   "source": [
    "# Task 1\n",
    "\n",
    "import pandas as pd\n",
    "import numpy as np\n",
    "\n",
    "data_url = 'https://raw.githubusercontent.com/LambdaSchool/data-science-practice-datasets/main/unit_1/Titanic/Titanic.csv'\n",
    "### BEGIN SOLUTION\n",
    "df = pd.read_csv(data_url)\n",
    "### END SOLUTION\n",
    "\n",
    "# View the DataFrame\n",
    "df.head()"
   ]
  },
  {
   "cell_type": "markdown",
   "metadata": {
    "id": "vNlDUCUdfV0o"
   },
   "source": [
    "**Task 1 - Test**"
   ]
  },
  {
   "cell_type": "code",
   "execution_count": 2,
   "metadata": {
    "id": "KS4QNZcIfV0o",
    "nbgrader": {
     "grade": true,
     "grade_id": "cell-dfb792f5ef91f211",
     "locked": true,
     "points": 1,
     "schema_version": 3,
     "solution": false,
     "task": false
    }
   },
   "outputs": [],
   "source": [
    "# Task 1 - Test\n",
    "\n",
    "assert isinstance(df, pd.DataFrame), 'Have you created a DataFrame named `df`?'\n",
    "assert len(df) == 887\n",
    "\n",
    "### BEGIN HIDDEN TESTS\n",
    "assert df.shape == (887, 8), 'Make sure you correctly read in the DataFrame'\n",
    "### END HIDDEN TESTS"
   ]
  },
  {
   "cell_type": "markdown",
   "metadata": {
    "id": "4shP8MH8CbrZ",
    "nbgrader": {
     "grade": false,
     "grade_id": "cell-82dac32bcc1fa69b",
     "locked": true,
     "schema_version": 3,
     "solution": false,
     "task": false
    }
   },
   "source": [
    "**Task 2** - Survival probability\n",
    "\n",
    "We'll start by calculating the probability of surviving; we'll write the probability as P(A)\n",
    "\n",
    "* calculate the cross tabulation for the `Pclass` and `Survived` variables and assign it to `cross_tab`.  Make sure to include the table margins.\n",
    "* using the cross tabulation results, calculate P(A) and assign it to the variable `p_a`\n",
    "\n",
    "*Hint: we write the probability of an event using a decimal, not a percent.*"
   ]
  },
  {
   "cell_type": "code",
   "execution_count": 3,
   "metadata": {
    "id": "iDi0eFr1x-v_",
    "nbgrader": {
     "grade": false,
     "grade_id": "cell-800eb0784f0daf9f",
     "locked": false,
     "schema_version": 3,
     "solution": true,
     "task": false
    }
   },
   "outputs": [
    {
     "name": "stdout",
     "output_type": "stream",
     "text": [
      "The value of P(A) is: 0.3855693348365276\n"
     ]
    }
   ],
   "source": [
    "# Task 2\n",
    "\n",
    "### BEGIN SOLUTION\n",
    "cross_tab = pd.crosstab(df['Pclass'], df['Survived'], margins=True)\n",
    "p_a = cross_tab[1]['All']/cross_tab['All']['All']\n",
    "### END SOLUTION\n",
    "\n",
    "print('The value of P(A) is:', p_a)\n"
   ]
  },
  {
   "cell_type": "code",
   "execution_count": 4,
   "metadata": {},
   "outputs": [
    {
     "data": {
      "text/html": [
       "<div>\n",
       "<style scoped>\n",
       "    .dataframe tbody tr th:only-of-type {\n",
       "        vertical-align: middle;\n",
       "    }\n",
       "\n",
       "    .dataframe tbody tr th {\n",
       "        vertical-align: top;\n",
       "    }\n",
       "\n",
       "    .dataframe thead th {\n",
       "        text-align: right;\n",
       "    }\n",
       "</style>\n",
       "<table border=\"1\" class=\"dataframe\">\n",
       "  <thead>\n",
       "    <tr style=\"text-align: right;\">\n",
       "      <th>Survived</th>\n",
       "      <th>0</th>\n",
       "      <th>1</th>\n",
       "      <th>All</th>\n",
       "    </tr>\n",
       "    <tr>\n",
       "      <th>Pclass</th>\n",
       "      <th></th>\n",
       "      <th></th>\n",
       "      <th></th>\n",
       "    </tr>\n",
       "  </thead>\n",
       "  <tbody>\n",
       "    <tr>\n",
       "      <th>1</th>\n",
       "      <td>80</td>\n",
       "      <td>136</td>\n",
       "      <td>216</td>\n",
       "    </tr>\n",
       "    <tr>\n",
       "      <th>2</th>\n",
       "      <td>97</td>\n",
       "      <td>87</td>\n",
       "      <td>184</td>\n",
       "    </tr>\n",
       "    <tr>\n",
       "      <th>3</th>\n",
       "      <td>368</td>\n",
       "      <td>119</td>\n",
       "      <td>487</td>\n",
       "    </tr>\n",
       "    <tr>\n",
       "      <th>All</th>\n",
       "      <td>545</td>\n",
       "      <td>342</td>\n",
       "      <td>887</td>\n",
       "    </tr>\n",
       "  </tbody>\n",
       "</table>\n",
       "</div>"
      ],
      "text/plain": [
       "Survived    0    1  All\n",
       "Pclass                 \n",
       "1          80  136  216\n",
       "2          97   87  184\n",
       "3         368  119  487\n",
       "All       545  342  887"
      ]
     },
     "execution_count": 4,
     "metadata": {},
     "output_type": "execute_result"
    }
   ],
   "source": [
    "pd.crosstab(df['Pclass'], df['Survived'], margins=True)"
   ]
  },
  {
   "cell_type": "markdown",
   "metadata": {
    "id": "gh2JCwr7fV0p"
   },
   "source": [
    "**Task 2 - Test**"
   ]
  },
  {
   "cell_type": "code",
   "execution_count": 5,
   "metadata": {
    "id": "7rqNlPJPfV0p",
    "nbgrader": {
     "grade": true,
     "grade_id": "cell-c4fbdfeb780e3bd6",
     "locked": true,
     "points": 1,
     "schema_version": 3,
     "solution": false,
     "task": false
    }
   },
   "outputs": [],
   "source": [
    "# Task 2 - Test\n",
    "assert isinstance(cross_tab, pd.DataFrame), 'Did you create the cross tabulation DataFrame?'\n",
    "assert cross_tab.shape == (4,3), 'Did you remember to include the margins?'\n",
    "\n",
    "### BEGIN HIDDEN TESTS\n",
    "assert cross_tab['All']['All'] == 887, 'Did you use the correct column in your cross tabulation?'\n",
    "assert round(p_a,2) == 0.39, 'Check your calculations.'\n",
    "### END HIDDEN TESTS"
   ]
  },
  {
   "cell_type": "code",
   "execution_count": null,
   "metadata": {},
   "outputs": [],
   "source": []
  },
  {
   "cell_type": "markdown",
   "metadata": {
    "id": "ZV_UsohfC6r_"
   },
   "source": [
    "**Task 3** - First class probability\n",
    "\n",
    "Next we'll calculate the probability of being a First Class passenger; we'll write this probability as P(B)\n",
    "\n",
    "* using the cross tabulation results, calculate P(B) and assign it to the variable `p_b`\n",
    "\n",
    "*Hint: we write the probability of an event using a decimal, not a percent.*"
   ]
  },
  {
   "cell_type": "code",
   "execution_count": 6,
   "metadata": {
    "colab": {
     "base_uri": "https://localhost:8080/"
    },
    "id": "5XUHyDlNfV0q",
    "nbgrader": {
     "grade": false,
     "grade_id": "cell-f4bd227006d12bc1",
     "locked": false,
     "schema_version": 3,
     "solution": true,
     "task": false
    },
    "outputId": "42a6739b-f8d2-4743-c5d7-d0e51800d9d9"
   },
   "outputs": [
    {
     "name": "stdout",
     "output_type": "stream",
     "text": [
      "The value of P(B) is: 0.24351747463359638\n"
     ]
    }
   ],
   "source": [
    "# Task 3\n",
    "\n",
    "### BEGIN SOLUTION\n",
    "p_b = cross_tab['All'][1]/cross_tab['All']['All']\n",
    "### END SOLUTION\n",
    "\n",
    "print('The value of P(B) is:', p_b)"
   ]
  },
  {
   "cell_type": "markdown",
   "metadata": {
    "id": "Ac4ddTPHfV0q"
   },
   "source": [
    "**Task 3 - Test**"
   ]
  },
  {
   "cell_type": "code",
   "execution_count": 7,
   "metadata": {
    "id": "ZLoKRMkjEs2D",
    "nbgrader": {
     "grade": true,
     "grade_id": "cell-28b49f01a6955c2f",
     "locked": true,
     "points": 1,
     "schema_version": 3,
     "solution": false,
     "task": false
    }
   },
   "outputs": [],
   "source": [
    "# Task 3 - Test\n",
    "# Hidden tests - you will see the results when you submit to Canvas\n",
    "### BEGIN HIDDEN TESTS\n",
    "assert cross_tab['All']['All'] == 887, 'Did you use the correct column in your cross tabulation?'\n",
    "assert round(p_b, 2) == 0.24, 'Check your calculations'\n",
    "### END HIDDEN TESTS"
   ]
  },
  {
   "cell_type": "markdown",
   "metadata": {
    "id": "3tJKQmH-Cm6u"
   },
   "source": [
    "**Task 4** - Conditional probability: A and B\n",
    "\n",
    "Now, we'll calculate the conditional probability of being a First Class passenger **and** surviving. We write this as P(A $\\cap$ B) and we read it as \"the probability of A and B\".\n",
    "\n",
    "* calculate the conditional probability P(A $\\cap$ B) and assign it to the variable `p_a_and_b`\n",
    "\n",
    "*Hint: we write the probability of an event using a decimal, not a percent.*"
   ]
  },
  {
   "cell_type": "code",
   "execution_count": 8,
   "metadata": {},
   "outputs": [
    {
     "data": {
      "text/html": [
       "<div>\n",
       "<style scoped>\n",
       "    .dataframe tbody tr th:only-of-type {\n",
       "        vertical-align: middle;\n",
       "    }\n",
       "\n",
       "    .dataframe tbody tr th {\n",
       "        vertical-align: top;\n",
       "    }\n",
       "\n",
       "    .dataframe thead th {\n",
       "        text-align: right;\n",
       "    }\n",
       "</style>\n",
       "<table border=\"1\" class=\"dataframe\">\n",
       "  <thead>\n",
       "    <tr style=\"text-align: right;\">\n",
       "      <th>Survived</th>\n",
       "      <th>0</th>\n",
       "      <th>1</th>\n",
       "      <th>All</th>\n",
       "    </tr>\n",
       "    <tr>\n",
       "      <th>Pclass</th>\n",
       "      <th></th>\n",
       "      <th></th>\n",
       "      <th></th>\n",
       "    </tr>\n",
       "  </thead>\n",
       "  <tbody>\n",
       "    <tr>\n",
       "      <th>1</th>\n",
       "      <td>80</td>\n",
       "      <td>136</td>\n",
       "      <td>216</td>\n",
       "    </tr>\n",
       "    <tr>\n",
       "      <th>2</th>\n",
       "      <td>97</td>\n",
       "      <td>87</td>\n",
       "      <td>184</td>\n",
       "    </tr>\n",
       "    <tr>\n",
       "      <th>3</th>\n",
       "      <td>368</td>\n",
       "      <td>119</td>\n",
       "      <td>487</td>\n",
       "    </tr>\n",
       "    <tr>\n",
       "      <th>All</th>\n",
       "      <td>545</td>\n",
       "      <td>342</td>\n",
       "      <td>887</td>\n",
       "    </tr>\n",
       "  </tbody>\n",
       "</table>\n",
       "</div>"
      ],
      "text/plain": [
       "Survived    0    1  All\n",
       "Pclass                 \n",
       "1          80  136  216\n",
       "2          97   87  184\n",
       "3         368  119  487\n",
       "All       545  342  887"
      ]
     },
     "execution_count": 8,
     "metadata": {},
     "output_type": "execute_result"
    }
   ],
   "source": [
    "pd.crosstab(df['Pclass'], df['Survived'], margins=True)"
   ]
  },
  {
   "cell_type": "code",
   "execution_count": 9,
   "metadata": {
    "colab": {
     "base_uri": "https://localhost:8080/"
    },
    "id": "_XREg3idfV0t",
    "nbgrader": {
     "grade": false,
     "grade_id": "cell-c124ed27b905efad",
     "locked": false,
     "schema_version": 3,
     "solution": true,
     "task": false
    },
    "outputId": "7fee8289-9948-4cfa-9076-a4edcd97d00d"
   },
   "outputs": [
    {
     "name": "stdout",
     "output_type": "stream",
     "text": [
      "The value of P(A and B) is: 0.15332581736189402\n"
     ]
    }
   ],
   "source": [
    "# Task 4\n",
    "\n",
    "### BEGIN SOLUTION\n",
    "p_a_and_b = cross_tab[1][1]/cross_tab['All']['All']\n",
    "### END SOLUTION\n",
    "print('The value of P(A and B) is:', p_a_and_b)"
   ]
  },
  {
   "cell_type": "markdown",
   "metadata": {
    "id": "X5QTHXb7fV0t"
   },
   "source": [
    "**Task 4 - Test**"
   ]
  },
  {
   "cell_type": "code",
   "execution_count": 10,
   "metadata": {
    "id": "ie2WmfDlfV0t",
    "nbgrader": {
     "grade": true,
     "grade_id": "cell-94f5711349cc6887",
     "locked": true,
     "points": 1,
     "schema_version": 3,
     "solution": false,
     "task": false
    }
   },
   "outputs": [],
   "source": [
    "# Task 4 - Test\n",
    "# Hidden tests - you will see the results when you submit to Canvas\n",
    "### BEGIN HIDDEN TESTS\n",
    "assert cross_tab['All']['All'] == 887, 'Did you use the correct column in your cross tabulation?'\n",
    "assert round(p_a_and_b, 2) == 0.15\n",
    "### END HIDDEN TESTS"
   ]
  },
  {
   "cell_type": "markdown",
   "metadata": {
    "id": "MDdOtbnlfV0t"
   },
   "source": [
    "**Task 5** - Conditional probability: A given B\n",
    "\n",
    "Next, we'll calculate the conditional probability of surviving given the person was a First Class passenger. We write this as P(A|B) and we read it as \"the probability of A given B\".\n",
    "\n",
    "* generate a new cross tabulation with the parameter `normalize='index'`; name this table `cross_tab_norm`\n",
    "* calculate the conditional probability P(A|B) and assign it to the variable `p_a_given_b`\n",
    "\n",
    "*Hint: we write the probability of an event using a decimal, not a percent.*"
   ]
  },
  {
   "cell_type": "code",
   "execution_count": 11,
   "metadata": {
    "colab": {
     "base_uri": "https://localhost:8080/"
    },
    "id": "VzHakDD6DOcL",
    "nbgrader": {
     "grade": false,
     "grade_id": "cell-7b16a6ecf032b8ba",
     "locked": false,
     "schema_version": 3,
     "solution": true,
     "task": false
    },
    "outputId": "781832c1-3f48-4bea-b337-280a412000d4"
   },
   "outputs": [
    {
     "name": "stdout",
     "output_type": "stream",
     "text": [
      "The value of P(A given B) is: 0.6296296296296297\n"
     ]
    }
   ],
   "source": [
    "# Task 5\n",
    "\n",
    "### BEGIN SOLUTION\n",
    "cross_tab_norm = pd.crosstab(df['Pclass'], df['Survived'], normalize=\"index\")\n",
    "p_a_given_b = cross_tab_norm[1][1]\n",
    "### END SOLUTION\n",
    "\n",
    "print('The value of P(A given B) is:', p_a_given_b)"
   ]
  },
  {
   "cell_type": "markdown",
   "metadata": {
    "id": "HVmkR9SXfV0u",
    "nbgrader": {
     "grade": false,
     "grade_id": "cell-5d1717dbbd5adc5a",
     "locked": true,
     "schema_version": 3,
     "solution": false,
     "task": false
    }
   },
   "source": [
    "**Task 5 - Test**"
   ]
  },
  {
   "cell_type": "code",
   "execution_count": 12,
   "metadata": {
    "id": "IgphlpCOFMDe",
    "nbgrader": {
     "grade": true,
     "grade_id": "cell-e873df7d0460dbc5",
     "locked": true,
     "points": 1,
     "schema_version": 3,
     "solution": false,
     "task": false
    }
   },
   "outputs": [],
   "source": [
    "# Task 5 - Test\n",
    "assert isinstance(cross_tab_norm, pd.DataFrame), 'Did you create the new cross tabulation DataFrame?'\n",
    "### BEGIN HIDDEN TESTS\n",
    "assert round(p_a_given_b, 1) == 0.6, 'Did you remember to use normalize?'\n",
    "### END HIDDEN TESTS"
   ]
  },
  {
   "cell_type": "markdown",
   "metadata": {
    "id": "PheF3oSXfV0u"
   },
   "source": [
    "**Task 6** - Conditional probability: B given A\n",
    "\n",
    "Okay, now we'll calculate the conditional probability of being a First Class passenger given the person survived. We write this as P(B|A) and we read it as \"the probability of B given A\".\n",
    "\n",
    "* create a new cross tabulation DataFrame and name it `cross_tab_norm2`.\n",
    "    * *Hint: You may find it helpful to reverse the order of the columns when you calculate the new table*\n",
    "* calculate the conditional probability P(B|A) and assign it to the variable `p_b_given_a`"
   ]
  },
  {
   "cell_type": "code",
   "execution_count": 13,
   "metadata": {
    "colab": {
     "base_uri": "https://localhost:8080/"
    },
    "id": "6I2m6yBFfV0u",
    "nbgrader": {
     "grade": false,
     "grade_id": "cell-78df1483b44c6dd6",
     "locked": false,
     "schema_version": 3,
     "solution": true,
     "task": false
    },
    "outputId": "daf45462-b819-413b-ff1e-8a9b185405a2"
   },
   "outputs": [
    {
     "name": "stdout",
     "output_type": "stream",
     "text": [
      "The value of P(B given A) is: 0.39766081871345027\n"
     ]
    }
   ],
   "source": [
    "# Task 6\n",
    "\n",
    "### BEGIN SOLUTION\n",
    "cross_tab_norm2 = pd.crosstab(df['Survived'], df['Pclass'], normalize='index')\n",
    "p_b_given_a = cross_tab_norm2[1][1]\n",
    "### END SOLUTION\n",
    "\n",
    "print('The value of P(B given A) is:', p_b_given_a)"
   ]
  },
  {
   "cell_type": "markdown",
   "metadata": {
    "id": "bK-0gwSLfV0v"
   },
   "source": [
    "**Task 6 - Test**"
   ]
  },
  {
   "cell_type": "code",
   "execution_count": 14,
   "metadata": {
    "id": "nPSLTZJXfV0v",
    "nbgrader": {
     "grade": true,
     "grade_id": "cell-6b90b196728d2c90",
     "locked": true,
     "points": 1,
     "schema_version": 3,
     "solution": false,
     "task": false
    }
   },
   "outputs": [],
   "source": [
    "# Task 6 - Test\n",
    "assert isinstance(cross_tab_norm2, pd.DataFrame), 'Did you create another new cross tabulation DataFrame?'\n",
    "### BEGIN HIDDEN TESTS\n",
    "assert round(p_b_given_a, 1) == 0.4, 'Did you remember to normalize?'\n",
    "### END HIDDEN TESTS"
   ]
  },
  {
   "cell_type": "markdown",
   "metadata": {
    "id": "lxYJhvp1DkLS"
   },
   "source": [
    "**Task 7**\n",
    "\n",
    "So far, we have calculated the individual probabilities: P(A), P(B), P(A $\\cap$ B), P(A|B), and P(B|A). Now we're going to calculate the conditional probability P(A|B) using the following equation:\n",
    "\n",
    "$$P(A|B) = \\frac{P(A \\cap B)}{P(B)}$$\n",
    "\n",
    "* calculate the value of P(A|B) and assign it to the variable `calc1_p_a_given_b`\n",
    "* compare it to your value from Task 5 by testing if `p_a_given_b` is equal to `calc1_p_a_given_b` (use an assert statement!)"
   ]
  },
  {
   "cell_type": "code",
   "execution_count": 15,
   "metadata": {
    "colab": {
     "base_uri": "https://localhost:8080/"
    },
    "id": "6_Vq5xZ2fV0v",
    "nbgrader": {
     "grade": false,
     "grade_id": "cell-f247272a2857b88b",
     "locked": false,
     "schema_version": 3,
     "solution": true,
     "task": false
    },
    "outputId": "f74eeefa-3c07-4c35-edab-55626d129481"
   },
   "outputs": [
    {
     "name": "stdout",
     "output_type": "stream",
     "text": [
      "The calculated value of P(A|B) is: 0.6296296296296297\n"
     ]
    }
   ],
   "source": [
    "# Task 7\n",
    "\n",
    "### BEGIN SOLUTION\n",
    "calc1_p_a_given_b = p_a_and_b / p_b\n",
    "\n",
    "### END SOLUTION\n",
    "\n",
    "print('The calculated value of P(A|B) is:', calc1_p_a_given_b)"
   ]
  },
  {
   "cell_type": "markdown",
   "metadata": {
    "id": "zr9B_5g8fV0w"
   },
   "source": [
    "**Task 7 - Test**"
   ]
  },
  {
   "cell_type": "code",
   "execution_count": 16,
   "metadata": {
    "id": "qTxbF-uRfV0w",
    "nbgrader": {
     "grade": true,
     "grade_id": "cell-04815f7901139e23",
     "locked": true,
     "points": 1,
     "schema_version": 3,
     "solution": false,
     "task": false
    }
   },
   "outputs": [],
   "source": [
    "# Task 7 - Test\n",
    "\n",
    "# Use this test to check your answer before submitting to Canvas/CodeGrade\n",
    "assert round(calc1_p_a_given_b, 1)== round(p_a_given_b, 1), 'Did you use the correct variables in your calculation?'\n"
   ]
  },
  {
   "cell_type": "markdown",
   "metadata": {
    "id": "M2pRVt7ADsFk"
   },
   "source": [
    "**Task 8**\n",
    "\n",
    "Finally, we're at the last calculation! We want to calculate P(A|B) again, using Bayes' Theorem:\n",
    "\n",
    "$$P(A|B) = \\frac{P(B|A)P(A)}{P(B)}$$\n",
    "\n",
    "* calculate the value of P(A|B) and assign it to the variable `calc2_p_a_given_b` (*notice the new variable name*)\n",
    "* compare it to your value from Task 5 by testing if p_a_given_b is equal to `calc2_p_a_given_b` (again, use an assert statement)"
   ]
  },
  {
   "cell_type": "code",
   "execution_count": 31,
   "metadata": {
    "colab": {
     "base_uri": "https://localhost:8080/"
    },
    "id": "pC0WbOFifV0w",
    "nbgrader": {
     "grade": false,
     "grade_id": "cell-c917c91e48739649",
     "locked": false,
     "schema_version": 3,
     "solution": true,
     "task": false
    },
    "outputId": "b20b8b19-69c5-4fb4-dd95-f1472884803e"
   },
   "outputs": [
    {
     "name": "stdout",
     "output_type": "stream",
     "text": [
      "The calculated value of P(A|B) using Bayes' Theorem is: 0.6296296296296297\n"
     ]
    }
   ],
   "source": [
    "# Task 8\n",
    "\n",
    "### BEGIN SOLUTION\n",
    "calc2_p_a_given_b = (p_b_given_a * p_a) / p_b\n",
    "### END SOLUTION\n",
    "\n",
    "print(\"The calculated value of P(A|B) using Bayes' Theorem is:\", calc2_p_a_given_b)"
   ]
  },
  {
   "cell_type": "markdown",
   "metadata": {
    "id": "wSpwrX8efV0w"
   },
   "source": [
    "**Task 8 - Test**"
   ]
  },
  {
   "cell_type": "code",
   "execution_count": 18,
   "metadata": {
    "id": "wQhD60bafV0w",
    "nbgrader": {
     "grade": true,
     "grade_id": "cell-5b3ded4417bd9d18",
     "locked": true,
     "points": 1,
     "schema_version": 3,
     "solution": false,
     "task": false
    }
   },
   "outputs": [],
   "source": [
    "# Task 8 - Test\n",
    "\n",
    "# Use this test to check your answer before submitting to Canvas/CodeGrade\n",
    "assert round(calc2_p_a_given_b, 1) == round(p_a_given_b, 1), 'Did you use the correct variables in your calculation?'"
   ]
  },
  {
   "cell_type": "markdown",
   "metadata": {
    "id": "SB1m04Zf16Lo"
   },
   "source": [
    "## Part B\n",
    "\n",
    "### Hogwarts Sorting Hat and Conditional Probabilities\n",
    "\n",
    "Use the following information to complete Tasks 9 - 13\n",
    "\n",
    "\n",
    "Students arriving at Hogwarts are sorted into one of the four residential houses -- Gryffindor, Hufflepuff, Ravenclaw, and Slytherin -- by the magical Sorting Hat.\n",
    "\n",
    "In theory, the Hat is supposed to examine each student's personality, consider his or her wishes, and then place the student into the most appropriate house. However, after a thousand years, the Hat has gotten pretty lazy, so it has simplified its sorting process into a two-step algorithm:\n",
    "\n",
    "* All evil students go into Slytherin, obviously.\n",
    "\n",
    "* Everybody else is just randomly sorted into one of the four houses, with a 40% probability of being put into Hufflepuff and a 20% probability of being put into each of the three other houses.\n",
    "\n",
    "Hermione is shocked when she's sorted into Slytherin! She's never thought of herself as evil, but now that she considers it, becoming the future Dark Lady of Magical Britain does have some appeal...\n",
    "\n",
    "**If 10% of new Hogwarts students are evil, what is the probability that a randomly chosen Slytherin is evil?**\n",
    "\n",
    "*Hint: the value you want is P(Evil | Slytherin).*"
   ]
  },
  {
   "cell_type": "markdown",
   "metadata": {
    "id": "TB-dEdYIvXev"
   },
   "source": [
    "**Task 9** - Write out probability steps\n",
    "\n",
    "Write the relationship used to P(Evil|Slitherin) from P(Slithern|Evil), p(Evil) and P(Slytherin): \n",
    "\n",
    "* this Task is not autograded; write out your steps in the following markdown cell"
   ]
  },
  {
   "cell_type": "markdown",
   "metadata": {
    "id": "KcZoKPPOfV0x"
   },
   "source": [
    "**Task 9** - ANSWER\n",
    "\n",
    "YOUR ANSWER"
   ]
  },
  {
   "cell_type": "markdown",
   "metadata": {
    "id": "HzceET6m6qH-"
   },
   "source": [
    "**Task 10** - Determine P(Slytherin|Evil)\n",
    "\n",
    "Using the description in Part B above, determine P(Slytherin|Evil)\n",
    "\n",
    "* assign your value to the variable `p_slytherin_given_evil`"
   ]
  },
  {
   "cell_type": "code",
   "execution_count": 19,
   "metadata": {
    "id": "xw6XgTeYfV0x",
    "nbgrader": {
     "grade": false,
     "grade_id": "cell-261fe68593bd204f",
     "locked": false,
     "schema_version": 3,
     "solution": true,
     "task": false
    },
    "outputId": "84989269-7f16-4af1-f623-325aea6e9a58"
   },
   "outputs": [
    {
     "name": "stdout",
     "output_type": "stream",
     "text": [
      "The probability of being Slytherin given a student is evil is: 1\n"
     ]
    }
   ],
   "source": [
    "# Task 10\n",
    "\n",
    "### BEGIN SOLUTION\n",
    "p_slytherin_given_evil = 1\n",
    "### END SOLUTION\n",
    "\n",
    "print(\"The probability of being Slytherin given a student is evil is:\", p_slytherin_given_evil)"
   ]
  },
  {
   "cell_type": "markdown",
   "metadata": {
    "id": "eqWOb2NifV0x"
   },
   "source": [
    "**Task 10 - Test**"
   ]
  },
  {
   "cell_type": "code",
   "execution_count": 20,
   "metadata": {
    "id": "On-8VjnAfV0y",
    "nbgrader": {
     "grade": true,
     "grade_id": "cell-5ea3c604f8c46a38",
     "locked": true,
     "points": 1,
     "schema_version": 3,
     "solution": false,
     "task": false
    }
   },
   "outputs": [],
   "source": [
    "# Task 10 - Test\n",
    "# Hidden tests - you will see the results when you submit to Canvas\n",
    "### BEGIN HIDDEN TESTS\n",
    "assert p_slytherin_given_evil == 1, 'Review the information above. Make sure your variable is an integer.'\n",
    "### END HIDDEN TESTS"
   ]
  },
  {
   "cell_type": "markdown",
   "metadata": {
    "id": "J5tvhwT662fm"
   },
   "source": [
    "**Task 11** - Determine P(Evil)\n",
    "\n",
    "Using the description in Part B above, determine P(Evil)\n",
    "\n",
    "* assign your value to the variable `p_evil`"
   ]
  },
  {
   "cell_type": "code",
   "execution_count": 21,
   "metadata": {
    "id": "QJzsVlK2fV0y",
    "nbgrader": {
     "grade": false,
     "grade_id": "cell-6c3502e03a1033ff",
     "locked": false,
     "schema_version": 3,
     "solution": true,
     "task": false
    },
    "outputId": "ff8e5726-7320-432a-8f7e-9760c2f59c11"
   },
   "outputs": [
    {
     "name": "stdout",
     "output_type": "stream",
     "text": [
      "The probability of being an evil student is: 0.1\n"
     ]
    }
   ],
   "source": [
    "# Task 11\n",
    "\n",
    "### BEGIN SOLUTION\n",
    "p_evil = 0.1\n",
    "### END SOLUTION\n",
    "\n",
    "print(\"The probability of being an evil student is:\", p_evil)"
   ]
  },
  {
   "cell_type": "markdown",
   "metadata": {
    "id": "LVE54OXmfV0y"
   },
   "source": [
    "**Task 11 - Test**"
   ]
  },
  {
   "cell_type": "code",
   "execution_count": 22,
   "metadata": {
    "id": "XqjOJXAz67fe",
    "nbgrader": {
     "grade": true,
     "grade_id": "cell-e2ec0f21d4609dfd",
     "locked": true,
     "points": 1,
     "schema_version": 3,
     "solution": false,
     "task": false
    }
   },
   "outputs": [],
   "source": [
    "# Task 11 - Test\n",
    "# Hidden tests - you will see the results when you submit to Canvas\n",
    "### BEGIN HIDDEN TESTS\n",
    "assert p_evil == 0.1, 'Review the information above. Make sure your variable is a float.'\n",
    "### END HIDDEN TESTS"
   ]
  },
  {
   "cell_type": "markdown",
   "metadata": {
    "id": "rbNyx9Pd6_ze"
   },
   "source": [
    "**Task 12** - Determine P(Slytherin)\n",
    "\n",
    "Hint: This is a little tricky.  This is equal to the probability of a student being evil (and therefore being sorted into Slytherin) **added to** the probability of not being evil and being sorted into Slytherin.\n",
    "\n",
    "* assign the value of P(NOT Evil and Slytherin) to `p_not_evil_and_slytherin`\n",
    "* calculate the value of P(Slytherin) and assign it to `p_slytherin`"
   ]
  },
  {
   "cell_type": "code",
   "execution_count": null,
   "metadata": {},
   "outputs": [],
   "source": []
  },
  {
   "cell_type": "code",
   "execution_count": 23,
   "metadata": {
    "id": "V7Idj7fWfV0y",
    "nbgrader": {
     "grade": false,
     "grade_id": "cell-4901b7dcdcfe8395",
     "locked": false,
     "schema_version": 3,
     "solution": true,
     "task": false
    },
    "outputId": "db6b994b-aa60-4ef1-c974-0718f80ec286"
   },
   "outputs": [
    {
     "name": "stdout",
     "output_type": "stream",
     "text": [
      "The probability of a student being in Slytherin is: 0.28\n"
     ]
    }
   ],
   "source": [
    "# Task 12\n",
    "\n",
    "### BEGIN SOLUTION\n",
    "\n",
    "# Solution: \n",
    "# P(Evil) + P(Not evil and Slytherin) = 0.1 + 0.9*0.2 = 0.28\n",
    "\n",
    "p_not_evil_and_slytherin = 0.18\n",
    "p_slytherin = 0.28\n",
    "### END SOLUTION\n",
    "\n",
    "print(\"The probability of a student being in Slytherin is:\", p_slytherin)"
   ]
  },
  {
   "cell_type": "markdown",
   "metadata": {
    "id": "HBbbPtQ8fV0z"
   },
   "source": [
    "**Task 12 - Test**"
   ]
  },
  {
   "cell_type": "code",
   "execution_count": 24,
   "metadata": {
    "id": "ONbh5xwlfV0z",
    "nbgrader": {
     "grade": true,
     "grade_id": "cell-eb712e5d7e1db780",
     "locked": true,
     "points": 1,
     "schema_version": 3,
     "solution": false,
     "task": false
    }
   },
   "outputs": [],
   "source": [
    "# Task 12 - Test\n",
    "# Hidden tests - you will see the results when you submit to Canvas\n",
    "### BEGIN HIDDEN TESTS\n",
    "if p_not_evil_and_slytherin == 0.9: print(\"INCORRECT value for P(Not Evil and Slytherin): Make sure to include the probability of being sorted into Slytherin house.\")\n",
    "if p_not_evil_and_slytherin == 0.2: print(\"INCORRECT value for P(Not Evil and Slytherin): Make sure to include the probability of NOT being evil.\")\n",
    "assert round(p_not_evil_and_slytherin, 2) == 0.18, 'Review the information from Part B - make sure to multiply to correct values.'\n",
    "assert round(p_slytherin, 2) == 0.28, 'Make sure you added and multiplied the correct values.'\n",
    "\n",
    "### END HIDDEN TESTS"
   ]
  },
  {
   "cell_type": "markdown",
   "metadata": {
    "id": "K_hfqxQg7pZo"
   },
   "source": [
    "**Task 13** - Calculate P(Evil|Slytherin)\n",
    "\n",
    "We have arrived at the final Sorting Hat calculation! Now, we're are going to calculate the probability of P(Evil|Slytherin) using the following equation:\n",
    "\n",
    "$$P(Evil|Slytherin)= \\frac{P(Slytherin|Evil)P(Evil)}{P(Slytherin)}$$\n",
    "\n",
    "* calculate P(Evil|Slytherin) and assign it to `p_evil_given_slytherin`"
   ]
  },
  {
   "cell_type": "code",
   "execution_count": 25,
   "metadata": {
    "colab": {
     "base_uri": "https://localhost:8080/"
    },
    "id": "_SvOUvMOfV0z",
    "nbgrader": {
     "grade": false,
     "grade_id": "cell-8739d8cd9cb5d70e",
     "locked": false,
     "schema_version": 3,
     "solution": true,
     "task": false
    },
    "outputId": "85e981ee-8c74-4fdc-cbcc-e3d4853f4826"
   },
   "outputs": [],
   "source": [
    "# Task 13\n",
    " \n",
    "### BEGIN SOLUTION\n",
    "p_evil_given_slytherin = (1*0.1)/(0.1+(0.9*0.2))\n",
    "### END SOLUTION"
   ]
  },
  {
   "cell_type": "markdown",
   "metadata": {
    "id": "Z9QDNH8DfV0z"
   },
   "source": [
    "**Task 13 - Test**"
   ]
  },
  {
   "cell_type": "code",
   "execution_count": 26,
   "metadata": {
    "id": "xMt0fykG7_BR",
    "nbgrader": {
     "grade": true,
     "grade_id": "cell-aa9312dca132f04b",
     "locked": true,
     "points": 1,
     "schema_version": 3,
     "solution": false,
     "task": false
    }
   },
   "outputs": [],
   "source": [
    "# Task 13 - Test\n",
    "# Hidden tests - you will see the results when you submit to Canvas\n",
    "### BEGIN HIDDEN TESTS\n",
    "assert round(p_evil_given_slytherin,2) == 0.36, 'Review your calculations.'\n",
    "### END HIDDEN TESTS"
   ]
  }
 ],
 "metadata": {
  "celltoolbar": "Create Assignment",
  "colab": {
   "collapsed_sections": [],
   "name": "LS_DS_124_Bayesian_Inference_Assignment_AG.ipynb",
   "provenance": []
  },
  "kernelspec": {
   "display_name": "Python 3",
   "language": "python",
   "name": "python3"
  },
  "language_info": {
   "codemirror_mode": {
    "name": "ipython",
    "version": 3
   },
   "file_extension": ".py",
   "mimetype": "text/x-python",
   "name": "python",
   "nbconvert_exporter": "python",
   "pygments_lexer": "ipython3",
   "version": "3.10.8 (tags/v3.10.8:aaaf517, Oct 11 2022, 16:50:30) [MSC v.1933 64 bit (AMD64)]"
  },
  "vscode": {
   "interpreter": {
    "hash": "26de051ba29f2982a8de78e945f0abaf191376122a1563185a90213a26c5da77"
   }
  }
 },
 "nbformat": 4,
 "nbformat_minor": 1
}
