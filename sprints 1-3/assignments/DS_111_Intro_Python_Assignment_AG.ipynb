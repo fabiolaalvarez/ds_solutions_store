{
 "cells": [
  {
   "cell_type": "markdown",
   "id": "d36817b6",
   "metadata": {
    "nbgrader": {
     "grade": false,
     "grade_id": "cell-b0b49f9f926867f8",
     "locked": true,
     "schema_version": 3,
     "solution": false,
     "task": false
    }
   },
   "source": [
    "## Autograded Notebook (Canvas & CodeGrade)\n",
    "\n",
    "This notebook will be automatically graded. It is designed to test your answers and award points for the correct answers. Following the instructions for each Task carefully.\n",
    "\n",
    "### Instructions\n",
    "\n",
    "* **Download this notebook** as you would any other ipynb file\n",
    "* **Upload** to Google Colab or work locally (if you have that set-up)\n",
    "* **Delete `raise NotImplementedError()`**\n",
    "* Write your code in the `# YOUR CODE HERE` space\n",
    "* **Execute** the Test cells that contain `assert` statements - these help you check your work (others contain hidden tests that will be checked when you submit through Canvas)\n",
    "* **Save** your notebook when you are finished\n",
    "* **Download** as a `ipynb` file (if working in Colab)\n",
    "* **Upload** your complete notebook to Canvas (there will be additional instructions in Slack and/or Canvas)"
   ]
  },
  {
   "cell_type": "markdown",
   "id": "874b74af",
   "metadata": {
    "nbgrader": {
     "grade": false,
     "grade_id": "cell-66dc43d1b92d4f06",
     "locked": true,
     "schema_version": 3,
     "solution": false,
     "task": false
    }
   },
   "source": [
    "# Unit 1 Sprint 1 Module 1\n",
    "\n",
    "## Introduction to Python\n",
    "\n",
    "### Objectives\n",
    "\n",
    "* Create and work with variable data types\n",
    "* Understand indexing and methods\n",
    "* Practice dictionary indexing\n",
    "\n",
    "#### Total notebook points: 8"
   ]
  },
  {
   "cell_type": "markdown",
   "id": "434746fa",
   "metadata": {
    "nbgrader": {
     "grade": false,
     "grade_id": "cell-477ac2a8dcaa6e20",
     "locked": true,
     "schema_version": 3,
     "solution": false,
     "task": false
    }
   },
   "source": [
    "## Autograded Module Projects\n",
    "\n",
    "Welcome to the first Module Project of Unit 1! You will complete a project (sometimes also referred to as an assignment) after the Guided Project for each Module. There will be four Module Projects per Sprint and each project is designed to provide you with an opportunity to practice what you learned in the Canvas Warm-up material and the Guided Project with your instructors.\n",
    "\n",
    "Throughout Unit 1, the Module Projects and the Sprint Challenges are *autograded*. You will complete your work in a Jupyter/Python notebook (the files that end with `.ipynb`) and then upload your completed notebook to Canvas and submit for grading. This autograding process will check your answers and provide more information about the errors in your notebook. You'll receive a score when the testing is complete.\n",
    "\n",
    "So, let's get started! If you are reading this notebook, then you have the correct autograded version."
   ]
  },
  {
   "cell_type": "markdown",
   "id": "7966e0d4",
   "metadata": {
    "nbgrader": {
     "grade": false,
     "grade_id": "cell-764a88ab7278a115",
     "locked": true,
     "schema_version": 3,
     "solution": false,
     "task": false
    }
   },
   "source": [
    "**Task 1** - Write Your Name\n",
    "\n",
    "Create a variable called `your_name` that includes your name. "
   ]
  },
  {
   "cell_type": "code",
   "execution_count": 22,
   "id": "a85cd6b8",
   "metadata": {
    "nbgrader": {
     "grade": false,
     "grade_id": "cell-6027a63ecafcefab",
     "locked": false,
     "schema_version": 3,
     "solution": true,
     "task": false
    }
   },
   "outputs": [],
   "source": [
    "#YOUR CODE HERE\n",
    "your_name = \"Julian\"\n",
    "\n",
    "\n",
    "#Output or print the results of your variable. "
   ]
  },
  {
   "cell_type": "markdown",
   "id": "129e5551",
   "metadata": {
    "nbgrader": {
     "grade": false,
     "grade_id": "cell-623ce549dfd615a0",
     "locked": true,
     "schema_version": 3,
     "solution": false,
     "task": false
    }
   },
   "source": [
    "**Task 1 Test**"
   ]
  },
  {
   "cell_type": "code",
   "execution_count": 23,
   "id": "22cd112e",
   "metadata": {
    "nbgrader": {
     "grade": true,
     "grade_id": "cell-a6c4f852066437b1",
     "locked": true,
     "points": 1,
     "schema_version": 3,
     "solution": false,
     "task": false
    }
   },
   "outputs": [
    {
     "name": "stdout",
     "output_type": "stream",
     "text": [
      "Hello Julian\n"
     ]
    }
   ],
   "source": [
    "#Task 1 - Test\n",
    "assert isinstance(your_name, str)\n",
    "print(\"Hello\", your_name )\n",
    "\n",
    "\n",
    "###BEGIN HIDDEN TESTS\n",
    "assert isinstance(your_name, str)\n",
    "###END HIDDEN TESTS\n"
   ]
  },
  {
   "cell_type": "markdown",
   "id": "9ed2a26e",
   "metadata": {
    "nbgrader": {
     "grade": false,
     "grade_id": "cell-00178f4254ca81ed",
     "locked": true,
     "schema_version": 3,
     "solution": false,
     "task": false
    }
   },
   "source": [
    "**Task 2** - Variable data types\n",
    "\n",
    "* Assign the number `10` to a variable called `first_num`\n",
    "* Assign the number `5` to a variable called `second_num`\n",
    "* Assign the number `2` to a variable called `num_two` "
   ]
  },
  {
   "cell_type": "code",
   "execution_count": 24,
   "id": "296a3b85",
   "metadata": {
    "nbgrader": {
     "grade": false,
     "grade_id": "cell-e96ddb74e7505094",
     "locked": false,
     "schema_version": 3,
     "solution": true,
     "task": false
    }
   },
   "outputs": [],
   "source": [
    "#Task 2 \n",
    "\n",
    "#YOUR CODE HERE\n",
    "first_num = 10\n",
    "second_num = 5\n",
    "num_two = 2\n",
    "\n"
   ]
  },
  {
   "cell_type": "markdown",
   "id": "aa040adc",
   "metadata": {
    "nbgrader": {
     "grade": false,
     "grade_id": "cell-b103f366a3400307",
     "locked": true,
     "schema_version": 3,
     "solution": false,
     "task": false
    }
   },
   "source": [
    "**Task 2 Test**"
   ]
  },
  {
   "cell_type": "code",
   "execution_count": 25,
   "id": "642c27f2",
   "metadata": {
    "nbgrader": {
     "grade": true,
     "grade_id": "cell-a33f13464286f445",
     "locked": true,
     "points": 1,
     "schema_version": 3,
     "solution": false,
     "task": false
    }
   },
   "outputs": [],
   "source": [
    "#Task 2 - Test\n",
    "# Hidden tests - you will see the results when you submit to Canvas\n",
    "###BEGIN HIDDEN TESTS\n",
    "assert second_num == 5, \"Did you assign the values correctly?\"\n",
    "###END HIDDEN TESTS"
   ]
  },
  {
   "cell_type": "markdown",
   "id": "03f87c19",
   "metadata": {
    "nbgrader": {
     "grade": false,
     "grade_id": "cell-f534c68a18f9681b",
     "locked": true,
     "schema_version": 3,
     "solution": false,
     "task": false
    }
   },
   "source": [
    "**Task 3** - Operators\n",
    "* Return the product of all three variables created in the task above. Assign it to an object called `product_total`.\n",
    "* Return the floor division of `product_total` by 7. Assign it **as an interger** to an object called `floor_value`. "
   ]
  },
  {
   "cell_type": "code",
   "execution_count": 26,
   "id": "77410d59",
   "metadata": {
    "nbgrader": {
     "grade": false,
     "grade_id": "cell-311e511f461035fc",
     "locked": false,
     "schema_version": 3,
     "solution": true,
     "task": false
    }
   },
   "outputs": [
    {
     "data": {
      "text/plain": [
       "100"
      ]
     },
     "metadata": {},
     "output_type": "display_data"
    },
    {
     "data": {
      "text/plain": [
       "14"
      ]
     },
     "execution_count": 26,
     "metadata": {},
     "output_type": "execute_result"
    }
   ],
   "source": [
    "\n",
    "#Task 3\n",
    "\n",
    "#YOUR CODE HERE\n",
    "product_total = first_num*second_num*num_two\n",
    "display(product_total)\n",
    "\n",
    "floor_value = int(product_total/7)\n",
    "floor_value"
   ]
  },
  {
   "cell_type": "markdown",
   "id": "7d022078",
   "metadata": {
    "nbgrader": {
     "grade": false,
     "grade_id": "cell-eb58990e2b60db57",
     "locked": true,
     "schema_version": 3,
     "solution": false,
     "task": false
    }
   },
   "source": [
    "**Task 3 Test**"
   ]
  },
  {
   "cell_type": "code",
   "execution_count": 27,
   "id": "a5458ddb",
   "metadata": {
    "nbgrader": {
     "grade": true,
     "grade_id": "cell-c96d884a0d9c28fe",
     "locked": true,
     "points": 1,
     "schema_version": 3,
     "solution": false,
     "task": false
    }
   },
   "outputs": [],
   "source": [
    "#Task 3 Test\n",
    "\n",
    "assert product_total == 100, \"Check your operators.\"\n",
    "\n",
    "# Hidden tests - you will see the results when you submit to Canvas\n",
    "###BEGIN HIDDEN TESTS\n",
    "assert floor_value == 14, \"Did you change your value to an interger?\"\n",
    "###END HIDDEN TESTS\n"
   ]
  },
  {
   "cell_type": "markdown",
   "id": "b2004de1",
   "metadata": {
    "nbgrader": {
     "grade": false,
     "grade_id": "cell-b7322a77f8499b57",
     "locked": true,
     "schema_version": 3,
     "solution": false,
     "task": false
    }
   },
   "source": [
    "**Task 4a** Python Data Types\n",
    "* Create a list of five objects: `red`, `green`, `blue`, `yellow`, `purple`. Assign this list **in alphabetical order** to an object called `five_colors`.  \n"
   ]
  },
  {
   "cell_type": "code",
   "execution_count": 28,
   "id": "d86312ee",
   "metadata": {
    "nbgrader": {
     "grade": false,
     "grade_id": "cell-32200b8130c2bd81",
     "locked": false,
     "schema_version": 3,
     "solution": true,
     "task": false
    }
   },
   "outputs": [
    {
     "data": {
      "text/plain": [
       "['blue', 'green', 'purple', 'red', 'yellow']"
      ]
     },
     "execution_count": 28,
     "metadata": {},
     "output_type": "execute_result"
    }
   ],
   "source": [
    "\n",
    "#Task 4a\n",
    "\n",
    "#YOUR CODE HERE\n",
    "five_colors = ['red', 'green', 'blue', 'yellow', 'purple']\n",
    "five_colors.sort()\n",
    "five_colors\n",
    "\n"
   ]
  },
  {
   "cell_type": "markdown",
   "id": "9838246a",
   "metadata": {
    "nbgrader": {
     "grade": false,
     "grade_id": "cell-86ed62c5a4c79d84",
     "locked": true,
     "schema_version": 3,
     "solution": false,
     "task": false
    }
   },
   "source": [
    "**Task 4a Test**"
   ]
  },
  {
   "cell_type": "code",
   "execution_count": 29,
   "id": "442f138a",
   "metadata": {
    "nbgrader": {
     "grade": true,
     "grade_id": "cell-041962ba22262d5e",
     "locked": true,
     "points": 0.5,
     "schema_version": 3,
     "solution": false,
     "task": false
    }
   },
   "outputs": [],
   "source": [
    "#Task 4a Test\n",
    "assert len(five_colors) == 5\n",
    "# Hidden tests - you will see the results when you submit to Canvas\n",
    "###BEGIN HIDDEN TESTS\n",
    "assert five_colors[-1] == 'yellow'\n",
    "###END HIDDEN TESTS"
   ]
  },
  {
   "cell_type": "markdown",
   "id": "aca4a25b",
   "metadata": {
    "nbgrader": {
     "grade": false,
     "grade_id": "cell-7ae0fb57d4f78fd6",
     "locked": true,
     "schema_version": 3,
     "solution": false,
     "task": false
    }
   },
   "source": [
    "**Task 4b** Python Data Types\n",
    "* Remove the value that is in the middle of the `five_colors` list. Assign this new list to an object called `four_colors`."
   ]
  },
  {
   "cell_type": "code",
   "execution_count": 30,
   "id": "7fde1360",
   "metadata": {
    "nbgrader": {
     "grade": false,
     "grade_id": "cell-de568d701f9137ca",
     "locked": false,
     "schema_version": 3,
     "solution": true,
     "task": false
    }
   },
   "outputs": [
    {
     "data": {
      "text/plain": [
       "['blue', 'green', 'red', 'yellow']"
      ]
     },
     "execution_count": 30,
     "metadata": {},
     "output_type": "execute_result"
    }
   ],
   "source": [
    "#Task 4b\n",
    "\n",
    "#YOUR CODE HERE\n",
    "five_colors.remove(five_colors[(len(five_colors)//2)])\n",
    "four_colors = five_colors\n",
    "four_colors"
   ]
  },
  {
   "cell_type": "markdown",
   "id": "bd97590b",
   "metadata": {
    "nbgrader": {
     "grade": false,
     "grade_id": "cell-52ec4f13ab1d2ba2",
     "locked": true,
     "schema_version": 3,
     "solution": false,
     "task": false
    }
   },
   "source": [
    "**Task 4b Test**"
   ]
  },
  {
   "cell_type": "code",
   "execution_count": 31,
   "id": "7c457741",
   "metadata": {
    "nbgrader": {
     "grade": true,
     "grade_id": "cell-9ab8dc3c20c2a9c1",
     "locked": true,
     "points": 0.5,
     "schema_version": 3,
     "solution": false,
     "task": false
    }
   },
   "outputs": [],
   "source": [
    "#Task 4b Test\n",
    "assert len(four_colors) == 4, \"Try displaying or printing the output of your object to verify your results\"\n",
    "# Hidden tests - you will see the results when you submit to Canvas\n",
    "###BEGIN HIDDEN TESTS\n",
    "assert five_colors[1] == 'green', \"Try rerunning your previous cells to reset your variables.\"\n",
    "###END HIDDEN TESTS\n"
   ]
  },
  {
   "cell_type": "markdown",
   "id": "e9ddc0a0",
   "metadata": {
    "nbgrader": {
     "grade": false,
     "grade_id": "cell-0241eccb6598bb3f",
     "locked": true,
     "schema_version": 3,
     "solution": false,
     "task": false
    }
   },
   "source": [
    "**Task 5** - Indexing\n",
    "* Use indexing to return the *third* item in the `four_colors` list. Assign this to an object called `third_color`.\n",
    "* Next, use string indexing to return the first and the last letter of the `third_color` object. Assign it to an object called `first_and_last`.   \n"
   ]
  },
  {
   "cell_type": "code",
   "execution_count": 32,
   "id": "4fd187c3",
   "metadata": {
    "nbgrader": {
     "grade": false,
     "grade_id": "cell-9809eb2fc05f4fa5",
     "locked": false,
     "schema_version": 3,
     "solution": true,
     "task": false
    }
   },
   "outputs": [
    {
     "data": {
      "text/plain": [
       "'rd'"
      ]
     },
     "execution_count": 32,
     "metadata": {},
     "output_type": "execute_result"
    }
   ],
   "source": [
    "#Task 5\n",
    "\n",
    "#YOUR CODE HERE\n",
    "third_color = four_colors[2]\n",
    "third_color\n",
    "\n",
    "#okay answer\n",
    "third_color[0::2]\n",
    "#best answer\n",
    "first_and_last = third_color[0] + third_color[-1]\n",
    "first_and_last"
   ]
  },
  {
   "cell_type": "markdown",
   "id": "70dbeb73",
   "metadata": {
    "nbgrader": {
     "grade": false,
     "grade_id": "cell-02167e38b7bf155b",
     "locked": true,
     "schema_version": 3,
     "solution": false,
     "task": false
    }
   },
   "source": [
    "**Task 5 Test**"
   ]
  },
  {
   "cell_type": "code",
   "execution_count": 33,
   "id": "540bd086",
   "metadata": {
    "nbgrader": {
     "grade": true,
     "grade_id": "cell-229ed9f4a0babeba",
     "locked": true,
     "points": 1,
     "schema_version": 3,
     "solution": false,
     "task": false
    }
   },
   "outputs": [],
   "source": [
    "#Task 5 Test\n",
    "assert third_color == 'red'\n",
    "# Hidden tests - you will see the results when you submit to Canvas\n",
    "###BEGIN HIDDEN TESTS\n",
    "assert first_and_last == 'rd'\n",
    "###END HIDDEN TESTS"
   ]
  },
  {
   "cell_type": "markdown",
   "id": "913f6060",
   "metadata": {
    "nbgrader": {
     "grade": false,
     "grade_id": "cell-18fa4e019b350589",
     "locked": true,
     "schema_version": 3,
     "solution": false,
     "task": false
    }
   },
   "source": [
    "**Task 6a** - Indexing\n",
    "* Create a dictionary that includes the following key: value pairs: `charizard: fire, squirtle: water, bulbasaur: leaf`. Assign it to an object called `poke_dictionary` "
   ]
  },
  {
   "cell_type": "code",
   "execution_count": 34,
   "id": "bf8be622",
   "metadata": {
    "nbgrader": {
     "grade": false,
     "grade_id": "cell-24b1a6230e320ec9",
     "locked": false,
     "schema_version": 3,
     "solution": true,
     "task": false
    }
   },
   "outputs": [],
   "source": [
    "#Task 6a\n",
    "\n",
    "#YOUR CODE HERE\n",
    "poke_dictionary = {'charizard':'fire', \n",
    "                  'squirtle': 'water',\n",
    "                  'bulbasaur': 'leaf'}"
   ]
  },
  {
   "cell_type": "markdown",
   "id": "13821352",
   "metadata": {
    "nbgrader": {
     "grade": false,
     "grade_id": "cell-55b29c2e48a8aeee",
     "locked": true,
     "schema_version": 3,
     "solution": false,
     "task": false
    }
   },
   "source": [
    "**Task 6a Test**"
   ]
  },
  {
   "cell_type": "code",
   "execution_count": 35,
   "id": "130f4536",
   "metadata": {
    "nbgrader": {
     "grade": true,
     "grade_id": "cell-5ad0aaf04fb6881b",
     "locked": true,
     "points": 0.5,
     "schema_version": 3,
     "solution": false,
     "task": false
    }
   },
   "outputs": [],
   "source": [
    "#Task 6a Test\n",
    "assert len(poke_dictionary.keys()) == 3, \"Verify your syntax. Did you create a dictionary object?\"\n",
    "\n",
    "# Hidden tests - you will see the results when you submit to Canvas\n",
    "###BEGIN HIDDEN TESTS\n",
    "assert poke_dictionary['charizard'] == 'fire'\n",
    "###END HIDDEN TESTS\n"
   ]
  },
  {
   "cell_type": "markdown",
   "id": "8dc33e71",
   "metadata": {
    "nbgrader": {
     "grade": false,
     "grade_id": "cell-c1aca4c65563149c",
     "locked": true,
     "schema_version": 3,
     "solution": false,
     "task": false
    }
   },
   "source": [
    "**Task 6b** - Indexing\n",
    "* Create a new dictionary called `more_poke` that includes the following: `pikachu: electric, pidgey: air` \n",
    "* Combine the key and values of the `more_poke` with the original `poke_dictionary`.\n",
    ">Hint: You may need to research how to combine two dictionaries. \n",
    "* Assign all the `dictionary values` of the `poke_dictionary` to an object called `poke_values`. \n",
    ">Hint: Your output for `poke_values` will look like: `dict_values(['fire', 'water', 'leaf', 'electric', 'air'])`"
   ]
  },
  {
   "cell_type": "code",
   "execution_count": 37,
   "id": "71388e13",
   "metadata": {
    "nbgrader": {
     "grade": false,
     "grade_id": "cell-0b4582e6a68091ef",
     "locked": false,
     "schema_version": 3,
     "solution": true,
     "task": false
    }
   },
   "outputs": [
    {
     "data": {
      "text/plain": [
       "dict_values(['fire', 'water', 'leaf', 'electric', 'air'])"
      ]
     },
     "execution_count": 37,
     "metadata": {},
     "output_type": "execute_result"
    }
   ],
   "source": [
    "#Task 6b\n",
    "\n",
    "#YOUR CODE HERE\n",
    "more_poke = {'pikachu':'electric', 'pidgey':'air'}\n",
    "poke_dictionary.update(more_poke)\n",
    "poke_values= poke_dictionary.values()\n",
    "poke_values"
   ]
  },
  {
   "cell_type": "markdown",
   "id": "9ee71555",
   "metadata": {
    "nbgrader": {
     "grade": false,
     "grade_id": "cell-2c1ed604143ef367",
     "locked": true,
     "schema_version": 3,
     "solution": false,
     "task": false
    }
   },
   "source": [
    "**Task 6b Tests**"
   ]
  },
  {
   "cell_type": "code",
   "execution_count": 16,
   "id": "ffe3d031",
   "metadata": {
    "nbgrader": {
     "grade": true,
     "grade_id": "cell-c561f60e90446fd7",
     "locked": true,
     "points": 0.5,
     "schema_version": 3,
     "solution": false,
     "task": false
    }
   },
   "outputs": [],
   "source": [
    "#Task 6b Test\n",
    "assert isinstance(more_poke, dict), \"Check your syntax. Did you create a dictionary object?\"\n",
    "assert len(poke_dictionary) == 5, \"Did you properly combine both dictionaries?\"\n",
    "# Hidden tests - you will see the results when you submit to Canvas\n",
    "\n",
    "\n",
    "###BEGIN HIDDEN TESTS\n",
    "assert 'fire' in poke_values, \"Did you include all the key/value pairs?\"\n",
    "assert 'air' in poke_values, \"Did you include all the key/value pairs?\"\n",
    "###END HIDDEN TESTS\n"
   ]
  },
  {
   "cell_type": "markdown",
   "id": "7b6e4a7f",
   "metadata": {
    "nbgrader": {
     "grade": false,
     "grade_id": "cell-eae7a9e336671bc6",
     "locked": true,
     "schema_version": 3,
     "solution": false,
     "task": false
    }
   },
   "source": [
    "**Task 7** Loops\n",
    "* Use a for loop to go through the `poke_dictionary` object. Return all the dictionary **values** as uppercase letters and the **keys** as lowercase values. \n",
    "* *Hint*: This [StackOverflow](https://stackoverflow.com/questions/50004310/convert-python-dictionary-to-uppercase) page offers a solution (with a slight adjustment), but there are multiple ways you can do this!"
   ]
  },
  {
   "cell_type": "code",
   "execution_count": 17,
   "id": "26316052",
   "metadata": {
    "nbgrader": {
     "grade": false,
     "grade_id": "cell-0535b02af29e01e7",
     "locked": false,
     "schema_version": 3,
     "solution": true,
     "task": false
    }
   },
   "outputs": [],
   "source": [
    "#Task 7\n",
    "\n",
    "#YOUR CODE HERE\n",
    "for i in poke_dictionary:\n",
    "    poke_dictionary[i] = poke_dictionary[i].upper()\n",
    "    \n",
    "#another answer\n",
    "#poke_dictionary = {k:v.upper() for k,v in poke_dictionary.items()}"
   ]
  },
  {
   "cell_type": "markdown",
   "id": "a49cd552",
   "metadata": {
    "nbgrader": {
     "grade": false,
     "grade_id": "cell-bca76de42c5c2d85",
     "locked": true,
     "schema_version": 3,
     "solution": false,
     "task": false
    }
   },
   "source": [
    "**Task 7 Test**"
   ]
  },
  {
   "cell_type": "code",
   "execution_count": 18,
   "id": "9f1f53d4",
   "metadata": {
    "nbgrader": {
     "grade": true,
     "grade_id": "cell-0e4a39d38c38f186",
     "locked": true,
     "points": 1,
     "schema_version": 3,
     "solution": false,
     "task": false
    }
   },
   "outputs": [],
   "source": [
    "#Task 8 Test\n",
    "assert poke_dictionary['pikachu'].isupper(), \"Your dictionary values should all be uppercase\"\n",
    "###BEGIN HIDDEN TESTS\n",
    "assert list(poke_dictionary.keys())[0].islower(), \"Your dictionary keys should still be lowercase\"\n",
    "###END HIDDEN TESTS"
   ]
  },
  {
   "cell_type": "markdown",
   "id": "e16c47d5",
   "metadata": {
    "nbgrader": {
     "grade": false,
     "grade_id": "cell-7ddb13dfb23b417b",
     "locked": true,
     "schema_version": 3,
     "solution": false,
     "task": false
    }
   },
   "source": [
    "**Task 8** Imports\n",
    "* Import the `seaborn` and `pandas` library. Alias the libraries as `sns` and `pd` respectively. \n",
    "* Use the `sns` library to load a dataset of your choice. Assign it to an object called `df`. \n",
    "* Run the following code: `df.loc[0]`. What data type is this? Assign your answer to an object called `first_row_type`.\n"
   ]
  },
  {
   "cell_type": "code",
   "execution_count": 19,
   "id": "d3307118",
   "metadata": {
    "nbgrader": {
     "grade": false,
     "grade_id": "cell-6ed26cd55b737be1",
     "locked": false,
     "schema_version": 3,
     "solution": true,
     "task": false
    }
   },
   "outputs": [],
   "source": [
    "#Task 8\n",
    "\n",
    "#YOUR CODE HERE\n",
    "import seaborn as sns\n",
    "import pandas as pd\n",
    "\n",
    "\n",
    "#sns.get_dataset_names()\n",
    "df = sns.load_dataset('taxis')\n",
    "first_row_type = type(df.loc[0])"
   ]
  },
  {
   "cell_type": "markdown",
   "id": "e2f74e3a",
   "metadata": {
    "nbgrader": {
     "grade": false,
     "grade_id": "cell-445cad8112655942",
     "locked": true,
     "schema_version": 3,
     "solution": false,
     "task": false
    }
   },
   "source": [
    "**Task 8 Test**"
   ]
  },
  {
   "cell_type": "code",
   "execution_count": 20,
   "id": "259d7f18",
   "metadata": {
    "nbgrader": {
     "grade": true,
     "grade_id": "cell-39cc971493c3004e",
     "locked": true,
     "points": 1,
     "schema_version": 3,
     "solution": false,
     "task": false
    }
   },
   "outputs": [],
   "source": [
    "#Task 8 Test\n",
    "\n",
    "assert isinstance(df, pd.DataFrame), \"Did you import the pandas library? Did you check the datatype of the df object?\"\n",
    "\n",
    "# Hidden tests - you will see the results when you submit to Canvas\n",
    "###BEGIN HIDDEN TESTS\n",
    "assert first_row_type == pd.Series\n",
    "###END HIDDEN TESTS"
   ]
  }
 ],
 "metadata": {
  "celltoolbar": "Create Assignment",
  "kernelspec": {
   "display_name": "Python 3",
   "language": "python",
   "name": "python3"
  },
  "language_info": {
   "codemirror_mode": {
    "name": "ipython",
    "version": 3
   },
   "file_extension": ".py",
   "mimetype": "text/x-python",
   "name": "python",
   "nbconvert_exporter": "python",
   "pygments_lexer": "ipython3",
   "version": "3.8.8"
  }
 },
 "nbformat": 4,
 "nbformat_minor": 5
}
