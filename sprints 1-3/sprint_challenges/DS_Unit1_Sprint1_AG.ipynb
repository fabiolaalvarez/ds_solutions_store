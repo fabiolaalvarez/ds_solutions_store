{
 "cells": [
  {
   "cell_type": "markdown",
   "metadata": {
    "id": "j4EFYnn4MixR",
    "nbgrader": {
     "grade": false,
     "grade_id": "cell-2e05cbe003d95447",
     "locked": true,
     "schema_version": 3,
     "solution": false,
     "task": false
    }
   },
   "source": [
    "## Sprint Challenge: Data Wrangling and Storytelling\n",
    "### Notebook points total: 14\n"
   ]
  },
  {
   "cell_type": "markdown",
   "metadata": {
    "nbgrader": {
     "grade": false,
     "grade_id": "cell-5821095ecfb57ce4",
     "locked": true,
     "schema_version": 3,
     "solution": false,
     "task": false
    }
   },
   "source": [
    "## Python Fundamentals"
   ]
  },
  {
   "cell_type": "markdown",
   "metadata": {
    "nbgrader": {
     "grade": false,
     "grade_id": "cell-b5f9b60ba324a5b0",
     "locked": true,
     "schema_version": 3,
     "solution": false,
     "task": false
    }
   },
   "source": [
    "**Task 1** - Python Objects\n",
    "* Create a list object called `list_practice` using the following three strings: `bloom`, `data`, `python` "
   ]
  },
  {
   "cell_type": "code",
   "execution_count": 1,
   "metadata": {
    "nbgrader": {
     "grade": false,
     "grade_id": "cell-6ee0685279505899",
     "locked": false,
     "schema_version": 3,
     "solution": true,
     "task": false
    }
   },
   "outputs": [],
   "source": [
    "### YOUR CODE HERE\n",
    "list_practice = ['bloom', 'data', 'python']"
   ]
  },
  {
   "cell_type": "markdown",
   "metadata": {
    "nbgrader": {
     "grade": false,
     "grade_id": "cell-254c30333f63dc0e",
     "locked": true,
     "schema_version": 3,
     "solution": false,
     "task": false
    }
   },
   "source": [
    "**Task 1 Test**"
   ]
  },
  {
   "cell_type": "code",
   "execution_count": 2,
   "metadata": {
    "nbgrader": {
     "grade": true,
     "grade_id": "cell-7f5ed8ccc5b15f71",
     "locked": true,
     "points": 1,
     "schema_version": 3,
     "solution": false,
     "task": false
    }
   },
   "outputs": [],
   "source": [
    "#Task 1 - Test\n",
    "assert isinstance(list_practice, list), \"Make sure you created a list object\"\n",
    "\n",
    "#BEGIN HIDDEN TESTS\n",
    "assert len(list_practice)== 3, \"Check that you've added only three objects\"\n",
    "#END HIDDEN TESTS"
   ]
  },
  {
   "cell_type": "markdown",
   "metadata": {
    "nbgrader": {
     "grade": false,
     "grade_id": "cell-bd07e140b06f24b6",
     "locked": true,
     "schema_version": 3,
     "solution": false,
     "task": false
    }
   },
   "source": [
    "\n",
    "**Task 2** - Dictionaries\n",
    "* Create a dictionary object called `diction_practice`. \n",
    "* Assign the following values to their respective keys listed above: `tech`,  `science`, `language`\n",
    "\n",
    "*Hint:* There are multiple ways you can accomplish this task. You can either write out the key:values pairs manually, or iteratively combine two lists using the [`zip` function](https://docs.python.org/3/library/functions.html)."
   ]
  },
  {
   "cell_type": "code",
   "execution_count": 3,
   "metadata": {
    "nbgrader": {
     "grade": false,
     "grade_id": "cell-d2aac83e74b8fb89",
     "locked": false,
     "schema_version": 3,
     "solution": true,
     "task": false
    }
   },
   "outputs": [
    {
     "data": {
      "text/plain": [
       "{'bloom': 'tech', 'data': 'science', 'python': 'language'}"
      ]
     },
     "execution_count": 3,
     "metadata": {},
     "output_type": "execute_result"
    }
   ],
   "source": [
    "### YOUR CODE HERE\n",
    "values_list = 'tech', 'science', 'language'\n",
    "\n",
    "diction_practice = dict(zip(list_practice, values_list))\n",
    "diction_practice\n"
   ]
  },
  {
   "cell_type": "markdown",
   "metadata": {
    "nbgrader": {
     "grade": false,
     "grade_id": "cell-95f85a283f98ef20",
     "locked": true,
     "schema_version": 3,
     "solution": false,
     "task": false
    }
   },
   "source": [
    "**Task 2 - Test**"
   ]
  },
  {
   "cell_type": "code",
   "execution_count": 4,
   "metadata": {
    "nbgrader": {
     "grade": true,
     "grade_id": "cell-6f3011fa357d270f",
     "locked": true,
     "points": 1,
     "schema_version": 3,
     "solution": false,
     "task": false
    }
   },
   "outputs": [],
   "source": [
    "#Task 2 - Test\n",
    "\n",
    "assert isinstance(diction_practice, dict), \"Did you use the correct syntax?\"\n",
    "\n",
    "#BEGIN HIDDEN TESTS\n",
    "assert len(diction_practice.values()) == 3\n",
    "assert diction_practice['data'] == 'science', \"Make sure your values are assigned to their correct keys\"\n",
    "#END HIDDEN TESTS"
   ]
  },
  {
   "cell_type": "markdown",
   "metadata": {
    "nbgrader": {
     "grade": false,
     "grade_id": "cell-4a31ee084e18453a",
     "locked": true,
     "schema_version": 3,
     "solution": false,
     "task": false
    }
   },
   "source": [
    "\n",
    "**Task 3** - Dictionaries\n",
    "* Reassign the value of the `python` key in your dictionary to `'programming_language'`"
   ]
  },
  {
   "cell_type": "code",
   "execution_count": 5,
   "metadata": {
    "nbgrader": {
     "grade": false,
     "grade_id": "cell-59c6653a1a1faae6",
     "locked": false,
     "schema_version": 3,
     "solution": true,
     "task": false
    }
   },
   "outputs": [],
   "source": [
    "### YOUR CODE HERE\n",
    "diction_practice['python'] = 'programming_language'"
   ]
  },
  {
   "cell_type": "markdown",
   "metadata": {
    "nbgrader": {
     "grade": false,
     "grade_id": "cell-b0a297189d9a7dd3",
     "locked": true,
     "schema_version": 3,
     "solution": false,
     "task": false
    }
   },
   "source": [
    "**Task 3 Tests**"
   ]
  },
  {
   "cell_type": "code",
   "execution_count": 6,
   "metadata": {
    "nbgrader": {
     "grade": true,
     "grade_id": "cell-94bd4331d6cb29c9",
     "locked": true,
     "points": 1,
     "schema_version": 3,
     "solution": false,
     "task": false
    }
   },
   "outputs": [],
   "source": [
    "#Task 3 Tests\n",
    "\n",
    "assert diction_practice['data'] == 'science', \"Make sure your values are assigned to their correct keys\"\n",
    "\n",
    "#BEGIN HIDDEN TESTS\n",
    "assert diction_practice['python'] == 'programming_language', \"Print or output your value to check your results\"\n",
    "#END HIDDEN TESTS"
   ]
  },
  {
   "cell_type": "markdown",
   "metadata": {
    "id": "qSvL3CeTFk9F",
    "nbgrader": {
     "grade": false,
     "grade_id": "cell-40090434cb0736b0",
     "locked": true,
     "schema_version": 3,
     "solution": false,
     "task": false
    }
   },
   "source": [
    "## Use the following information to complete Tasks \n",
    "\n",
    "\n",
    "\n",
    "In this Sprint Challenge you will first \"wrangle\" some data from [Gapminder](https://www.gapminder.org/about-gapminder/), a Swedish non-profit co-founded by Hans Rosling. \"Gapminder produces free teaching resources making the world understandable based on reliable statistics.\"\n",
    "- [Cell phones (total), by country and year](https://raw.githubusercontent.com/open-numbers/ddf--gapminder--systema_globalis/master/countries-etc-datapoints/ddf--datapoints--cell_phones_total--by--geo--time.csv)\n",
    "- [Population (total), by country and year](https://raw.githubusercontent.com/open-numbers/ddf--gapminder--systema_globalis/master/countries-etc-datapoints/ddf--datapoints--population_total--by--geo--time.csv)\n",
    "- [Geo country codes](https://github.com/open-numbers/ddf--gapminder--systema_globalis/blob/master/ddf--entities--geo--country.csv)\n",
    "\n",
    "These two links have everything you need to successfully complete the first part of this sprint challenge.\n",
    "- [Pandas documentation: Working with Text Data](https://pandas.pydata.org/pandas-docs/stable/text.html) (one question)\n",
    "- [Pandas Cheat Sheet](https://github.com/pandas-dev/pandas/blob/master/doc/cheatsheet/Pandas_Cheat_Sheet.pdf) (everything else)\n"
   ]
  },
  {
   "cell_type": "markdown",
   "metadata": {
    "id": "0ZklksziMixS",
    "nbgrader": {
     "grade": false,
     "grade_id": "cell-ae2312e461921817",
     "locked": true,
     "schema_version": 3,
     "solution": false,
     "task": false
    }
   },
   "source": [
    "**Task 4** - Load and print the cell phone data.  Pandas and numpy import statements have been included for you.\n",
    "\n",
    "* Load your CSV file found at `cell_phones_url` into a DataFrame object named `cell_phones`\n"
   ]
  },
  {
   "cell_type": "code",
   "execution_count": 7,
   "metadata": {
    "id": "FFO8QNJ7MixS",
    "nbgrader": {
     "grade": false,
     "grade_id": "cell-6f16afb9d271f949",
     "locked": false,
     "schema_version": 3,
     "solution": true,
     "task": false
    }
   },
   "outputs": [
    {
     "data": {
      "text/html": [
       "<div>\n",
       "<style scoped>\n",
       "    .dataframe tbody tr th:only-of-type {\n",
       "        vertical-align: middle;\n",
       "    }\n",
       "\n",
       "    .dataframe tbody tr th {\n",
       "        vertical-align: top;\n",
       "    }\n",
       "\n",
       "    .dataframe thead th {\n",
       "        text-align: right;\n",
       "    }\n",
       "</style>\n",
       "<table border=\"1\" class=\"dataframe\">\n",
       "  <thead>\n",
       "    <tr style=\"text-align: right;\">\n",
       "      <th></th>\n",
       "      <th>geo</th>\n",
       "      <th>time</th>\n",
       "      <th>cell_phones_total</th>\n",
       "    </tr>\n",
       "  </thead>\n",
       "  <tbody>\n",
       "    <tr>\n",
       "      <th>0</th>\n",
       "      <td>abw</td>\n",
       "      <td>1960</td>\n",
       "      <td>0.0</td>\n",
       "    </tr>\n",
       "    <tr>\n",
       "      <th>1</th>\n",
       "      <td>abw</td>\n",
       "      <td>1965</td>\n",
       "      <td>0.0</td>\n",
       "    </tr>\n",
       "    <tr>\n",
       "      <th>2</th>\n",
       "      <td>abw</td>\n",
       "      <td>1970</td>\n",
       "      <td>0.0</td>\n",
       "    </tr>\n",
       "    <tr>\n",
       "      <th>3</th>\n",
       "      <td>abw</td>\n",
       "      <td>1975</td>\n",
       "      <td>0.0</td>\n",
       "    </tr>\n",
       "    <tr>\n",
       "      <th>4</th>\n",
       "      <td>abw</td>\n",
       "      <td>1976</td>\n",
       "      <td>0.0</td>\n",
       "    </tr>\n",
       "  </tbody>\n",
       "</table>\n",
       "</div>"
      ],
      "text/plain": [
       "   geo  time  cell_phones_total\n",
       "0  abw  1960                0.0\n",
       "1  abw  1965                0.0\n",
       "2  abw  1970                0.0\n",
       "3  abw  1975                0.0\n",
       "4  abw  1976                0.0"
      ]
     },
     "execution_count": 7,
     "metadata": {},
     "output_type": "execute_result"
    }
   ],
   "source": [
    "# Task 4\n",
    "\n",
    "# Imports \n",
    "import pandas as pd\n",
    "import numpy as np\n",
    "\n",
    "cell_phones_url = 'https://raw.githubusercontent.com/LambdaSchool/data-science-practice-datasets/main/unit_1/Cell__Phones/cell_phones.csv'\n",
    "\n",
    "# Load the dataframe and print the top 5 rows\n",
    "\n",
    "### BEGIN SOLUTION\n",
    "cell_phones = pd.read_csv(cell_phones_url)\n",
    "cell_phones.head()\n",
    "### END SOLUTION\n"
   ]
  },
  {
   "cell_type": "markdown",
   "metadata": {
    "id": "ymCLkZMJMixT"
   },
   "source": [
    "**Task 4 Test**"
   ]
  },
  {
   "cell_type": "code",
   "execution_count": 8,
   "metadata": {
    "id": "btcEJXxCMixT",
    "nbgrader": {
     "grade": true,
     "grade_id": "cell-226f7bf8e9ea24f9",
     "locked": true,
     "points": 1,
     "schema_version": 3,
     "solution": false,
     "task": false
    }
   },
   "outputs": [],
   "source": [
    "# Task 4 - Test\n",
    "\n",
    "assert isinstance(cell_phones, pd.DataFrame), 'Have you created a DataFrame named `cell_phones`?'\n",
    "assert len(cell_phones) == 9574\n",
    "\n",
    "### BEGIN HIDDEN TESTS\n",
    "assert cell_phones.shape == (9574, 3), 'Make sure you correctly read in the DataFrame'\n",
    "### END HIDDEN TESTS"
   ]
  },
  {
   "cell_type": "markdown",
   "metadata": {
    "id": "9YPW16tmT2J_",
    "nbgrader": {
     "grade": false,
     "grade_id": "cell-905dd5d05e5cebb7",
     "locked": true,
     "schema_version": 3,
     "solution": false,
     "task": false
    }
   },
   "source": [
    "**Task 5** - Load and print the population data.  \n",
    "\n",
    "* Load the CSV file found at `population_url` into a DataFrame named `population`\n",
    "\n"
   ]
  },
  {
   "cell_type": "code",
   "execution_count": 9,
   "metadata": {
    "id": "SNWpDAvyUYa2",
    "nbgrader": {
     "grade": false,
     "grade_id": "cell-561c2d59728188a9",
     "locked": false,
     "schema_version": 3,
     "solution": true,
     "task": false
    }
   },
   "outputs": [
    {
     "data": {
      "text/html": [
       "<div>\n",
       "<style scoped>\n",
       "    .dataframe tbody tr th:only-of-type {\n",
       "        vertical-align: middle;\n",
       "    }\n",
       "\n",
       "    .dataframe tbody tr th {\n",
       "        vertical-align: top;\n",
       "    }\n",
       "\n",
       "    .dataframe thead th {\n",
       "        text-align: right;\n",
       "    }\n",
       "</style>\n",
       "<table border=\"1\" class=\"dataframe\">\n",
       "  <thead>\n",
       "    <tr style=\"text-align: right;\">\n",
       "      <th></th>\n",
       "      <th>geo</th>\n",
       "      <th>time</th>\n",
       "      <th>population_total</th>\n",
       "    </tr>\n",
       "  </thead>\n",
       "  <tbody>\n",
       "    <tr>\n",
       "      <th>0</th>\n",
       "      <td>afg</td>\n",
       "      <td>1800</td>\n",
       "      <td>3280000</td>\n",
       "    </tr>\n",
       "    <tr>\n",
       "      <th>1</th>\n",
       "      <td>afg</td>\n",
       "      <td>1801</td>\n",
       "      <td>3280000</td>\n",
       "    </tr>\n",
       "    <tr>\n",
       "      <th>2</th>\n",
       "      <td>afg</td>\n",
       "      <td>1802</td>\n",
       "      <td>3280000</td>\n",
       "    </tr>\n",
       "    <tr>\n",
       "      <th>3</th>\n",
       "      <td>afg</td>\n",
       "      <td>1803</td>\n",
       "      <td>3280000</td>\n",
       "    </tr>\n",
       "    <tr>\n",
       "      <th>4</th>\n",
       "      <td>afg</td>\n",
       "      <td>1804</td>\n",
       "      <td>3280000</td>\n",
       "    </tr>\n",
       "  </tbody>\n",
       "</table>\n",
       "</div>"
      ],
      "text/plain": [
       "   geo  time  population_total\n",
       "0  afg  1800           3280000\n",
       "1  afg  1801           3280000\n",
       "2  afg  1802           3280000\n",
       "3  afg  1803           3280000\n",
       "4  afg  1804           3280000"
      ]
     },
     "execution_count": 9,
     "metadata": {},
     "output_type": "execute_result"
    }
   ],
   "source": [
    "# Task 5\n",
    "\n",
    "population_url = 'https://raw.githubusercontent.com/LambdaSchool/data-science-practice-datasets/main/unit_1/Population/population.csv'\n",
    "\n",
    "# Load the dataframe and print the first 5 records\n",
    "\n",
    "### BEGIN SOLUTION\n",
    "population = pd.read_csv(population_url)\n",
    "population.head()\n",
    "### END SOLUTION"
   ]
  },
  {
   "cell_type": "markdown",
   "metadata": {
    "id": "RDOcC0FdVjIz"
   },
   "source": [
    "**Task 5 Test**"
   ]
  },
  {
   "cell_type": "code",
   "execution_count": 10,
   "metadata": {
    "id": "jcaZ5W5cVjI_",
    "nbgrader": {
     "grade": true,
     "grade_id": "cell-59d01cd695becd74",
     "locked": true,
     "points": 1,
     "schema_version": 3,
     "solution": false,
     "task": false
    }
   },
   "outputs": [],
   "source": [
    "# Task 5 - Test\n",
    "\n",
    "assert isinstance(population, pd.DataFrame), 'Have you created a DataFrame named `population`?'\n",
    "assert len(population) == 59297\n",
    "\n",
    "### BEGIN HIDDEN TESTS\n",
    "assert population.shape == (59297, 3), 'Make sure you correctly read in the DataFrame'\n",
    "### END HIDDEN TESTS"
   ]
  },
  {
   "cell_type": "markdown",
   "metadata": {
    "id": "9acXXTiEV5uJ"
   },
   "source": [
    "**Task 6** - Load and print the geo country codes data.  \n",
    "\n",
    "* Load the CSV file found at `geo_codes_url` into a DataFrame named `geo_codes`\n"
   ]
  },
  {
   "cell_type": "code",
   "execution_count": 11,
   "metadata": {
    "id": "Obm4p8WXV5uJ",
    "nbgrader": {
     "grade": false,
     "grade_id": "cell-eb4d290384535503",
     "locked": false,
     "schema_version": 3,
     "solution": true,
     "task": false
    }
   },
   "outputs": [
    {
     "data": {
      "text/html": [
       "<div>\n",
       "<style scoped>\n",
       "    .dataframe tbody tr th:only-of-type {\n",
       "        vertical-align: middle;\n",
       "    }\n",
       "\n",
       "    .dataframe tbody tr th {\n",
       "        vertical-align: top;\n",
       "    }\n",
       "\n",
       "    .dataframe thead th {\n",
       "        text-align: right;\n",
       "    }\n",
       "</style>\n",
       "<table border=\"1\" class=\"dataframe\">\n",
       "  <thead>\n",
       "    <tr style=\"text-align: right;\">\n",
       "      <th></th>\n",
       "      <th>geo</th>\n",
       "      <th>g77_and_oecd_countries</th>\n",
       "      <th>income_3groups</th>\n",
       "      <th>income_groups</th>\n",
       "      <th>is--country</th>\n",
       "      <th>iso3166_1_alpha2</th>\n",
       "      <th>iso3166_1_alpha3</th>\n",
       "      <th>iso3166_1_numeric</th>\n",
       "      <th>iso3166_2</th>\n",
       "      <th>landlocked</th>\n",
       "      <th>...</th>\n",
       "      <th>longitude</th>\n",
       "      <th>main_religion_2008</th>\n",
       "      <th>country</th>\n",
       "      <th>un_sdg_ldc</th>\n",
       "      <th>un_sdg_region</th>\n",
       "      <th>un_state</th>\n",
       "      <th>unicef_region</th>\n",
       "      <th>unicode_region_subtag</th>\n",
       "      <th>world_4region</th>\n",
       "      <th>world_6region</th>\n",
       "    </tr>\n",
       "  </thead>\n",
       "  <tbody>\n",
       "    <tr>\n",
       "      <th>0</th>\n",
       "      <td>abkh</td>\n",
       "      <td>others</td>\n",
       "      <td>NaN</td>\n",
       "      <td>NaN</td>\n",
       "      <td>True</td>\n",
       "      <td>NaN</td>\n",
       "      <td>NaN</td>\n",
       "      <td>NaN</td>\n",
       "      <td>NaN</td>\n",
       "      <td>NaN</td>\n",
       "      <td>...</td>\n",
       "      <td>NaN</td>\n",
       "      <td>NaN</td>\n",
       "      <td>Abkhazia</td>\n",
       "      <td>NaN</td>\n",
       "      <td>NaN</td>\n",
       "      <td>False</td>\n",
       "      <td>NaN</td>\n",
       "      <td>NaN</td>\n",
       "      <td>europe</td>\n",
       "      <td>europe_central_asia</td>\n",
       "    </tr>\n",
       "    <tr>\n",
       "      <th>1</th>\n",
       "      <td>abw</td>\n",
       "      <td>others</td>\n",
       "      <td>high_income</td>\n",
       "      <td>high_income</td>\n",
       "      <td>True</td>\n",
       "      <td>AW</td>\n",
       "      <td>ABW</td>\n",
       "      <td>533.0</td>\n",
       "      <td>NaN</td>\n",
       "      <td>coastline</td>\n",
       "      <td>...</td>\n",
       "      <td>-69.96667</td>\n",
       "      <td>christian</td>\n",
       "      <td>Aruba</td>\n",
       "      <td>un_not_least_developed</td>\n",
       "      <td>un_latin_america_and_the_caribbean</td>\n",
       "      <td>False</td>\n",
       "      <td>NaN</td>\n",
       "      <td>AW</td>\n",
       "      <td>americas</td>\n",
       "      <td>america</td>\n",
       "    </tr>\n",
       "    <tr>\n",
       "      <th>2</th>\n",
       "      <td>afg</td>\n",
       "      <td>g77</td>\n",
       "      <td>low_income</td>\n",
       "      <td>low_income</td>\n",
       "      <td>True</td>\n",
       "      <td>AF</td>\n",
       "      <td>AFG</td>\n",
       "      <td>4.0</td>\n",
       "      <td>NaN</td>\n",
       "      <td>landlocked</td>\n",
       "      <td>...</td>\n",
       "      <td>66.00000</td>\n",
       "      <td>muslim</td>\n",
       "      <td>Afghanistan</td>\n",
       "      <td>un_least_developed</td>\n",
       "      <td>un_central_and_southern_asia</td>\n",
       "      <td>True</td>\n",
       "      <td>sa</td>\n",
       "      <td>AF</td>\n",
       "      <td>asia</td>\n",
       "      <td>south_asia</td>\n",
       "    </tr>\n",
       "    <tr>\n",
       "      <th>3</th>\n",
       "      <td>ago</td>\n",
       "      <td>g77</td>\n",
       "      <td>middle_income</td>\n",
       "      <td>lower_middle_income</td>\n",
       "      <td>True</td>\n",
       "      <td>AO</td>\n",
       "      <td>AGO</td>\n",
       "      <td>24.0</td>\n",
       "      <td>NaN</td>\n",
       "      <td>coastline</td>\n",
       "      <td>...</td>\n",
       "      <td>18.50000</td>\n",
       "      <td>christian</td>\n",
       "      <td>Angola</td>\n",
       "      <td>un_least_developed</td>\n",
       "      <td>un_sub_saharan_africa</td>\n",
       "      <td>True</td>\n",
       "      <td>ssa</td>\n",
       "      <td>AO</td>\n",
       "      <td>africa</td>\n",
       "      <td>sub_saharan_africa</td>\n",
       "    </tr>\n",
       "    <tr>\n",
       "      <th>4</th>\n",
       "      <td>aia</td>\n",
       "      <td>others</td>\n",
       "      <td>NaN</td>\n",
       "      <td>NaN</td>\n",
       "      <td>True</td>\n",
       "      <td>AI</td>\n",
       "      <td>AIA</td>\n",
       "      <td>660.0</td>\n",
       "      <td>NaN</td>\n",
       "      <td>coastline</td>\n",
       "      <td>...</td>\n",
       "      <td>-63.05000</td>\n",
       "      <td>christian</td>\n",
       "      <td>Anguilla</td>\n",
       "      <td>un_not_least_developed</td>\n",
       "      <td>un_latin_america_and_the_caribbean</td>\n",
       "      <td>False</td>\n",
       "      <td>NaN</td>\n",
       "      <td>AI</td>\n",
       "      <td>americas</td>\n",
       "      <td>america</td>\n",
       "    </tr>\n",
       "  </tbody>\n",
       "</table>\n",
       "<p>5 rows × 21 columns</p>\n",
       "</div>"
      ],
      "text/plain": [
       "    geo g77_and_oecd_countries income_3groups        income_groups  \\\n",
       "0  abkh                 others            NaN                  NaN   \n",
       "1   abw                 others    high_income          high_income   \n",
       "2   afg                    g77     low_income           low_income   \n",
       "3   ago                    g77  middle_income  lower_middle_income   \n",
       "4   aia                 others            NaN                  NaN   \n",
       "\n",
       "   is--country iso3166_1_alpha2 iso3166_1_alpha3  iso3166_1_numeric iso3166_2  \\\n",
       "0         True              NaN              NaN                NaN       NaN   \n",
       "1         True               AW              ABW              533.0       NaN   \n",
       "2         True               AF              AFG                4.0       NaN   \n",
       "3         True               AO              AGO               24.0       NaN   \n",
       "4         True               AI              AIA              660.0       NaN   \n",
       "\n",
       "   landlocked  ...  longitude  main_religion_2008      country  \\\n",
       "0         NaN  ...        NaN                 NaN     Abkhazia   \n",
       "1   coastline  ...  -69.96667           christian        Aruba   \n",
       "2  landlocked  ...   66.00000              muslim  Afghanistan   \n",
       "3   coastline  ...   18.50000           christian       Angola   \n",
       "4   coastline  ...  -63.05000           christian     Anguilla   \n",
       "\n",
       "               un_sdg_ldc                       un_sdg_region un_state  \\\n",
       "0                     NaN                                 NaN    False   \n",
       "1  un_not_least_developed  un_latin_america_and_the_caribbean    False   \n",
       "2      un_least_developed        un_central_and_southern_asia     True   \n",
       "3      un_least_developed               un_sub_saharan_africa     True   \n",
       "4  un_not_least_developed  un_latin_america_and_the_caribbean    False   \n",
       "\n",
       "   unicef_region unicode_region_subtag world_4region        world_6region  \n",
       "0            NaN                   NaN        europe  europe_central_asia  \n",
       "1            NaN                    AW      americas              america  \n",
       "2             sa                    AF          asia           south_asia  \n",
       "3            ssa                    AO        africa   sub_saharan_africa  \n",
       "4            NaN                    AI      americas              america  \n",
       "\n",
       "[5 rows x 21 columns]"
      ]
     },
     "execution_count": 11,
     "metadata": {},
     "output_type": "execute_result"
    }
   ],
   "source": [
    "# Task 6\n",
    "\n",
    "geo_codes_url = 'https://raw.githubusercontent.com/LambdaSchool/data-science-practice-datasets/main/unit_1/GEO_codes/geo_country_codes.csv'\n",
    "\n",
    "# Load the dataframe and print out the first 5 records\n",
    "\n",
    "### BEGIN SOLUTION\n",
    "geo_codes = pd.read_csv(geo_codes_url)\n",
    "geo_codes.head()\n",
    "### END SOLUTIONaa"
   ]
  },
  {
   "cell_type": "markdown",
   "metadata": {
    "id": "_WR-4MbmV5uK",
    "nbgrader": {
     "grade": false,
     "grade_id": "cell-4a0f7ebd4c9931a7",
     "locked": true,
     "schema_version": 3,
     "solution": false,
     "task": false
    }
   },
   "source": [
    "**Task 6 Test**"
   ]
  },
  {
   "cell_type": "code",
   "execution_count": 12,
   "metadata": {
    "id": "Z3Tza5NWV5uK",
    "nbgrader": {
     "grade": true,
     "grade_id": "cell-39240405659c0c19",
     "locked": true,
     "points": 1,
     "schema_version": 3,
     "solution": false,
     "task": false
    }
   },
   "outputs": [],
   "source": [
    "# Task 6 - Test\n",
    "\n",
    "assert geo_codes is not None, 'Have you created a DataFrame named `geo_codes`?'\n",
    "assert len(geo_codes) == 273\n",
    "\n",
    "### BEGIN HIDDEN TESTS\n",
    "assert geo_codes.shape == (273, 21), 'Make sure you correctly read in the DataFrame'\n",
    "### END HIDDEN TESTS"
   ]
  },
  {
   "cell_type": "markdown",
   "metadata": {
    "id": "5DbACESjYxpV",
    "nbgrader": {
     "grade": false,
     "grade_id": "cell-817781e1dc5827c6",
     "locked": true,
     "schema_version": 3,
     "solution": false,
     "task": false
    }
   },
   "source": [
    "**Task 7** - Check for missing values\n",
    "\n",
    "Let's check for missing values in each of these DataFrames: `cell_phones`, `population` and `geo_codes`\n",
    "\n",
    "* Check for missing values in the following DataFrames:\n",
    "    * Assign the total number of missing values in `cell_phones` to the variable `cell_phones_missing`\n",
    "    * Assign the total number of missing values in `population` to the variable `population_missing`\n",
    "    * Assign the total number of missing values in `geo_codes` to the variable `geo_codes_missing` \n",
    "        * Hint: you will need to do a sum of a sum for this last task."
   ]
  },
  {
   "cell_type": "code",
   "execution_count": 13,
   "metadata": {
    "id": "SwmSvUySJjXc",
    "nbgrader": {
     "grade": false,
     "grade_id": "cell-9426cd5765574e07",
     "locked": false,
     "schema_version": 3,
     "solution": true,
     "task": false
    }
   },
   "outputs": [
    {
     "name": "stdout",
     "output_type": "stream",
     "text": [
      "Missing geo_codes:  781\n"
     ]
    }
   ],
   "source": [
    "# Task 7\n",
    "\n",
    "# Check for missing data in each of the DataFrames\n",
    "\n",
    "### BEGIN SOLUTION\n",
    "cell_phones.isnull().sum()\n",
    "population.isnull().sum()\n",
    "geo_codes.isnull().sum()\n",
    "\n",
    "cell_phones_missing = 0\n",
    "population_missing = 0\n",
    "\n",
    "# Sum of the sum\n",
    "print('Missing geo_codes: ', geo_codes.isnull().sum().sum())\n",
    "geo_codes_missing = 781\n",
    "### END SOLUTION"
   ]
  },
  {
   "cell_type": "markdown",
   "metadata": {
    "id": "cREZV7g0aLGC",
    "nbgrader": {
     "grade": false,
     "grade_id": "cell-47ee1692d471f9ea",
     "locked": true,
     "schema_version": 3,
     "solution": false,
     "task": false
    }
   },
   "source": [
    "**Task 7 Test**"
   ]
  },
  {
   "cell_type": "code",
   "execution_count": 14,
   "metadata": {
    "id": "eaQwM15IaLGD",
    "nbgrader": {
     "grade": true,
     "grade_id": "cell-cf6ab3b4b1e8afc1",
     "locked": true,
     "points": 1,
     "schema_version": 3,
     "solution": false,
     "task": false
    }
   },
   "outputs": [],
   "source": [
    "# Task 7 - Test\n",
    "\n",
    "if geo_codes_missing == 21: print('ERROR: Make sure to use a sum of a sum for the missing geo codes!')  \n",
    "\n",
    "# Hidden tests - you will see the results when you submit to Canvas\n",
    "### BEGIN HIDDEN TESTS\n",
    "assert cell_phones_missing == 0, 'Check the missing values in `cell_phones` using .isnull().sum()?'\n",
    "assert population_missing == 0, 'Check the missing values in `population` using .isnull().sum()?'\n",
    "assert geo_codes_missing == 781, 'Check the missing values in `geo_codes` using .isnull().sum()?'\n",
    "### END HIDDEN TESTS"
   ]
  },
  {
   "attachments": {},
   "cell_type": "markdown",
   "metadata": {
    "id": "P54itLGveF5p",
    "nbgrader": {
     "grade": false,
     "grade_id": "cell-aad431149f1868a7",
     "locked": true,
     "schema_version": 3,
     "solution": false,
     "task": false
    }
   },
   "source": [
    "**Task 8** - Merge the `cell_phones` and `population` DataFrames.\n",
    "\n",
    "* Merge the `cell_phones` and `population` dataframes with an **inner** merge on both the `geo` and `time` columns.\n",
    "* Call the resulting dataframe `cell_phone_population`"
   ]
  },
  {
   "cell_type": "code",
   "execution_count": 16,
   "metadata": {
    "id": "KL_NCL7heF51",
    "nbgrader": {
     "grade": false,
     "grade_id": "cell-decaebaa844aa3a5",
     "locked": false,
     "schema_version": 3,
     "solution": true,
     "task": false
    }
   },
   "outputs": [],
   "source": [
    "# Task 8\n",
    "\n",
    "# Merge the cell_phones and population dataframes\n",
    "\n",
    "### BEGIN SOLUTION\n",
    "cell_phone_population = pd.merge(cell_phones, population, how='inner', on=['geo','time'])\n",
    "### END SOLUTION"
   ]
  },
  {
   "cell_type": "markdown",
   "metadata": {
    "id": "9vFSumbkfqr_",
    "nbgrader": {
     "grade": false,
     "grade_id": "cell-00202b83d4d54973",
     "locked": true,
     "schema_version": 3,
     "solution": false,
     "task": false
    }
   },
   "source": [
    "**Task 8 Test**"
   ]
  },
  {
   "cell_type": "code",
   "execution_count": 17,
   "metadata": {
    "id": "85-p_0UGfkZJ",
    "nbgrader": {
     "grade": true,
     "grade_id": "cell-dd2473ea91f15f30",
     "locked": true,
     "points": 1,
     "schema_version": 3,
     "solution": false,
     "task": false
    }
   },
   "outputs": [],
   "source": [
    "# Task 8 - Test\n",
    "\n",
    "assert cell_phone_population is not None, 'Have you merged created a DataFrame named cell_phone_population?'\n",
    "assert len(cell_phone_population) == 8930\n",
    "\n",
    "### BEGIN HIDDEN TESTS\n",
    "assert cell_phone_population.shape == (8930, 4), 'Make sure you performed an inner merge on geo and time'\n",
    "### END HIDDEN TESTS"
   ]
  },
  {
   "cell_type": "markdown",
   "metadata": {
    "id": "oByYSkC7hB05",
    "nbgrader": {
     "grade": false,
     "grade_id": "cell-01ad09608fc02d0c",
     "locked": true,
     "schema_version": 3,
     "solution": false,
     "task": false
    }
   },
   "source": [
    "**Task 9** - Merge the `cell_phone_population` and `geo_codes` DataFrames\n",
    "\n",
    "* Merge the `cell_phone_population` and `geo_codes` DataFrames with an inner merge using the `geo` column.\n",
    "* **Only merge the `country` and `geo` columns from the `geo_codes` dataframe.** \n",
    "* Call the resulting DataFrame `geo_cell_phone_population`\n"
   ]
  },
  {
   "cell_type": "code",
   "execution_count": 18,
   "metadata": {
    "id": "NcO8-JpQhB1F",
    "nbgrader": {
     "grade": false,
     "grade_id": "cell-1ce5a2360ee6fd20",
     "locked": false,
     "schema_version": 3,
     "solution": true,
     "task": false
    }
   },
   "outputs": [],
   "source": [
    "# Task 9\n",
    "\n",
    "# Merge the cell_phone_population and geo_codes dataframes\n",
    "# Only include the country and geo columns from geo_codes\n",
    "\n",
    "### BEGIN SOLUTION\n",
    "geo_cell_phone_population = pd.merge(cell_phone_population, geo_codes[['geo', 'country']], how='inner', on=['geo'])\n",
    "### END SOLUTION"
   ]
  },
  {
   "cell_type": "markdown",
   "metadata": {
    "id": "zAKDLSV-hB1G",
    "nbgrader": {
     "grade": false,
     "grade_id": "cell-935fc7dc053d368e",
     "locked": true,
     "schema_version": 3,
     "solution": false,
     "task": false
    }
   },
   "source": [
    "**Task 9 Test**"
   ]
  },
  {
   "cell_type": "code",
   "execution_count": 19,
   "metadata": {
    "id": "eQgHSsLihB1G",
    "nbgrader": {
     "grade": true,
     "grade_id": "cell-764d5b72ae382339",
     "locked": true,
     "points": 1,
     "schema_version": 3,
     "solution": false,
     "task": false
    }
   },
   "outputs": [],
   "source": [
    "# Task 9 - Test\n",
    "assert len(geo_cell_phone_population) == 8930\n",
    "assert type(geo_cell_phone_population) == pd.DataFrame\n",
    "\n",
    "### BEGIN HIDDEN TESTS\n",
    "assert geo_cell_phone_population.shape == (8930, 5), 'Make sure you only merged in the geo and country codes from geo_codes'\n",
    "### END HIDDEN TESTS"
   ]
  },
  {
   "cell_type": "markdown",
   "metadata": {
    "id": "-CZF39BWivc2",
    "nbgrader": {
     "grade": false,
     "grade_id": "cell-bbacb1043d1c0990",
     "locked": true,
     "schema_version": 3,
     "solution": false,
     "task": false
    }
   },
   "source": [
    "**Task 10** - Calculate the number of cell phones per person.\n",
    "\n",
    "* Use the `cell_phones_total` and `population_total` columns to calculate the number of cell phones per person for every year. (In other words, for every row). \n",
    "* Call this new feature (column) `phones_per_person` and add it to the `geo_cell_phone_population` DataFrame (you'll be adding the column to the DataFrame).\n"
   ]
  },
  {
   "cell_type": "code",
   "execution_count": 20,
   "metadata": {
    "id": "vBeXa3LTivdC",
    "nbgrader": {
     "grade": false,
     "grade_id": "cell-bd0bce2920604643",
     "locked": false,
     "schema_version": 3,
     "solution": true,
     "task": false
    }
   },
   "outputs": [],
   "source": [
    "# Task 10\n",
    "\n",
    "### BEGIN SOLUTION\n",
    "geo_cell_phone_population['phones_per_person'] = geo_cell_phone_population['cell_phones_total'] / geo_cell_phone_population['population_total']\n",
    "### END SOLUTION"
   ]
  },
  {
   "cell_type": "markdown",
   "metadata": {
    "id": "4IiDB6f6ivdD"
   },
   "source": [
    "**Task 10 Test**"
   ]
  },
  {
   "cell_type": "code",
   "execution_count": 21,
   "metadata": {
    "id": "L3UgjCfFivdD",
    "nbgrader": {
     "grade": true,
     "grade_id": "cell-45c955c43e471400",
     "locked": true,
     "points": 1,
     "schema_version": 3,
     "solution": false,
     "task": false
    }
   },
   "outputs": [],
   "source": [
    "# Task 10 - Test\n",
    "\n",
    "# Hidden tests - you will see the results when you submit to Canvas\n",
    "### BEGIN HIDDEN TESTS\n",
    "assert geo_cell_phone_population.shape == (8930, 6), 'Make sure you only merged in the geo and country codes from geo_codes'\n",
    "assert round(geo_cell_phone_population['phones_per_person'].mean(), 2) == 0.31, 'Make sure you calculated the number of phones per person correctly'\n",
    "### END HIDDEN TESTS"
   ]
  },
  {
   "cell_type": "markdown",
   "metadata": {
    "id": "b_CZNPZAlw71"
   },
   "source": [
    "**Task 11** - Identify the number of cell phones per person in the US in 2017\n",
    "\n",
    "* Create a one-row subset of `geo_cell_phone_population` with data on cell phone ownership in the United States for the year 2017.\n",
    "* Call this subset DataFrame `US_2017`.\n",
    "* Print `US_2017`."
   ]
  },
  {
   "cell_type": "code",
   "execution_count": 22,
   "metadata": {
    "id": "Y0hRRvc1lw8B",
    "nbgrader": {
     "grade": false,
     "grade_id": "cell-665e83d11e594d90",
     "locked": false,
     "schema_version": 3,
     "solution": true,
     "task": false
    }
   },
   "outputs": [
    {
     "data": {
      "text/html": [
       "<div>\n",
       "<style scoped>\n",
       "    .dataframe tbody tr th:only-of-type {\n",
       "        vertical-align: middle;\n",
       "    }\n",
       "\n",
       "    .dataframe tbody tr th {\n",
       "        vertical-align: top;\n",
       "    }\n",
       "\n",
       "    .dataframe thead th {\n",
       "        text-align: right;\n",
       "    }\n",
       "</style>\n",
       "<table border=\"1\" class=\"dataframe\">\n",
       "  <thead>\n",
       "    <tr style=\"text-align: right;\">\n",
       "      <th></th>\n",
       "      <th>geo</th>\n",
       "      <th>time</th>\n",
       "      <th>cell_phones_total</th>\n",
       "      <th>population_total</th>\n",
       "      <th>country</th>\n",
       "      <th>phones_per_person</th>\n",
       "    </tr>\n",
       "  </thead>\n",
       "  <tbody>\n",
       "    <tr>\n",
       "      <th>8455</th>\n",
       "      <td>usa</td>\n",
       "      <td>2017</td>\n",
       "      <td>400000000.0</td>\n",
       "      <td>325084758</td>\n",
       "      <td>United States</td>\n",
       "      <td>1.230448</td>\n",
       "    </tr>\n",
       "  </tbody>\n",
       "</table>\n",
       "</div>"
      ],
      "text/plain": [
       "      geo  time  cell_phones_total  population_total        country  \\\n",
       "8455  usa  2017        400000000.0         325084758  United States   \n",
       "\n",
       "      phones_per_person  \n",
       "8455           1.230448  "
      ]
     },
     "execution_count": 22,
     "metadata": {},
     "output_type": "execute_result"
    }
   ],
   "source": [
    "# Task 11\n",
    "\n",
    "# Determine the number of cell phones per person in the US in 2017\n",
    "\n",
    "### BEGIN SOLUTION\n",
    "US_2017 = geo_cell_phone_population.loc[(geo_cell_phone_population['country']=='United States') & (geo_cell_phone_population['time']==2017)]\n",
    "### END SOLUTION\n",
    "\n",
    "# View the DataFrame\n",
    "US_2017"
   ]
  },
  {
   "cell_type": "markdown",
   "metadata": {
    "id": "mIDryQfKlw8C"
   },
   "source": [
    "**Task 11 Test**"
   ]
  },
  {
   "cell_type": "code",
   "execution_count": 23,
   "metadata": {
    "id": "wL0MypzFlw8C",
    "nbgrader": {
     "grade": true,
     "grade_id": "cell-ea08fdda80cf9731",
     "locked": true,
     "points": 1,
     "schema_version": 3,
     "solution": false,
     "task": false
    }
   },
   "outputs": [],
   "source": [
    "# Task 11 - Test\n",
    "\n",
    "# Hidden tests - you will see the results when you submit to Canvas\n",
    "### BEGIN HIDDEN TESTS\n",
    "assert round(US_2017['phones_per_person'].mean(), 2) == 1.23, 'Make sure you selected the the correct country and year'\n",
    "### END HIDDEN TESTS"
   ]
  },
  {
   "cell_type": "markdown",
   "metadata": {
    "id": "HTl_zamAtfJa",
    "nbgrader": {
     "grade": false,
     "grade_id": "cell-4acad6efd0ae146c",
     "locked": true,
     "schema_version": 3,
     "solution": false,
     "task": false
    }
   },
   "source": [
    "**Task 12** - Describe the numeric variables in `geo_cell_phone_population`\n",
    "\n",
    "* Calculate the summary statistics for the quantitative variables in `geo_cell_phone_population` using `.describe()`.\n",
    "* Find the mean value for `phones_per_person` and assign it to the variable `mean_phones`. Define your value out to two decimal points.\n"
   ]
  },
  {
   "cell_type": "code",
   "execution_count": 24,
   "metadata": {
    "id": "HGKKIqAktfJn",
    "nbgrader": {
     "grade": false,
     "grade_id": "cell-181c9805c52dfda8",
     "locked": false,
     "schema_version": 3,
     "solution": true,
     "task": false
    }
   },
   "outputs": [],
   "source": [
    "# Task 12\n",
    "\n",
    "### BEGIN SOLUTION\n",
    "geo_cell_phone_population.describe()\n",
    "mean_phones = 0.31\n",
    "### END SOLUTION"
   ]
  },
  {
   "cell_type": "markdown",
   "metadata": {
    "id": "4Nh0qP1ptfJn"
   },
   "source": [
    "**Task 12 Test**"
   ]
  },
  {
   "cell_type": "code",
   "execution_count": 25,
   "metadata": {
    "id": "cBZg6p1VtfJo",
    "nbgrader": {
     "grade": true,
     "grade_id": "cell-0a0cfb1ac7acc279",
     "locked": true,
     "points": 1,
     "schema_version": 3,
     "solution": false,
     "task": false
    }
   },
   "outputs": [],
   "source": [
    "# Task 12 - Test\n",
    "\n",
    "# Hidden tests - you will see the results when you submit to Canvas\n",
    "### BEGIN HIDDEN TESTS\n",
    "assert round(mean_phones, 1) == 0.3, 'Make sure you correctly calculated the summary statistics'\n",
    "### END HIDDEN TESTS"
   ]
  },
  {
   "cell_type": "markdown",
   "metadata": {
    "id": "wBQCMGrkw69w"
   },
   "source": [
    "**Task 13** - Subset the DataFrame for 2017\n",
    "\n",
    "* Create a new dataframe called `df2017` that includes **only** records from `geo_cell_phone_population` that ocurred in 2017."
   ]
  },
  {
   "cell_type": "code",
   "execution_count": 30,
   "metadata": {
    "id": "_EKPYqW-w698",
    "nbgrader": {
     "grade": false,
     "grade_id": "cell-f3fa17e15b5174ac",
     "locked": false,
     "schema_version": 3,
     "solution": true,
     "task": false
    }
   },
   "outputs": [
    {
     "data": {
      "text/html": [
       "<div>\n",
       "<style scoped>\n",
       "    .dataframe tbody tr th:only-of-type {\n",
       "        vertical-align: middle;\n",
       "    }\n",
       "\n",
       "    .dataframe tbody tr th {\n",
       "        vertical-align: top;\n",
       "    }\n",
       "\n",
       "    .dataframe thead th {\n",
       "        text-align: right;\n",
       "    }\n",
       "</style>\n",
       "<table border=\"1\" class=\"dataframe\">\n",
       "  <thead>\n",
       "    <tr style=\"text-align: right;\">\n",
       "      <th></th>\n",
       "      <th>geo</th>\n",
       "      <th>time</th>\n",
       "      <th>cell_phones_total</th>\n",
       "      <th>population_total</th>\n",
       "      <th>country</th>\n",
       "      <th>phones_per_person</th>\n",
       "    </tr>\n",
       "  </thead>\n",
       "  <tbody>\n",
       "    <tr>\n",
       "      <th>45</th>\n",
       "      <td>afg</td>\n",
       "      <td>2017</td>\n",
       "      <td>23929713.0</td>\n",
       "      <td>36296111</td>\n",
       "      <td>Afghanistan</td>\n",
       "      <td>0.659291</td>\n",
       "    </tr>\n",
       "    <tr>\n",
       "      <th>93</th>\n",
       "      <td>ago</td>\n",
       "      <td>2017</td>\n",
       "      <td>13323952.0</td>\n",
       "      <td>29816769</td>\n",
       "      <td>Angola</td>\n",
       "      <td>0.446861</td>\n",
       "    </tr>\n",
       "    <tr>\n",
       "      <th>141</th>\n",
       "      <td>alb</td>\n",
       "      <td>2017</td>\n",
       "      <td>3625699.0</td>\n",
       "      <td>2884169</td>\n",
       "      <td>Albania</td>\n",
       "      <td>1.257104</td>\n",
       "    </tr>\n",
       "    <tr>\n",
       "      <th>189</th>\n",
       "      <td>and</td>\n",
       "      <td>2017</td>\n",
       "      <td>80337.0</td>\n",
       "      <td>76997</td>\n",
       "      <td>Andorra</td>\n",
       "      <td>1.043378</td>\n",
       "    </tr>\n",
       "    <tr>\n",
       "      <th>227</th>\n",
       "      <td>are</td>\n",
       "      <td>2017</td>\n",
       "      <td>19826224.0</td>\n",
       "      <td>9487206</td>\n",
       "      <td>United Arab Emirates</td>\n",
       "      <td>2.089785</td>\n",
       "    </tr>\n",
       "    <tr>\n",
       "      <th>...</th>\n",
       "      <td>...</td>\n",
       "      <td>...</td>\n",
       "      <td>...</td>\n",
       "      <td>...</td>\n",
       "      <td>...</td>\n",
       "      <td>...</td>\n",
       "    </tr>\n",
       "    <tr>\n",
       "      <th>8738</th>\n",
       "      <td>wsm</td>\n",
       "      <td>2017</td>\n",
       "      <td>124211.0</td>\n",
       "      <td>195358</td>\n",
       "      <td>Samoa</td>\n",
       "      <td>0.635812</td>\n",
       "    </tr>\n",
       "    <tr>\n",
       "      <th>8784</th>\n",
       "      <td>yem</td>\n",
       "      <td>2017</td>\n",
       "      <td>15357868.0</td>\n",
       "      <td>27834811</td>\n",
       "      <td>Yemen</td>\n",
       "      <td>0.551750</td>\n",
       "    </tr>\n",
       "    <tr>\n",
       "      <th>8831</th>\n",
       "      <td>zaf</td>\n",
       "      <td>2017</td>\n",
       "      <td>88497610.0</td>\n",
       "      <td>57009751</td>\n",
       "      <td>South Africa</td>\n",
       "      <td>1.552324</td>\n",
       "    </tr>\n",
       "    <tr>\n",
       "      <th>8879</th>\n",
       "      <td>zmb</td>\n",
       "      <td>2017</td>\n",
       "      <td>13438539.0</td>\n",
       "      <td>16853608</td>\n",
       "      <td>Zambia</td>\n",
       "      <td>0.797369</td>\n",
       "    </tr>\n",
       "    <tr>\n",
       "      <th>8927</th>\n",
       "      <td>zwe</td>\n",
       "      <td>2017</td>\n",
       "      <td>14092104.0</td>\n",
       "      <td>14236599</td>\n",
       "      <td>Zimbabwe</td>\n",
       "      <td>0.989850</td>\n",
       "    </tr>\n",
       "  </tbody>\n",
       "</table>\n",
       "<p>194 rows × 6 columns</p>\n",
       "</div>"
      ],
      "text/plain": [
       "      geo  time  cell_phones_total  population_total               country  \\\n",
       "45    afg  2017         23929713.0          36296111           Afghanistan   \n",
       "93    ago  2017         13323952.0          29816769                Angola   \n",
       "141   alb  2017          3625699.0           2884169               Albania   \n",
       "189   and  2017            80337.0             76997               Andorra   \n",
       "227   are  2017         19826224.0           9487206  United Arab Emirates   \n",
       "...   ...   ...                ...               ...                   ...   \n",
       "8738  wsm  2017           124211.0            195358                 Samoa   \n",
       "8784  yem  2017         15357868.0          27834811                 Yemen   \n",
       "8831  zaf  2017         88497610.0          57009751          South Africa   \n",
       "8879  zmb  2017         13438539.0          16853608                Zambia   \n",
       "8927  zwe  2017         14092104.0          14236599              Zimbabwe   \n",
       "\n",
       "      phones_per_person  \n",
       "45             0.659291  \n",
       "93             0.446861  \n",
       "141            1.257104  \n",
       "189            1.043378  \n",
       "227            2.089785  \n",
       "...                 ...  \n",
       "8738           0.635812  \n",
       "8784           0.551750  \n",
       "8831           1.552324  \n",
       "8879           0.797369  \n",
       "8927           0.989850  \n",
       "\n",
       "[194 rows x 6 columns]"
      ]
     },
     "execution_count": 30,
     "metadata": {},
     "output_type": "execute_result"
    }
   ],
   "source": [
    "# Task 13\n",
    "\n",
    "# Create a new dataframe called df2017 that includes only records from geo_cell_phone_population that ocurred in 2017.\n",
    "\n",
    "### BEGIN SOLUTION\n",
    "df2017 = geo_cell_phone_population[geo_cell_phone_population['time']==2017]\n",
    "df2017\n",
    "### END SOLUTION"
   ]
  },
  {
   "cell_type": "code",
   "execution_count": 29,
   "metadata": {},
   "outputs": [
    {
     "data": {
      "text/plain": [
       "0       False\n",
       "1       False\n",
       "2       False\n",
       "3       False\n",
       "4       False\n",
       "        ...  \n",
       "8925    False\n",
       "8926    False\n",
       "8927     True\n",
       "8928    False\n",
       "8929    False\n",
       "Name: time, Length: 8930, dtype: bool"
      ]
     },
     "execution_count": 29,
     "metadata": {},
     "output_type": "execute_result"
    }
   ],
   "source": [
    "df2017 = geo_cell_phone_population['time']==2017\n",
    "df2017\n"
   ]
  },
  {
   "cell_type": "markdown",
   "metadata": {
    "id": "QuLy4qwrw698"
   },
   "source": [
    "**Task 13 Test**"
   ]
  },
  {
   "cell_type": "code",
   "execution_count": 28,
   "metadata": {
    "id": "S0rU2pGWw698",
    "nbgrader": {
     "grade": true,
     "grade_id": "cell-b19a6956b5dddadb",
     "locked": true,
     "points": 1,
     "schema_version": 3,
     "solution": false,
     "task": false
    }
   },
   "outputs": [],
   "source": [
    "# Task 13 - Test\n",
    "\n",
    "# Hidden tests - you will see the results when you submit to Canvas\n",
    "### BEGIN HIDDEN TESTS\n",
    "assert df2017.shape == (194,6), 'Make sure you subset geo_cell_phone_population correctly'\n",
    "### END HIDDEN TESTS"
   ]
  },
  {
   "cell_type": "markdown",
   "metadata": {
    "id": "Rww_2EpHyd4K"
   },
   "source": [
    "**Task 14** - Identify the five countries with the most cell phones per person in 2017\n",
    "\n",
    "* Sort the `df2017` DataFrame by `phones_per_person` in descending order and assign the result to `df2017_top`. Your new DataFrame should only have **five** rows (Hint: use `.head()` to return only five rows).\n",
    "* Print the first 5 records of `df2017_top`."
   ]
  },
  {
   "cell_type": "code",
   "execution_count": 38,
   "metadata": {
    "id": "h6ym9Dwhyd4V",
    "nbgrader": {
     "grade": false,
     "grade_id": "cell-c9b701bfe897edf5",
     "locked": false,
     "schema_version": 3,
     "solution": true,
     "task": false
    }
   },
   "outputs": [
    {
     "data": {
      "text/html": [
       "<div>\n",
       "<style scoped>\n",
       "    .dataframe tbody tr th:only-of-type {\n",
       "        vertical-align: middle;\n",
       "    }\n",
       "\n",
       "    .dataframe tbody tr th {\n",
       "        vertical-align: top;\n",
       "    }\n",
       "\n",
       "    .dataframe thead th {\n",
       "        text-align: right;\n",
       "    }\n",
       "</style>\n",
       "<table border=\"1\" class=\"dataframe\">\n",
       "  <thead>\n",
       "    <tr style=\"text-align: right;\">\n",
       "      <th></th>\n",
       "      <th>geo</th>\n",
       "      <th>time</th>\n",
       "      <th>cell_phones_total</th>\n",
       "      <th>population_total</th>\n",
       "      <th>country</th>\n",
       "      <th>phones_per_person</th>\n",
       "    </tr>\n",
       "  </thead>\n",
       "  <tbody>\n",
       "    <tr>\n",
       "      <th>3448</th>\n",
       "      <td>hkg</td>\n",
       "      <td>2017</td>\n",
       "      <td>18394762.0</td>\n",
       "      <td>7306315</td>\n",
       "      <td>Hong Kong, China</td>\n",
       "      <td>2.517652</td>\n",
       "    </tr>\n",
       "    <tr>\n",
       "      <th>227</th>\n",
       "      <td>are</td>\n",
       "      <td>2017</td>\n",
       "      <td>19826224.0</td>\n",
       "      <td>9487206</td>\n",
       "      <td>United Arab Emirates</td>\n",
       "      <td>2.089785</td>\n",
       "    </tr>\n",
       "    <tr>\n",
       "      <th>365</th>\n",
       "      <td>atg</td>\n",
       "      <td>2017</td>\n",
       "      <td>184000.0</td>\n",
       "      <td>95425</td>\n",
       "      <td>Antigua and Barbuda</td>\n",
       "      <td>1.928216</td>\n",
       "    </tr>\n",
       "    <tr>\n",
       "      <th>5253</th>\n",
       "      <td>mdv</td>\n",
       "      <td>2017</td>\n",
       "      <td>900120.0</td>\n",
       "      <td>496398</td>\n",
       "      <td>Maldives</td>\n",
       "      <td>1.813303</td>\n",
       "    </tr>\n",
       "    <tr>\n",
       "      <th>1937</th>\n",
       "      <td>cri</td>\n",
       "      <td>2017</td>\n",
       "      <td>8840342.0</td>\n",
       "      <td>4949955</td>\n",
       "      <td>Costa Rica</td>\n",
       "      <td>1.785944</td>\n",
       "    </tr>\n",
       "  </tbody>\n",
       "</table>\n",
       "</div>"
      ],
      "text/plain": [
       "      geo  time  cell_phones_total  population_total               country  \\\n",
       "3448  hkg  2017         18394762.0           7306315      Hong Kong, China   \n",
       "227   are  2017         19826224.0           9487206  United Arab Emirates   \n",
       "365   atg  2017           184000.0             95425   Antigua and Barbuda   \n",
       "5253  mdv  2017           900120.0            496398              Maldives   \n",
       "1937  cri  2017          8840342.0           4949955            Costa Rica   \n",
       "\n",
       "      phones_per_person  \n",
       "3448           2.517652  \n",
       "227            2.089785  \n",
       "365            1.928216  \n",
       "5253           1.813303  \n",
       "1937           1.785944  "
      ]
     },
     "execution_count": 38,
     "metadata": {},
     "output_type": "execute_result"
    }
   ],
   "source": [
    "# Task 14\n",
    "\n",
    "# Sort the df2017 dataframe by phones_per_person in descending order\n",
    "# Return only five (5) rows\n",
    "\n",
    "### BEGIN SOLUTION\n",
    "df2017_top = df2017.sort_values(by='phones_per_person', ascending=False).head()\n",
    "### END SOLUTION\n",
    "\n",
    "# View the df2017_top DataFrame\n",
    "df2017_top"
   ]
  },
  {
   "cell_type": "markdown",
   "metadata": {
    "id": "7WBox_Axyd4W"
   },
   "source": [
    "**Task 14 Test**"
   ]
  },
  {
   "cell_type": "code",
   "execution_count": 39,
   "metadata": {
    "id": "ePj-a6rLyd4W",
    "nbgrader": {
     "grade": true,
     "grade_id": "cell-5f6fffc9db1b9492",
     "locked": true,
     "points": 1,
     "schema_version": 3,
     "solution": false,
     "task": false
    }
   },
   "outputs": [],
   "source": [
    "# Task 14 - Test\n",
    "\n",
    "assert df2017_top.shape == (5,6), 'Make sure you return only five rows'\n",
    "\n",
    "### BEGIN HIDDEN TESTS\n",
    "assert round(df2017_top['phones_per_person'].mean(),2) == 2.03, 'Make sure you sorted df2017 correctly'\n",
    "### END HIDDEN TESTS"
   ]
  },
  {
   "cell_type": "code",
   "execution_count": null,
   "metadata": {},
   "outputs": [],
   "source": []
  }
 ],
 "metadata": {
  "celltoolbar": "Create Assignment",
  "colab": {
   "collapsed_sections": [],
   "name": "LS_DS_Sprint1_AG.ipynb",
   "provenance": []
  },
  "kernelspec": {
   "display_name": "Python 3.10.8 ('MTG_app-s1q_o2-Q')",
   "language": "python",
   "name": "python3"
  },
  "language_info": {
   "codemirror_mode": {
    "name": "ipython",
    "version": 3
   },
   "file_extension": ".py",
   "mimetype": "text/x-python",
   "name": "python",
   "nbconvert_exporter": "python",
   "pygments_lexer": "ipython3",
   "version": "3.10.8 (tags/v3.10.8:aaaf517, Oct 11 2022, 16:50:30) [MSC v.1933 64 bit (AMD64)]"
  },
  "vscode": {
   "interpreter": {
    "hash": "8577dbd18df2a53904efd0018da821c16fb79fe3ce1f690622fa751b89f909eb"
   }
  }
 },
 "nbformat": 4,
 "nbformat_minor": 1
}
